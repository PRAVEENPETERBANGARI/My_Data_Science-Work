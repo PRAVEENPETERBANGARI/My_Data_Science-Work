{
 "cells": [
  {
   "cell_type": "markdown",
   "id": "4cbbfd14-0f17-4277-97d7-f5537e951ca3",
   "metadata": {},
   "source": [
    "## Importing Libraries"
   ]
  },
  {
   "cell_type": "code",
   "execution_count": 75,
   "id": "17e815b7-2149-4940-a902-075006104d81",
   "metadata": {},
   "outputs": [],
   "source": [
    "import pandas as pd\n",
    "import numpy as np\n",
    "\n",
    "import re\n",
    "import string\n",
    "from nltk.corpus import stopwords\n",
    "import spacy\n",
    "from nltk.tokenize import word_tokenize\n",
    "import gensim\n",
    "from gensim import corpora\n",
    "\n",
    "# libraries for visualization\n",
    "import pyLDAvis\n",
    "import pyLDAvis.gensim_models as gensimvis\n",
    "\n",
    "import matplotlib.pyplot as plt\n",
    "import seaborn as sns\n",
    "%matplotlib inline\n",
    "import warnings\n",
    "warnings.filterwarnings('ignore')"
   ]
  },
  {
   "cell_type": "code",
   "execution_count": 76,
   "id": "b05d317b-6469-4211-8dd1-8ffe4bcf1fe7",
   "metadata": {},
   "outputs": [],
   "source": [
    "#!pip install pyLDAvis"
   ]
  },
  {
   "cell_type": "code",
   "execution_count": 84,
   "id": "f5dc57a1-7fe3-46d9-8a60-826f6106bfd6",
   "metadata": {},
   "outputs": [],
   "source": [
    "data=pd.read_csv(\"K8 Reviews v0.2.csv\")"
   ]
  },
  {
   "cell_type": "code",
   "execution_count": 85,
   "id": "1f1b1138-20ad-4a52-aca0-544d3d5a87ad",
   "metadata": {},
   "outputs": [
    {
     "data": {
      "text/html": [
       "<div>\n",
       "<style scoped>\n",
       "    .dataframe tbody tr th:only-of-type {\n",
       "        vertical-align: middle;\n",
       "    }\n",
       "\n",
       "    .dataframe tbody tr th {\n",
       "        vertical-align: top;\n",
       "    }\n",
       "\n",
       "    .dataframe thead th {\n",
       "        text-align: right;\n",
       "    }\n",
       "</style>\n",
       "<table border=\"1\" class=\"dataframe\">\n",
       "  <thead>\n",
       "    <tr style=\"text-align: right;\">\n",
       "      <th></th>\n",
       "      <th>sentiment</th>\n",
       "      <th>review</th>\n",
       "    </tr>\n",
       "  </thead>\n",
       "  <tbody>\n",
       "    <tr>\n",
       "      <th>0</th>\n",
       "      <td>1</td>\n",
       "      <td>Good but need updates and improvements</td>\n",
       "    </tr>\n",
       "    <tr>\n",
       "      <th>1</th>\n",
       "      <td>0</td>\n",
       "      <td>Worst mobile i have bought ever, Battery is dr...</td>\n",
       "    </tr>\n",
       "    <tr>\n",
       "      <th>2</th>\n",
       "      <td>1</td>\n",
       "      <td>when I will get my 10% cash back.... its alrea...</td>\n",
       "    </tr>\n",
       "    <tr>\n",
       "      <th>3</th>\n",
       "      <td>1</td>\n",
       "      <td>Good</td>\n",
       "    </tr>\n",
       "    <tr>\n",
       "      <th>4</th>\n",
       "      <td>0</td>\n",
       "      <td>The worst phone everThey have changed the last...</td>\n",
       "    </tr>\n",
       "  </tbody>\n",
       "</table>\n",
       "</div>"
      ],
      "text/plain": [
       "   sentiment                                             review\n",
       "0          1             Good but need updates and improvements\n",
       "1          0  Worst mobile i have bought ever, Battery is dr...\n",
       "2          1  when I will get my 10% cash back.... its alrea...\n",
       "3          1                                               Good\n",
       "4          0  The worst phone everThey have changed the last..."
      ]
     },
     "execution_count": 85,
     "metadata": {},
     "output_type": "execute_result"
    }
   ],
   "source": [
    "data.head()"
   ]
  },
  {
   "cell_type": "markdown",
   "id": "b53d77d2-6a5f-4982-93b9-3263f3b6d876",
   "metadata": {},
   "source": [
    "## Tokenizing data and filtering rows which have more than one word "
   ]
  },
  {
   "cell_type": "code",
   "execution_count": 86,
   "id": "48dc73ea-0907-41d1-a098-1545a85b25b2",
   "metadata": {},
   "outputs": [],
   "source": [
    "data['new_review']=data['review'].map(lambda x : word_tokenize(x))"
   ]
  },
  {
   "cell_type": "code",
   "execution_count": 87,
   "id": "971e6088-6137-4ca3-941c-74c24db024d4",
   "metadata": {},
   "outputs": [
    {
     "data": {
      "text/html": [
       "<div>\n",
       "<style scoped>\n",
       "    .dataframe tbody tr th:only-of-type {\n",
       "        vertical-align: middle;\n",
       "    }\n",
       "\n",
       "    .dataframe tbody tr th {\n",
       "        vertical-align: top;\n",
       "    }\n",
       "\n",
       "    .dataframe thead th {\n",
       "        text-align: right;\n",
       "    }\n",
       "</style>\n",
       "<table border=\"1\" class=\"dataframe\">\n",
       "  <thead>\n",
       "    <tr style=\"text-align: right;\">\n",
       "      <th></th>\n",
       "      <th>sentiment</th>\n",
       "      <th>review</th>\n",
       "      <th>new_review</th>\n",
       "    </tr>\n",
       "  </thead>\n",
       "  <tbody>\n",
       "    <tr>\n",
       "      <th>0</th>\n",
       "      <td>1</td>\n",
       "      <td>Good but need updates and improvements</td>\n",
       "      <td>[Good, but, need, updates, and, improvements]</td>\n",
       "    </tr>\n",
       "    <tr>\n",
       "      <th>1</th>\n",
       "      <td>0</td>\n",
       "      <td>Worst mobile i have bought ever, Battery is dr...</td>\n",
       "      <td>[Worst, mobile, i, have, bought, ever, ,, Batt...</td>\n",
       "    </tr>\n",
       "    <tr>\n",
       "      <th>2</th>\n",
       "      <td>1</td>\n",
       "      <td>when I will get my 10% cash back.... its alrea...</td>\n",
       "      <td>[when, I, will, get, my, 10, %, cash, back, .....</td>\n",
       "    </tr>\n",
       "    <tr>\n",
       "      <th>3</th>\n",
       "      <td>1</td>\n",
       "      <td>Good</td>\n",
       "      <td>[Good]</td>\n",
       "    </tr>\n",
       "    <tr>\n",
       "      <th>4</th>\n",
       "      <td>0</td>\n",
       "      <td>The worst phone everThey have changed the last...</td>\n",
       "      <td>[The, worst, phone, everThey, have, changed, t...</td>\n",
       "    </tr>\n",
       "  </tbody>\n",
       "</table>\n",
       "</div>"
      ],
      "text/plain": [
       "   sentiment                                             review  \\\n",
       "0          1             Good but need updates and improvements   \n",
       "1          0  Worst mobile i have bought ever, Battery is dr...   \n",
       "2          1  when I will get my 10% cash back.... its alrea...   \n",
       "3          1                                               Good   \n",
       "4          0  The worst phone everThey have changed the last...   \n",
       "\n",
       "                                          new_review  \n",
       "0      [Good, but, need, updates, and, improvements]  \n",
       "1  [Worst, mobile, i, have, bought, ever, ,, Batt...  \n",
       "2  [when, I, will, get, my, 10, %, cash, back, .....  \n",
       "3                                             [Good]  \n",
       "4  [The, worst, phone, everThey, have, changed, t...  "
      ]
     },
     "execution_count": 87,
     "metadata": {},
     "output_type": "execute_result"
    }
   ],
   "source": [
    "data.head()"
   ]
  },
  {
   "cell_type": "code",
   "execution_count": 88,
   "id": "9c56a53a-2d83-43c2-b859-cc48a1f94bc8",
   "metadata": {},
   "outputs": [],
   "source": [
    "data=data[data['new_review'].map(lambda x: len(x)) > 1].reset_index(drop=True)\n",
    "# Keeping records with more than single words"
   ]
  },
  {
   "cell_type": "code",
   "execution_count": 89,
   "id": "02cf7bda-4d9a-4d1c-8f33-6a24d6b8970b",
   "metadata": {},
   "outputs": [
    {
     "data": {
      "text/html": [
       "<div>\n",
       "<style scoped>\n",
       "    .dataframe tbody tr th:only-of-type {\n",
       "        vertical-align: middle;\n",
       "    }\n",
       "\n",
       "    .dataframe tbody tr th {\n",
       "        vertical-align: top;\n",
       "    }\n",
       "\n",
       "    .dataframe thead th {\n",
       "        text-align: right;\n",
       "    }\n",
       "</style>\n",
       "<table border=\"1\" class=\"dataframe\">\n",
       "  <thead>\n",
       "    <tr style=\"text-align: right;\">\n",
       "      <th></th>\n",
       "      <th>sentiment</th>\n",
       "      <th>review</th>\n",
       "      <th>new_review</th>\n",
       "    </tr>\n",
       "  </thead>\n",
       "  <tbody>\n",
       "    <tr>\n",
       "      <th>0</th>\n",
       "      <td>1</td>\n",
       "      <td>Good but need updates and improvements</td>\n",
       "      <td>[Good, but, need, updates, and, improvements]</td>\n",
       "    </tr>\n",
       "    <tr>\n",
       "      <th>1</th>\n",
       "      <td>0</td>\n",
       "      <td>Worst mobile i have bought ever, Battery is dr...</td>\n",
       "      <td>[Worst, mobile, i, have, bought, ever, ,, Batt...</td>\n",
       "    </tr>\n",
       "    <tr>\n",
       "      <th>2</th>\n",
       "      <td>1</td>\n",
       "      <td>when I will get my 10% cash back.... its alrea...</td>\n",
       "      <td>[when, I, will, get, my, 10, %, cash, back, .....</td>\n",
       "    </tr>\n",
       "    <tr>\n",
       "      <th>3</th>\n",
       "      <td>0</td>\n",
       "      <td>The worst phone everThey have changed the last...</td>\n",
       "      <td>[The, worst, phone, everThey, have, changed, t...</td>\n",
       "    </tr>\n",
       "    <tr>\n",
       "      <th>4</th>\n",
       "      <td>0</td>\n",
       "      <td>Only I'm telling don't buyI'm totally disappoi...</td>\n",
       "      <td>[Only, I, 'm, telling, do, n't, buyI, 'm, tota...</td>\n",
       "    </tr>\n",
       "  </tbody>\n",
       "</table>\n",
       "</div>"
      ],
      "text/plain": [
       "   sentiment                                             review  \\\n",
       "0          1             Good but need updates and improvements   \n",
       "1          0  Worst mobile i have bought ever, Battery is dr...   \n",
       "2          1  when I will get my 10% cash back.... its alrea...   \n",
       "3          0  The worst phone everThey have changed the last...   \n",
       "4          0  Only I'm telling don't buyI'm totally disappoi...   \n",
       "\n",
       "                                          new_review  \n",
       "0      [Good, but, need, updates, and, improvements]  \n",
       "1  [Worst, mobile, i, have, bought, ever, ,, Batt...  \n",
       "2  [when, I, will, get, my, 10, %, cash, back, .....  \n",
       "3  [The, worst, phone, everThey, have, changed, t...  \n",
       "4  [Only, I, 'm, telling, do, n't, buyI, 'm, tota...  "
      ]
     },
     "execution_count": 89,
     "metadata": {},
     "output_type": "execute_result"
    }
   ],
   "source": [
    "data.head()"
   ]
  },
  {
   "cell_type": "markdown",
   "id": "ce7b05cb-51cf-40bb-be0a-6308cb71620a",
   "metadata": {},
   "source": [
    "## Normalized data "
   ]
  },
  {
   "cell_type": "code",
   "execution_count": 90,
   "id": "c1218660-9d27-49ff-bd74-e52947e80e19",
   "metadata": {},
   "outputs": [],
   "source": [
    "stop_words=stopwords.words('english')\n",
    "def normalize(text):\n",
    "    text=text.lower()\n",
    "    textarr=text.split(' ')\n",
    "    remtext=\" \".join(i for i in textarr if (i not in stop_words and len(i) > 3 and i.isalpha()))\n",
    "    return remtext"
   ]
  },
  {
   "cell_type": "code",
   "execution_count": 91,
   "id": "e0047f8f-caf7-4db1-9aca-52a84b0920ab",
   "metadata": {},
   "outputs": [],
   "source": [
    "data['cleaned_review']=data['review'].apply(normalize)"
   ]
  },
  {
   "cell_type": "code",
   "execution_count": 92,
   "id": "1e8c4045-4ef0-4619-a79f-f1a1b2c128a7",
   "metadata": {},
   "outputs": [
    {
     "data": {
      "text/html": [
       "<div>\n",
       "<style scoped>\n",
       "    .dataframe tbody tr th:only-of-type {\n",
       "        vertical-align: middle;\n",
       "    }\n",
       "\n",
       "    .dataframe tbody tr th {\n",
       "        vertical-align: top;\n",
       "    }\n",
       "\n",
       "    .dataframe thead th {\n",
       "        text-align: right;\n",
       "    }\n",
       "</style>\n",
       "<table border=\"1\" class=\"dataframe\">\n",
       "  <thead>\n",
       "    <tr style=\"text-align: right;\">\n",
       "      <th></th>\n",
       "      <th>sentiment</th>\n",
       "      <th>review</th>\n",
       "      <th>new_review</th>\n",
       "      <th>cleaned_review</th>\n",
       "    </tr>\n",
       "  </thead>\n",
       "  <tbody>\n",
       "    <tr>\n",
       "      <th>0</th>\n",
       "      <td>1</td>\n",
       "      <td>Good but need updates and improvements</td>\n",
       "      <td>[Good, but, need, updates, and, improvements]</td>\n",
       "      <td>good need updates improvements</td>\n",
       "    </tr>\n",
       "    <tr>\n",
       "      <th>1</th>\n",
       "      <td>0</td>\n",
       "      <td>Worst mobile i have bought ever, Battery is dr...</td>\n",
       "      <td>[Worst, mobile, i, have, bought, ever, ,, Batt...</td>\n",
       "      <td>worst mobile bought battery draining like back...</td>\n",
       "    </tr>\n",
       "    <tr>\n",
       "      <th>2</th>\n",
       "      <td>1</td>\n",
       "      <td>when I will get my 10% cash back.... its alrea...</td>\n",
       "      <td>[when, I, will, get, my, 10, %, cash, back, .....</td>\n",
       "      <td>cash already</td>\n",
       "    </tr>\n",
       "    <tr>\n",
       "      <th>3</th>\n",
       "      <td>0</td>\n",
       "      <td>The worst phone everThey have changed the last...</td>\n",
       "      <td>[The, worst, phone, everThey, have, changed, t...</td>\n",
       "      <td>worst phone everthey changed last phone proble...</td>\n",
       "    </tr>\n",
       "    <tr>\n",
       "      <th>4</th>\n",
       "      <td>0</td>\n",
       "      <td>Only I'm telling don't buyI'm totally disappoi...</td>\n",
       "      <td>[Only, I, 'm, telling, do, n't, buyI, 'm, tota...</td>\n",
       "      <td>telling totally disappointedpoor batterypoor c...</td>\n",
       "    </tr>\n",
       "  </tbody>\n",
       "</table>\n",
       "</div>"
      ],
      "text/plain": [
       "   sentiment                                             review  \\\n",
       "0          1             Good but need updates and improvements   \n",
       "1          0  Worst mobile i have bought ever, Battery is dr...   \n",
       "2          1  when I will get my 10% cash back.... its alrea...   \n",
       "3          0  The worst phone everThey have changed the last...   \n",
       "4          0  Only I'm telling don't buyI'm totally disappoi...   \n",
       "\n",
       "                                          new_review  \\\n",
       "0      [Good, but, need, updates, and, improvements]   \n",
       "1  [Worst, mobile, i, have, bought, ever, ,, Batt...   \n",
       "2  [when, I, will, get, my, 10, %, cash, back, .....   \n",
       "3  [The, worst, phone, everThey, have, changed, t...   \n",
       "4  [Only, I, 'm, telling, do, n't, buyI, 'm, tota...   \n",
       "\n",
       "                                      cleaned_review  \n",
       "0                     good need updates improvements  \n",
       "1  worst mobile bought battery draining like back...  \n",
       "2                                       cash already  \n",
       "3  worst phone everthey changed last phone proble...  \n",
       "4  telling totally disappointedpoor batterypoor c...  "
      ]
     },
     "execution_count": 92,
     "metadata": {},
     "output_type": "execute_result"
    }
   ],
   "source": [
    "data.head()"
   ]
  },
  {
   "cell_type": "code",
   "execution_count": 93,
   "id": "d01ec540-d3e1-4979-86ce-1c12d510c98b",
   "metadata": {},
   "outputs": [
    {
     "data": {
      "text/plain": [
       "(13759, 4)"
      ]
     },
     "execution_count": 93,
     "metadata": {},
     "output_type": "execute_result"
    }
   ],
   "source": [
    "data.shape"
   ]
  },
  {
   "cell_type": "markdown",
   "id": "01a21498-39cd-4343-9936-e1ff7a1c5096",
   "metadata": {},
   "source": [
    "## lemmatization and pos tag with filtering nouns and adj"
   ]
  },
  {
   "cell_type": "code",
   "execution_count": 94,
   "id": "d396af4a-1066-4ee0-9c83-1473cf4e261f",
   "metadata": {},
   "outputs": [],
   "source": [
    "nlp = spacy.load('en_core_web_sm', disable=['parser', 'ner'])"
   ]
  },
  {
   "cell_type": "code",
   "execution_count": 95,
   "id": "6182efb4-8e8c-433a-9913-fcc4260d0dac",
   "metadata": {},
   "outputs": [],
   "source": [
    "def lemmatization(rev,allowed_postags=['NOUN', 'ADJ']):\n",
    "    output = []\n",
    "    for sent in rev:\n",
    "        doc = nlp(sent) \n",
    "        output.append([token.lemma_ for token in doc if token.pos_ in allowed_postags])\n",
    "    return output"
   ]
  },
  {
   "cell_type": "code",
   "execution_count": 97,
   "id": "38ef7fbc-8e51-4a22-8ea7-487efd891074",
   "metadata": {},
   "outputs": [],
   "source": [
    "reviews=data['cleaned_review'].tolist()"
   ]
  },
  {
   "cell_type": "code",
   "execution_count": 98,
   "id": "e49e6fa3-0ef0-46a4-8e31-ff2091b83d63",
   "metadata": {},
   "outputs": [],
   "source": [
    "tokenized_reviews=lemmatization(reviews)"
   ]
  },
  {
   "cell_type": "code",
   "execution_count": 99,
   "id": "ecb08153-0bc8-4086-8487-662c03ceaa0e",
   "metadata": {},
   "outputs": [],
   "source": [
    "#data['cleaned_review']=data['cleaned_review'].apply(lemmatization)"
   ]
  },
  {
   "cell_type": "code",
   "execution_count": 100,
   "id": "8786fc27-ba93-433d-875c-9c9eeb782065",
   "metadata": {},
   "outputs": [
    {
     "name": "stdout",
     "output_type": "stream",
     "text": [
      "[['good', 'need', 'improvement'], ['bad', 'mobile', 'battery', 'backup', 'hour', 'internet', 'mobile', 'idle', 'big', 'amazon', 'lenove', 'full', 'battery', 'booster', 'charger', 'least', 'hour', 'full', 'else', 'regret'], ['cash'], ['bad', 'phone', 'last', 'phone', 'problem', 'amazon', 'phone', 'disappointing', 'amazon'], ['disappointedpoor', 'batterypoor', 'camerawaste', 'money']]\n"
     ]
    }
   ],
   "source": [
    "print(tokenized_reviews[0:5])"
   ]
  },
  {
   "cell_type": "markdown",
   "id": "d592d361-5390-46cb-8733-411b4d325236",
   "metadata": {},
   "source": [
    "## LDA MODEL CREATION"
   ]
  },
  {
   "cell_type": "code",
   "execution_count": 101,
   "id": "1a13d933-d5b3-4e28-a5ef-a1ca9e1e9143",
   "metadata": {},
   "outputs": [],
   "source": [
    "dictionary=corpora.Dictionary(tokenized_reviews)"
   ]
  },
  {
   "cell_type": "code",
   "execution_count": 102,
   "id": "f048f43e-bece-4436-8042-325c865af910",
   "metadata": {},
   "outputs": [
    {
     "name": "stdout",
     "output_type": "stream",
     "text": [
      "Dictionary(5512 unique tokens: ['good', 'improvement', 'need', 'amazon', 'backup']...)\n"
     ]
    }
   ],
   "source": [
    "print(dictionary)"
   ]
  },
  {
   "cell_type": "code",
   "execution_count": 103,
   "id": "fbab41be-52c7-49ed-8a05-944d41a4c84c",
   "metadata": {},
   "outputs": [],
   "source": [
    "matrix=[dictionary.doc2bow(rev) for rev in tokenized_reviews]"
   ]
  },
  {
   "cell_type": "code",
   "execution_count": 104,
   "id": "01961964-5b42-4022-b243-f02a684cd6be",
   "metadata": {},
   "outputs": [
    {
     "name": "stdout",
     "output_type": "stream",
     "text": [
      "[[(0, 1), (1, 1), (2, 1)], [(3, 1), (4, 1), (5, 1), (6, 2), (7, 1), (8, 1), (9, 1), (10, 1), (11, 2), (12, 2), (13, 1), (14, 1), (15, 1), (16, 1), (17, 2), (18, 1)], [(19, 1)], [(3, 2), (5, 1), (20, 1), (21, 1), (22, 3), (23, 1)], [(24, 1), (25, 1), (26, 1), (27, 1)]]\n"
     ]
    }
   ],
   "source": [
    "print(matrix[0:5])"
   ]
  },
  {
   "cell_type": "code",
   "execution_count": 105,
   "id": "e94a4fda-c484-4afa-8f23-9c62ba1f7b2c",
   "metadata": {},
   "outputs": [],
   "source": [
    "LDA = gensim.models.ldamodel.LdaModel\n",
    "lda_model = LDA(corpus=matrix, id2word=dictionary, num_topics=12, random_state=100,\n",
    "                chunksize=2000, passes=50,iterations=100)"
   ]
  },
  {
   "cell_type": "code",
   "execution_count": 106,
   "id": "270bbb11-006c-4b83-8c5d-d04b7419215e",
   "metadata": {},
   "outputs": [
    {
     "data": {
      "text/plain": [
       "[(0,\n",
       "  '0.093*\"feature\" + 0.060*\"option\" + 0.049*\"work\" + 0.043*\"many\" + 0.035*\"call\" + 0.033*\"screen\" + 0.031*\"app\" + 0.029*\"video\" + 0.025*\"datum\" + 0.021*\"basic\"'),\n",
       " (1,\n",
       "  '0.210*\"nice\" + 0.157*\"problem\" + 0.155*\"heating\" + 0.098*\"phone\" + 0.083*\"issue\" + 0.024*\"super\" + 0.011*\"bluetooth\" + 0.011*\"headset\" + 0.010*\"much\" + 0.008*\"hanging\"'),\n",
       " (2,\n",
       "  '0.196*\"camera\" + 0.101*\"quality\" + 0.057*\"battery\" + 0.035*\"great\" + 0.034*\"dual\" + 0.033*\"performance\" + 0.029*\"poor\" + 0.027*\"front\" + 0.020*\"depth\" + 0.019*\"mode\"'),\n",
       " (3,\n",
       "  '0.099*\"note\" + 0.081*\"speaker\" + 0.048*\"available\" + 0.037*\"working\" + 0.032*\"sound\" + 0.031*\"experience\" + 0.030*\"headphone\" + 0.029*\"function\" + 0.027*\"killer\" + 0.025*\"superb\"'),\n",
       " (4,\n",
       "  '0.088*\"phone\" + 0.050*\"excellent\" + 0.048*\"update\" + 0.037*\"software\" + 0.034*\"android\" + 0.032*\"heat\" + 0.032*\"amazing\" + 0.024*\"review\" + 0.023*\"stock\" + 0.021*\"issue\"'),\n",
       " (5,\n",
       "  '0.279*\"phone\" + 0.099*\"screen\" + 0.036*\"glass\" + 0.033*\"month\" + 0.031*\"smart\" + 0.029*\"gorilla\" + 0.027*\"fine\" + 0.019*\"perfect\" + 0.019*\"contact\" + 0.014*\"warranty\"'),\n",
       " (6,\n",
       "  '0.086*\"phone\" + 0.042*\"network\" + 0.042*\"bad\" + 0.034*\"issue\" + 0.033*\"time\" + 0.032*\"service\" + 0.030*\"amazon\" + 0.026*\"problem\" + 0.021*\"day\" + 0.017*\"customer\"'),\n",
       " (7,\n",
       "  '0.212*\"battery\" + 0.063*\"phone\" + 0.038*\"hour\" + 0.037*\"backup\" + 0.036*\"charger\" + 0.036*\"charge\" + 0.032*\"turbo\" + 0.032*\"awesome\" + 0.031*\"money\" + 0.030*\"drain\"'),\n",
       " (8,\n",
       "  '0.091*\"waste\" + 0.070*\"call\" + 0.064*\"little\" + 0.054*\"happy\" + 0.038*\"voice\" + 0.037*\"volte\" + 0.033*\"support\" + 0.025*\"item\" + 0.023*\"application\" + 0.022*\"auto\"'),\n",
       " (9,\n",
       "  '0.451*\"good\" + 0.138*\"phone\" + 0.057*\"price\" + 0.049*\"camera\" + 0.023*\"performance\" + 0.022*\"overall\" + 0.017*\"range\" + 0.014*\"budget\" + 0.013*\"smartphone\" + 0.010*\"thing\"'),\n",
       " (10,\n",
       "  '0.357*\"mobile\" + 0.096*\"good\" + 0.053*\"worth\" + 0.022*\"device\" + 0.019*\"sensor\" + 0.018*\"side\" + 0.015*\"love\" + 0.014*\"earphone\" + 0.013*\"awesome\" + 0.012*\"quick\"'),\n",
       " (11,\n",
       "  '0.310*\"product\" + 0.053*\"amazon\" + 0.033*\"delivery\" + 0.030*\"lenovo\" + 0.026*\"return\" + 0.022*\"bad\" + 0.018*\"defective\" + 0.017*\"thank\" + 0.017*\"much\" + 0.013*\"money\"')]"
      ]
     },
     "execution_count": 106,
     "metadata": {},
     "output_type": "execute_result"
    }
   ],
   "source": [
    "lda_model.print_topics()"
   ]
  },
  {
   "cell_type": "code",
   "execution_count": 107,
   "id": "0d90dde5-89a2-4b64-b51b-5add04021e83",
   "metadata": {},
   "outputs": [],
   "source": [
    "pyLDAvis.enable_notebook()\n",
    "vis = gensimvis.prepare(lda_model,matrix,dictionary)\n"
   ]
  },
  {
   "cell_type": "code",
   "execution_count": null,
   "id": "81735600-4ddf-43ad-8fc4-f8c3c44a288b",
   "metadata": {},
   "outputs": [],
   "source": [
    "vis"
   ]
  },
  {
   "cell_type": "markdown",
   "id": "4bbdeab5-156e-4cc6-82db-bc89683bb6ba",
   "metadata": {},
   "source": [
    "## Coherence Score"
   ]
  },
  {
   "cell_type": "code",
   "execution_count": 109,
   "id": "ee40de69-c4ea-4f7d-a4ae-0007afceedf0",
   "metadata": {},
   "outputs": [
    {
     "name": "stdout",
     "output_type": "stream",
     "text": [
      "\n",
      "Coherence Score:  0.5147637975475261\n"
     ]
    }
   ],
   "source": [
    "from gensim.models.coherencemodel import CoherenceModel\n",
    "coherence_model_lda = CoherenceModel(model=lda_model, texts=tokenized_reviews, dictionary=dictionary , coherence='c_v')\n",
    "coherence_lda = coherence_model_lda.get_coherence()\n",
    "print('\\nCoherence Score: ', coherence_lda)"
   ]
  },
  {
   "cell_type": "markdown",
   "id": "05673956-f803-40d6-8069-f7e9c1f5bd88",
   "metadata": {},
   "source": [
    "## Creating best LDA model aka optimal number of topics"
   ]
  },
  {
   "cell_type": "code",
   "execution_count": 110,
   "id": "216e8e80-9e89-4cf6-8a7d-6d3e37c748e0",
   "metadata": {},
   "outputs": [],
   "source": [
    "def compute_different_coherent_values(dictionary, corpus, texts, limit, start, step):\n",
    "    coherence_values = []\n",
    "    model_list = []\n",
    "    for num_topics in range(start, limit, step):\n",
    "        model = gensim.models.ldamodel.LdaModel(corpus=corpus, num_topics=num_topics, id2word=dictionary)\n",
    "        model_list.append(model)\n",
    "        coherencemodel = CoherenceModel(model=model, texts=texts, dictionary=dictionary, coherence='c_v')\n",
    "        coherence_values.append(coherencemodel.get_coherence())\n",
    "\n",
    "    return model_list, coherence_values"
   ]
  },
  {
   "cell_type": "code",
   "execution_count": 111,
   "id": "40a9fe11-028e-4ded-937c-e3eb02271743",
   "metadata": {},
   "outputs": [],
   "source": [
    "model_list, coherence_score=compute_different_coherent_values(dictionary=dictionary, corpus=matrix, texts=tokenized_reviews, start=2, limit=50, step=1)"
   ]
  },
  {
   "cell_type": "code",
   "execution_count": 113,
   "id": "06403337-df86-442c-95c1-fa4d7de780a7",
   "metadata": {},
   "outputs": [
    {
     "data": {
      "image/png": "[encoded data removed]",
      "text/plain": [
       "<Figure size 432x288 with 1 Axes>"
      ]
     },
     "metadata": {
      "needs_background": "light"
     },
     "output_type": "display_data"
    }
   ],
   "source": [
    "limit=50; start=2; step=1;\n",
    "x = range(start, limit, step)\n",
    "plt.plot(x, coherence_score)\n",
    "plt.xlabel(\"Num Topics\")\n",
    "plt.ylabel(\"Coherence score\")\n",
    "plt.legend((\"coherence_values\"), loc='best')\n",
    "plt.show()# Print the coherence scores\n"
   ]
  },
  {
   "cell_type": "code",
   "execution_count": 114,
   "id": "cefe9a1e-3238-42c2-8f6b-de5ef7efae7c",
   "metadata": {},
   "outputs": [
    {
     "name": "stdout",
     "output_type": "stream",
     "text": [
      "Num Topics = 2  has Coherence Value of 0.4825\n",
      "Num Topics = 3  has Coherence Value of 0.44\n",
      "Num Topics = 4  has Coherence Value of 0.4616\n",
      "Num Topics = 5  has Coherence Value of 0.4999\n",
      "Num Topics = 6  has Coherence Value of 0.512\n",
      "Num Topics = 7  has Coherence Value of 0.5077\n",
      "Num Topics = 8  has Coherence Value of 0.511\n",
      "Num Topics = 9  has Coherence Value of 0.5591\n",
      "Num Topics = 10  has Coherence Value of 0.5269\n",
      "Num Topics = 11  has Coherence Value of 0.509\n",
      "Num Topics = 12  has Coherence Value of 0.4766\n",
      "Num Topics = 13  has Coherence Value of 0.5129\n",
      "Num Topics = 14  has Coherence Value of 0.494\n",
      "Num Topics = 15  has Coherence Value of 0.4777\n",
      "Num Topics = 16  has Coherence Value of 0.4964\n",
      "Num Topics = 17  has Coherence Value of 0.4898\n",
      "Num Topics = 18  has Coherence Value of 0.4912\n",
      "Num Topics = 19  has Coherence Value of 0.4788\n",
      "Num Topics = 20  has Coherence Value of 0.4991\n",
      "Num Topics = 21  has Coherence Value of 0.4734\n",
      "Num Topics = 22  has Coherence Value of 0.4633\n",
      "Num Topics = 23  has Coherence Value of 0.4578\n",
      "Num Topics = 24  has Coherence Value of 0.4413\n",
      "Num Topics = 25  has Coherence Value of 0.4628\n",
      "Num Topics = 26  has Coherence Value of 0.4497\n",
      "Num Topics = 27  has Coherence Value of 0.4655\n",
      "Num Topics = 28  has Coherence Value of 0.4472\n",
      "Num Topics = 29  has Coherence Value of 0.4401\n",
      "Num Topics = 30  has Coherence Value of 0.4463\n",
      "Num Topics = 31  has Coherence Value of 0.4371\n",
      "Num Topics = 32  has Coherence Value of 0.4238\n",
      "Num Topics = 33  has Coherence Value of 0.4297\n",
      "Num Topics = 34  has Coherence Value of 0.4297\n",
      "Num Topics = 35  has Coherence Value of 0.4425\n",
      "Num Topics = 36  has Coherence Value of 0.439\n",
      "Num Topics = 37  has Coherence Value of 0.4306\n",
      "Num Topics = 38  has Coherence Value of 0.4138\n",
      "Num Topics = 39  has Coherence Value of 0.4102\n",
      "Num Topics = 40  has Coherence Value of 0.4106\n",
      "Num Topics = 41  has Coherence Value of 0.4157\n",
      "Num Topics = 42  has Coherence Value of 0.3989\n",
      "Num Topics = 43  has Coherence Value of 0.416\n",
      "Num Topics = 44  has Coherence Value of 0.4166\n",
      "Num Topics = 45  has Coherence Value of 0.4061\n",
      "Num Topics = 46  has Coherence Value of 0.4032\n",
      "Num Topics = 47  has Coherence Value of 0.404\n",
      "Num Topics = 48  has Coherence Value of 0.4013\n",
      "Num Topics = 49  has Coherence Value of 0.4077\n"
     ]
    }
   ],
   "source": [
    "for m, cs in zip(x, coherence_score):\n",
    "    print(\"Num Topics =\", m, \" has Coherence Value of\", round(cs, 4))"
   ]
  },
  {
   "cell_type": "markdown",
   "id": "2d2fcf0f-9993-4a72-9350-2ffb9ff0b54f",
   "metadata": {},
   "source": [
    "## From above result we can say 9 is the optimal topic number for best LDA model"
   ]
  },
  {
   "cell_type": "markdown",
   "id": "4a5bc4db-6067-4a33-9c97-9f0433b5162c",
   "metadata": {},
   "source": [
    "## Select the model and print the topics"
   ]
  },
  {
   "cell_type": "code",
   "execution_count": 121,
   "id": "dd081bb3-7b30-4f5a-9c6f-1c307372af2d",
   "metadata": {},
   "outputs": [
    {
     "data": {
      "text/plain": [
       "[(0,\n",
       "  '0.033*\"product\" + 0.033*\"phone\" + 0.033*\"speaker\" + 0.031*\"call\" + 0.027*\"many\" + 0.024*\"time\" + 0.024*\"camera\" + 0.023*\"problem\" + 0.017*\"screen\" + 0.012*\"app\"'),\n",
       " (1,\n",
       "  '0.107*\"good\" + 0.104*\"nice\" + 0.084*\"product\" + 0.069*\"phone\" + 0.056*\"camera\" + 0.040*\"price\" + 0.030*\"great\" + 0.023*\"feature\" + 0.020*\"excellent\" + 0.019*\"battery\"'),\n",
       " (2,\n",
       "  '0.123*\"battery\" + 0.053*\"camera\" + 0.033*\"phone\" + 0.031*\"poor\" + 0.028*\"backup\" + 0.022*\"mobile\" + 0.017*\"life\" + 0.016*\"device\" + 0.014*\"mode\" + 0.013*\"update\"'),\n",
       " (3,\n",
       "  '0.066*\"phone\" + 0.065*\"awesome\" + 0.029*\"good\" + 0.023*\"glass\" + 0.018*\"gorilla\" + 0.017*\"product\" + 0.017*\"love\" + 0.016*\"headphone\" + 0.014*\"note\" + 0.013*\"volume\"'),\n",
       " (4,\n",
       "  '0.252*\"good\" + 0.128*\"phone\" + 0.061*\"camera\" + 0.050*\"battery\" + 0.039*\"problem\" + 0.038*\"performance\" + 0.031*\"heating\" + 0.025*\"quality\" + 0.014*\"worth\" + 0.013*\"backup\"'),\n",
       " (5,\n",
       "  '0.182*\"mobile\" + 0.040*\"charger\" + 0.038*\"good\" + 0.032*\"phone\" + 0.029*\"charge\" + 0.027*\"turbo\" + 0.021*\"time\" + 0.020*\"full\" + 0.020*\"work\" + 0.016*\"hour\"'),\n",
       " (6,\n",
       "  '0.108*\"phone\" + 0.054*\"bad\" + 0.038*\"amazon\" + 0.026*\"product\" + 0.025*\"service\" + 0.024*\"time\" + 0.024*\"battery\" + 0.021*\"month\" + 0.017*\"return\" + 0.016*\"problem\"'),\n",
       " (7,\n",
       "  '0.076*\"battery\" + 0.075*\"heating\" + 0.063*\"issue\" + 0.058*\"network\" + 0.024*\"drain\" + 0.023*\"value\" + 0.021*\"fast\" + 0.021*\"problem\" + 0.019*\"camera\" + 0.016*\"money\"'),\n",
       " (8,\n",
       "  '0.060*\"camera\" + 0.060*\"phone\" + 0.056*\"quality\" + 0.025*\"good\" + 0.015*\"poor\" + 0.014*\"average\" + 0.014*\"front\" + 0.013*\"sound\" + 0.012*\"much\" + 0.012*\"well\"')]"
      ]
     },
     "execution_count": 121,
     "metadata": {},
     "output_type": "execute_result"
    }
   ],
   "source": [
    "optimal_model = model_list[7]\n",
    "model_topics = optimal_model.show_topics(formatted=False)\n",
    "optimal_model.print_topics(num_words=10)"
   ]
  },
  {
   "cell_type": "code",
   "execution_count": 122,
   "id": "f38e4709-6e73-4e23-87c7-9e22608b3105",
   "metadata": {},
   "outputs": [
    {
     "name": "stdout",
     "output_type": "stream",
     "text": [
      "\n",
      "Coherence Score:  0.5590789786425435\n"
     ]
    }
   ],
   "source": [
    "coherence_model_lda = CoherenceModel(model=optimal_model, texts=tokenized_reviews, dictionary=dictionary , coherence='c_v')\n",
    "coherence_lda = coherence_model_lda.get_coherence()\n",
    "print('\\nCoherence Score: ', coherence_lda)"
   ]
  },
  {
   "cell_type": "code",
   "execution_count": 123,
   "id": "221b4b5f-cbbd-4734-9f46-fe281c53ccb6",
   "metadata": {},
   "outputs": [],
   "source": [
    "pyLDAvis.enable_notebook()\n",
    "vis = gensimvis.prepare(optimal_model,matrix,dictionary)"
   ]
  },
  {
   "cell_type": "markdown",
   "id": "daf53e57-3544-4b1f-a2f3-d455cc38315b",
   "metadata": {},
   "source": [
    "## Visualization of topics"
   ]
  },
  {
   "cell_type": "code",
   "execution_count": 140,
   "id": "6fe5d9f3-1892-48ab-b99b-424640e8b0c4",
   "metadata": {},
   "outputs": [
    {
     "data": {
      "text/html": [
       "\n",
       "<link rel=\"stylesheet\" type=\"text/css\" href=\"https://cdn.jsdelivr.net/gh/bmabey/pyLDAvis@3.3.1/pyLDAvis/js/ldavis.v1.0.0.css\">\n",
       "\n",
       "\n",
       "<div id=\"ldavis_el561217860645432965880929202\"></div>\n",
       "<script type=\"text/javascript\">\n",
       "\n",
       "var ldavis_el561217860645432965880929202_data = {\"mdsDat\": {\"x\": [0.15222167543561765, -0.09045992130092619, -0.11590851273131923, -0.21306290538213543, 0.0653333825521383, 0.018343476083326354, 0.08530538306649751, 0.14845013312773395, -0.05022271085093316], \"y\": [0.11827263889370503, -0.028790138565543587, -0.11303328246186488, -0.013905977696192104, -0.09591410588680872, 0.08683774234501793, 0.0013184991122267866, -0.15019952974203632, 0.19541415400149575], \"topics\": [1, 2, 3, 4, 5, 6, 7, 8, 9], \"cluster\": [1, 1, 1, 1, 1, 1, 1, 1, 1], \"Freq\": [15.636277543329285, 14.627446986391487, 13.689023746890122, 10.659767203803847, 10.180043102411176, 9.633804587028491, 9.26777408244771, 9.079400328910179, 7.226462418787698]}, \"tinfo\": {\"Term\": [\"good\", \"mobile\", \"nice\", \"battery\", \"heating\", \"product\", \"bad\", \"awesome\", \"network\", \"camera\", \"issue\", \"phone\", \"quality\", \"charger\", \"price\", \"problem\", \"speaker\", \"amazon\", \"performance\", \"charge\", \"poor\", \"time\", \"call\", \"backup\", \"great\", \"drain\", \"value\", \"many\", \"turbo\", \"service\", \"easy\", \"negative\", \"bill\", \"place\", \"reception\", \"detail\", \"exchange\", \"present\", \"common\", \"satisfactory\", \"handle\", \"packing\", \"comment\", \"broken\", \"technician\", \"loss\", \"external\", \"movie\", \"policy\", \"order\", \"chrome\", \"boot\", \"laptop\", \"email\", \"technical\", \"offer\", \"reachable\", \"amazone\", \"direct\", \"advice\", \"bad\", \"waste\", \"team\", \"request\", \"return\", \"amazon\", \"several\", \"service\", \"center\", \"month\", \"customer\", \"volte\", \"replacement\", \"help\", \"centre\", \"item\", \"replace\", \"number\", \"phone\", \"time\", \"day\", \"money\", \"support\", \"experience\", \"defective\", \"screen\", \"product\", \"lenovo\", \"last\", \"hour\", \"problem\", \"issue\", \"battery\", \"purchase\", \"call\", \"care\", \"note\", \"charge\", \"work\", \"build\", \"future\", \"true\", \"damage\", \"processing\", \"image\", \"colour\", \"real\", \"temperature\", \"standard\", \"atmo\", \"unlock\", \"old\", \"battry\", \"deca\", \"increase\", \"hard\", \"sharp\", \"location\", \"daylight\", \"caller\", \"pro\", \"minimum\", \"white\", \"couple\", \"camra\", \"hybrid\", \"stable\", \"zoom\", \"navigation\", \"slight\", \"bottom\", \"core\", \"gaming\", \"dedicated\", \"average\", \"flash\", \"thank\", \"photo\", \"killer\", \"light\", \"quality\", \"head\", \"cool\", \"budget\", \"picture\", \"processor\", \"front\", \"mark\", \"moto\", \"camera\", \"sound\", \"much\", \"phone\", \"well\", \"poor\", \"dual\", \"button\", \"note\", \"screen\", \"feature\", \"good\", \"great\", \"music\", \"heat\", \"nice\", \"battery\", \"video\", \"mobile\", \"hanging\", \"concern\", \"capture\", \"graphic\", \"clearity\", \"category\", \"resolve\", \"west\", \"book\", \"certain\", \"buck\", \"running\", \"history\", \"news\", \"professional\", \"style\", \"department\", \"approx\", \"mistake\", \"band\", \"goodcamera\", \"responsive\", \"owsome\", \"nahi\", \"flipkart\", \"costumer\", \"wonder\", \"megapixel\", \"bettery\", \"problemcamera\", \"reply\", \"photography\", \"good\", \"performance\", \"smooth\", \"worth\", \"overall\", \"problem\", \"phone\", \"heating\", \"camera\", \"enable\", \"backup\", \"battery\", \"quality\", \"speed\", \"high\", \"regular\", \"price\", \"hang\", \"awesome\", \"happy\", \"game\", \"excellent\", \"life\", \"much\", \"rear\", \"issue\", \"mobile\", \"touch\", \"thing\", \"note\", \"heat\", \"processor\", \"dual\", \"result\", \"friendly\", \"word\", \"percentage\", \"line\", \"pack\", \"decision\", \"stupid\", \"world\", \"fool\", \"gift\", \"compatible\", \"honor\", \"make\", \"doubt\", \"meeting\", \"lighting\", \"solid\", \"wor\", \"benefit\", \"folder\", \"figure\", \"selfie\", \"casting\", \"page\", \"affordable\", \"segment\", \"worry\", \"remote\", \"trap\", \"nice\", \"mirroring\", \"range\", \"expectation\", \"price\", \"excellent\", \"great\", \"product\", \"idea\", \"gallery\", \"feature\", \"specification\", \"lack\", \"good\", \"original\", \"camera\", \"amazing\", \"available\", \"phone\", \"internal\", \"clarity\", \"display\", \"rear\", \"dual\", \"worth\", \"battery\", \"perfect\", \"front\", \"quality\", \"user\", \"screen\", \"well\", \"experience\", \"smart\", \"sound\", \"option\", \"lenovo\", \"note\", \"process\", \"saver\", \"ring\", \"faulty\", \"seller\", \"accessory\", \"tone\", \"raha\", \"wrost\", \"humble\", \"gamer\", \"information\", \"dead\", \"facing\", \"setup\", \"cause\", \"prompt\", \"improvement\", \"related\", \"stuff\", \"karne\", \"duel\", \"hota\", \"disgusting\", \"daily\", \"reboot\", \"delicate\", \"miui\", \"detect\", \"speedy\", \"class\", \"super\", \"discharge\", \"wonderful\", \"whole\", \"capacity\", \"life\", \"condition\", \"backup\", \"battery\", \"poor\", \"interface\", \"device\", \"mode\", \"heavy\", \"system\", \"bug\", \"depth\", \"update\", \"software\", \"back\", \"camera\", \"change\", \"heat\", \"application\", \"mobile\", \"phone\", \"little\", \"drain\", \"dual\", \"performance\", \"well\", \"note\", \"user\", \"good\", \"processor\", \"lenovo\", \"right\", \"wifi\", \"icon\", \"loud\", \"claim\", \"connectivity\", \"manufacturing\", \"degree\", \"costly\", \"provide\", \"dust\", \"brightness\", \"comfortable\", \"paisa\", \"engineer\", \"drop\", \"gold\", \"decacore\", \"yesterday\", \"lens\", \"accurate\", \"manager\", \"text\", \"noise\", \"blast\", \"one\", \"self\", \"crash\", \"amazed\", \"superior\", \"recording\", \"case\", \"earphone\", \"speaker\", \"cell\", \"fantastic\", \"rest\", \"side\", \"recorder\", \"many\", \"size\", \"call\", \"app\", \"long\", \"lock\", \"time\", \"product\", \"option\", \"mode\", \"screen\", \"music\", \"problem\", \"software\", \"video\", \"perfect\", \"phone\", \"depth\", \"camera\", \"fine\", \"update\", \"sound\", \"thing\", \"quality\", \"speed\", \"issue\", \"day\", \"battery\", \"note\", \"want\", \"iron\", \"site\", \"wastage\", \"foot\", \"hell\", \"getting\", \"question\", \"hold\", \"moment\", \"blue\", \"outgoing\", \"surprised\", \"dose\", \"bhut\", \"dissatisfied\", \"social\", \"discount\", \"handy\", \"patch\", \"break\", \"factory\", \"area\", \"description\", \"avarage\", \"reset\", \"upgrade\", \"tooth\", \"timely\", \"hotspot\", \"charger\", \"mobile\", \"piece\", \"turbo\", \"satisfied\", \"charge\", \"delivery\", \"work\", \"full\", \"headset\", \"smartphone\", \"brand\", \"message\", \"datum\", \"late\", \"hour\", \"amazing\", \"video\", \"time\", \"today\", \"good\", \"charging\", \"phone\", \"feature\", \"problem\", \"issue\", \"long\", \"battery\", \"heat\", \"product\", \"camera\", \"day\", \"option\", \"weight\", \"drainage\", \"party\", \"comparison\", \"turn\", \"edge\", \"protection\", \"coverage\", \"variant\", \"panel\", \"bcoz\", \"alot\", \"sim\", \"fone\", \"spot\", \"microphone\", \"bright\", \"scanner\", \"effective\", \"interested\", \"fact\", \"simple\", \"beast\", \"local\", \"disconnected\", \"betry\", \"usual\", \"percent\", \"extensive\", \"blank\", \"print\", \"network\", \"reality\", \"value\", \"heating\", \"issue\", \"drain\", \"fast\", \"signal\", \"connection\", \"sensor\", \"idle\", \"battery\", \"money\", \"finger\", \"auto\", \"oreo\", \"strength\", \"problem\", \"full\", \"stock\", \"charge\", \"hour\", \"poor\", \"game\", \"camera\", \"call\", \"android\", \"mobile\", \"update\", \"good\", \"performance\", \"product\", \"device\", \"phone\", \"facility\", \"connect\", \"beautiful\", \"alarm\", \"atom\", \"insert\", \"invoice\", \"access\", \"series\", \"feeling\", \"stylish\", \"brilliant\", \"requirement\", \"lovely\", \"shopping\", \"outstanding\", \"website\", \"form\", \"advanced\", \"mention\", \"come\", \"constant\", \"pretty\", \"rupee\", \"elegant\", \"content\", \"term\", \"plug\", \"ringtone\", \"luck\", \"proof\", \"glass\", \"headphone\", \"awesome\", \"fall\", \"mail\", \"volume\", \"love\", \"gorilla\", \"strong\", \"powerful\", \"look\", \"suggestion\", \"unable\", \"body\", \"year\", \"previous\", \"usage\", \"superb\", \"useless\", \"disappointed\", \"vibe\", \"phone\", \"audio\", \"warm\", \"model\", \"able\", \"note\", \"good\", \"product\", \"lenovo\", \"device\", \"speaker\", \"screen\", \"well\", \"long\", \"service\", \"battery\", \"thing\"], \"Freq\": [4727.0, 1864.0, 1058.0, 2881.0, 1032.0, 1562.0, 762.0, 539.0, 512.0, 2768.0, 978.0, 5367.0, 1208.0, 377.0, 601.0, 1116.0, 329.0, 633.0, 642.0, 393.0, 616.0, 791.0, 498.0, 478.0, 466.0, 327.0, 223.0, 343.0, 335.0, 422.0, 52.70573855676802, 33.20108092426691, 41.50480505025461, 24.869982145788093, 32.24292931278256, 29.857418342228883, 37.14414638963731, 19.85503707814164, 22.060422059817867, 19.072055802329896, 18.063780957557988, 19.148609683149598, 20.707518295664183, 16.10736423476873, 18.868344602668675, 16.049520442756698, 16.648058361039777, 14.536029951925316, 67.52541142682365, 40.935347853456435, 12.916315787764388, 11.69093620693865, 12.081345638532904, 12.944134853332555, 25.542095780747008, 27.778782057974336, 10.707053376556841, 10.293079612645517, 12.335316527174802, 10.870973946971946, 691.8467686352309, 209.06300685863476, 42.10884891847216, 45.87832484636349, 220.8979239546237, 487.0239994065231, 28.883351373837517, 314.94348591772683, 69.90392214575425, 265.70526100750334, 151.71381975761602, 88.44852226102445, 121.34109103067478, 53.899497699765845, 41.55952452885583, 45.98779064730884, 54.97952288669577, 46.484951679176525, 1386.9261443054468, 307.59531552543746, 176.80933110077427, 170.76161478163226, 101.0019568755479, 96.14940750458742, 62.52503654630066, 195.70393783192236, 328.51825933190463, 143.3086978667462, 102.50044618805023, 125.2847947805988, 210.99647218123673, 196.28990691324776, 301.2326326228283, 69.96129020698918, 109.75982940934855, 60.68211815116933, 89.60393660859563, 65.93699557557572, 64.0044489055089, 29.10467761970302, 42.108795841502484, 27.083044768467666, 30.390098799927998, 28.045446995395388, 96.99936982833798, 29.206631619076614, 24.2394963862121, 22.297981409580288, 21.36066868353837, 17.504865526276046, 19.257847915040475, 20.54506877587837, 16.67516254007653, 52.551494216696675, 15.394763724352718, 27.332070341650294, 14.599410921138652, 14.636146727262155, 15.426873374730148, 20.755447254224556, 16.588415144331456, 24.316957988035025, 15.549119121789689, 23.637459973052774, 13.507872542076045, 13.316620901871785, 12.962392138503558, 12.734489793352065, 12.319074679347178, 20.239106330467564, 33.17820306829323, 82.31765909424027, 52.70768975268282, 44.71778027013627, 171.05458083037612, 87.70127669356617, 93.53787250806191, 121.45248132779702, 82.1328472414075, 140.70344999857215, 666.4613406776751, 35.63814883035502, 54.74684228541973, 92.52707142855797, 96.69768197315815, 136.9279711908984, 166.4516842123509, 52.23482297408839, 50.95766916387282, 722.5278482986103, 155.98971948888976, 147.2370886213742, 717.4138312257068, 141.80434113641692, 178.76097504662957, 135.2850441544682, 53.400245915368096, 131.67967841285383, 133.2770805052835, 120.67875817436796, 299.03705119610436, 110.97765935121289, 71.77018582494433, 79.27277807014562, 87.92981101958406, 77.0559845050026, 60.39838070926263, 67.24534791207718, 41.37177675144109, 22.82135676212992, 17.6860810834791, 24.92755885056999, 16.23269134548666, 13.890897908471116, 12.258406156050153, 9.438542336527794, 9.323613103942037, 10.592343547112202, 8.01804715498328, 7.590728000825099, 7.87948071274436, 7.070813836342579, 7.992110133415728, 6.61636630190445, 6.641277775780405, 6.381104616972679, 14.949280098983346, 6.684135355060407, 5.78655460355576, 5.743347123853926, 5.516152732603112, 5.45849064452366, 11.95876605749786, 4.977140924761115, 4.972875860570749, 4.705909672304854, 16.79176171724958, 4.149381953793859, 10.095417709784153, 12.378236605738728, 2831.2516629841043, 420.5667288161292, 69.8951003429483, 155.73062987045697, 143.64521552743918, 442.69179940599753, 1436.8192269288647, 348.1063622536923, 680.4798228297308, 11.283523523292525, 149.1488462639759, 558.573095372374, 277.0337320986052, 62.76747207841012, 54.76046571789408, 18.742130169312922, 133.40360929085398, 27.592499688731394, 101.1498928543141, 41.54596971517526, 42.22802486281759, 54.325111257220364, 49.16710380153779, 59.225853122152735, 45.65011365706186, 78.59404262122766, 96.35438745804332, 34.26851879016376, 38.448716461052335, 49.29397142762067, 43.321612519280144, 38.90731318780606, 39.84776196337942, 37.744706880107344, 35.261592483166666, 24.898653653511296, 20.401379362356327, 22.907924200848047, 17.507074238058685, 16.720927311543974, 18.56041319282756, 15.801913331528409, 15.721819163976951, 15.767254659634157, 11.720470918718878, 26.231405148008935, 11.185579538148495, 13.503586894951813, 9.785617263903564, 9.435544344141878, 10.433033934781482, 8.38068545054983, 8.325009938954844, 7.870109024424238, 7.816532451759311, 7.209313841857952, 7.092648116194319, 6.880752885681202, 19.750991948173187, 16.986647185004863, 6.627935716972733, 7.264277168071243, 6.220614987696307, 911.6302127806584, 25.623539420341054, 119.22594518455308, 43.08045872727955, 351.9334224826699, 175.27850734255873, 263.14723009219597, 733.3785220973092, 19.107105195418377, 45.6733747248239, 204.43057203237316, 40.90683844190709, 15.985999781666415, 934.8642965360108, 22.6273465441351, 486.9980452180054, 74.02420493485549, 71.1331206575089, 605.8042880177918, 32.650998427925124, 47.218462181259305, 79.03514331381228, 67.99229873967816, 89.06734955563452, 61.99052698377761, 168.48061704811826, 35.15126220818971, 61.08742101899025, 103.66911614234249, 44.17858453491688, 71.09458436242295, 59.25004576847382, 44.377732104604355, 40.715698255611784, 45.13865719678781, 43.90253517754735, 43.82621899840185, 41.27848432614294, 39.940711487032566, 24.037419669864292, 21.354974122705986, 50.49425479552249, 27.695313377896838, 21.823823372109004, 14.084484359267694, 13.317947760590695, 24.249901332561137, 12.666756380639006, 13.362404589983152, 16.296532998552387, 15.606649185908317, 10.415893942721638, 18.08184734064266, 10.435701835104698, 9.409361537219997, 21.367922412143784, 9.655134362802503, 8.786146462896733, 9.463448025778927, 10.717169840118153, 8.142180240102467, 8.047230324911222, 8.042095574709379, 8.423573969160463, 7.975681704863183, 7.853276872123006, 8.057034751031713, 8.132101041493156, 60.37896108726989, 103.27725762088367, 35.461185898068386, 26.289876370773328, 37.401681644197666, 25.36869334912213, 140.4051765408851, 42.68336424985057, 234.46572988909466, 1025.4836446480392, 254.8289073733054, 20.290037513953614, 137.58973528357302, 116.01225370057462, 87.5673007756719, 70.88629212940698, 31.455898206256165, 94.84442585779779, 109.95772832198718, 100.98509969358655, 62.86605795879039, 439.09403367044126, 33.16502386566918, 101.22328763336462, 43.98328473755732, 179.97685789523038, 272.27544965011674, 55.683268194734104, 70.65198789971825, 74.02932433275328, 76.53830202691701, 64.05140511515208, 65.87854313119425, 43.50082696800132, 59.004135483070414, 42.112889958540286, 42.74855620740991, 55.87868374462904, 24.714111777232652, 20.165261548119418, 34.14698661119928, 18.756611075367754, 72.29188948403706, 17.981695827942605, 17.710380116820243, 17.0268976135119, 16.494897050974053, 15.014368367924236, 51.581045232654894, 14.320521465523965, 14.178662428272057, 13.416590582487594, 21.81043165099954, 18.468554286988756, 12.771321287852485, 29.560563597718406, 10.760577328385, 11.16799285215748, 14.383082742595866, 9.497422620864485, 9.028946268931197, 9.008712719959274, 8.288754514953121, 9.235920011010013, 8.110618243220058, 7.520799402556459, 6.813507265057592, 86.61751780507103, 23.086805561510793, 60.91445858852731, 258.7540888254973, 40.831836584231276, 37.385185068761956, 40.866987333491984, 78.50991883626729, 42.847381428916435, 212.0984743396, 26.59269954115131, 243.5108216010323, 92.85771668046527, 64.6318120368749, 24.866433528355106, 188.88918877818193, 260.73188079519235, 91.34799126465437, 85.57022835470137, 136.3422587318549, 70.43821303112729, 183.56760644102675, 80.83438157899307, 68.78262891235109, 40.207620434666495, 258.8655244923297, 63.82333010260345, 187.82924152977236, 46.04151281374428, 65.89083660486365, 64.73418436748004, 54.7211126775387, 82.79592863947305, 50.4916256025722, 64.69433656075853, 56.325764228011394, 70.92214961170603, 55.69188566525063, 34.032927404531065, 28.618414109141366, 21.671403899191738, 18.67243354086595, 16.218740645311772, 19.076156625684266, 15.52070601093752, 14.734273255647246, 14.796890985244293, 13.257458839583474, 15.5346524902021, 12.50410234580167, 12.345389325721104, 11.975259595222116, 11.649088941081741, 17.258558601037095, 11.729869445170397, 15.293621830309649, 15.794524774635294, 12.528675303309297, 10.122394956954825, 9.870244591830502, 9.516299424351828, 11.307260539844599, 7.854697251750027, 13.855049300346959, 10.03865243917523, 8.195893650662782, 7.03264917666205, 31.986509181682464, 303.9441630416347, 1378.9780873448694, 57.88185244230995, 205.39789152708062, 98.13662793803117, 218.4091982781458, 112.24175304482367, 154.91800787986136, 155.27989152688593, 40.44029602138781, 64.12187745070108, 42.83826310639843, 42.35802619612056, 61.963367649166955, 38.186524465302895, 119.88926048841432, 73.127721414476, 82.6388419554452, 162.04528283111281, 25.948539294034827, 288.5333335075296, 36.3523989169335, 243.2919659769467, 64.58614724211499, 80.05950876564158, 75.84255590262815, 34.37280853147363, 73.33230277667836, 43.92211085202914, 52.19253746492217, 51.439448798698805, 40.24718793215124, 39.53530758531657, 42.81729590583853, 31.95043340246438, 29.03961179617625, 24.003152486722254, 22.649401111202504, 26.145854661256518, 19.30253229595909, 18.04590448583755, 17.27697452200204, 16.154657766289397, 15.120948793399258, 13.955493719119263, 17.587361547804406, 12.273668226165178, 11.784771900818262, 11.088737867145745, 11.094467878667349, 16.81991409563959, 10.072025821283871, 10.021481871987676, 9.401968648065496, 31.72820905960208, 14.141632065286954, 10.061958250791179, 8.04150267237369, 7.260101252299079, 10.030839360955856, 14.303023204372225, 6.921366386513156, 6.7636694032615186, 42.554569205580364, 434.1689775105085, 11.295165493946831, 168.58612845963182, 558.9960722359917, 464.98133381122835, 179.18727845653254, 155.39300770763634, 69.6559909658134, 32.727605507702734, 59.35685769225657, 37.59900723273634, 568.0255935989653, 118.93340421676108, 31.389950468009427, 33.6131949383914, 43.94050978894068, 24.79539910315421, 154.88754050417586, 77.31081528020025, 49.864976270079005, 78.59099181834331, 72.18663146006399, 87.9156507734038, 46.03954194971728, 144.15713488693956, 65.12946025008122, 48.68626518607063, 82.11103566216663, 49.127343582413026, 88.92244246079635, 51.509642850473995, 52.49672890960819, 42.00275619334912, 52.437913376504476, 40.789610464631316, 30.889059058629037, 26.691858734741295, 18.599009143191026, 17.79398664598544, 15.158867936542897, 31.145529086591363, 13.885244802294265, 16.70868129170667, 13.127289688590277, 14.863165669545895, 11.308693935587582, 10.67453589645391, 11.94225717091452, 9.736483425726664, 14.674628715056283, 9.506497674795124, 12.391622831551611, 9.189161228551793, 9.131038627135922, 9.289357067022456, 8.799107087715992, 9.987596773288134, 7.59126250005728, 8.016005488625334, 7.497479239359335, 26.279987079997994, 7.924133457308702, 27.999018327423386, 7.571928274812195, 10.666357516418328, 134.70513402527902, 96.15524178727435, 385.3914910255124, 19.16858858176899, 27.808096643882443, 79.39867430914325, 97.75546390352379, 106.23829526696466, 24.00072370480221, 24.485388869223428, 75.07569813695503, 31.07014132253506, 46.137057966535636, 23.207430490543324, 36.22960325238938, 36.66542144648514, 75.72185219029056, 49.055398401454504, 33.535843642037726, 39.111748187059746, 30.849591103601426, 393.6404810963127, 35.8823618903055, 32.325779740059566, 38.71534280974764, 43.3880443219102, 80.46080230257282, 170.11418647250719, 99.40742774790665, 56.48932943619216, 51.872521561933326, 48.47388842533938, 49.47108562267994, 44.70242702455125, 35.37397073950767, 37.369448600682624, 37.96598926210164, 33.82489761526907], \"Total\": [4727.0, 1864.0, 1058.0, 2881.0, 1032.0, 1562.0, 762.0, 539.0, 512.0, 2768.0, 978.0, 5367.0, 1208.0, 377.0, 601.0, 1116.0, 329.0, 633.0, 642.0, 393.0, 616.0, 791.0, 498.0, 478.0, 466.0, 327.0, 223.0, 343.0, 335.0, 422.0, 53.7777323401746, 34.09247292777311, 42.622741226869806, 25.795046974496152, 33.47497528720072, 31.061111343772755, 38.73365670579161, 20.74673311629695, 23.0865696027572, 19.96333971016931, 18.95571569143997, 20.12460543456784, 21.83729214745442, 16.998600768367897, 19.912887477555042, 16.94065584181868, 17.641633804436882, 15.427236033131994, 71.86680153758161, 43.69396420285809, 13.871916945870366, 12.582357770708924, 13.02394374215477, 13.974235957815015, 27.575162536658, 30.073549124776395, 11.614672197753048, 11.1851646374628, 13.428995426898036, 11.847172339302304, 762.3000123353232, 234.36355233048516, 46.510872558866865, 50.95361511063725, 258.2461458563177, 633.6543700962319, 32.57010071894852, 422.5740581970955, 85.40623597944628, 373.47101535699903, 203.6235981359614, 112.11581323861085, 160.55476835363075, 66.75392887319497, 49.4855474298583, 57.26855636618399, 74.25090615978745, 60.86809984256326, 5367.47482507002, 791.5361703665374, 392.62162568214205, 374.6411117585168, 196.06115451984894, 189.08400898273183, 98.59930887198709, 646.5219955068458, 1562.9907295880166, 405.5015166848209, 249.2244016945422, 388.42147507388955, 1116.7281915769838, 978.55663450627, 2881.072009445814, 147.641789280002, 498.3713335902242, 103.69268181650159, 548.0310882889402, 393.1756587571855, 328.1198160172212, 29.99678400950188, 43.42258942971316, 27.975131738061325, 31.431362686701892, 29.0183160739092, 100.47208376223426, 30.265163557074835, 25.13187253471123, 23.190213307209124, 22.25281456500864, 18.39684407684232, 20.252137232902346, 21.61889958425113, 17.567086290970792, 55.36779979690484, 16.28736133592379, 28.9301599369335, 15.491369737000426, 15.548162414665759, 16.394628431931313, 22.079672707419885, 17.647326718933495, 25.879028041842002, 16.558794823493503, 25.19511621473195, 14.401200479534513, 14.20950170853755, 13.854543067535051, 13.626493241760945, 13.211054347288623, 21.749733000949792, 36.09918650019235, 96.51282237138174, 60.436519072938445, 50.995812760096946, 215.92857709407068, 106.01506370617892, 115.2850971135552, 155.35381236472364, 101.45599500901088, 186.38830258825126, 1208.9169598583262, 41.872966637656376, 69.5857172398625, 130.71365197614352, 145.40334119411236, 241.09736125829815, 329.2204747086783, 72.2833962014003, 70.06360186984605, 2768.306316828771, 339.3371560878458, 362.20513021242647, 5367.47482507002, 405.9778541450342, 616.1263990589032, 395.254419036264, 92.62430822897676, 548.0310882889402, 646.5219955068458, 535.2660220434628, 4727.7956238397555, 466.2385442505867, 206.45271277793756, 363.3113608516842, 1058.4670404018414, 2881.072009445814, 249.3864838185065, 1864.0197592325262, 42.842390029078494, 23.72286216615921, 18.586606460444713, 26.26836112567122, 17.13313168461522, 14.79699623244278, 13.161221329858744, 10.339060635429982, 10.224237062006459, 11.660736385039712, 8.963304416078284, 8.491425218327118, 8.850825655954877, 7.994624878894575, 9.04389721481045, 7.518147722274288, 7.548014295500282, 7.281438322184041, 17.067071058936566, 7.71672730377678, 6.697572370814635, 6.660064682853263, 6.416168282242368, 6.358957922472509, 14.013157387925428, 5.878434471248705, 5.875201854161077, 5.626677681518777, 20.18375267305543, 5.049391938595854, 12.35226563960222, 15.441008990302395, 4727.7956238397555, 642.7677362311744, 95.62958586171602, 269.2127310979962, 251.87942477222572, 1116.7281915769838, 5367.47482507002, 1032.1822806239213, 2768.306316828771, 14.964097634413013, 478.9714298359206, 2881.072009445814, 1208.9169598583262, 172.32791943720042, 145.9918662782811, 31.328375308571598, 601.6859048201023, 56.05594048589999, 539.1282795031063, 143.4017272464529, 153.75580551165262, 293.0317452929407, 242.1444599249283, 362.20513021242647, 209.17250120987427, 978.55663450627, 1864.0197592325262, 141.65132715907504, 226.37868141413384, 548.0310882889402, 363.3113608516842, 241.09736125829815, 395.254419036264, 38.64824883420595, 36.164929716441286, 25.802554038649472, 21.30482808832774, 23.932265875466157, 18.41096576332731, 17.625109947109927, 19.586780207891362, 16.710197021431068, 16.80304612182116, 16.860355249571604, 12.624258540840362, 28.365107321632554, 12.097254166266948, 14.705143239912573, 10.68917889474111, 10.339597302112796, 11.539116509144005, 9.2840960845766, 9.249299626195992, 8.773701098075765, 8.75283091186108, 8.11369035267537, 7.996077818327608, 7.784918374964598, 22.381693721263563, 19.27319431067171, 7.547738440050232, 8.311639805320121, 7.126237469231302, 1058.4670404018414, 30.2013634386946, 155.346822271613, 54.2722818375589, 601.6859048201023, 293.0317452929407, 466.2385442505867, 1562.9907295880166, 24.68440452999795, 72.70838047268916, 535.2660220434628, 69.327824927877, 20.34632527873237, 4727.7956238397555, 32.82693981357709, 2768.306316828771, 197.26449173358665, 186.07137935605616, 5367.47482507002, 57.341160715432316, 107.55863756522169, 263.76733681314164, 209.17250120987427, 395.254419036264, 269.2127310979962, 2881.072009445814, 88.01606247651377, 329.2204747086783, 1208.9169598583262, 157.950590853221, 646.5219955068458, 405.9778541450342, 189.08400898273183, 145.3339311945918, 339.3371560878458, 300.7184286148412, 405.5015166848209, 548.0310882889402, 41.364277315859695, 25.12474891305409, 22.34383876282514, 53.05051916554922, 29.18044786006251, 23.182101248040322, 14.972337872904937, 14.205704146931625, 25.92521230749478, 13.556687173196293, 14.34513997520323, 17.606070138241307, 16.871010489273623, 11.304061931211319, 19.628177664493286, 11.331286476266174, 10.29870976403064, 23.399379771338115, 10.622714674216889, 9.674596015399478, 10.447435583560587, 11.88615840776093, 9.030780831795246, 8.935055046424411, 8.929968492146736, 9.358170964535505, 8.864207705162368, 8.744106983421503, 8.97469853012102, 9.06684841057864, 67.82994700547992, 123.21588439252535, 41.22813285447179, 30.78301384562786, 47.50741339751502, 33.149360142398805, 242.1444599249283, 62.18437561069709, 478.9714298359206, 2881.072009445814, 616.1263990589032, 27.020764484855054, 337.6851978318282, 272.0179762432143, 187.49552704124835, 143.9499060850795, 49.00539013423718, 243.77855665347928, 305.4020876519525, 276.3124263479916, 139.0300810285079, 2768.306316828771, 53.7086701330371, 363.3113608516842, 89.77077387515087, 1864.0197592325262, 5367.47482507002, 176.1143484400481, 327.653598508664, 395.254419036264, 642.7677362311744, 405.9778541450342, 548.0310882889402, 157.950590853221, 4727.7956238397555, 241.09736125829815, 405.5015166848209, 56.930452591364, 25.61376020031676, 21.085680130365017, 35.709586744066044, 19.648844085039773, 75.7696048242243, 18.87367776895726, 18.603152875343433, 17.91895614624942, 17.386915641614763, 15.906995743716767, 54.81437881293642, 15.220528160984461, 15.092224025228466, 14.3254812259973, 23.320094127781825, 19.761505532167085, 13.745900070334077, 31.86608001854888, 11.653761561834633, 12.14617026062577, 15.727434925926998, 10.389504861797624, 9.920870388010348, 9.900791558975639, 9.180766704077241, 10.231501114160494, 9.010254906323892, 8.453655130356637, 7.705408137976198, 100.22359587656747, 26.48331417727705, 71.52523125355874, 329.9389652593751, 48.443948709677336, 45.721686299103595, 50.82762763622205, 104.19237458159343, 55.412296083798346, 343.17115311452784, 32.96773286469613, 498.3713335902242, 179.04311138436088, 135.99242313525718, 35.073238698378624, 791.5361703665374, 1562.9907295880166, 300.7184286148412, 272.0179762432143, 646.5219955068458, 206.45271277793756, 1116.7281915769838, 276.3124263479916, 249.3864838185065, 88.01606247651377, 5367.47482507002, 243.77855665347928, 2768.306316828771, 120.90471301933438, 305.4020876519525, 339.3371560878458, 226.37868141413384, 1208.9169598583262, 172.32791943720042, 978.55663450627, 392.62162568214205, 2881.072009445814, 548.0310882889402, 35.02099157061118, 29.51198992584403, 22.5655411008618, 19.566023075852186, 17.11259376984527, 20.17320492000655, 16.41402467399892, 15.630652085077026, 15.795477560406702, 14.16594656586728, 16.669122375308714, 13.431420828876952, 13.265047642721965, 12.891798534007052, 12.54288906012236, 18.58366697708772, 12.638116653044396, 16.48224239863484, 17.04594981051522, 13.587070883251549, 11.015903441299628, 10.763626823251471, 10.42722209021333, 12.483156176765132, 8.749996755254442, 15.479523329258047, 11.26186040720227, 9.195081195133985, 7.925960990364677, 36.25120450340143, 377.2449917332095, 1864.0197592325262, 78.24602078615143, 335.18305389737975, 149.64477516168935, 393.1756587571855, 195.31612071420614, 328.1198160172212, 335.7049196895102, 62.70400515311374, 122.86462454931745, 73.92763759092404, 79.47745382413336, 139.0682181688668, 69.85191693950756, 388.42147507388955, 197.26449173358665, 249.3864838185065, 791.5361703665374, 42.75204455104708, 4727.7956238397555, 86.12394365675496, 5367.47482507002, 535.2660220434628, 1116.7281915769838, 978.55663450627, 135.99242313525718, 2881.072009445814, 363.3113608516842, 1562.9907295880166, 2768.306316828771, 392.62162568214205, 300.7184286148412, 43.70941795447426, 32.841829488804784, 29.93107076610006, 24.894972420285868, 23.540924931041207, 27.270263154634737, 20.194331246570115, 18.937380874292387, 18.16868725086645, 17.079472531530723, 16.01258511399852, 14.847553950897531, 18.722262382106866, 13.166016676319712, 12.6969683622183, 11.980227500194145, 12.047277110003792, 18.283731405897484, 10.963840125515127, 10.955149038241009, 10.343516119955318, 35.012116689201214, 15.657113411819221, 11.190259255867408, 8.952837275471268, 8.153373908824223, 11.295427271483694, 16.11005970692878, 7.813150336300566, 7.655626403434744, 48.684951822995785, 512.0661749201374, 12.834977354579866, 223.5319407058044, 1032.1822806239213, 978.55663450627, 327.653598508664, 278.30968276931986, 111.66730965628444, 46.03517444250086, 107.28292052634872, 62.00372080844935, 2881.072009445814, 374.6411117585168, 53.89915336388716, 63.084340957878815, 97.54185192414039, 38.980488591919666, 1116.7281915769838, 335.7049196895102, 154.10938458570732, 393.1756587571855, 388.42147507388955, 616.1263990589032, 153.75580551165262, 2768.306316828771, 498.3713335902242, 229.80843644232667, 1864.0197592325262, 305.4020876519525, 4727.7956238397555, 642.7677362311744, 1562.9907295880166, 337.6851978318282, 5367.47482507002, 41.84732434916426, 31.777939613227463, 27.58075950905927, 19.488177051027918, 18.708366914758578, 16.04760533395757, 33.066763653209534, 14.774401005445553, 17.818143114405053, 14.016078809533958, 16.007381966516462, 12.225687384889202, 11.563498873421569, 13.031537525471222, 10.627166241616532, 16.02259676334743, 10.395175961240906, 13.555779551130541, 10.083202878282833, 10.039701255457492, 10.300572154292999, 9.761685508297226, 11.115672807442069, 8.480385641494783, 8.971178396677416, 8.395565016562255, 29.444059024692283, 8.897757151130083, 31.68487069976255, 8.600246657165732, 12.193587551113358, 173.82508398261294, 122.74230974113406, 539.1282795031063, 22.553682823993526, 33.984535225649694, 105.39306567052058, 133.0861782523959, 150.2922078121392, 29.16719757687475, 30.76052431353271, 113.09367114879618, 41.45830773686372, 66.91044880793172, 29.423975271776413, 57.19831021044866, 58.24489389512871, 173.96372280248815, 100.02658145932419, 57.69555409873587, 74.52679176423615, 51.11686259617862, 5367.47482507002, 71.96659875187876, 59.49377382430612, 90.21082918509273, 121.86325239604069, 548.0310882889402, 4727.7956238397555, 1562.9907295880166, 405.5015166848209, 337.6851978318282, 329.9389652593751, 646.5219955068458, 405.9778541450342, 135.99242313525718, 422.5740581970955, 2881.072009445814, 226.37868141413384], \"Category\": [\"Default\", \"Default\", \"Default\", \"Default\", \"Default\", \"Default\", \"Default\", \"Default\", \"Default\", \"Default\", \"Default\", \"Default\", \"Default\", \"Default\", \"Default\", \"Default\", \"Default\", \"Default\", \"Default\", \"Default\", \"Default\", \"Default\", \"Default\", \"Default\", \"Default\", \"Default\", \"Default\", \"Default\", \"Default\", \"Default\", \"Topic1\", \"Topic1\", \"Topic1\", \"Topic1\", \"Topic1\", \"Topic1\", \"Topic1\", \"Topic1\", \"Topic1\", \"Topic1\", \"Topic1\", \"Topic1\", \"Topic1\", \"Topic1\", \"Topic1\", \"Topic1\", \"Topic1\", \"Topic1\", \"Topic1\", \"Topic1\", \"Topic1\", \"Topic1\", \"Topic1\", \"Topic1\", \"Topic1\", \"Topic1\", \"Topic1\", \"Topic1\", \"Topic1\", \"Topic1\", \"Topic1\", \"Topic1\", \"Topic1\", \"Topic1\", \"Topic1\", \"Topic1\", \"Topic1\", \"Topic1\", \"Topic1\", \"Topic1\", \"Topic1\", \"Topic1\", \"Topic1\", \"Topic1\", \"Topic1\", \"Topic1\", \"Topic1\", \"Topic1\", \"Topic1\", \"Topic1\", \"Topic1\", \"Topic1\", \"Topic1\", \"Topic1\", \"Topic1\", \"Topic1\", \"Topic1\", \"Topic1\", \"Topic1\", \"Topic1\", \"Topic1\", \"Topic1\", \"Topic1\", \"Topic1\", \"Topic1\", \"Topic1\", \"Topic1\", \"Topic1\", \"Topic1\", \"Topic2\", \"Topic2\", \"Topic2\", \"Topic2\", \"Topic2\", \"Topic2\", \"Topic2\", \"Topic2\", \"Topic2\", \"Topic2\", \"Topic2\", \"Topic2\", \"Topic2\", \"Topic2\", \"Topic2\", \"Topic2\", \"Topic2\", \"Topic2\", \"Topic2\", \"Topic2\", \"Topic2\", \"Topic2\", \"Topic2\", \"Topic2\", \"Topic2\", \"Topic2\", \"Topic2\", \"Topic2\", \"Topic2\", \"Topic2\", \"Topic2\", \"Topic2\", \"Topic2\", \"Topic2\", \"Topic2\", \"Topic2\", \"Topic2\", \"Topic2\", \"Topic2\", \"Topic2\", \"Topic2\", \"Topic2\", \"Topic2\", \"Topic2\", \"Topic2\", \"Topic2\", \"Topic2\", \"Topic2\", \"Topic2\", \"Topic2\", \"Topic2\", \"Topic2\", \"Topic2\", \"Topic2\", \"Topic2\", \"Topic2\", \"Topic2\", \"Topic2\", \"Topic2\", \"Topic2\", \"Topic2\", \"Topic2\", \"Topic2\", \"Topic2\", \"Topic2\", \"Topic2\", \"Topic2\", \"Topic2\", \"Topic2\", \"Topic3\", \"Topic3\", \"Topic3\", \"Topic3\", \"Topic3\", \"Topic3\", \"Topic3\", \"Topic3\", \"Topic3\", \"Topic3\", \"Topic3\", \"Topic3\", \"Topic3\", \"Topic3\", \"Topic3\", \"Topic3\", \"Topic3\", \"Topic3\", \"Topic3\", \"Topic3\", \"Topic3\", \"Topic3\", \"Topic3\", \"Topic3\", \"Topic3\", \"Topic3\", \"Topic3\", \"Topic3\", \"Topic3\", \"Topic3\", \"Topic3\", \"Topic3\", \"Topic3\", \"Topic3\", \"Topic3\", \"Topic3\", \"Topic3\", \"Topic3\", \"Topic3\", \"Topic3\", \"Topic3\", \"Topic3\", \"Topic3\", \"Topic3\", \"Topic3\", \"Topic3\", \"Topic3\", \"Topic3\", \"Topic3\", \"Topic3\", \"Topic3\", \"Topic3\", \"Topic3\", \"Topic3\", \"Topic3\", \"Topic3\", \"Topic3\", \"Topic3\", \"Topic3\", \"Topic3\", \"Topic3\", \"Topic3\", \"Topic3\", \"Topic3\", \"Topic3\", \"Topic4\", \"Topic4\", \"Topic4\", \"Topic4\", \"Topic4\", \"Topic4\", \"Topic4\", \"Topic4\", \"Topic4\", \"Topic4\", \"Topic4\", \"Topic4\", \"Topic4\", \"Topic4\", \"Topic4\", \"Topic4\", \"Topic4\", \"Topic4\", \"Topic4\", \"Topic4\", \"Topic4\", \"Topic4\", \"Topic4\", \"Topic4\", \"Topic4\", \"Topic4\", \"Topic4\", \"Topic4\", \"Topic4\", \"Topic4\", \"Topic4\", \"Topic4\", \"Topic4\", \"Topic4\", \"Topic4\", \"Topic4\", \"Topic4\", \"Topic4\", \"Topic4\", \"Topic4\", \"Topic4\", \"Topic4\", \"Topic4\", \"Topic4\", \"Topic4\", \"Topic4\", \"Topic4\", \"Topic4\", \"Topic4\", \"Topic4\", \"Topic4\", \"Topic4\", \"Topic4\", \"Topic4\", \"Topic4\", \"Topic4\", \"Topic4\", \"Topic4\", \"Topic4\", \"Topic4\", \"Topic4\", \"Topic4\", \"Topic4\", \"Topic4\", \"Topic4\", \"Topic4\", \"Topic4\", \"Topic4\", \"Topic5\", \"Topic5\", \"Topic5\", \"Topic5\", \"Topic5\", \"Topic5\", \"Topic5\", \"Topic5\", \"Topic5\", \"Topic5\", \"Topic5\", \"Topic5\", \"Topic5\", \"Topic5\", \"Topic5\", \"Topic5\", \"Topic5\", \"Topic5\", \"Topic5\", \"Topic5\", \"Topic5\", \"Topic5\", \"Topic5\", \"Topic5\", \"Topic5\", \"Topic5\", \"Topic5\", \"Topic5\", \"Topic5\", \"Topic5\", \"Topic5\", \"Topic5\", \"Topic5\", \"Topic5\", \"Topic5\", \"Topic5\", \"Topic5\", \"Topic5\", \"Topic5\", \"Topic5\", \"Topic5\", \"Topic5\", \"Topic5\", \"Topic5\", \"Topic5\", \"Topic5\", \"Topic5\", \"Topic5\", \"Topic5\", \"Topic5\", \"Topic5\", \"Topic5\", \"Topic5\", \"Topic5\", \"Topic5\", \"Topic5\", \"Topic5\", \"Topic5\", \"Topic5\", \"Topic5\", \"Topic5\", \"Topic5\", \"Topic5\", \"Topic5\", \"Topic5\", \"Topic5\", \"Topic5\", \"Topic6\", \"Topic6\", \"Topic6\", \"Topic6\", \"Topic6\", \"Topic6\", \"Topic6\", \"Topic6\", \"Topic6\", \"Topic6\", \"Topic6\", \"Topic6\", \"Topic6\", \"Topic6\", \"Topic6\", \"Topic6\", \"Topic6\", \"Topic6\", \"Topic6\", \"Topic6\", \"Topic6\", \"Topic6\", \"Topic6\", \"Topic6\", \"Topic6\", \"Topic6\", \"Topic6\", \"Topic6\", \"Topic6\", \"Topic6\", \"Topic6\", \"Topic6\", \"Topic6\", \"Topic6\", \"Topic6\", \"Topic6\", \"Topic6\", \"Topic6\", \"Topic6\", \"Topic6\", \"Topic6\", \"Topic6\", \"Topic6\", \"Topic6\", \"Topic6\", \"Topic6\", \"Topic6\", \"Topic6\", \"Topic6\", \"Topic6\", \"Topic6\", \"Topic6\", \"Topic6\", \"Topic6\", \"Topic6\", \"Topic6\", \"Topic6\", \"Topic6\", \"Topic6\", \"Topic6\", \"Topic6\", \"Topic6\", \"Topic6\", \"Topic6\", \"Topic6\", \"Topic6\", \"Topic6\", \"Topic6\", \"Topic7\", \"Topic7\", \"Topic7\", \"Topic7\", \"Topic7\", \"Topic7\", \"Topic7\", \"Topic7\", \"Topic7\", \"Topic7\", \"Topic7\", \"Topic7\", \"Topic7\", \"Topic7\", \"Topic7\", \"Topic7\", \"Topic7\", \"Topic7\", \"Topic7\", \"Topic7\", \"Topic7\", \"Topic7\", \"Topic7\", \"Topic7\", \"Topic7\", \"Topic7\", \"Topic7\", \"Topic7\", \"Topic7\", \"Topic7\", \"Topic7\", \"Topic7\", \"Topic7\", \"Topic7\", \"Topic7\", \"Topic7\", \"Topic7\", \"Topic7\", \"Topic7\", \"Topic7\", \"Topic7\", \"Topic7\", \"Topic7\", \"Topic7\", \"Topic7\", \"Topic7\", \"Topic7\", \"Topic7\", \"Topic7\", \"Topic7\", \"Topic7\", \"Topic7\", \"Topic7\", \"Topic7\", \"Topic7\", \"Topic7\", \"Topic7\", \"Topic7\", \"Topic7\", \"Topic7\", \"Topic7\", \"Topic7\", \"Topic7\", \"Topic8\", \"Topic8\", \"Topic8\", \"Topic8\", \"Topic8\", \"Topic8\", \"Topic8\", \"Topic8\", \"Topic8\", \"Topic8\", \"Topic8\", \"Topic8\", \"Topic8\", \"Topic8\", \"Topic8\", \"Topic8\", \"Topic8\", \"Topic8\", \"Topic8\", \"Topic8\", \"Topic8\", \"Topic8\", \"Topic8\", \"Topic8\", \"Topic8\", \"Topic8\", \"Topic8\", \"Topic8\", \"Topic8\", \"Topic8\", \"Topic8\", \"Topic8\", \"Topic8\", \"Topic8\", \"Topic8\", \"Topic8\", \"Topic8\", \"Topic8\", \"Topic8\", \"Topic8\", \"Topic8\", \"Topic8\", \"Topic8\", \"Topic8\", \"Topic8\", \"Topic8\", \"Topic8\", \"Topic8\", \"Topic8\", \"Topic8\", \"Topic8\", \"Topic8\", \"Topic8\", \"Topic8\", \"Topic8\", \"Topic8\", \"Topic8\", \"Topic8\", \"Topic8\", \"Topic8\", \"Topic8\", \"Topic8\", \"Topic8\", \"Topic8\", \"Topic8\", \"Topic9\", \"Topic9\", \"Topic9\", \"Topic9\", \"Topic9\", \"Topic9\", \"Topic9\", \"Topic9\", \"Topic9\", \"Topic9\", \"Topic9\", \"Topic9\", \"Topic9\", \"Topic9\", \"Topic9\", \"Topic9\", \"Topic9\", \"Topic9\", \"Topic9\", \"Topic9\", \"Topic9\", \"Topic9\", \"Topic9\", \"Topic9\", \"Topic9\", \"Topic9\", \"Topic9\", \"Topic9\", \"Topic9\", \"Topic9\", \"Topic9\", \"Topic9\", \"Topic9\", \"Topic9\", \"Topic9\", \"Topic9\", \"Topic9\", \"Topic9\", \"Topic9\", \"Topic9\", \"Topic9\", \"Topic9\", \"Topic9\", \"Topic9\", \"Topic9\", \"Topic9\", \"Topic9\", \"Topic9\", \"Topic9\", \"Topic9\", \"Topic9\", \"Topic9\", \"Topic9\", \"Topic9\", \"Topic9\", \"Topic9\", \"Topic9\", \"Topic9\", \"Topic9\", \"Topic9\", \"Topic9\", \"Topic9\", \"Topic9\", \"Topic9\", \"Topic9\", \"Topic9\", \"Topic9\", \"Topic9\", \"Topic9\"], \"logprob\": [30.0, 29.0, 28.0, 27.0, 26.0, 25.0, 24.0, 23.0, 22.0, 21.0, 20.0, 19.0, 18.0, 17.0, 16.0, 15.0, 14.0, 13.0, 12.0, 11.0, 10.0, 9.0, 8.0, 7.0, 6.0, 5.0, 4.0, 3.0, 2.0, 1.0, -5.4933, -5.9554, -5.7322, -6.2443, -5.9847, -6.0616, -5.8432, -6.4695, -6.3642, -6.5098, -6.5641, -6.5058, -6.4275, -6.6787, -6.5205, -6.6823, -6.6457, -6.7814, -5.2455, -5.746, -6.8995, -6.9992, -6.9663, -6.8974, -6.2177, -6.1337, -7.0871, -7.1265, -6.9455, -7.0719, -2.9186, -4.1154, -5.7177, -5.632, -4.0603, -3.2697, -6.0947, -3.7056, -5.2109, -3.8756, -4.436, -4.9756, -4.6594, -5.4709, -5.7309, -5.6296, -5.451, -5.6189, -2.2232, -3.7292, -4.2829, -4.3177, -4.8429, -4.8921, -5.3224, -4.1814, -3.6634, -4.493, -4.8281, -4.6274, -4.1062, -4.1784, -3.7501, -5.2101, -4.7597, -5.3524, -4.9626, -5.2693, -5.2991, -6.0204, -5.6511, -6.0924, -5.9772, -6.0575, -4.8166, -6.0169, -6.2033, -6.2868, -6.3298, -6.5288, -6.4334, -6.3687, -6.5774, -5.4295, -6.6573, -6.0833, -6.7103, -6.7078, -6.6552, -6.3585, -6.5826, -6.2001, -6.6473, -6.2285, -6.788, -6.8023, -6.8293, -6.847, -6.8802, -6.3837, -5.8894, -4.9807, -5.4266, -5.5909, -4.2493, -4.9174, -4.8529, -4.5918, -4.983, -4.4447, -2.8893, -5.8179, -5.3886, -4.8638, -4.8197, -4.4719, -4.2766, -5.4356, -5.4603, -2.8086, -4.3415, -4.3993, -2.8157, -4.4369, -4.2053, -4.4839, -5.4135, -4.5109, -4.4989, -4.5982, -3.6907, -4.682, -5.1178, -5.0184, -4.9148, -5.0468, -5.2904, -5.183, -5.6024, -6.1973, -6.4522, -6.109, -6.538, -6.6938, -6.8188, -7.0802, -7.0925, -6.9649, -7.2433, -7.2981, -7.2607, -7.369, -7.2466, -7.4355, -7.4317, -7.4717, -6.6203, -7.4253, -7.5695, -7.577, -7.6173, -7.6278, -6.8435, -7.7202, -7.721, -7.7762, -6.5041, -7.902, -7.0129, -6.8091, -1.3765, -3.2834, -5.078, -4.2769, -4.3577, -3.2321, -2.0548, -3.4725, -2.8022, -6.9017, -4.3201, -2.9996, -3.7009, -5.1856, -5.322, -6.3942, -4.4316, -6.0075, -4.7084, -5.5982, -5.5819, -5.33, -5.4298, -5.2436, -5.504, -4.9607, -4.757, -5.7908, -5.6757, -5.4272, -5.5564, -5.6638, -5.6399, -5.444, -5.5121, -5.8601, -6.0593, -5.9434, -6.2123, -6.2582, -6.1539, -6.3148, -6.3198, -6.317, -6.6136, -5.8079, -6.6603, -6.4719, -6.794, -6.8304, -6.7299, -6.949, -6.9556, -7.0118, -7.0186, -7.0995, -7.1158, -7.1462, -6.0917, -6.2425, -7.1836, -7.0919, -7.247, -2.2597, -5.8314, -4.2939, -5.3118, -3.2114, -3.9085, -3.5022, -2.4772, -6.1248, -5.2534, -3.7547, -5.3636, -6.3032, -2.2345, -5.9557, -2.8866, -4.7705, -4.8103, -2.6683, -5.589, -5.2201, -4.705, -4.8555, -4.5855, -4.9479, -3.9481, -5.5152, -4.9626, -4.4337, -5.2867, -4.8109, -4.9931, -5.2822, -5.3683, -5.2652, -5.2929, -5.2947, -5.3545, -5.3414, -5.8492, -5.9676, -5.107, -5.7076, -5.9458, -6.3838, -6.4397, -5.8404, -6.4899, -6.4364, -6.2379, -6.2811, -6.6855, -6.1339, -6.6836, -6.7871, -5.967, -6.7614, -6.8557, -6.7814, -6.657, -6.9318, -6.9435, -6.9442, -6.8978, -6.9524, -6.9679, -6.9423, -6.933, -4.9282, -4.3914, -5.4604, -5.7597, -5.4071, -5.7953, -4.0843, -5.275, -3.5715, -2.0959, -3.4883, -6.0187, -4.1046, -4.2751, -4.5564, -4.7678, -5.5803, -4.4766, -4.3287, -4.4139, -4.8878, -2.9441, -5.5273, -4.4115, -5.245, -3.836, -3.422, -5.0092, -4.7711, -4.7244, -4.6911, -4.8692, -4.841, -5.2561, -4.9512, -5.2885, -5.2735, -4.9505, -5.7663, -5.9697, -5.443, -6.0421, -4.693, -6.0843, -6.0995, -6.1389, -6.1706, -6.2647, -5.0305, -6.312, -6.322, -6.3772, -5.8913, -6.0576, -6.4265, -5.5873, -6.5978, -6.5606, -6.3076, -6.7227, -6.7733, -6.7755, -6.8588, -6.7506, -6.8805, -6.956, -7.0548, -4.5122, -5.8344, -4.8642, -3.4178, -5.2642, -5.3524, -5.2634, -4.6105, -5.216, -3.6166, -5.6931, -3.4785, -4.4426, -4.805, -5.7602, -3.7325, -3.4102, -4.459, -4.5244, -4.0585, -4.719, -3.7611, -4.5813, -4.7427, -5.2796, -3.4174, -4.8176, -3.7382, -5.1441, -4.7857, -4.8034, -4.9714, -4.5573, -5.0519, -4.804, -4.9425, -4.7121, -4.9539, -5.4076, -5.5809, -5.859, -6.0079, -6.1488, -5.9865, -6.1928, -6.2448, -6.2405, -6.3504, -6.1919, -6.4089, -6.4217, -6.4521, -6.4797, -6.0866, -6.4728, -6.2075, -6.1753, -6.4069, -6.6202, -6.6454, -6.682, -6.5095, -6.8738, -6.3063, -6.6285, -6.8313, -6.9844, -5.4696, -3.2181, -1.7059, -4.8766, -3.61, -4.3486, -3.5486, -4.2143, -3.8921, -3.8897, -5.2351, -4.7742, -5.1775, -5.1888, -4.8084, -5.2925, -4.1484, -4.6427, -4.5205, -3.8471, -5.6788, -3.2701, -5.3417, -3.4407, -4.767, -4.5522, -4.6063, -5.3977, -4.64, -5.1525, -4.98, -4.9946, -5.2399, -5.2578, -5.1575, -5.4502, -5.5458, -5.7362, -5.7943, -5.6507, -5.9542, -6.0215, -6.065, -6.1322, -6.1983, -6.2785, -6.0472, -6.407, -6.4476, -6.5085, -6.508, -6.0919, -6.6047, -6.6097, -6.6735, -5.4572, -6.2653, -6.6057, -6.8298, -6.932, -6.6088, -6.254, -6.9798, -7.0029, -5.1636, -2.841, -6.49, -3.787, -2.5883, -2.7724, -3.726, -3.8685, -4.6709, -5.4262, -4.8309, -5.2874, -2.5723, -4.1359, -5.4679, -5.3995, -5.1316, -5.7038, -3.8717, -4.5666, -5.0051, -4.5502, -4.6352, -4.438, -5.0849, -3.9435, -4.738, -5.029, -4.5063, -5.02, -4.4267, -4.9727, -4.9537, -5.1767, -4.9548, -4.9777, -5.2558, -5.4018, -5.7631, -5.8073, -5.9676, -5.2475, -6.0553, -5.8702, -6.1115, -5.9873, -6.2606, -6.3183, -6.2061, -6.4103, -6.0, -6.4342, -6.1691, -6.4681, -6.4745, -6.4573, -6.5115, -6.3848, -6.6592, -6.6047, -6.6716, -5.4174, -6.6163, -5.354, -6.6617, -6.3191, -3.7831, -4.1202, -2.7319, -5.7329, -5.3608, -4.3117, -4.1037, -4.0205, -5.5081, -5.4881, -4.3677, -5.2499, -4.8545, -5.5417, -5.0963, -5.0843, -4.3591, -4.7932, -5.1735, -5.0197, -5.257, -2.7107, -5.1059, -5.2103, -5.0299, -4.916, -4.2984, -3.5497, -4.0869, -4.6521, -4.7374, -4.8051, -4.7848, -4.8861, -5.1202, -5.0653, -5.0495, -5.165], \"loglift\": [30.0, 29.0, 28.0, 27.0, 26.0, 25.0, 24.0, 23.0, 22.0, 21.0, 20.0, 19.0, 18.0, 17.0, 16.0, 15.0, 14.0, 13.0, 12.0, 11.0, 10.0, 9.0, 8.0, 7.0, 6.0, 5.0, 4.0, 3.0, 2.0, 1.0, 1.8354, 1.8291, 1.829, 1.8191, 1.8181, 1.8161, 1.8137, 1.8116, 1.8101, 1.8099, 1.8074, 1.8059, 1.8025, 1.8017, 1.8017, 1.8015, 1.7976, 1.7961, 1.7933, 1.7904, 1.7842, 1.7821, 1.7804, 1.779, 1.779, 1.7762, 1.7742, 1.7725, 1.7706, 1.7696, 1.7586, 1.7413, 1.7561, 1.7507, 1.6994, 1.5924, 1.7354, 1.5616, 1.6553, 1.5151, 1.5613, 1.6185, 1.5755, 1.6417, 1.681, 1.6362, 1.5551, 1.586, 0.5023, 0.9104, 1.0578, 1.0699, 1.1923, 1.1793, 1.4001, 0.6606, 0.2958, 0.8155, 0.9671, 0.7241, 0.1893, 0.2491, -0.4025, 1.1087, 0.3425, 1.3198, 0.0446, 0.07, 0.2212, 1.8921, 1.8915, 1.8899, 1.8886, 1.8882, 1.8871, 1.8867, 1.8861, 1.883, 1.8814, 1.8726, 1.8719, 1.8713, 1.8702, 1.8701, 1.8659, 1.8654, 1.863, 1.8618, 1.8614, 1.8604, 1.8604, 1.86, 1.8594, 1.8585, 1.8582, 1.8574, 1.8557, 1.8546, 1.8524, 1.8503, 1.8379, 1.7632, 1.7854, 1.7909, 1.6893, 1.7326, 1.7132, 1.6761, 1.711, 1.6411, 1.3268, 1.761, 1.6824, 1.5768, 1.5143, 1.3565, 1.2402, 1.5974, 1.6039, 0.579, 1.1451, 1.0221, -0.0902, 0.8704, 0.6849, 0.8501, 1.3715, 0.4963, 0.3431, 0.4326, -0.8384, 0.4869, 0.8657, 0.3999, -0.5658, -1.6991, 0.5042, -1.3999, 1.9536, 1.9498, 1.9389, 1.9362, 1.9346, 1.9254, 1.9175, 1.8974, 1.8964, 1.8925, 1.8771, 1.8764, 1.8723, 1.8658, 1.8649, 1.8608, 1.8606, 1.8566, 1.8561, 1.8449, 1.8424, 1.8405, 1.8374, 1.8359, 1.83, 1.8221, 1.8218, 1.8099, 1.8046, 1.7923, 1.7868, 1.7675, 1.4758, 1.5644, 1.6751, 1.4412, 1.427, 1.0633, 0.6707, 0.9017, 0.5854, 1.7063, 0.8219, 0.348, 0.5152, 0.9786, 1.008, 1.4748, 0.4822, 1.2798, 0.3152, 0.7497, 0.6963, 0.3033, 0.3943, 0.1777, 0.4664, -0.5332, -0.9739, 0.5694, 0.2157, -0.42, -0.138, 0.1646, -0.3059, 2.215, 2.2134, 2.203, 2.1954, 2.1949, 2.1884, 2.186, 2.1849, 2.1828, 2.1722, 2.1717, 2.1644, 2.1605, 2.1603, 2.1535, 2.1504, 2.1472, 2.1379, 2.1363, 2.1334, 2.13, 2.1256, 2.1205, 2.1188, 2.1152, 2.1137, 2.1124, 2.1087, 2.104, 2.1028, 2.0894, 2.0743, 1.9741, 2.0077, 1.7024, 1.7248, 1.6667, 1.482, 1.9826, 1.7738, 1.2762, 1.7111, 1.9975, 0.6179, 1.8666, 0.501, 1.2585, 1.2771, 0.0571, 1.6756, 1.4154, 1.0335, 1.1149, 0.7486, 0.7702, -0.6004, 1.3208, 0.5543, -0.2176, 0.9647, 0.0311, 0.3142, 0.7892, 0.9663, 0.2214, 0.3145, 0.0138, -0.3473, 2.2497, 2.2405, 2.2395, 2.2354, 2.2325, 2.2244, 2.2236, 2.2202, 2.2179, 2.2168, 2.2138, 2.2074, 2.2068, 2.2029, 2.2027, 2.2024, 2.1944, 2.1939, 2.1892, 2.1884, 2.1858, 2.1812, 2.1812, 2.1801, 2.18, 2.1795, 2.1791, 2.1773, 2.1769, 2.1759, 2.1684, 2.1082, 2.1341, 2.127, 2.0456, 2.0172, 1.7397, 1.9084, 1.5704, 1.2517, 1.4019, 1.9983, 1.3869, 1.4326, 1.5234, 1.5764, 1.8414, 1.3407, 1.2632, 1.2782, 1.4911, 0.4435, 1.8027, 1.0068, 1.5713, -0.0529, -0.6966, 1.1333, 0.7506, 0.6097, 0.1567, 0.4381, 0.1662, 0.9952, -2.0989, 0.5399, 0.035, 2.3212, 2.3041, 2.2953, 2.2951, 2.2934, 2.2929, 2.2915, 2.2907, 2.2888, 2.2872, 2.2821, 2.2791, 2.2789, 2.2775, 2.2743, 2.273, 2.2722, 2.2664, 2.2648, 2.2602, 2.2559, 2.2505, 2.2501, 2.2457, 2.2455, 2.2377, 2.2375, 2.2347, 2.223, 2.2169, 2.194, 2.2026, 2.1793, 2.0969, 2.1689, 2.1386, 2.1218, 2.0569, 2.0827, 1.8587, 2.125, 1.6237, 1.6833, 1.596, 1.996, 0.9071, 0.549, 1.1484, 1.1834, 0.7835, 1.2646, 0.5343, 1.1108, 1.0518, 1.5564, -0.6919, 0.9998, -0.3506, 1.3744, 0.8063, 0.6832, 0.9199, -0.3412, 1.1123, -0.3765, 0.3982, -1.3644, 0.0534, 2.35, 2.3479, 2.3382, 2.3319, 2.325, 2.3227, 2.3227, 2.3196, 2.3133, 2.3123, 2.3081, 2.3071, 2.3068, 2.3049, 2.3047, 2.3047, 2.304, 2.3038, 2.3024, 2.2975, 2.294, 2.292, 2.2872, 2.2797, 2.2707, 2.2678, 2.2636, 2.2636, 2.259, 2.2535, 2.1626, 2.0772, 2.0772, 1.8889, 1.9567, 1.7907, 1.8247, 1.6281, 1.6076, 1.94, 1.7283, 1.833, 1.7493, 1.5702, 1.7747, 1.2031, 1.3863, 1.2741, 0.7925, 1.8793, -0.4178, 1.5161, -0.7152, 0.2639, -0.2568, -0.1788, 1.0033, -1.2923, 0.2658, -1.0208, -1.607, 0.1008, 0.3496, 2.3785, 2.3716, 2.3689, 2.3627, 2.3606, 2.3571, 2.354, 2.3509, 2.3488, 2.3435, 2.3419, 2.3372, 2.3366, 2.329, 2.3246, 2.3218, 2.3168, 2.3157, 2.3143, 2.3101, 2.3037, 2.3007, 2.2974, 2.2929, 2.2918, 2.2831, 2.2804, 2.2802, 2.278, 2.2753, 2.2646, 2.2341, 2.2714, 2.1171, 1.7859, 1.6551, 1.7956, 1.8164, 1.9272, 2.058, 1.8073, 1.8989, 0.7754, 1.2518, 1.8585, 1.7696, 1.6017, 1.9468, 0.4237, 0.9308, 1.2708, 0.7892, 0.7163, 0.4521, 1.1933, -0.5559, 0.3642, 0.8473, -0.7233, 0.5719, -1.5743, -0.1249, -0.9944, 0.3148, -2.2293, 2.6018, 2.5991, 2.5947, 2.5807, 2.5773, 2.5704, 2.5676, 2.5654, 2.5631, 2.5619, 2.5533, 2.5495, 2.5474, 2.5401, 2.5399, 2.5395, 2.5381, 2.5376, 2.5346, 2.5326, 2.5241, 2.5236, 2.5204, 2.5167, 2.5148, 2.5143, 2.5137, 2.5115, 2.5038, 2.5001, 2.4936, 2.3725, 2.3833, 2.2917, 2.4648, 2.4268, 2.3442, 2.3189, 2.2805, 2.4325, 2.3993, 2.2177, 2.339, 2.2557, 2.3901, 2.1708, 2.1646, 1.7956, 1.9149, 2.0849, 1.9827, 2.1224, 0.0147, 1.9315, 2.0174, 1.7815, 1.5947, 0.7089, -0.6973, -0.1277, 0.6563, 0.7541, 0.7095, 0.0572, 0.4211, 1.2808, 0.2019, -1.7018, 0.7264]}, \"token.table\": {\"Topic\": [1, 2, 3, 4, 5, 6, 7, 9, 9, 5, 6, 9, 1, 2, 4, 9, 8, 6, 1, 2, 3, 4, 6, 7, 8, 1, 2, 3, 5, 6, 7, 8, 9, 1, 1, 2, 3, 4, 5, 6, 7, 8, 9, 1, 2, 3, 4, 5, 6, 7, 8, 1, 2, 3, 5, 6, 8, 9, 3, 7, 2, 9, 3, 5, 6, 7, 9, 2, 3, 4, 5, 8, 1, 2, 3, 4, 5, 6, 7, 8, 9, 7, 1, 2, 3, 4, 7, 9, 1, 2, 3, 4, 5, 6, 7, 8, 9, 1, 2, 3, 4, 5, 6, 7, 8, 9, 1, 2, 3, 4, 5, 6, 7, 8, 9, 1, 2, 3, 4, 5, 6, 7, 8, 9, 3, 1, 2, 3, 4, 5, 6, 7, 8, 9, 2, 8, 6, 8, 9, 4, 8, 2, 3, 7, 1, 8, 6, 7, 1, 6, 9, 3, 1, 2, 6, 7, 2, 3, 6, 7, 9, 7, 8, 3, 4, 6, 9, 1, 3, 2, 3, 6, 7, 8, 3, 5, 6, 2, 2, 3, 4, 6, 7, 9, 1, 2, 3, 4, 5, 6, 7, 8, 9, 2, 1, 2, 3, 4, 5, 6, 7, 8, 9, 2, 3, 5, 3, 1, 5, 6, 7, 1, 3, 6, 4, 3, 5, 1, 2, 4, 6, 9, 1, 2, 3, 4, 5, 6, 7, 1, 5, 9, 3, 2, 3, 5, 7, 8, 1, 2, 3, 5, 6, 7, 8, 1, 2, 3, 4, 5, 6, 7, 8, 9, 1, 2, 5, 7, 8, 9, 1, 6, 1, 2, 3, 4, 6, 8, 9, 2, 5, 6, 3, 2, 9, 6, 1, 1, 8, 4, 3, 1, 2, 5, 7, 9, 1, 3, 6, 8, 9, 2, 6, 9, 9, 1, 2, 5, 1, 2, 3, 4, 5, 8, 6, 3, 2, 6, 8, 6, 1, 2, 3, 4, 5, 6, 7, 8, 9, 5, 2, 2, 3, 6, 7, 8, 1, 2, 3, 5, 6, 7, 8, 9, 2, 5, 1, 2, 3, 4, 6, 4, 1, 2, 4, 9, 1, 2, 6, 6, 5, 2, 3, 5, 6, 7, 9, 3, 1, 2, 3, 4, 5, 6, 7, 8, 7, 1, 5, 1, 2, 3, 4, 5, 6, 7, 8, 9, 1, 1, 2, 6, 7, 8, 9, 5, 6, 8, 7, 5, 1, 2, 3, 4, 5, 6, 7, 8, 9, 7, 7, 4, 1, 2, 3, 4, 5, 7, 8, 9, 8, 2, 6, 1, 2, 3, 4, 5, 6, 7, 8, 9, 5, 6, 1, 2, 3, 4, 6, 1, 8, 8, 9, 1, 1, 3, 6, 1, 2, 3, 4, 6, 7, 8, 9, 1, 2, 4, 5, 6, 7, 8, 9, 1, 2, 3, 4, 5, 6, 7, 8, 9, 8, 1, 9, 5, 8, 7, 5, 9, 1, 2, 3, 6, 1, 2, 3, 4, 5, 6, 7, 8, 9, 5, 6, 7, 1, 2, 3, 4, 5, 6, 7, 8, 9, 9, 4, 2, 3, 5, 6, 8, 9, 2, 5, 6, 8, 9, 1, 2, 6, 3, 4, 4, 8, 4, 7, 9, 4, 1, 2, 3, 4, 5, 6, 7, 8, 9, 1, 2, 3, 4, 5, 6, 7, 8, 9, 2, 2, 4, 5, 6, 7, 8, 9, 1, 2, 3, 5, 7, 8, 5, 1, 2, 6, 7, 7, 4, 1, 2, 3, 4, 5, 6, 7, 8, 9, 6, 8, 1, 2, 3, 4, 5, 6, 7, 8, 9, 3, 1, 2, 3, 4, 5, 6, 7, 8, 9, 3, 1, 2, 3, 4, 5, 6, 7, 8, 9, 1, 7, 3, 5, 6, 7, 8, 3, 1, 2, 3, 5, 6, 7, 8, 9, 2, 7, 1, 2, 4, 6, 2, 6, 7, 8, 9, 2, 5, 6, 7, 9, 1, 2, 3, 4, 5, 6, 7, 8, 9, 2, 3, 4, 5, 6, 7, 8, 9, 2, 3, 5, 6, 7, 8, 9, 7, 1, 3, 5, 6, 1, 3, 4, 5, 7, 8, 9, 3, 7, 2, 4, 5, 2, 7, 1, 2, 3, 5, 6, 7, 8, 9, 5, 2, 6, 2, 4, 1, 8, 9, 1, 2, 4, 6, 3, 5, 2, 5, 9, 8, 2, 3, 5, 6, 1, 3, 4, 5, 6, 7, 9, 1, 9, 7, 1, 2, 3, 4, 5, 6, 7, 8, 9, 1, 2, 5, 5, 1, 2, 3, 5, 6, 7, 9, 2, 4, 6, 1, 1, 2, 3, 4, 5, 6, 7, 8, 9, 4, 5, 7, 8, 1, 2, 3, 4, 5, 6, 7, 8, 9, 6, 1, 2, 3, 4, 5, 6, 7, 8, 9, 1, 2, 3, 5, 6, 8, 9, 4, 4, 1, 2, 3, 4, 5, 6, 7, 8, 9, 8, 2, 1, 6, 8, 5, 6, 7, 9, 3, 5, 6, 7, 8, 9, 1, 6, 2, 3, 4, 6, 7, 8, 9, 9, 9, 7, 9, 4, 6, 9, 6, 1, 2, 3, 4, 5, 6, 7, 9, 2, 3, 6, 4, 3, 9, 2, 3, 6, 7, 8, 2, 8, 3, 4, 5, 3, 6, 8, 5, 1, 2, 3, 4, 5, 6, 7, 8, 9, 1, 2, 3, 4, 5, 6, 8, 9, 1, 2, 4, 6, 7, 9, 7, 1, 2, 3, 4, 5, 6, 7, 8, 9, 1, 2, 3, 4, 5, 6, 7, 8, 9, 2, 3, 4, 5, 6, 8, 9, 1, 1, 2, 3, 4, 5, 6, 7, 8, 1, 2, 3, 4, 5, 6, 7, 8, 9, 3, 2, 1, 2, 3, 4, 5, 6, 7, 8, 9, 3, 1, 2, 3, 4, 5, 6, 7, 8, 9, 6, 1, 2, 3, 4, 5, 6, 7, 8, 9, 1, 3, 4, 5, 7, 8, 1, 3, 8, 2, 6, 1, 2, 3, 4, 5, 6, 7, 9, 1, 4, 1, 2, 3, 5, 7, 8, 4, 7, 7, 6, 9, 1, 2, 3, 5, 6, 7, 8, 9, 3, 4, 1, 4, 6, 8, 8, 7, 4, 8, 4, 1, 4, 6, 8, 1, 2, 3, 4, 5, 6, 7, 8, 9, 1, 2, 3, 4, 5, 6, 7, 8, 9, 2, 3, 4, 5, 6, 2, 3, 2, 4, 6, 7, 8, 1, 5, 6, 7, 8, 9, 1, 9, 1, 7, 8, 9, 1, 2, 3, 4, 5, 6, 7, 8, 9, 3, 9, 1, 9, 1, 2, 6, 9, 2, 3, 4, 5, 6, 7, 8, 9, 3, 8, 9, 2, 1, 2, 3, 5, 6, 7, 8, 9, 3, 5, 2, 1, 2, 3, 4, 5, 6, 8, 9, 1, 2, 3, 4, 5, 6, 7, 8, 9, 3, 5, 6, 9, 8, 6, 1, 2, 3, 5, 7, 8, 9, 1, 2, 3, 4, 5, 6, 7, 8, 9, 7, 5, 1, 2, 3, 4, 5, 6, 7, 8, 1, 2, 7, 8, 2, 3, 4, 5, 6, 7, 8, 5, 1, 1, 2, 6, 8, 2, 6, 7, 9, 3, 7, 8, 5, 4, 1, 2, 6, 1, 2, 4, 5, 6, 7, 8, 9, 3, 4, 1, 3, 5, 6, 9, 4, 7, 3, 3, 2, 4, 5, 6, 8, 4, 1, 2, 4, 5, 6, 7, 8, 6, 5, 3, 9, 3, 9, 1, 1, 4, 5, 6, 7, 8, 9, 5, 7, 8, 1, 2, 3, 4, 5, 6, 7, 8, 9, 4, 7, 6, 4, 1, 5, 1, 2, 3, 4, 5, 6, 8, 9, 1, 2, 3, 4, 5, 6, 7, 8, 9, 5, 1, 4, 8, 2, 9, 2, 5, 6, 9, 1, 3, 4, 5, 7, 8, 9, 8, 5, 6, 8, 7, 4, 6, 7, 2, 6, 1, 2, 3, 4, 5, 6, 7, 1, 2, 3, 4, 7, 8, 2, 3, 4, 5, 9, 7, 1, 2, 3, 5, 6, 7, 8, 9, 4, 1, 2, 3, 4, 5, 6, 8, 9, 1, 2, 4, 5, 6, 8, 9, 2, 4, 8, 2, 3, 4, 5, 6, 7, 8, 5, 8, 2, 2, 1, 2, 3, 4, 5, 6, 8, 9, 1, 8, 1, 4, 9, 5, 4, 3, 9, 2, 9, 2, 3, 4, 5, 6, 7, 1, 2, 3, 7, 8, 9, 6, 1, 2, 3, 7, 8, 7, 1, 2, 3, 4, 5, 6, 8, 9, 1, 2, 9, 1, 7, 1, 2, 5, 6, 9, 6, 2, 3, 8, 9, 1, 2, 3, 4, 5, 6, 7, 8, 9, 1, 2, 3, 4, 5, 6, 7, 8, 9, 7, 2, 3, 6, 7, 5, 7, 1, 2, 3, 4, 5, 6, 7, 8, 9, 4, 2, 1, 2, 3, 4, 5, 6, 7, 8, 9, 8, 3, 5, 6, 7, 9, 2, 1, 2, 3, 4, 5, 6, 7, 8, 9, 7, 1, 2, 3, 4, 5, 6, 8, 9, 1, 2, 4, 9, 1, 2, 3, 4, 5, 6, 7, 8, 9, 8, 2, 3, 4, 5, 6, 7, 8, 9, 8, 1, 2, 5, 6, 9, 1, 2, 4, 5, 6, 7, 9, 1, 6, 8, 5, 6, 7, 8, 9, 7, 3, 5, 8, 9, 7, 1, 2, 3, 5, 6, 7, 8, 9, 9, 8, 1, 2, 3, 4, 5, 6, 7, 8, 9, 3, 2, 1, 5, 7, 6, 3, 2, 5, 6, 4, 4, 1, 2, 3, 4, 5, 6, 7, 8, 9, 4, 4, 1, 2, 3, 4, 5, 6, 7, 8, 9, 5, 7, 1, 9, 6, 8, 2], \"Freq\": [0.1641183835714678, 0.04102959589286695, 0.008205919178573391, 0.032823676714293565, 0.04923551507144034, 0.22976573700005493, 0.12308878767860086, 0.3528545246786558, 0.9475849474262866, 0.9490080197911201, 0.9056352548966559, 0.8925735313115803, 0.9284915999329343, 0.08935874223405688, 0.8935874223405688, 0.9749500915478306, 0.9429162572030058, 0.9463362151210091, 0.025346680266982332, 0.11659472922811873, 0.020277344213585864, 0.3751308679513385, 0.055762696587361125, 0.37006153189794205, 0.035485352373775265, 0.7685577863623669, 0.036297390321015276, 0.009468884431569203, 0.06628219102098441, 0.05839145399467675, 0.00789073702630767, 0.03471924291575374, 0.01735962145787687, 0.8940413774962871, 0.14794931172395287, 0.08267755655162072, 0.008702900689644287, 0.11313770896537573, 0.16535511310324144, 0.1784094641377079, 0.004351450344822144, 0.21322106689628503, 0.091380457241265, 0.1619721628817332, 0.16755740987765502, 0.005585246995921834, 0.022340987983687336, 0.11170493991843669, 0.5194279706207305, 0.005585246995921834, 0.011170493991843668, 0.345323969726644, 0.01113948289440787, 0.01113948289440787, 0.4901372473539463, 0.02227896578881574, 0.05569741447203935, 0.04455793157763148, 0.8240130224985991, 0.9590281969140844, 0.9784286872691462, 0.9621363575994565, 0.013895335021288525, 0.013895335021288525, 0.37517404557479017, 0.09726734514901968, 0.5002320607663869, 0.015851794356822976, 0.015851794356822976, 0.38044306456375143, 0.04755538307046893, 0.5389610081319812, 0.11285991468798397, 0.19347413946511538, 0.021497126607235042, 0.381573997278422, 0.01612284495542628, 0.15585416790245407, 0.06449137982170512, 0.01612284495542628, 0.03761997156266132, 0.9142860533286412, 0.004631160976735115, 0.7919285270217047, 0.16209063418572903, 0.00926232195347023, 0.01852464390694046, 0.00926232195347023, 0.0018548461247880768, 0.009274230623940385, 0.18733945860359577, 0.027822691871821154, 0.038951768620549616, 0.012983922873516539, 0.0055645383743642305, 0.0018548461247880768, 0.7141157580434097, 0.08631225639248112, 0.25893676917744335, 0.04315612819624056, 0.00719268803270676, 0.4531393460605259, 0.06473419229436084, 0.00719268803270676, 0.07192688032706761, 0.00719268803270676, 0.010439036002027993, 0.018790264803650387, 0.3110832728604342, 0.02922930080567838, 0.48854688489491005, 0.027141493605272782, 0.004175614400811197, 0.08142448081581834, 0.027141493605272782, 0.9077790749078469, 0.023612750503383302, 0.0013118194724101833, 0.0026236389448203667, 0.028860028393024033, 0.010494555779281467, 0.009182736306871284, 0.014430014196512016, 0.0013118194724101833, 0.9071203017079541, 0.10447500062933124, 0.026726162951689385, 0.194025001168758, 0.058311628258231385, 0.35577035098028076, 0.024643604799609694, 0.025337790850302924, 0.19714883839687755, 0.013189534963171386, 0.9677188190700545, 0.9367631705443179, 0.06386873325226866, 0.8941622655317614, 0.9789433097783797, 0.8649303540067285, 0.8585402899803294, 0.14863440157017432, 0.8422616088976544, 0.9567173832503735, 0.9853894609087878, 0.9143601883262494, 0.9090182281275259, 0.9598585720205728, 0.16992945221769604, 0.03398589044353921, 0.7816754802014018, 0.880261279684549, 0.9537163239735066, 0.9141480238017042, 0.05540291053343662, 0.02770145526671831, 0.21642785460743968, 0.01352674091296498, 0.16232089095557978, 0.5816498592574941, 0.01352674091296498, 0.9077784725771185, 0.9130693931548933, 0.018243388352765497, 0.018243388352765497, 0.9486561943438058, 0.8997449103431079, 0.9412539430759408, 0.8925279817172874, 0.7114788592776321, 0.10710434440738548, 0.05355217220369274, 0.12240496503701198, 0.007650310314813249, 0.020405918558361987, 0.6325834753092217, 0.3060887783754298, 0.9667703041370657, 0.5722040036075474, 0.010796301954859385, 0.010796301954859385, 0.32388905864578155, 0.02159260390971877, 0.06477781172915631, 0.2207189550963324, 0.07223529439516334, 0.002006535955421204, 0.012039215732527224, 0.002006535955421204, 0.4895947731227737, 0.0521699348409513, 0.13042483710237826, 0.022071895509633243, 0.951101054724554, 0.009392024228656986, 0.26117051989688467, 0.24563755674949042, 0.1759198384367674, 0.1585807167838622, 0.06791155980721206, 0.018422816756211782, 0.05201736495871562, 0.010836951033065754, 0.9721411780841009, 0.18099896873502122, 0.7541623697292551, 0.9684392919335164, 0.5882768092346947, 0.30860422779524965, 0.009643882118601552, 0.09643882118601552, 0.03775962454344215, 0.0755192490868843, 0.8684713644991694, 0.8754291990449964, 0.9461379715232106, 0.882512327346537, 0.02064241306985441, 0.10321206534927203, 0.02064241306985441, 0.8463389358640308, 0.02064241306985441, 0.8196122823729883, 0.01170874689104269, 0.05854373445521345, 0.04683498756417076, 0.01170874689104269, 0.01170874689104269, 0.04683498756417076, 0.8487326539032745, 0.020207920331030346, 0.12124752198618208, 0.9433366501718183, 0.13033277462765147, 0.01861896780395021, 0.6144259375303569, 0.07447587121580083, 0.14895174243160167, 0.1678639013631304, 0.04069427911833464, 0.01017356977958366, 0.01017356977958366, 0.015260354669375491, 0.5544595529873095, 0.20092800314677728, 0.0689207294192189, 0.06096833756315518, 0.021206378282836585, 0.002650797285354573, 0.002650797285354573, 0.018555580997482012, 0.8058423747477902, 0.013253986426772864, 0.005301594570709146, 0.1277229018197338, 0.011611172892703074, 0.24383463074676454, 0.41800222413731064, 0.1393340747124369, 0.058055864463515364, 0.9371451725617538, 0.9669780022564386, 0.009297254247885182, 0.18594508495770362, 0.13945881371827773, 0.4369709496506035, 0.027891762743655544, 0.102269796726737, 0.09297254247885181, 0.0884565043153471, 0.8845650431534711, 0.014742750719224517, 0.9338631310682846, 0.9581973659356258, 0.8737378725364342, 0.9198103936949374, 0.961657693554646, 0.9529349911462189, 0.9640500738391422, 0.9505508748239874, 0.9695288805753642, 0.08040604976565671, 0.19297451943757613, 0.6914920279846478, 0.03216241990626269, 0.9755195074729247, 0.15205764037547384, 0.02172252005363912, 0.06516756016091736, 0.7168431617700909, 0.02172252005363912, 0.039593713164528345, 0.9502491159486802, 0.921971927117524, 0.8337735442690075, 0.05748306058572292, 0.7903920830536901, 0.1437076514643073, 0.031083952642644595, 0.8496280388989522, 0.031083952642644595, 0.031083952642644595, 0.04144527019019279, 0.010361317547548198, 0.948715977719396, 0.8505665963369824, 0.9525655605417233, 0.03969023168923847, 0.9505010285997423, 0.8878772113744707, 0.746475366271193, 0.009822044293042013, 0.01473306643956302, 0.004911022146521006, 0.13750862010258819, 0.004911022146521006, 0.06875431005129409, 0.009822044293042013, 0.004911022146521006, 0.8958598238096163, 0.9544606862588405, 0.38829864012803594, 0.02876286223170637, 0.04314429334755955, 0.4458243645914487, 0.0934793022530457, 0.45081571778548785, 0.10952020262585298, 0.03311075893339741, 0.04584566621547334, 0.1426309615592504, 0.10187925825660743, 0.07386246223604039, 0.040751703302642966, 0.9149338188589234, 0.9483723580263672, 0.018061039153950666, 0.9572350751593852, 0.018061039153950666, 0.018061039153950666, 0.9457365420585406, 0.964532990206258, 0.019609453127149238, 0.8824253907217157, 0.039218906254298476, 0.039218906254298476, 0.6389497119274316, 0.01014205891948304, 0.3448300032624234, 0.9675779219046869, 0.9025059278948228, 0.2406355390847239, 0.005119905086909019, 0.005119905086909019, 0.015359715260727057, 0.5734293697338101, 0.1587170576941796, 0.9273962297836428, 0.004102083520912206, 0.16818542435740044, 0.08614375393915633, 0.028714584646385443, 0.38969793448665957, 0.2625333453383812, 0.004102083520912206, 0.057429169292770886, 0.8811874051911867, 0.9658379466198498, 0.8913948444229384, 0.13918288483407745, 0.04442006962789705, 0.011845351900772547, 0.002961337975193137, 0.4086646405766529, 0.062188097479055876, 0.05330408355347647, 0.12437619495811175, 0.15398957471004313, 0.8935888067966884, 0.18785190759705167, 0.12076194059810463, 0.12076194059810463, 0.02683598679957881, 0.013417993399789404, 0.5233017425917867, 0.8489348795771076, 0.12127641136815823, 0.8935714739190196, 0.910070343416524, 0.8953498281134152, 0.14785757960481827, 0.2274731993920281, 0.00758243997973427, 0.2995063791995037, 0.05307707985813989, 0.10994537970614691, 0.022747319939202808, 0.011373659969601404, 0.12131903967574832, 0.9147817823554273, 0.9308243507176605, 0.9520478496259268, 0.18617222663705005, 0.015260018576807382, 0.00915601114608443, 0.015260018576807382, 0.2166922637906648, 0.006104007430722953, 0.5463086650497042, 0.006104007430722953, 0.9743671560961076, 0.04288147357041215, 0.9433924185490674, 0.0050600319785836555, 0.34155215855439675, 0.1012006395716731, 0.22517142304697266, 0.18722118320759523, 0.08096051165733849, 0.012650079946459138, 0.022770143903626448, 0.022770143903626448, 0.9254461889736953, 0.9429813298293597, 0.013981080277181836, 0.013981080277181836, 0.013981080277181836, 0.11184864221745469, 0.852845896908092, 0.9855380227776247, 0.9534194757332641, 0.9120891845848726, 0.8917446121640938, 0.9302834186601681, 0.20047984671664293, 0.7350927712943575, 0.9074738778344233, 0.003412599542757085, 0.03753859497032794, 0.18428037530888258, 0.5972049199824899, 0.02730079634205668, 0.09214018765444129, 0.00682519908551417, 0.04777639359859919, 0.9552415946947661, 0.07370244744771016, 0.7923013100628843, 0.03685122372385508, 0.01842561186192754, 0.01842561186192754, 0.01842561186192754, 0.01842561186192754, 0.5077108345463907, 0.04230923621219922, 0.005288654526524902, 0.2327007991670957, 0.07932981789787354, 0.026443272632624512, 0.02115461810609961, 0.04759789073872412, 0.031731927159149416, 0.8959254204385906, 0.9636295701662557, 0.979752006553767, 0.8846377577239991, 0.8701103082960998, 0.929054877524935, 0.08867731339523488, 0.8424344772547314, 0.02187145927773022, 0.06561437783319066, 0.06561437783319066, 0.8092439932760181, 0.00718623937226691, 0.18684222367893966, 0.01437247874453382, 0.010779359058400365, 0.14731790713147166, 0.017965598430667275, 0.032338077175201096, 0.5569335513506856, 0.025151837802934184, 0.9424978451948833, 0.018849956903897666, 0.018849956903897666, 0.07659742690835485, 0.2260558208758765, 0.041101058341068454, 0.38111890461718023, 0.007472919698376082, 0.10088441592807712, 0.12143494509861134, 0.005604689773782062, 0.041101058341068454, 0.927506200318822, 0.9139900085535859, 0.1323356186904093, 0.20677440420376453, 0.12406464252225873, 0.38046490373492675, 0.09925171401780698, 0.05789683317705407, 0.25974433968345234, 0.018553167120246596, 0.11131900272147958, 0.5751481807276445, 0.018553167120246596, 0.047163108950795105, 0.8300707175339938, 0.11319146148190824, 0.8563380591400419, 0.07136150492833682, 0.9118158814134377, 0.9114373994059343, 0.9522083010426133, 0.9349839197488687, 0.8852312738443145, 0.9677884147549806, 0.012149912618707974, 0.504221373676381, 0.08201191017627883, 0.1852861674352966, 0.0971993009496638, 0.06074956309353987, 0.0030374781546769936, 0.036449737856123925, 0.015187390773384967, 0.17574958405306795, 0.0357456781124884, 0.0357456781124884, 0.0029788065093740335, 0.005957613018748067, 0.014894032546870167, 0.4617150089529752, 0.22936810122180057, 0.03276687160311437, 0.9672384938715858, 0.04126071823490643, 0.6326643462685653, 0.12378215470471929, 0.01375357274496881, 0.02750714548993762, 0.01375357274496881, 0.1375357274496881, 0.013007638920329592, 0.2731604173269214, 0.2731604173269214, 0.11706875028296633, 0.013007638920329592, 0.29917569516758064, 0.9062302649170091, 0.016546287167749345, 0.8769532198907154, 0.08273143583874673, 0.016546287167749345, 0.9747761635417322, 0.9489717009614335, 0.06328200595663333, 0.04027036742694848, 0.005752909632421211, 0.017258728897263636, 0.011505819264842423, 0.03451745779452727, 0.04602327705936969, 0.011505819264842423, 0.7766428003768635, 0.9108617747114577, 0.050603431928414315, 0.0016921205222282156, 0.06324300451827956, 0.5987991498035098, 0.19776658603542271, 0.012479388851433092, 0.010152723133369294, 0.06112785386549429, 0.018824840809788898, 0.035957561097349586, 0.8958469827284915, 0.03326852451492263, 0.11311298335073695, 0.006653704902984527, 0.013307409805969055, 0.013307409805969055, 0.05322963922387622, 0.039922229417907164, 0.02661481961193811, 0.7052927197163599, 0.951715254727799, 0.006434474448744002, 0.23807555460352808, 0.021448248162480008, 0.5640889266732242, 0.03002754742747201, 0.021448248162480008, 0.023593072978728008, 0.07721369338492803, 0.012868948897488004, 0.9495816614367374, 0.9386393939826104, 0.4995010298157957, 0.05351796748026383, 0.017839322493421274, 0.12487525745394892, 0.2854291598947404, 0.9569960959734505, 0.006973416702864263, 0.034867083514321315, 0.29288350152029907, 0.06973416702864263, 0.25801641800597774, 0.21617591778879217, 0.006973416702864263, 0.11854808394869247, 0.9332820855072642, 0.03456600316693571, 0.09552702665215028, 0.8597432398693525, 0.02388175666303757, 0.02388175666303757, 0.12220724892366205, 0.016294299856488274, 0.0651771994259531, 0.008147149928244137, 0.7821263931114372, 0.015947944593940222, 0.015947944593940222, 0.04784383378182066, 0.6379177837576088, 0.2711150580969837, 0.15964268186944347, 0.21744434254631095, 0.11835578138596671, 0.011009840128927136, 0.2779984632554102, 0.024772140290086057, 0.1211082414181985, 0.06605904077356282, 0.002752460032231784, 0.021314064785826106, 0.33714975206670383, 0.0009688211266284593, 0.030033454925482237, 0.031002276052110696, 0.03293991830536762, 0.5415710097853088, 0.005812926759770756, 0.19733804098622645, 0.13866997474707807, 0.46934452991318726, 0.00533346056719531, 0.03733422397036717, 0.15467035644866398, 0.00533346056719531, 0.941843404423903, 0.8089411501542899, 0.014980391669523889, 0.14980391669523888, 0.014980391669523889, 0.10274545001985168, 0.37673331673945615, 0.15754302336377257, 0.08904605668387146, 0.047947876675930784, 0.14384363002779235, 0.08219636001588135, 0.903870476153551, 0.9496389040872899, 0.035254581929163135, 0.9166191301582416, 0.8858591686594685, 0.08275587090405538, 0.8827292896432574, 0.3218153681544544, 0.0514904589047127, 0.002574522945235635, 0.09268282602848286, 0.02574522945235635, 0.3089427534282762, 0.18536565205696573, 0.01029809178094254, 0.9589363414465334, 0.9148807795412811, 0.9485110215249091, 0.20255704341272257, 0.7697167649683457, 0.370945480369716, 0.6128664458282265, 0.016128064363900695, 0.009953013439698191, 0.9654423036507245, 0.009953013439698191, 0.009953013439698191, 0.04273617547867228, 0.8974596850521178, 0.9209594906521564, 0.9087774769934127, 0.934718899664065, 0.9128127755353321, 0.11102572622182762, 0.03700857540727587, 0.7401715081455175, 0.07401715081455174, 0.15695531600178816, 0.0871973977787712, 0.57550282533989, 0.0871973977787712, 0.01743947955575424, 0.01743947955575424, 0.05231843866726272, 0.03024184678269649, 0.9374972502635912, 0.9826514604020086, 0.20029499886727725, 0.04496418341918469, 0.08073114750262705, 0.004087653038107699, 0.038832703862023144, 0.06642436186925012, 0.07766540772404629, 0.47518966568002, 0.012262959114323096, 0.8032330989080448, 0.15715430196026964, 0.034923178213393254, 0.8614554191807434, 0.0295694699927151, 0.8082321798008794, 0.0591389399854302, 0.0098564899975717, 0.0098564899975717, 0.0098564899975717, 0.0788519199805736, 0.0982978485107855, 0.786382788086284, 0.04914892425539275, 0.9213799013243156, 0.4132821637836261, 0.10031120480185099, 0.09228630841770291, 0.03209958553659231, 0.1604979276829616, 0.024074689152444238, 0.06821161926525868, 0.08426141203355483, 0.03209958553659231, 0.17179199262909445, 0.1861079920148523, 0.5440079766587991, 0.08589599631454722, 0.35264972907893666, 0.07891462468899282, 0.05178772245215153, 0.10850760894736512, 0.1060415269258341, 0.07151637862439975, 0.07151637862439975, 0.017262574150717178, 0.13810059320573742, 0.9439012409541943, 0.008259532349491115, 0.07433579114542004, 0.2023585425625323, 0.09911438819389337, 0.578167264464378, 0.020648830873727785, 0.008259532349491115, 0.004129766174745557, 0.004129766174745557, 0.04292114842460221, 0.7564852409836139, 0.016095430659225828, 0.032190861318451655, 0.09120744040227968, 0.02682571776537638, 0.03755600487152693, 0.8704400893989301, 0.9610456494041436, 0.005678129061360464, 0.17034387184081393, 0.19305638808625578, 0.005678129061360464, 0.31797522743618595, 0.03974690342952324, 0.011356258122720928, 0.21009077527033715, 0.04542503249088371, 0.8936343449555633, 0.9647442315016785, 0.028511766723334515, 0.7127941680833628, 0.22809413378667612, 0.007353350848123402, 0.4779678051280212, 0.25001392883619566, 0.2573672796843191, 0.14147564437048793, 0.01768445554631099, 0.16800232768995443, 0.008842227773155496, 0.008842227773155496, 0.6631670829866623, 0.9444734695868957, 0.9521252722323892, 0.06011142633330504, 0.03756964145831565, 0.00751392829166313, 0.10519499608328382, 0.02254178487498939, 0.03005571316665252, 0.7363649725829867, 0.9208429915921282, 0.9302058788435322, 0.14712574312995957, 0.8239041615277737, 0.9092972544689828, 0.8901642299546707, 0.06358315928247649, 0.9537091933192663, 0.13987189647021633, 0.0815919396076262, 0.06410795254884916, 0.005827995686259015, 0.01165599137251803, 0.6177675427434556, 0.06410795254884916, 0.00874199352938852, 0.7193906586114812, 0.22135097188045577, 0.04150330722758546, 0.9355255533163381, 0.8886238528328814, 0.8964410166196609, 0.3145546163987546, 0.0754931079357011, 0.06291092327975091, 0.5284517555499076, 0.9181795587622806, 0.9273918619043987, 0.038641327579349946, 0.03311108791594421, 0.8608882858145495, 0.09933326374783263, 0.878885424933283, 0.058592361662218866, 0.058592361662218866, 0.9149018893716303, 0.011265974996234128, 0.035943824987985075, 0.051501599982784585, 0.006437699997848073, 0.0965654999677211, 0.0059012249980274, 0.7397990247527078, 0.043990949985295166, 0.008047124997310091, 0.011028682888654632, 0.06984832496147933, 0.09925814599789169, 0.02940982103641235, 0.4264424050279791, 0.3161555761414328, 0.051467186813721616, 0.003676227629551544, 0.22170287293296473, 0.03325543093994471, 0.09976629281983412, 0.03325543093994471, 0.17736229834637177, 0.4323206022192812, 0.9176937057861974, 0.45643682615970305, 0.05605364531785827, 0.048045981701021374, 0.05605364531785827, 0.005338442411224597, 0.0026692212056122983, 0.05605364531785827, 0.3176373234678635, 0.0026692212056122983, 0.7122373331856341, 0.05890684710557876, 0.06961718294295671, 0.002677583959344489, 0.042841343349511826, 0.024098255634100403, 0.010710335837377957, 0.034808591471478356, 0.045518927308856316, 0.7279100508526577, 0.04281823828545045, 0.07136373047575074, 0.01427274609515015, 0.0285454921903003, 0.0856364765709009, 0.0285454921903003, 0.9723063786530232, 0.0993911929930056, 0.40584737138810617, 0.16289112184964805, 0.002760866472027933, 0.10491292593706146, 0.07178252827272626, 0.07178252827272626, 0.07730426121678213, 0.01453117258491453, 0.34874814203794874, 0.02421862097485755, 0.09203075970445869, 0.02906234516982906, 0.3390606936480057, 0.02421862097485755, 0.00484372419497151, 0.12593682906925927, 0.7862923549674763, 0.9083302274403878, 0.9679555974103851, 0.0019528725953358694, 0.005858617786007608, 0.0078114903813434776, 0.0078114903813434776, 0.07030341343209129, 0.05468043266940434, 0.8475467063757672, 0.0039057451906717388, 0.8755882991432986, 0.0018895250618675011, 0.08313910272217004, 0.015116200494940009, 0.8616234282115804, 0.0009447625309337506, 0.01606096302587376, 0.013226675433072507, 0.0066133377165362535, 0.0009447625309337506, 0.9071784680179629, 0.16422426012545663, 0.24086224818400306, 0.08941098606830417, 0.07481327405715246, 0.12043112409200153, 0.10218398407806191, 0.051091992039030955, 0.012772998009757739, 0.145977120111517, 0.7557324792293509, 0.0164289669397685, 0.11500276857837949, 0.0492869008193055, 0.0164289669397685, 0.0164289669397685, 0.9310507344453043, 0.03325181194447515, 0.03325181194447515, 0.9713722901649452, 0.8713869176576664, 0.19619682196320246, 0.11971331509619133, 0.023277589046481646, 0.14631627400645605, 0.06318202741187876, 0.3026086576042614, 0.1330147945513237, 0.016626849318915463, 0.9383447061394838, 0.045772912494608964, 0.44083641177370386, 0.010252009576132648, 0.04100803830453059, 0.010252009576132648, 0.05126004788066324, 0.4510884213498365, 0.7006440481694639, 0.2741650623271815, 0.9678797325782975, 0.062411855878914395, 0.9361778381837159, 0.007940307160096931, 0.19850767900242325, 0.571702115526979, 0.0039701535800484656, 0.039701535800484654, 0.0039701535800484656, 0.15483598962189013, 0.019850767900242327, 0.9351375674802404, 0.9776782071831391, 0.9441178890078453, 0.8991744887796377, 0.9276300150724849, 0.9367970802647512, 0.9688928346942205, 0.9567919466751869, 0.06207301637559479, 0.8690222292583271, 0.9387543479385025, 0.011361562558730009, 0.3976546895555503, 0.4544625023492003, 0.1249771881460301, 0.0031115438552141187, 0.04356161397299766, 0.654979981522572, 0.03267121047974825, 0.11979443842574357, 0.015557719276070593, 0.0062230877104282375, 0.08090014023556709, 0.04667315782821178, 0.2584082916461385, 0.1335823685005633, 0.267723659045062, 0.11290225287495308, 0.050675598650143955, 0.04825360312642384, 0.045272685558768316, 0.009687982094880462, 0.07340509510351735, 0.7788672717984461, 0.0257476784065602, 0.019310758804920152, 0.038621517609840304, 0.13517531163444105, 0.1295252143986241, 0.7771512863917446, 0.6671098422044218, 0.082529052643846, 0.165058105287692, 0.055019368429230664, 0.0206322631609615, 0.012780202621843583, 0.012780202621843583, 0.17892283670581016, 0.7412517520669277, 0.05112081048737433, 0.012780202621843583, 0.9691783087163119, 0.8991029833831707, 0.9461948847750025, 0.013914630658455919, 0.027829261316911838, 0.013914630658455919, 0.09738261514463017, 0.29052480184814666, 0.022722610200413707, 0.0032460871714876725, 0.41387611436467825, 0.01298434868595069, 0.0032460871714876725, 0.14282783554545758, 0.01298434868595069, 0.16254599398360425, 0.7802207711213004, 0.9640071951515885, 0.8996306542330831, 0.05150666091694784, 0.27470219155705516, 0.05150666091694784, 0.6352488179756901, 0.07146585893990078, 0.22104556369783265, 0.5850228452754669, 0.028253944232053796, 0.048197904866444714, 0.02659194751252122, 0.0033239934390651526, 0.014957970475793187, 0.020540227781999394, 0.8832297946259738, 0.08216091112799757, 0.9633187094428874, 0.1889448136005567, 0.01343209575359408, 0.39669456125614516, 0.01164114965311487, 0.16476704124408736, 0.07163784401916842, 0.13879832278713883, 0.014327568803833684, 0.7921745922366107, 0.9670179825591535, 0.9649078164523549, 0.012443105906853824, 0.5682351697463246, 0.1617603767890997, 0.012443105906853824, 0.17420348269595354, 0.004147701968951274, 0.049772423627415296, 0.016590807875805098, 0.21049389082859116, 0.011516383084846931, 0.007677588723231288, 0.4689727111773778, 0.003838794361615644, 0.1669875547302805, 0.03326955113400225, 0.03326955113400225, 0.06334010696665812, 0.8845744052573989, 0.873895876882896, 0.08201031860460896, 0.9021135046506985, 0.9408580936903783, 0.9202322211597297, 0.4741205070824854, 0.033865750505891815, 0.04063890060707017, 0.2370602535412427, 0.027092600404713448, 0.020319450303535085, 0.16255560242828068, 0.008271866746887154, 0.5509063253426844, 0.22913070888877415, 0.0860274141676264, 0.008271866746887154, 0.06865649399916338, 0.018198106843151738, 0.02977872028879375, 0.0008271866746887153, 0.9596528614644858, 0.9151253514460913, 0.006437209241728616, 0.03218604620864308, 0.1287441848345723, 0.7660278997657053, 0.006437209241728616, 0.006437209241728616, 0.019311627725185847, 0.03218604620864308, 0.9470779555989568, 0.9549626661066369, 0.07791209694991577, 0.8570330664490735, 0.2246949275270286, 0.21991418438815566, 0.32509053344336053, 0.028684458833237694, 0.1768874961382991, 0.004780743138872949, 0.019122972555491797, 0.8548679042429828, 0.9559379723346747, 0.018046536070039945, 0.018046536070039945, 0.7760010510117176, 0.1985118967704394, 0.05986614177552988, 0.8680590557451833, 0.04988845147960823, 0.01995538059184329, 0.6064789448178471, 0.1595997223204861, 0.22343961124868053, 0.9413789513025026, 0.842192414969599, 0.7407317007234951, 0.013467849104063548, 0.24242128387314388, 0.7536369130656451, 0.006228404240211943, 0.006228404240211943, 0.14948170176508663, 0.049827233921695545, 0.012456808480423886, 0.006228404240211943, 0.012456808480423886, 0.8095680818213064, 0.08095680818213064, 0.9027818713180349, 0.03925138570947978, 0.01962569285473989, 0.01962569285473989, 0.9512691721087327, 0.06460147245683509, 0.9044206143956913, 0.9117694854637622, 0.9008921513100857, 0.01967433945878983, 0.03934867891757966, 0.059023018376369495, 0.8066479178103831, 0.059023018376369495, 0.9832269545513738, 0.8557726941758868, 0.0038722746342800306, 0.015489098537120122, 0.03485047170852027, 0.019361373171400152, 0.02710592243996021, 0.038722746342800304, 0.9836563289239484, 0.9398564061847345, 0.09468241257561712, 0.8837025173724264, 0.9421268861596437, 0.9433533259213778, 0.9517445615736035, 0.013364983828129144, 0.026729967656258288, 0.026729967656258288, 0.11360236253909772, 0.6548842075783281, 0.053459935312516575, 0.11360236253909772, 0.9552334267320894, 0.054693430886730614, 0.9297883250744204, 0.3031606060770513, 0.2057161255522848, 0.01701411564718145, 0.10981838281362573, 0.05877603587208138, 0.210356338910607, 0.003093475572214809, 0.015467377861074046, 0.07579015151926283, 0.8820540967921947, 0.051885535105423215, 0.8796363211595525, 0.8627393572755525, 0.03426952200307517, 0.9595466160861048, 0.009321148185506375, 0.2889555937506976, 0.01864229637101275, 0.009321148185506375, 0.04660574092753188, 0.074569185484051, 0.5499477429448761, 0.9540837050666842, 0.7454314667207489, 0.01183224550350395, 0.042596083812614226, 0.0236644910070079, 0.05916122751751975, 0.01183224550350395, 0.0047328982014015804, 0.009465796402803161, 0.08755861672592924, 0.9170489643855932, 0.8903871759637662, 0.06140601213543215, 0.030703006067716074, 0.9682810658229394, 0.9409846211720565, 0.1727573641764363, 0.02879289402940605, 0.7582128761076926, 0.02879289402940605, 0.3402965479956956, 0.0089551723156762, 0.0089551723156762, 0.0089551723156762, 0.0089551723156762, 0.626862062097334, 0.0089551723156762, 0.9614222700565749, 0.02856154081962231, 0.02856154081962231, 0.913969306227914, 0.974937844462316, 0.15166344681694222, 0.818982612811488, 0.030332689363388444, 0.9195515181325038, 0.04597757590662519, 0.2821089312247662, 0.05504564511702755, 0.15137552407182575, 0.2821089312247662, 0.006880705639628444, 0.1720176409907111, 0.0481649394773991, 0.01627807847324847, 0.024417117709872704, 0.21975405938885434, 0.14650270625923623, 0.520898511143951, 0.06511231389299388, 0.18822626740252413, 0.731991039898705, 0.010457014855695784, 0.05228507427847892, 0.010457014855695784, 0.9495085644038046, 0.13028730005309683, 0.04704819168584052, 0.01809545834070789, 0.3655282584822994, 0.29314642511946787, 0.06514365002654841, 0.054286375022123676, 0.02895273334513263, 0.8666174738833468, 0.03536305937830605, 0.45971977191797864, 0.06188535391203559, 0.1326114726686477, 0.0235753729188707, 0.19154990496582444, 0.020628451304011863, 0.07661996198632978, 0.0030308635999202744, 0.030308635999202745, 0.009092590799760823, 0.015154317999601373, 0.7849936723793511, 0.012123454399681098, 0.14548145279617317, 0.3173329038216185, 0.5913931389402891, 0.0721211145049133, 0.08124046321525902, 0.3655820844686656, 0.0986491339042431, 0.005802890229661358, 0.2901445114830679, 0.03481734137796815, 0.11605780459322716, 0.8823352545153499, 0.945107497921139, 0.9383203716376993, 0.9437008491061339, 0.012977794995266547, 0.25955589990533096, 0.038933384985799645, 0.1232890524550322, 0.1232890524550322, 0.06488897497633274, 0.3244448748816637, 0.058400077478699464, 0.33350018097758766, 0.6413465018799763, 0.034285090206707114, 0.10285527062012136, 0.8228421649609708, 0.9302714021003363, 0.9700420282627692, 0.9310804015277389, 0.9370676623682961, 0.24120617907199918, 0.7477391551231974, 0.032463346911160526, 0.06492669382232105, 0.032463346911160526, 0.8359311829623834, 0.016231673455580263, 0.016231673455580263, 0.009997342560453792, 0.08997608304408414, 0.2799255916927062, 0.009997342560453792, 0.10997076816499173, 0.48986978546223586, 0.9084528521598245, 0.5151453904642539, 0.13771213408450353, 0.015301348231611502, 0.18361617877933803, 0.1428125834950407, 0.9046330117467728, 0.18756524915022899, 0.006946861079638111, 0.006946861079638111, 0.062521749716743, 0.49322713665430584, 0.22229955454841954, 0.013893722159276221, 0.006946861079638111, 0.9030146649440377, 0.02150034916533423, 0.06450104749600269, 0.942877488589088, 0.036264518791888, 0.9541559465655591, 0.9486760517705491, 0.0339627087135433, 0.0339627087135433, 0.8830304265521259, 0.8662587986356447, 0.8153699164377726, 0.008674148047210346, 0.02602244414163104, 0.1474605168025759, 0.0662606562875027, 0.16786032926167352, 0.16786032926167352, 0.10159967297417082, 0.0662606562875027, 0.24295573972084328, 0.013252131257500542, 0.017669508343334056, 0.15019082091833946, 0.38911677258838867, 0.058114842659304805, 0.04674454735639734, 0.0025267322895349913, 0.03158415361918739, 0.23877620136105668, 0.2046653154523343, 0.02400395675058242, 0.0063168307238374785, 0.8831736629172997, 0.3040790244423902, 0.02339069418787617, 0.02339069418787617, 0.6081580488847804, 0.9350577123520201, 0.8700303814863082, 0.18354928627531947, 0.20472805007631786, 0.24002598974464853, 0.14119175867332268, 0.0423575276019968, 0.15531093454065495, 0.007059587933666133, 0.007059587933666133, 0.0211787638009984, 0.8419590318040877, 0.9651429080945267, 0.11337088661897014, 0.10442055346484093, 0.032817888231807146, 0.008950333154129223, 0.032817888231807146, 0.011933777538838963, 0.6116060988654969, 0.07756955400245326, 0.0029834443847097407, 0.9770219338184142, 0.014945348862784159, 0.10461744203948913, 0.014945348862784159, 0.17934418635340993, 0.6874860476880713, 0.9381725879840436, 0.13424924601931704, 0.05238994966607494, 0.022920602978907786, 0.006548743708259368, 0.3601809039542652, 0.21610854237255914, 0.04584120595781557, 0.16044422085235452, 0.003274371854129684, 0.8879527572198217, 0.22418467121607377, 0.057483249029762505, 0.04023827432083375, 0.00574832490297625, 0.1724497470892875, 0.06323157393273876, 0.0114966498059525, 0.43687269262619505, 0.31198244442190715, 0.05199707407031786, 0.03466471604687857, 0.5893001727969357, 0.09496640638678631, 0.13295296894150085, 0.006331093759119088, 0.2785681254012399, 0.2785681254012399, 0.1076285939050245, 0.056979843832071796, 0.012662187518238176, 0.037986562554714526, 0.8853140089039292, 0.2102607790707539, 0.004473633597250083, 0.004473633597250083, 0.004473633597250083, 0.004473633597250083, 0.017894534389000332, 0.7560440779352641, 0.004473633597250083, 0.9356757461488739, 0.19563015983589682, 0.1173780959015381, 0.019563015983589685, 0.05868904795076905, 0.6064534954912801, 0.10024601019754543, 0.24059042447410903, 0.02806888285531272, 0.008019680815803634, 0.2766789881452254, 0.3328167538558508, 0.01603936163160727, 0.7849026596517095, 0.06243543883593144, 0.13379022607699592, 0.037953161097949134, 0.10437119301936011, 0.02846487082346185, 0.06641803192141098, 0.7495749316844954, 0.9708462974684026, 0.0168084815556187, 0.0168084815556187, 0.4202120388904675, 0.5378714097797984, 0.9710711229534041, 0.8917768907397383, 0.004266875075309752, 0.004266875075309752, 0.05973625105433653, 0.029868125527168266, 0.004266875075309752, 0.004266875075309752, 0.004266875075309752, 0.9619846780165776, 0.9837696773905075, 0.03941101672576469, 0.3497727734411616, 0.06896927927008821, 0.1453281241762573, 0.15764406690305877, 0.02463188545360293, 0.0714324678154485, 0.034484639635044105, 0.11084348454121319, 0.8704852710853366, 0.966253895319683, 0.14734542462726774, 0.7788258158869867, 0.021049346375323963, 0.9760378720064237, 0.8510345898088216, 0.06497089628811839, 0.844621651745539, 0.032485448144059195, 0.8616886261323995, 0.9688963333843877, 0.19505070061553673, 0.12495435508182821, 0.006095334394235523, 0.012190668788471045, 0.051810342351001945, 0.04876267515388418, 0.472388415553253, 0.0792393471250618, 0.009143001591353284, 0.957499183251985, 0.9274301243477395, 0.011143603750700665, 0.08171976083847154, 0.5794673950364346, 0.23030114418114708, 0.026001742084968218, 0.011143603750700665, 0.02228720750140133, 0.033430811252102, 0.003714534583566888, 0.9257397669627487, 0.03857249029011453, 0.34966067924759275, 0.629389222645667, 0.9414399255426881, 0.03138133085142294, 0.9540238834272534], \"Term\": [\"able\", \"able\", \"able\", \"able\", \"able\", \"able\", \"able\", \"able\", \"access\", \"accessory\", \"accurate\", \"advanced\", \"advice\", \"affordable\", \"affordable\", \"alarm\", \"alot\", \"amazed\", \"amazing\", \"amazing\", \"amazing\", \"amazing\", \"amazing\", \"amazing\", \"amazing\", \"amazon\", \"amazon\", \"amazon\", \"amazon\", \"amazon\", \"amazon\", \"amazon\", \"amazon\", \"amazone\", \"android\", \"android\", \"android\", \"android\", \"android\", \"android\", \"android\", \"android\", \"android\", \"app\", \"app\", \"app\", \"app\", \"app\", \"app\", \"app\", \"app\", \"application\", \"application\", \"application\", \"application\", \"application\", \"application\", \"application\", \"approx\", \"area\", \"atmo\", \"atom\", \"audio\", \"audio\", \"audio\", \"audio\", \"audio\", \"auto\", \"auto\", \"auto\", \"auto\", \"auto\", \"available\", \"available\", \"available\", \"available\", \"available\", \"available\", \"available\", \"available\", \"available\", \"avarage\", \"average\", \"average\", \"average\", \"average\", \"average\", \"average\", \"awesome\", \"awesome\", \"awesome\", \"awesome\", \"awesome\", \"awesome\", \"awesome\", \"awesome\", \"awesome\", \"back\", \"back\", \"back\", \"back\", \"back\", \"back\", \"back\", \"back\", \"back\", \"backup\", \"backup\", \"backup\", \"backup\", \"backup\", \"backup\", \"backup\", \"backup\", \"backup\", \"bad\", \"bad\", \"bad\", \"bad\", \"bad\", \"bad\", \"bad\", \"bad\", \"bad\", \"band\", \"battery\", \"battery\", \"battery\", \"battery\", \"battery\", \"battery\", \"battery\", \"battery\", \"battery\", \"battry\", \"bcoz\", \"beast\", \"beast\", \"beautiful\", \"benefit\", \"betry\", \"bettery\", \"bettery\", \"bhut\", \"bill\", \"blank\", \"blast\", \"blue\", \"body\", \"body\", \"body\", \"book\", \"boot\", \"bottom\", \"bottom\", \"bottom\", \"brand\", \"brand\", \"brand\", \"brand\", \"brand\", \"break\", \"bright\", \"brightness\", \"brightness\", \"brightness\", \"brilliant\", \"broken\", \"buck\", \"budget\", \"budget\", \"budget\", \"budget\", \"budget\", \"bug\", \"bug\", \"bug\", \"build\", \"button\", \"button\", \"button\", \"button\", \"button\", \"button\", \"call\", \"call\", \"call\", \"call\", \"call\", \"call\", \"call\", \"call\", \"call\", \"caller\", \"camera\", \"camera\", \"camera\", \"camera\", \"camera\", \"camera\", \"camera\", \"camera\", \"camera\", \"camra\", \"capacity\", \"capacity\", \"capture\", \"care\", \"care\", \"care\", \"care\", \"case\", \"case\", \"case\", \"casting\", \"category\", \"cause\", \"cell\", \"cell\", \"cell\", \"cell\", \"cell\", \"center\", \"center\", \"center\", \"center\", \"center\", \"center\", \"center\", \"centre\", \"centre\", \"centre\", \"certain\", \"change\", \"change\", \"change\", \"change\", \"change\", \"charge\", \"charge\", \"charge\", \"charge\", \"charge\", \"charge\", \"charge\", \"charger\", \"charger\", \"charger\", \"charger\", \"charger\", \"charger\", \"charger\", \"charger\", \"charger\", \"charging\", \"charging\", \"charging\", \"charging\", \"charging\", \"charging\", \"chrome\", \"claim\", \"clarity\", \"clarity\", \"clarity\", \"clarity\", \"clarity\", \"clarity\", \"clarity\", \"class\", \"class\", \"class\", \"clearity\", \"colour\", \"come\", \"comfortable\", \"comment\", \"common\", \"comparison\", \"compatible\", \"concern\", \"condition\", \"condition\", \"condition\", \"condition\", \"connect\", \"connection\", \"connection\", \"connection\", \"connection\", \"connection\", \"connectivity\", \"connectivity\", \"constant\", \"content\", \"cool\", \"cool\", \"cool\", \"core\", \"core\", \"core\", \"core\", \"core\", \"core\", \"costly\", \"costumer\", \"couple\", \"couple\", \"coverage\", \"crash\", \"customer\", \"customer\", \"customer\", \"customer\", \"customer\", \"customer\", \"customer\", \"customer\", \"customer\", \"daily\", \"damage\", \"datum\", \"datum\", \"datum\", \"datum\", \"datum\", \"day\", \"day\", \"day\", \"day\", \"day\", \"day\", \"day\", \"day\", \"daylight\", \"dead\", \"deca\", \"deca\", \"deca\", \"deca\", \"decacore\", \"decision\", \"dedicated\", \"dedicated\", \"dedicated\", \"dedicated\", \"defective\", \"defective\", \"defective\", \"degree\", \"delicate\", \"delivery\", \"delivery\", \"delivery\", \"delivery\", \"delivery\", \"delivery\", \"department\", \"depth\", \"depth\", \"depth\", \"depth\", \"depth\", \"depth\", \"depth\", \"depth\", \"description\", \"detail\", \"detect\", \"device\", \"device\", \"device\", \"device\", \"device\", \"device\", \"device\", \"device\", \"device\", \"direct\", \"disappointed\", \"disappointed\", \"disappointed\", \"disappointed\", \"disappointed\", \"disappointed\", \"discharge\", \"discharge\", \"disconnected\", \"discount\", \"disgusting\", \"display\", \"display\", \"display\", \"display\", \"display\", \"display\", \"display\", \"display\", \"display\", \"dissatisfied\", \"dose\", \"doubt\", \"drain\", \"drain\", \"drain\", \"drain\", \"drain\", \"drain\", \"drain\", \"drain\", \"drainage\", \"drop\", \"drop\", \"dual\", \"dual\", \"dual\", \"dual\", \"dual\", \"dual\", \"dual\", \"dual\", \"dual\", \"duel\", \"dust\", \"earphone\", \"earphone\", \"earphone\", \"earphone\", \"earphone\", \"easy\", \"edge\", \"effective\", \"elegant\", \"email\", \"enable\", \"enable\", \"engineer\", \"excellent\", \"excellent\", \"excellent\", \"excellent\", \"excellent\", \"excellent\", \"excellent\", \"excellent\", \"exchange\", \"expectation\", \"expectation\", \"expectation\", \"expectation\", \"expectation\", \"expectation\", \"expectation\", \"experience\", \"experience\", \"experience\", \"experience\", \"experience\", \"experience\", \"experience\", \"experience\", \"experience\", \"extensive\", \"external\", \"facility\", \"facing\", \"fact\", \"factory\", \"fall\", \"fall\", \"fantastic\", \"fantastic\", \"fantastic\", \"fantastic\", \"fast\", \"fast\", \"fast\", \"fast\", \"fast\", \"fast\", \"fast\", \"fast\", \"fast\", \"faulty\", \"faulty\", \"faulty\", \"feature\", \"feature\", \"feature\", \"feature\", \"feature\", \"feature\", \"feature\", \"feature\", \"feature\", \"feeling\", \"figure\", \"fine\", \"fine\", \"fine\", \"fine\", \"fine\", \"fine\", \"finger\", \"finger\", \"finger\", \"finger\", \"finger\", \"flash\", \"flash\", \"flash\", \"flipkart\", \"flipkart\", \"folder\", \"fone\", \"fool\", \"foot\", \"form\", \"friendly\", \"front\", \"front\", \"front\", \"front\", \"front\", \"front\", \"front\", \"front\", \"front\", \"full\", \"full\", \"full\", \"full\", \"full\", \"full\", \"full\", \"full\", \"full\", \"future\", \"gallery\", \"gallery\", \"gallery\", \"gallery\", \"gallery\", \"gallery\", \"gallery\", \"game\", \"game\", \"game\", \"game\", \"game\", \"game\", \"gamer\", \"gaming\", \"gaming\", \"gaming\", \"gaming\", \"getting\", \"gift\", \"glass\", \"glass\", \"glass\", \"glass\", \"glass\", \"glass\", \"glass\", \"glass\", \"glass\", \"gold\", \"gold\", \"good\", \"good\", \"good\", \"good\", \"good\", \"good\", \"good\", \"good\", \"good\", \"goodcamera\", \"gorilla\", \"gorilla\", \"gorilla\", \"gorilla\", \"gorilla\", \"gorilla\", \"gorilla\", \"gorilla\", \"gorilla\", \"graphic\", \"great\", \"great\", \"great\", \"great\", \"great\", \"great\", \"great\", \"great\", \"great\", \"handle\", \"handy\", \"hang\", \"hang\", \"hang\", \"hang\", \"hang\", \"hanging\", \"happy\", \"happy\", \"happy\", \"happy\", \"happy\", \"happy\", \"happy\", \"happy\", \"hard\", \"hard\", \"head\", \"head\", \"head\", \"head\", \"headphone\", \"headphone\", \"headphone\", \"headphone\", \"headphone\", \"headset\", \"headset\", \"headset\", \"headset\", \"headset\", \"heat\", \"heat\", \"heat\", \"heat\", \"heat\", \"heat\", \"heat\", \"heat\", \"heat\", \"heating\", \"heating\", \"heating\", \"heating\", \"heating\", \"heating\", \"heating\", \"heating\", \"heavy\", \"heavy\", \"heavy\", \"heavy\", \"heavy\", \"heavy\", \"heavy\", \"hell\", \"help\", \"help\", \"help\", \"help\", \"high\", \"high\", \"high\", \"high\", \"high\", \"high\", \"high\", \"history\", \"hold\", \"honor\", \"honor\", \"hota\", \"hotspot\", \"hotspot\", \"hour\", \"hour\", \"hour\", \"hour\", \"hour\", \"hour\", \"hour\", \"hour\", \"humble\", \"hybrid\", \"icon\", \"idea\", \"idea\", \"idle\", \"idle\", \"idle\", \"image\", \"image\", \"image\", \"image\", \"improvement\", \"improvement\", \"increase\", \"information\", \"insert\", \"interested\", \"interface\", \"interface\", \"interface\", \"interface\", \"internal\", \"internal\", \"internal\", \"internal\", \"internal\", \"internal\", \"internal\", \"invoice\", \"invoice\", \"iron\", \"issue\", \"issue\", \"issue\", \"issue\", \"issue\", \"issue\", \"issue\", \"issue\", \"issue\", \"item\", \"item\", \"item\", \"karne\", \"killer\", \"killer\", \"killer\", \"killer\", \"killer\", \"killer\", \"killer\", \"lack\", \"lack\", \"lack\", \"laptop\", \"last\", \"last\", \"last\", \"last\", \"last\", \"last\", \"last\", \"last\", \"last\", \"late\", \"late\", \"late\", \"late\", \"lenovo\", \"lenovo\", \"lenovo\", \"lenovo\", \"lenovo\", \"lenovo\", \"lenovo\", \"lenovo\", \"lenovo\", \"lens\", \"life\", \"life\", \"life\", \"life\", \"life\", \"life\", \"life\", \"life\", \"life\", \"light\", \"light\", \"light\", \"light\", \"light\", \"light\", \"light\", \"lighting\", \"line\", \"little\", \"little\", \"little\", \"little\", \"little\", \"little\", \"little\", \"little\", \"little\", \"local\", \"location\", \"lock\", \"lock\", \"lock\", \"long\", \"long\", \"long\", \"long\", \"look\", \"look\", \"look\", \"look\", \"look\", \"look\", \"loss\", \"loud\", \"love\", \"love\", \"love\", \"love\", \"love\", \"love\", \"love\", \"lovely\", \"luck\", \"mail\", \"mail\", \"make\", \"manager\", \"manager\", \"manufacturing\", \"many\", \"many\", \"many\", \"many\", \"many\", \"many\", \"many\", \"many\", \"mark\", \"mark\", \"mark\", \"meeting\", \"megapixel\", \"mention\", \"message\", \"message\", \"message\", \"message\", \"microphone\", \"minimum\", \"minimum\", \"mirroring\", \"mirroring\", \"mirroring\", \"mistake\", \"mistake\", \"mistake\", \"miui\", \"mobile\", \"mobile\", \"mobile\", \"mobile\", \"mobile\", \"mobile\", \"mobile\", \"mobile\", \"mobile\", \"mode\", \"mode\", \"mode\", \"mode\", \"mode\", \"mode\", \"mode\", \"mode\", \"model\", \"model\", \"model\", \"model\", \"model\", \"model\", \"moment\", \"money\", \"money\", \"money\", \"money\", \"money\", \"money\", \"money\", \"money\", \"money\", \"month\", \"month\", \"month\", \"month\", \"month\", \"month\", \"month\", \"month\", \"month\", \"moto\", \"moto\", \"moto\", \"moto\", \"moto\", \"moto\", \"moto\", \"movie\", \"much\", \"much\", \"much\", \"much\", \"much\", \"much\", \"much\", \"much\", \"music\", \"music\", \"music\", \"music\", \"music\", \"music\", \"music\", \"music\", \"music\", \"nahi\", \"navigation\", \"negative\", \"network\", \"network\", \"network\", \"network\", \"network\", \"network\", \"network\", \"network\", \"news\", \"nice\", \"nice\", \"nice\", \"nice\", \"nice\", \"nice\", \"nice\", \"nice\", \"nice\", \"noise\", \"note\", \"note\", \"note\", \"note\", \"note\", \"note\", \"note\", \"note\", \"note\", \"number\", \"number\", \"number\", \"number\", \"number\", \"number\", \"offer\", \"offer\", \"offer\", \"old\", \"one\", \"option\", \"option\", \"option\", \"option\", \"option\", \"option\", \"option\", \"option\", \"order\", \"order\", \"oreo\", \"oreo\", \"oreo\", \"oreo\", \"oreo\", \"oreo\", \"original\", \"original\", \"outgoing\", \"outstanding\", \"outstanding\", \"overall\", \"overall\", \"overall\", \"overall\", \"overall\", \"overall\", \"overall\", \"overall\", \"owsome\", \"pack\", \"packing\", \"page\", \"paisa\", \"panel\", \"party\", \"patch\", \"percent\", \"percent\", \"percentage\", \"perfect\", \"perfect\", \"perfect\", \"perfect\", \"performance\", \"performance\", \"performance\", \"performance\", \"performance\", \"performance\", \"performance\", \"performance\", \"performance\", \"phone\", \"phone\", \"phone\", \"phone\", \"phone\", \"phone\", \"phone\", \"phone\", \"phone\", \"photo\", \"photo\", \"photo\", \"photo\", \"photo\", \"photography\", \"photography\", \"picture\", \"picture\", \"picture\", \"picture\", \"picture\", \"piece\", \"piece\", \"piece\", \"piece\", \"piece\", \"piece\", \"place\", \"plug\", \"policy\", \"policy\", \"policy\", \"policy\", \"poor\", \"poor\", \"poor\", \"poor\", \"poor\", \"poor\", \"poor\", \"poor\", \"poor\", \"powerful\", \"powerful\", \"present\", \"pretty\", \"previous\", \"previous\", \"previous\", \"previous\", \"price\", \"price\", \"price\", \"price\", \"price\", \"price\", \"price\", \"price\", \"print\", \"print\", \"print\", \"pro\", \"problem\", \"problem\", \"problem\", \"problem\", \"problem\", \"problem\", \"problem\", \"problem\", \"problemcamera\", \"process\", \"processing\", \"processor\", \"processor\", \"processor\", \"processor\", \"processor\", \"processor\", \"processor\", \"processor\", \"product\", \"product\", \"product\", \"product\", \"product\", \"product\", \"product\", \"product\", \"product\", \"professional\", \"prompt\", \"proof\", \"proof\", \"protection\", \"provide\", \"purchase\", \"purchase\", \"purchase\", \"purchase\", \"purchase\", \"purchase\", \"purchase\", \"quality\", \"quality\", \"quality\", \"quality\", \"quality\", \"quality\", \"quality\", \"quality\", \"quality\", \"question\", \"raha\", \"range\", \"range\", \"range\", \"range\", \"range\", \"range\", \"range\", \"range\", \"reachable\", \"real\", \"reality\", \"reality\", \"rear\", \"rear\", \"rear\", \"rear\", \"rear\", \"rear\", \"rear\", \"reboot\", \"reception\", \"recorder\", \"recorder\", \"recorder\", \"recorder\", \"recording\", \"recording\", \"recording\", \"recording\", \"regular\", \"regular\", \"regular\", \"related\", \"remote\", \"replace\", \"replace\", \"replace\", \"replacement\", \"replacement\", \"replacement\", \"replacement\", \"replacement\", \"replacement\", \"replacement\", \"replacement\", \"reply\", \"reply\", \"request\", \"request\", \"request\", \"request\", \"requirement\", \"reset\", \"reset\", \"resolve\", \"responsive\", \"rest\", \"rest\", \"rest\", \"rest\", \"rest\", \"result\", \"return\", \"return\", \"return\", \"return\", \"return\", \"return\", \"return\", \"right\", \"ring\", \"ringtone\", \"ringtone\", \"running\", \"rupee\", \"satisfactory\", \"satisfied\", \"satisfied\", \"satisfied\", \"satisfied\", \"satisfied\", \"satisfied\", \"satisfied\", \"saver\", \"scanner\", \"scanner\", \"screen\", \"screen\", \"screen\", \"screen\", \"screen\", \"screen\", \"screen\", \"screen\", \"screen\", \"segment\", \"segment\", \"self\", \"selfie\", \"seller\", \"seller\", \"sensor\", \"sensor\", \"sensor\", \"sensor\", \"sensor\", \"sensor\", \"sensor\", \"series\", \"service\", \"service\", \"service\", \"service\", \"service\", \"service\", \"service\", \"service\", \"service\", \"setup\", \"several\", \"several\", \"several\", \"sharp\", \"shopping\", \"side\", \"side\", \"side\", \"side\", \"signal\", \"signal\", \"signal\", \"signal\", \"signal\", \"signal\", \"signal\", \"sim\", \"simple\", \"simple\", \"simple\", \"site\", \"size\", \"size\", \"size\", \"slight\", \"slight\", \"smart\", \"smart\", \"smart\", \"smart\", \"smart\", \"smart\", \"smart\", \"smartphone\", \"smartphone\", \"smartphone\", \"smartphone\", \"smartphone\", \"smartphone\", \"smooth\", \"smooth\", \"smooth\", \"smooth\", \"smooth\", \"social\", \"software\", \"software\", \"software\", \"software\", \"software\", \"software\", \"software\", \"software\", \"solid\", \"sound\", \"sound\", \"sound\", \"sound\", \"sound\", \"sound\", \"sound\", \"sound\", \"speaker\", \"speaker\", \"speaker\", \"speaker\", \"speaker\", \"speaker\", \"speaker\", \"specification\", \"specification\", \"specification\", \"speed\", \"speed\", \"speed\", \"speed\", \"speed\", \"speed\", \"speed\", \"speedy\", \"spot\", \"stable\", \"standard\", \"stock\", \"stock\", \"stock\", \"stock\", \"stock\", \"stock\", \"stock\", \"stock\", \"strength\", \"strength\", \"strong\", \"strong\", \"strong\", \"stuff\", \"stupid\", \"style\", \"stylish\", \"suggestion\", \"suggestion\", \"super\", \"super\", \"super\", \"super\", \"super\", \"super\", \"superb\", \"superb\", \"superb\", \"superb\", \"superb\", \"superb\", \"superior\", \"support\", \"support\", \"support\", \"support\", \"support\", \"surprised\", \"system\", \"system\", \"system\", \"system\", \"system\", \"system\", \"system\", \"system\", \"team\", \"team\", \"team\", \"technical\", \"technical\", \"technician\", \"temperature\", \"term\", \"term\", \"term\", \"text\", \"thank\", \"thank\", \"thank\", \"thank\", \"thing\", \"thing\", \"thing\", \"thing\", \"thing\", \"thing\", \"thing\", \"thing\", \"thing\", \"time\", \"time\", \"time\", \"time\", \"time\", \"time\", \"time\", \"time\", \"time\", \"timely\", \"today\", \"today\", \"today\", \"today\", \"tone\", \"tooth\", \"touch\", \"touch\", \"touch\", \"touch\", \"touch\", \"touch\", \"touch\", \"touch\", \"touch\", \"trap\", \"true\", \"turbo\", \"turbo\", \"turbo\", \"turbo\", \"turbo\", \"turbo\", \"turbo\", \"turbo\", \"turbo\", \"turn\", \"unable\", \"unable\", \"unable\", \"unable\", \"unable\", \"unlock\", \"update\", \"update\", \"update\", \"update\", \"update\", \"update\", \"update\", \"update\", \"update\", \"upgrade\", \"usage\", \"usage\", \"usage\", \"usage\", \"usage\", \"usage\", \"usage\", \"usage\", \"useless\", \"useless\", \"useless\", \"useless\", \"user\", \"user\", \"user\", \"user\", \"user\", \"user\", \"user\", \"user\", \"user\", \"usual\", \"value\", \"value\", \"value\", \"value\", \"value\", \"value\", \"value\", \"value\", \"variant\", \"vibe\", \"vibe\", \"vibe\", \"vibe\", \"vibe\", \"video\", \"video\", \"video\", \"video\", \"video\", \"video\", \"video\", \"volte\", \"volte\", \"volte\", \"volume\", \"volume\", \"volume\", \"volume\", \"volume\", \"want\", \"warm\", \"warm\", \"warm\", \"warm\", \"wastage\", \"waste\", \"waste\", \"waste\", \"waste\", \"waste\", \"waste\", \"waste\", \"waste\", \"website\", \"weight\", \"well\", \"well\", \"well\", \"well\", \"well\", \"well\", \"well\", \"well\", \"well\", \"west\", \"white\", \"whole\", \"whole\", \"whole\", \"wifi\", \"wonder\", \"wonderful\", \"wonderful\", \"wonderful\", \"wor\", \"word\", \"work\", \"work\", \"work\", \"work\", \"work\", \"work\", \"work\", \"work\", \"work\", \"world\", \"worry\", \"worth\", \"worth\", \"worth\", \"worth\", \"worth\", \"worth\", \"worth\", \"worth\", \"worth\", \"wrost\", \"wrost\", \"year\", \"year\", \"yesterday\", \"yesterday\", \"zoom\"]}, \"R\": 30, \"lambda.step\": 0.01, \"plot.opts\": {\"xlab\": \"PC1\", \"ylab\": \"PC2\"}, \"topic.order\": [7, 9, 5, 2, 3, 1, 6, 8, 4]};\n",
       "\n",
       "function LDAvis_load_lib(url, callback){\n",
       "  var s = document.createElement('script');\n",
       "  s.src = url;\n",
       "  s.async = true;\n",
       "  s.onreadystatechange = s.onload = callback;\n",
       "  s.onerror = function(){console.warn(\"failed to load library \" + url);};\n",
       "  document.getElementsByTagName(\"head\")[0].appendChild(s);\n",
       "}\n",
       "\n",
       "if(typeof(LDAvis) !== \"undefined\"){\n",
       "   // already loaded: just create the visualization\n",
       "   !function(LDAvis){\n",
       "       new LDAvis(\"#\" + \"ldavis_el561217860645432965880929202\", ldavis_el561217860645432965880929202_data);\n",
       "   }(LDAvis);\n",
       "}else if(typeof define === \"function\" && define.amd){\n",
       "   // require.js is available: use it to load d3/LDAvis\n",
       "   require.config({paths: {d3: \"https://d3js.org/d3.v5\"}});\n",
       "   require([\"d3\"], function(d3){\n",
       "      window.d3 = d3;\n",
       "      LDAvis_load_lib(\"https://cdn.jsdelivr.net/gh/bmabey/pyLDAvis@3.3.1/pyLDAvis/js/ldavis.v3.0.0.js\", function(){\n",
       "        new LDAvis(\"#\" + \"ldavis_el561217860645432965880929202\", ldavis_el561217860645432965880929202_data);\n",
       "      });\n",
       "    });\n",
       "}else{\n",
       "    // require.js not available: dynamically load d3 & LDAvis\n",
       "    LDAvis_load_lib(\"https://d3js.org/d3.v5.js\", function(){\n",
       "         LDAvis_load_lib(\"https://cdn.jsdelivr.net/gh/bmabey/pyLDAvis@3.3.1/pyLDAvis/js/ldavis.v3.0.0.js\", function(){\n",
       "                 new LDAvis(\"#\" + \"ldavis_el561217860645432965880929202\", ldavis_el561217860645432965880929202_data);\n",
       "            })\n",
       "         });\n",
       "}\n",
       "</script>"
      ],
      "text/plain": [
       "PreparedData(topic_coordinates=              x         y  topics  cluster       Freq\n",
       "topic                                                \n",
       "6      0.152222  0.118273       1        1  15.636278\n",
       "8     -0.090460 -0.028790       2        1  14.627447\n",
       "4     -0.115909 -0.113033       3        1  13.689024\n",
       "1     -0.213063 -0.013906       4        1  10.659767\n",
       "2      0.065333 -0.095914       5        1  10.180043\n",
       "0      0.018343  0.086838       6        1   9.633805\n",
       "5      0.085305  0.001318       7        1   9.267774\n",
       "7      0.148450 -0.150200       8        1   9.079400\n",
       "3     -0.050223  0.195414       9        1   7.226462, topic_info=        Term         Freq        Total Category  logprob  loglift\n",
       "0       good  4727.000000  4727.000000  Default  30.0000  30.0000\n",
       "17    mobile  1864.000000  1864.000000  Default  29.0000  29.0000\n",
       "121     nice  1058.000000  1058.000000  Default  28.0000  28.0000\n",
       "6    battery  2881.000000  2881.000000  Default  27.0000  27.0000\n",
       "43   heating  1032.000000  1032.000000  Default  26.0000  26.0000\n",
       "..       ...          ...          ...      ...      ...      ...\n",
       "41      well    44.702427   405.977854   Topic9  -4.8861   0.4211\n",
       "127     long    35.373971   135.992423   Topic9  -5.1202   1.2808\n",
       "35   service    37.369449   422.574058   Topic9  -5.0653   0.2019\n",
       "6    battery    37.965989  2881.072009   Topic9  -5.0495  -1.7018\n",
       "141    thing    33.824898   226.378681   Topic9  -5.1650   0.7264\n",
       "\n",
       "[633 rows x 6 columns], token_table=      Topic      Freq       Term\n",
       "term                            \n",
       "363       1  0.164118       able\n",
       "363       2  0.041030       able\n",
       "363       3  0.008206       able\n",
       "363       4  0.032824       able\n",
       "363       5  0.049236       able\n",
       "...     ...       ...        ...\n",
       "38        1  0.349661       year\n",
       "38        9  0.629389       year\n",
       "1013      6  0.941440  yesterday\n",
       "1013      8  0.031381  yesterday\n",
       "1696      2  0.954024       zoom\n",
       "\n",
       "[1563 rows x 3 columns], R=30, lambda_step=0.01, plot_opts={'xlab': 'PC1', 'ylab': 'PC2'}, topic_order=[7, 9, 5, 2, 3, 1, 6, 8, 4])"
      ]
     },
     "execution_count": 140,
     "metadata": {},
     "output_type": "execute_result"
    }
   ],
   "source": [
    "vis"
   ]
  },
  {
   "cell_type": "markdown",
   "id": "f801613a-abed-4457-b360-d15452edc705",
   "metadata": {},
   "source": [
    "### Topic Table creation for 9 optimal topics"
   ]
  },
  {
   "cell_type": "code",
   "execution_count": 126,
   "id": "252b8c99-d679-4f3e-ac2f-a9d6b8647c2b",
   "metadata": {},
   "outputs": [],
   "source": [
    "topic_table= pd.DataFrame((optimal_model.print_topics()),columns=['Topic_Number','Top_Keywords'])\n",
    "#topic_table['Topic_Name'] = ['Camera, Sound','Mixed issues','Heating issue','turbo charger','Connectivity','Battery']\n",
    "#topic_lookup_data = topic_lookup_data[['Topic_Number','Topic_Name','Top_Keywords']]"
   ]
  },
  {
   "cell_type": "code",
   "execution_count": 129,
   "id": "093c64aa-1b70-441d-a996-732240fa8345",
   "metadata": {},
   "outputs": [],
   "source": [
    "topic_table['Top_Keywords'] = topic_table.Top_Keywords.str.replace(r'[^a-z]',' ',regex=True).apply(lambda x: x.split())"
   ]
  },
  {
   "cell_type": "code",
   "execution_count": 131,
   "id": "edeb5fc3-c40b-40a2-b5da-e90aa79d025f",
   "metadata": {},
   "outputs": [
    {
     "data": {
      "text/html": [
       "<style  type=\"text/css\" >\n",
       "#T_84acb_row0_col1,#T_84acb_row1_col1,#T_84acb_row2_col1,#T_84acb_row3_col1,#T_84acb_row4_col1,#T_84acb_row5_col1,#T_84acb_row6_col1,#T_84acb_row7_col1,#T_84acb_row8_col1{\n",
       "            width:  300px;\n",
       "        }</style><table id=\"T_84acb_\" ><thead>    <tr>        <th class=\"blank level0\" ></th>        <th class=\"col_heading level0 col0\" >Topic_Number</th>        <th class=\"col_heading level0 col1\" >Top_Keywords</th>    </tr></thead><tbody>\n",
       "                <tr>\n",
       "                        <th id=\"T_84acb_level0_row0\" class=\"row_heading level0 row0\" >0</th>\n",
       "                        <td id=\"T_84acb_row0_col0\" class=\"data row0 col0\" >0</td>\n",
       "                        <td id=\"T_84acb_row0_col1\" class=\"data row0 col1\" >['product', 'phone', 'speaker', 'call', 'many', 'time', 'camera', 'problem', 'screen', 'app']</td>\n",
       "            </tr>\n",
       "            <tr>\n",
       "                        <th id=\"T_84acb_level0_row1\" class=\"row_heading level0 row1\" >1</th>\n",
       "                        <td id=\"T_84acb_row1_col0\" class=\"data row1 col0\" >1</td>\n",
       "                        <td id=\"T_84acb_row1_col1\" class=\"data row1 col1\" >['good', 'nice', 'product', 'phone', 'camera', 'price', 'great', 'feature', 'excellent', 'battery']</td>\n",
       "            </tr>\n",
       "            <tr>\n",
       "                        <th id=\"T_84acb_level0_row2\" class=\"row_heading level0 row2\" >2</th>\n",
       "                        <td id=\"T_84acb_row2_col0\" class=\"data row2 col0\" >2</td>\n",
       "                        <td id=\"T_84acb_row2_col1\" class=\"data row2 col1\" >['battery', 'camera', 'phone', 'poor', 'backup', 'mobile', 'life', 'device', 'mode', 'update']</td>\n",
       "            </tr>\n",
       "            <tr>\n",
       "                        <th id=\"T_84acb_level0_row3\" class=\"row_heading level0 row3\" >3</th>\n",
       "                        <td id=\"T_84acb_row3_col0\" class=\"data row3 col0\" >3</td>\n",
       "                        <td id=\"T_84acb_row3_col1\" class=\"data row3 col1\" >['phone', 'awesome', 'good', 'glass', 'gorilla', 'product', 'love', 'headphone', 'note', 'volume']</td>\n",
       "            </tr>\n",
       "            <tr>\n",
       "                        <th id=\"T_84acb_level0_row4\" class=\"row_heading level0 row4\" >4</th>\n",
       "                        <td id=\"T_84acb_row4_col0\" class=\"data row4 col0\" >4</td>\n",
       "                        <td id=\"T_84acb_row4_col1\" class=\"data row4 col1\" >['good', 'phone', 'camera', 'battery', 'problem', 'performance', 'heating', 'quality', 'worth', 'backup']</td>\n",
       "            </tr>\n",
       "            <tr>\n",
       "                        <th id=\"T_84acb_level0_row5\" class=\"row_heading level0 row5\" >5</th>\n",
       "                        <td id=\"T_84acb_row5_col0\" class=\"data row5 col0\" >5</td>\n",
       "                        <td id=\"T_84acb_row5_col1\" class=\"data row5 col1\" >['mobile', 'charger', 'good', 'phone', 'charge', 'turbo', 'time', 'full', 'work', 'hour']</td>\n",
       "            </tr>\n",
       "            <tr>\n",
       "                        <th id=\"T_84acb_level0_row6\" class=\"row_heading level0 row6\" >6</th>\n",
       "                        <td id=\"T_84acb_row6_col0\" class=\"data row6 col0\" >6</td>\n",
       "                        <td id=\"T_84acb_row6_col1\" class=\"data row6 col1\" >['phone', 'bad', 'amazon', 'product', 'service', 'time', 'battery', 'month', 'return', 'problem']</td>\n",
       "            </tr>\n",
       "            <tr>\n",
       "                        <th id=\"T_84acb_level0_row7\" class=\"row_heading level0 row7\" >7</th>\n",
       "                        <td id=\"T_84acb_row7_col0\" class=\"data row7 col0\" >7</td>\n",
       "                        <td id=\"T_84acb_row7_col1\" class=\"data row7 col1\" >['battery', 'heating', 'issue', 'network', 'drain', 'value', 'fast', 'problem', 'camera', 'money']</td>\n",
       "            </tr>\n",
       "            <tr>\n",
       "                        <th id=\"T_84acb_level0_row8\" class=\"row_heading level0 row8\" >8</th>\n",
       "                        <td id=\"T_84acb_row8_col0\" class=\"data row8 col0\" >8</td>\n",
       "                        <td id=\"T_84acb_row8_col1\" class=\"data row8 col1\" >['camera', 'phone', 'quality', 'good', 'poor', 'average', 'front', 'sound', 'much', 'well']</td>\n",
       "            </tr>\n",
       "    </tbody></table>"
      ],
      "text/plain": [
       "<pandas.io.formats.style.Styler at 0x19fd9cfd0a0>"
      ]
     },
     "execution_count": 131,
     "metadata": {},
     "output_type": "execute_result"
    }
   ],
   "source": [
    "topic_table.style.set_properties(subset=['Top_Keywords'], **{'width': '300px'})"
   ]
  },
  {
   "cell_type": "code",
   "execution_count": 138,
   "id": "33353eed-ae7d-4ff8-b014-82e1ccceadf7",
   "metadata": {},
   "outputs": [],
   "source": [
    "topic_table['Topic Name']=['speaker and camera thing issue','good feedback about product','bad review on phone performance','about strong display','feature reviews','about charger','bad reviews on service','Heating issues','mixed issues']"
   ]
  },
  {
   "cell_type": "markdown",
   "id": "4635ac48-85eb-45be-a305-1ec73980ee29",
   "metadata": {},
   "source": [
    "## Final Table with Topic Name along with top 10 keywords for business analysis"
   ]
  },
  {
   "cell_type": "code",
   "execution_count": 139,
   "id": "2a65f17e-ab73-4130-bf52-3038268f20d6",
   "metadata": {},
   "outputs": [
    {
     "data": {
      "text/html": [
       "<div>\n",
       "<style scoped>\n",
       "    .dataframe tbody tr th:only-of-type {\n",
       "        vertical-align: middle;\n",
       "    }\n",
       "\n",
       "    .dataframe tbody tr th {\n",
       "        vertical-align: top;\n",
       "    }\n",
       "\n",
       "    .dataframe thead th {\n",
       "        text-align: right;\n",
       "    }\n",
       "</style>\n",
       "<table border=\"1\" class=\"dataframe\">\n",
       "  <thead>\n",
       "    <tr style=\"text-align: right;\">\n",
       "      <th></th>\n",
       "      <th>Topic_Number</th>\n",
       "      <th>Top_Keywords</th>\n",
       "      <th>Topic Name</th>\n",
       "    </tr>\n",
       "  </thead>\n",
       "  <tbody>\n",
       "    <tr>\n",
       "      <th>0</th>\n",
       "      <td>0</td>\n",
       "      <td>[product, phone, speaker, call, many, time, ca...</td>\n",
       "      <td>speaker and camera thing issue</td>\n",
       "    </tr>\n",
       "    <tr>\n",
       "      <th>1</th>\n",
       "      <td>1</td>\n",
       "      <td>[good, nice, product, phone, camera, price, gr...</td>\n",
       "      <td>good feedback about product</td>\n",
       "    </tr>\n",
       "    <tr>\n",
       "      <th>2</th>\n",
       "      <td>2</td>\n",
       "      <td>[battery, camera, phone, poor, backup, mobile,...</td>\n",
       "      <td>bad review on phone performance</td>\n",
       "    </tr>\n",
       "    <tr>\n",
       "      <th>3</th>\n",
       "      <td>3</td>\n",
       "      <td>[phone, awesome, good, glass, gorilla, product...</td>\n",
       "      <td>about strong display</td>\n",
       "    </tr>\n",
       "    <tr>\n",
       "      <th>4</th>\n",
       "      <td>4</td>\n",
       "      <td>[good, phone, camera, battery, problem, perfor...</td>\n",
       "      <td>feature reviews</td>\n",
       "    </tr>\n",
       "    <tr>\n",
       "      <th>5</th>\n",
       "      <td>5</td>\n",
       "      <td>[mobile, charger, good, phone, charge, turbo, ...</td>\n",
       "      <td>about charger</td>\n",
       "    </tr>\n",
       "    <tr>\n",
       "      <th>6</th>\n",
       "      <td>6</td>\n",
       "      <td>[phone, bad, amazon, product, service, time, b...</td>\n",
       "      <td>bad reviews on service</td>\n",
       "    </tr>\n",
       "    <tr>\n",
       "      <th>7</th>\n",
       "      <td>7</td>\n",
       "      <td>[battery, heating, issue, network, drain, valu...</td>\n",
       "      <td>Heating issues</td>\n",
       "    </tr>\n",
       "    <tr>\n",
       "      <th>8</th>\n",
       "      <td>8</td>\n",
       "      <td>[camera, phone, quality, good, poor, average, ...</td>\n",
       "      <td>mixed issues</td>\n",
       "    </tr>\n",
       "  </tbody>\n",
       "</table>\n",
       "</div>"
      ],
      "text/plain": [
       "   Topic_Number                                       Top_Keywords  \\\n",
       "0             0  [product, phone, speaker, call, many, time, ca...   \n",
       "1             1  [good, nice, product, phone, camera, price, gr...   \n",
       "2             2  [battery, camera, phone, poor, backup, mobile,...   \n",
       "3             3  [phone, awesome, good, glass, gorilla, product...   \n",
       "4             4  [good, phone, camera, battery, problem, perfor...   \n",
       "5             5  [mobile, charger, good, phone, charge, turbo, ...   \n",
       "6             6  [phone, bad, amazon, product, service, time, b...   \n",
       "7             7  [battery, heating, issue, network, drain, valu...   \n",
       "8             8  [camera, phone, quality, good, poor, average, ...   \n",
       "\n",
       "                        Topic Name  \n",
       "0   speaker and camera thing issue  \n",
       "1      good feedback about product  \n",
       "2  bad review on phone performance  \n",
       "3             about strong display  \n",
       "4                  feature reviews  \n",
       "5                    about charger  \n",
       "6           bad reviews on service  \n",
       "7                   Heating issues  \n",
       "8                     mixed issues  "
      ]
     },
     "execution_count": 139,
     "metadata": {},
     "output_type": "execute_result"
    }
   ],
   "source": [
    "topic_table"
   ]
  },
  {
   "cell_type": "code",
   "execution_count": null,
   "id": "ed389685-0a26-44d1-90bf-404e3b0caa7b",
   "metadata": {},
   "outputs": [],
   "source": []
  },
  {
   "cell_type": "code",
   "execution_count": null,
   "id": "abf0ee99-0677-4500-922a-8797c8fb6fd4",
   "metadata": {},
   "outputs": [],
   "source": []
  },
  {
   "cell_type": "code",
   "execution_count": null,
   "id": "c070943d-a1a1-4a3e-ab49-87d67d596dec",
   "metadata": {},
   "outputs": [],
   "source": [
    "'''for index,sent in enumerate(ldamodel[doc_term_matrix]):\n",
    "  topic_num =[]\n",
    "  topic_details = sorted(sent,key=lambda x: x[1], reverse=True)[:2] # Getting top 2 topics in descending order\n",
    "  topic_num.append(topic_details[0][0]) # Appending top topic\n",
    "  if len(topic_details) > 1:\n",
    "    if topic_details[1][1] > 0.35: # Appending second topic only if it has more than 35% influence on current row\n",
    "      topic_num.append(topic_details[1][0])\n",
    "  review_data.loc[index,'Topic_Number'] = ','.join(str(x) for x in sorted(topic_num))'''"
   ]
  },
  {
   "cell_type": "code",
   "execution_count": null,
   "id": "6416d55d-7f05-4244-b5cc-0868bb0bf4ae",
   "metadata": {},
   "outputs": [],
   "source": [
    "'''for index,topic_num in enumerate(review_data.Topic_Number):\n",
    "  topic_name_list=[]\n",
    "  for single_topic_num in topic_num.split(','):\n",
    "    single_topic_num=int(single_topic_num)\n",
    "    topic_name_list.append(topic_lookup_data.loc\\\n",
    "                           [topic_lookup_data.Topic_Number == single_topic_num,'Topic_Name'][single_topic_num]) \n",
    "  # Extracting topic names from lookup table\n",
    "  review_data.loc[index,'Topic_Name'] =' & '.join(topic_name_list)'''"
   ]
  }
 ],
 "metadata": {
  "kernelspec": {
   "display_name": "Python 3",
   "language": "python",
   "name": "python3"
  },
  "language_info": {
   "codemirror_mode": {
    "name": "ipython",
    "version": 3
   },
   "file_extension": ".py",
   "mimetype": "text/x-python",
   "name": "python",
   "nbconvert_exporter": "python",
   "pygments_lexer": "ipython3",
   "version": "3.8.8"
  }
 },
 "nbformat": 4,
 "nbformat_minor": 5
}
