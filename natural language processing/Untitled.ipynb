{
 "cells": [
  {
   "cell_type": "code",
   "execution_count": 85,
   "id": "08d473d9-daaa-42bf-8ddd-18b880fe5107",
   "metadata": {},
   "outputs": [],
   "source": [
    "import numpy as np\n",
    "import pandas as pd\n",
    "import matplotlib.pyplot as plt\n",
    "%matplotlib inline\n",
    "import nltk\n",
    "from nltk.corpus import stopwords\n",
    "from nltk.tokenize import word_tokenize, sent_tokenize\n",
    "from nltk import pos_tag\n",
    "import re\n",
    "from nltk.stem import WordNetLemmatizer\n",
    "import spacy"
   ]
  },
  {
   "cell_type": "code",
   "execution_count": null,
   "id": "d38f11e6-a2ce-4a58-9856-952114f38a74",
   "metadata": {},
   "outputs": [],
   "source": [
    "#!pip install texthero"
   ]
  },
  {
   "cell_type": "code",
   "execution_count": 2,
   "id": "3ab1f0f0-7554-4064-815e-96b108446b5c",
   "metadata": {},
   "outputs": [],
   "source": [
    "data=pd.read_csv(\"K8 Reviews v0.2.csv\")"
   ]
  },
  {
   "cell_type": "code",
   "execution_count": 3,
   "id": "9de4d183-85d2-4363-8456-d402c1a4da51",
   "metadata": {},
   "outputs": [
    {
     "data": {
      "text/html": [
       "<div>\n",
       "<style scoped>\n",
       "    .dataframe tbody tr th:only-of-type {\n",
       "        vertical-align: middle;\n",
       "    }\n",
       "\n",
       "    .dataframe tbody tr th {\n",
       "        vertical-align: top;\n",
       "    }\n",
       "\n",
       "    .dataframe thead th {\n",
       "        text-align: right;\n",
       "    }\n",
       "</style>\n",
       "<table border=\"1\" class=\"dataframe\">\n",
       "  <thead>\n",
       "    <tr style=\"text-align: right;\">\n",
       "      <th></th>\n",
       "      <th>sentiment</th>\n",
       "      <th>review</th>\n",
       "    </tr>\n",
       "  </thead>\n",
       "  <tbody>\n",
       "    <tr>\n",
       "      <th>0</th>\n",
       "      <td>1</td>\n",
       "      <td>Good but need updates and improvements</td>\n",
       "    </tr>\n",
       "    <tr>\n",
       "      <th>1</th>\n",
       "      <td>0</td>\n",
       "      <td>Worst mobile i have bought ever, Battery is dr...</td>\n",
       "    </tr>\n",
       "    <tr>\n",
       "      <th>2</th>\n",
       "      <td>1</td>\n",
       "      <td>when I will get my 10% cash back.... its alrea...</td>\n",
       "    </tr>\n",
       "    <tr>\n",
       "      <th>3</th>\n",
       "      <td>1</td>\n",
       "      <td>Good</td>\n",
       "    </tr>\n",
       "    <tr>\n",
       "      <th>4</th>\n",
       "      <td>0</td>\n",
       "      <td>The worst phone everThey have changed the last...</td>\n",
       "    </tr>\n",
       "  </tbody>\n",
       "</table>\n",
       "</div>"
      ],
      "text/plain": [
       "   sentiment                                             review\n",
       "0          1             Good but need updates and improvements\n",
       "1          0  Worst mobile i have bought ever, Battery is dr...\n",
       "2          1  when I will get my 10% cash back.... its alrea...\n",
       "3          1                                               Good\n",
       "4          0  The worst phone everThey have changed the last..."
      ]
     },
     "execution_count": 3,
     "metadata": {},
     "output_type": "execute_result"
    }
   ],
   "source": [
    "data.head()"
   ]
  },
  {
   "cell_type": "code",
   "execution_count": 4,
   "id": "db7f20fa-077f-47e3-9f36-74b950137be0",
   "metadata": {},
   "outputs": [
    {
     "data": {
      "text/plain": [
       "<AxesSubplot:>"
      ]
     },
     "execution_count": 4,
     "metadata": {},
     "output_type": "execute_result"
    },
    {
     "data": {
      "image/png": "[encoded data removed]",
      "text/plain": [
       "<Figure size 432x288 with 1 Axes>"
      ]
     },
     "metadata": {
      "needs_background": "light"
     },
     "output_type": "display_data"
    }
   ],
   "source": [
    "data['sentiment'].value_counts().plot(kind='bar')"
   ]
  },
  {
   "cell_type": "code",
   "execution_count": 5,
   "id": "d0270d01-5f98-4a96-b6b9-81962aed0dae",
   "metadata": {},
   "outputs": [
    {
     "data": {
      "text/plain": [
       "(14675, 2)"
      ]
     },
     "execution_count": 5,
     "metadata": {},
     "output_type": "execute_result"
    }
   ],
   "source": [
    "data.shape"
   ]
  },
  {
   "cell_type": "markdown",
   "id": "87919b62-4bc9-4e46-8137-e6f6be446ff8",
   "metadata": {},
   "source": [
    "## 2.Normalise and arrange reviews into list"
   ]
  },
  {
   "cell_type": "code",
   "execution_count": 6,
   "id": "eaded95b-b4b7-4df8-a8b1-ff2d21f475a6",
   "metadata": {},
   "outputs": [],
   "source": [
    "reviews=[review.lower() for review in data['review'].values]"
   ]
  },
  {
   "cell_type": "code",
   "execution_count": 7,
   "id": "2cd01694-c537-4065-9d74-aa6375d321c4",
   "metadata": {},
   "outputs": [
    {
     "data": {
      "text/plain": [
       "'good but need updates and improvements'"
      ]
     },
     "execution_count": 7,
     "metadata": {},
     "output_type": "execute_result"
    }
   ],
   "source": [
    "reviews[0]"
   ]
  },
  {
   "cell_type": "markdown",
   "id": "0f85d181-1c79-4b42-9f4d-9c44dabf4ee0",
   "metadata": {},
   "source": [
    "## 3.Tokenize using word_tokenizer"
   ]
  },
  {
   "cell_type": "code",
   "execution_count": 9,
   "id": "5a0a1e46-f6e8-4f8b-acd1-6b5930c02337",
   "metadata": {},
   "outputs": [],
   "source": [
    "tokenized_reviews=[word_tokenize(review) for review in reviews]"
   ]
  },
  {
   "cell_type": "code",
   "execution_count": 57,
   "id": "46dc7549-cab1-44a3-8eba-bc569853cab5",
   "metadata": {},
   "outputs": [
    {
     "name": "stdout",
     "output_type": "stream",
     "text": [
      "[['good', 'but', 'need', 'updates', 'and', 'improvements'], ['worst', 'mobile', 'i', 'have', 'bought', 'ever', ',', 'battery', 'is', 'draining', 'like', 'hell', ',', 'backup', 'is', 'only', '6', 'to', '7', 'hours', 'with', 'internet', 'uses', ',', 'even', 'if', 'i', 'put', 'mobile', 'idle', 'its', 'getting', 'discharged.this', 'is', 'biggest', 'lie', 'from', 'amazon', '&', 'lenove', 'which', 'is', 'not', 'at', 'all', 'expected', ',', 'they', 'are', 'making', 'full', 'by', 'saying', 'that', 'battery', 'is', '4000mah', '&', 'booster', 'charger', 'is', 'fake', ',', 'it', 'takes', 'at', 'least', '4', 'to', '5', 'hours', 'to', 'be', 'fully', 'charged.do', \"n't\", 'know', 'how', 'lenovo', 'will', 'survive', 'by', 'making', 'full', 'of', 'us.please', 'don', ';', 't', 'go', 'for', 'this', 'else', 'you', 'will', 'regret', 'like', 'me', '.']]\n"
     ]
    }
   ],
   "source": [
    "print(tokenized_reviews[0:2])"
   ]
  },
  {
   "cell_type": "code",
   "execution_count": 72,
   "id": "657c1096-59ca-41a1-8122-fbd9ef39aa32",
   "metadata": {},
   "outputs": [
    {
     "name": "stdout",
     "output_type": "stream",
     "text": [
      "[('good', 'JJ'), ('but', 'CC'), ('need', 'VBP'), ('updates', 'NNS'), ('and', 'CC'), ('improvements', 'NNS')]\n"
     ]
    }
   ],
   "source": [
    "review=['good', 'but', 'need', 'updates', 'and', 'improvements']\n",
    "print(pos_tag(review))"
   ]
  },
  {
   "cell_type": "markdown",
   "id": "07dbe803-9c51-4e16-8cfe-b76481f1b844",
   "metadata": {},
   "source": [
    "## 4.POS Tagging and filter out noun pos"
   ]
  },
  {
   "cell_type": "code",
   "execution_count": 101,
   "id": "dbe042b0-6a6a-43e6-9e53-ccd8f313883a",
   "metadata": {},
   "outputs": [],
   "source": [
    "filter_reviews_noun=[]\n",
    "for review in tokenized_reviews:\n",
    "    pos=[\" \".join(text for text, pos in pos_tag(review) if (pos == 'NN' or pos == 'NNP' or pos == 'NNS' or pos == 'NNPS'))]\n",
    "    filter_reviews_noun.append(pos)"
   ]
  },
  {
   "cell_type": "code",
   "execution_count": 103,
   "id": "39b3ed60-bb3c-4a30-bf35-8be4d882372d",
   "metadata": {},
   "outputs": [],
   "source": [
    "filter_reviews=[]\n",
    "for review in tokenized_reviews:\n",
    "    pos1=[\" \".join(review) for text, pos in pos_tag(review) if (pos == 'NN' or pos == 'NNP' or pos == 'NNS' or pos == 'NNPS')]\n",
    "    filter_reviews.append(pos1)"
   ]
  },
  {
   "cell_type": "code",
   "execution_count": 120,
   "id": "2f889ba8-e007-46fe-850d-1116c7946cd5",
   "metadata": {},
   "outputs": [
    {
     "data": {
      "text/plain": [
       "(14675, [''])"
      ]
     },
     "execution_count": 120,
     "metadata": {},
     "output_type": "execute_result"
    }
   ],
   "source": [
    "len(filter_reviews_noun), filter_reviews_noun[3]"
   ]
  },
  {
   "cell_type": "code",
   "execution_count": 122,
   "id": "7238df9e-e73f-440b-b504-e6a8895a8e7d",
   "metadata": {},
   "outputs": [],
   "source": [
    "filter_reviews_df=pd.DataFrame({'reviews':filter_reviews})"
   ]
  },
  {
   "cell_type": "code",
   "execution_count": 124,
   "id": "d5cb4a6f-5be7-47d3-9f6e-025faf46bf34",
   "metadata": {},
   "outputs": [
    {
     "data": {
      "text/html": [
       "<div>\n",
       "<style scoped>\n",
       "    .dataframe tbody tr th:only-of-type {\n",
       "        vertical-align: middle;\n",
       "    }\n",
       "\n",
       "    .dataframe tbody tr th {\n",
       "        vertical-align: top;\n",
       "    }\n",
       "\n",
       "    .dataframe thead th {\n",
       "        text-align: right;\n",
       "    }\n",
       "</style>\n",
       "<table border=\"1\" class=\"dataframe\">\n",
       "  <thead>\n",
       "    <tr style=\"text-align: right;\">\n",
       "      <th></th>\n",
       "      <th>reviews</th>\n",
       "    </tr>\n",
       "  </thead>\n",
       "  <tbody>\n",
       "    <tr>\n",
       "      <th>0</th>\n",
       "      <td>[good but need updates and improvements, good ...</td>\n",
       "    </tr>\n",
       "    <tr>\n",
       "      <th>1</th>\n",
       "      <td>[worst mobile i have bought ever , battery is ...</td>\n",
       "    </tr>\n",
       "    <tr>\n",
       "      <th>2</th>\n",
       "      <td>[when i will get my 10 % cash back .... its al...</td>\n",
       "    </tr>\n",
       "    <tr>\n",
       "      <th>3</th>\n",
       "      <td>[]</td>\n",
       "    </tr>\n",
       "    <tr>\n",
       "      <th>4</th>\n",
       "      <td>[the worst phone everthey have changed the las...</td>\n",
       "    </tr>\n",
       "  </tbody>\n",
       "</table>\n",
       "</div>"
      ],
      "text/plain": [
       "                                             reviews\n",
       "0  [good but need updates and improvements, good ...\n",
       "1  [worst mobile i have bought ever , battery is ...\n",
       "2  [when i will get my 10 % cash back .... its al...\n",
       "3                                                 []\n",
       "4  [the worst phone everthey have changed the las..."
      ]
     },
     "execution_count": 124,
     "metadata": {},
     "output_type": "execute_result"
    }
   ],
   "source": [
    "filter_reviews_df.head()"
   ]
  },
  {
   "cell_type": "code",
   "execution_count": 119,
   "id": "8d139bb1-62e3-4b52-bb4f-ee3794cb9672",
   "metadata": {},
   "outputs": [
    {
     "data": {
      "text/plain": [
       "(14675, [])"
      ]
     },
     "execution_count": 119,
     "metadata": {},
     "output_type": "execute_result"
    }
   ],
   "source": [
    "len(filter_reviews), filter_reviews[3]"
   ]
  },
  {
   "cell_type": "code",
   "execution_count": 117,
   "id": "71433bc0-ffaa-4a94-8c6a-d3f1828c74c3",
   "metadata": {},
   "outputs": [],
   "source": [
    "filter_reviews_new=[]\n",
    "for text in filter_reviews[0:3]:\n",
    "    #print(text[0])\n",
    "    filter_reviews_new.append(text[-1])"
   ]
  },
  {
   "cell_type": "code",
   "execution_count": 118,
   "id": "d49fb3e9-7a27-45a6-9ea7-97718f4002a3",
   "metadata": {},
   "outputs": [
    {
     "data": {
      "text/plain": [
       "['good but need updates and improvements',\n",
       " \"worst mobile i have bought ever , battery is draining like hell , backup is only 6 to 7 hours with internet uses , even if i put mobile idle its getting discharged.this is biggest lie from amazon & lenove which is not at all expected , they are making full by saying that battery is 4000mah & booster charger is fake , it takes at least 4 to 5 hours to be fully charged.do n't know how lenovo will survive by making full of us.please don ; t go for this else you will regret like me .\",\n",
       " 'when i will get my 10 % cash back .... its already 15 january ..']"
      ]
     },
     "execution_count": 118,
     "metadata": {},
     "output_type": "execute_result"
    }
   ],
   "source": [
    "filter_reviews_new"
   ]
  },
  {
   "cell_type": "code",
   "execution_count": 94,
   "id": "5ad1e4bc-1d4a-41e3-944b-7b8ad19b7d89",
   "metadata": {},
   "outputs": [],
   "source": [
    "filter_reviews_new=[]\n",
    "for review in filter_reviews:\n",
    "    if review not in filter_reviews_new:\n",
    "        filter_reviews_new.append(review)"
   ]
  },
  {
   "cell_type": "code",
   "execution_count": 24,
   "id": "63628ae6-438e-4b2c-84b0-0abbf3b568b5",
   "metadata": {},
   "outputs": [],
   "source": [
    "st=stopwords.words(\"english\")"
   ]
  },
  {
   "cell_type": "code",
   "execution_count": 28,
   "id": "7066dc5d-39d9-4b29-a687-2391c844419b",
   "metadata": {},
   "outputs": [
    {
     "name": "stdout",
     "output_type": "stream",
     "text": [
      "[['worst', 'mobile', 'i', 'have', 'bought', 'ever', 'battery', 'is', 'draining', 'like', 'hell', 'backup', 'is', 'only', '6', 'to', '7', 'hours', 'with', 'internet', 'uses', 'even', 'if', 'i', 'put', 'mobile', 'idle', 'its', 'getting', 'discharged', 'this', 'is', 'biggest', 'lie', 'from', 'amazon', 'lenove', 'which', 'is', 'not', 'at', 'all', 'expected', 'they', 'are', 'making', 'full', 'by', 'saying', 'that', 'battery', 'is', '4000mah', 'booster', 'charger', 'is', 'fake', 'it', 'takes', 'at', 'least', '4', 'to', '5', 'hours', 'to', 'be', 'fully', 'charged', 'dont', 'know', 'how', 'lenovo', 'will', 'survive', 'by', 'making', 'full', 'of', 'us', 'please', 'don', 't', 'go', 'for', 'this', 'else', 'you', 'will', 'regret', 'like', 'me']]\n"
     ]
    }
   ],
   "source": [
    "print([word_tokenize(\" \".join(re.findall(r'\\w+', t,flags = re.UNICODE )).lower()) for t in sent_tokenize(samp.replace(\"'\", \"\") )])"
   ]
  },
  {
   "cell_type": "code",
   "execution_count": 29,
   "id": "0e2b1f6f-1b29-49c1-8a9a-4933ad8033ec",
   "metadata": {},
   "outputs": [],
   "source": [
    "def Remove_Stopwords(word_list, lang='english'):\n",
    "    \"\"\"Function removes english stopwords\n",
    "    Args:\n",
    "        word_list  : list of words\n",
    "    Return:\n",
    "        The return value. List of words\n",
    "    \"\"\"\n",
    "    content = []\n",
    "    stopwords_list = stopwords.words(lang)\n",
    "    #print(type(word_list))\n",
    "    #for word in word_list:\n",
    "    #    print(word)\n",
    "    #    if word.lower() not in stopwords_list:\n",
    "    #        content.append(word)\n",
    "    content = [w for w in word_list if w.lower() not in stopwords_list]\n",
    "    #print(content)\n",
    "    return content"
   ]
  },
  {
   "cell_type": "code",
   "execution_count": 41,
   "id": "630f03a2-1255-4f0d-8c41-f98e5395d2f7",
   "metadata": {},
   "outputs": [
    {
     "name": "stdout",
     "output_type": "stream",
     "text": [
      "['worst', 'mobile', 'bought', 'ever', 'battery', 'draining', 'like', 'hell', 'backup', '6', '7', 'hours', 'internet', 'uses', 'even', 'put', 'mobile', 'idle', 'getting', 'discharged', 'biggest', 'lie', 'amazon', 'lenove', 'expected', 'making', 'full', 'saying', 'battery', '4000mah', 'booster', 'charger', 'fake', 'takes', 'least', '4', '5', 'hours', 'fully', 'charged', 'dont', 'know', 'lenovo', 'survive', 'making', 'full', 'us', 'please', 'go', 'else', 'regret', 'like']\n"
     ]
    }
   ],
   "source": [
    "rs=Remove_Stopwords(['worst', 'mobile', 'i', 'have', 'bought', 'ever', 'battery', 'is', 'draining', 'like', 'hell', 'backup', 'is', 'only', '6', 'to', '7', 'hours', 'with', 'internet', 'uses', 'even', 'if', 'i', 'put', 'mobile', 'idle', 'its', 'getting', 'discharged', 'this', 'is', 'biggest', 'lie', 'from', 'amazon', 'lenove', 'which', 'is', 'not', 'at', 'all', 'expected', 'they', 'are', 'making', 'full', 'by', 'saying', 'that', 'battery', 'is', '4000mah', 'booster', 'charger', 'is', 'fake', 'it', 'takes', 'at', 'least', '4', 'to', '5', 'hours', 'to', 'be', 'fully', 'charged', 'dont', 'know', 'how', 'lenovo', 'will', 'survive', 'by', 'making', 'full', 'of', 'us', 'please', 'don', 't', 'go', 'for', 'this', 'else', 'you', 'will', 'regret', 'like', 'me'])\n",
    "print(rs)"
   ]
  },
  {
   "cell_type": "code",
   "execution_count": 44,
   "id": "b8744daf-7394-4b3d-bee4-261a9111e489",
   "metadata": {},
   "outputs": [],
   "source": [
    "def Simplify_Punctuation(text):\n",
    "    \"\"\"\n",
    "    This function simplifies doubled or more complex punctuation. The exception is '...'.\n",
    "    \"\"\"\n",
    "    corrected = str(text)\n",
    "    corrected = re.sub(r'([!?,;])\\1+', r'\\1', corrected)\n",
    "    corrected = re.sub(r'\\.{2,}', r'...', corrected)\n",
    "    return corrected"
   ]
  },
  {
   "cell_type": "code",
   "execution_count": 55,
   "id": "d412dfaf-3f80-4760-943e-d88c9b396d12",
   "metadata": {},
   "outputs": [
    {
     "name": "stdout",
     "output_type": "stream",
     "text": [
      "hai ? how ! r u\n"
     ]
    }
   ],
   "source": [
    "text=\"hai ? how ! r u\"\n",
    "corrected = str(text)\n",
    "corrected = re.sub(r'([!?,;])\\1+', r'\\1', corrected)\n",
    "corrected = re.sub(r'\\.{2,}', r'...', corrected)\n",
    "print(corrected)"
   ]
  },
  {
   "cell_type": "code",
   "execution_count": 45,
   "id": "3d84a717-00eb-4d3e-a99b-d30d55fb74c9",
   "metadata": {},
   "outputs": [
    {
     "data": {
      "text/plain": [
       "'hai ? my ! name'"
      ]
     },
     "execution_count": 45,
     "metadata": {},
     "output_type": "execute_result"
    }
   ],
   "source": [
    "sp=Simplify_Punctuation(\"hai ? my ! name\")\n",
    "sp"
   ]
  },
  {
   "cell_type": "code",
   "execution_count": 31,
   "id": "d85dfbd9-ea2b-4494-a462-5f31277ca5fb",
   "metadata": {},
   "outputs": [],
   "source": [
    "def Lemmatize_WordNet(words_list):\n",
    "    wnl = WordNetLemmatizer()\n",
    "    encoded_list = []\n",
    "    for word in words_list:\n",
    "        encoded_list.append(wnl.lemmatize(word, pos=\"v\"))#.encode(\"utf8\"))\n",
    "    #print(encoded_list)\n",
    "    return encoded_list"
   ]
  },
  {
   "cell_type": "code",
   "execution_count": 51,
   "id": "3a7863e8-15bb-4618-8969-3ce20e197d2c",
   "metadata": {},
   "outputs": [
    {
     "name": "stdout",
     "output_type": "stream",
     "text": [
      "None\n"
     ]
    },
    {
     "data": {
      "text/plain": [
       "['worst mobile buy ever battery drain like hell backup 6 7 hours internet use even put mobile idle get discharge biggest lie amazon lenove expect make full say battery 4000mah booster charger fake take least 4 5 hours fully charge dont know lenovo survive make full us please go else regret like']"
      ]
     },
     "execution_count": 51,
     "metadata": {},
     "output_type": "execute_result"
    }
   ],
   "source": [
    "lst=[]\n",
    "lw=Lemmatize_WordNet(rs)\n",
    "print(lst.append(\" \".join(lw)))\n",
    "lst"
   ]
  },
  {
   "cell_type": "code",
   "execution_count": 36,
   "id": "f3e92640-c9fd-40c6-bcb1-1a4e872f99ae",
   "metadata": {},
   "outputs": [],
   "source": [
    "def tokenize(txt):\n",
    "    \"\"\"Function computes Tokenizes into sentences, strips punctuation/abbr, \n",
    "       converts to lowercase and tokenizes words\n",
    "    Args:\n",
    "        txt  : text documents\n",
    "    Return:\n",
    "        The return value. Tokenized words\n",
    "    \"\"\"\n",
    "    return [word_tokenize(\" \".join(re.findall(r'\\w+', t,flags = re.UNICODE )).lower()) \n",
    "                for t in sent_tokenize(txt.replace(\"'\", \"\"))]"
   ]
  },
  {
   "cell_type": "code",
   "execution_count": 52,
   "id": "7a3a03f7-6f5e-4f4c-8bad-9369369916f2",
   "metadata": {},
   "outputs": [],
   "source": [
    "def Apply_Stopwords_punctuation_lemmatize(reviews):\n",
    "    PreprocessReviews = []\n",
    "    for review in reviews:\n",
    "        lemmetized = []\n",
    "        review = Simplify_Punctuation(review)  # Remove Punctuation        \n",
    "        sentences = tokenize(review)\n",
    "        for sentence in sentences:\n",
    "            words = Remove_Stopwords(sentence)         # Remove Stopwords\n",
    "            words = Lemmatize_WordNet(words)           # lemmatize \n",
    "            # lets's skip short sentences with less than 3 words\n",
    "            if len(words) < 3:\n",
    "                continue\n",
    "            lemmetized.append(\" \".join(words))\n",
    "        PreprocessReviews.append(\" \".join(lemmetized))\n",
    "    return PreprocessReviews"
   ]
  },
  {
   "cell_type": "code",
   "execution_count": 54,
   "id": "b995a277-8166-475e-8015-f0826c81aedc",
   "metadata": {},
   "outputs": [],
   "source": [
    "PreProcessReviews = Apply_Stopwords_punctuation_lemmatize(filter_reviews)"
   ]
  },
  {
   "cell_type": "code",
   "execution_count": 113,
   "id": "d938ba82-226b-4bbd-91a3-827a84b2baf6",
   "metadata": {},
   "outputs": [
    {
     "data": {
      "text/plain": [
       "93229"
      ]
     },
     "execution_count": 113,
     "metadata": {},
     "output_type": "execute_result"
    }
   ],
   "source": [
    "len(PreProcessReviews)"
   ]
  },
  {
   "cell_type": "code",
   "execution_count": 114,
   "id": "da286811-5af3-4f6d-82fe-1690f7091b0d",
   "metadata": {},
   "outputs": [
    {
     "data": {
      "text/plain": [
       "['good need update improvements',\n",
       " 'good need update improvements',\n",
       " 'worst mobile buy ever battery drain like hell backup 6 7 hours internet use even put mobile idle get discharge biggest lie amazon lenove expect make full say battery 4000mah booster charger fake take least 4 5 hours fully charge dont know lenovo survive make full us please go else regret like',\n",
       " 'worst mobile buy ever battery drain like hell backup 6 7 hours internet use even put mobile idle get discharge biggest lie amazon lenove expect make full say battery 4000mah booster charger fake take least 4 5 hours fully charge dont know lenovo survive make full us please go else regret like',\n",
       " 'worst mobile buy ever battery drain like hell backup 6 7 hours internet use even put mobile idle get discharge biggest lie amazon lenove expect make full say battery 4000mah booster charger fake take least 4 5 hours fully charge dont know lenovo survive make full us please go else regret like']"
      ]
     },
     "execution_count": 114,
     "metadata": {},
     "output_type": "execute_result"
    }
   ],
   "source": [
    "PreProcessReviews[0]"
   ]
  },
  {
   "cell_type": "code",
   "execution_count": null,
   "id": "66bb06c8-ea8d-4c3c-8d3a-80a54f59a948",
   "metadata": {},
   "outputs": [],
   "source": []
  }
 ],
 "metadata": {
  "kernelspec": {
   "display_name": "Python 3",
   "language": "python",
   "name": "python3"
  },
  "language_info": {
   "codemirror_mode": {
    "name": "ipython",
    "version": 3
   },
   "file_extension": ".py",
   "mimetype": "text/x-python",
   "name": "python",
   "nbconvert_exporter": "python",
   "pygments_lexer": "ipython3",
   "version": "3.8.8"
  }
 },
 "nbformat": 4,
 "nbformat_minor": 5
}
