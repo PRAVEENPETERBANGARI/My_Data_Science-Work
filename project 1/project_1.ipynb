{
 "cells": [
  {
   "cell_type": "markdown",
   "id": "3a0d4b2c-b4ee-4688-84ff-618225a2e71c",
   "metadata": {},
   "source": [
    "## load libraries"
   ]
  },
  {
   "cell_type": "code",
   "execution_count": 1,
   "id": "d9e28ee1-67cc-4c89-9f29-772db481c75b",
   "metadata": {},
   "outputs": [],
   "source": [
    "import pandas as pd\n",
    "import numpy as np\n",
    "import matplotlib.pyplot as plt\n",
    "%matplotlib inline\n",
    "import seaborn as sns\n",
    "from sklearn.feature_extraction.text import TfidfVectorizer\n",
    "from sklearn.naive_bayes import MultinomialNB, GaussianNB\n",
    "from imblearn.over_sampling import SMOTE\n",
    "from sklearn.metrics import accuracy_score, precision_score, recall_score, roc_curve, precision_recall_curve, f1_score, confusion_matrix, classification_report\n",
    "from sklearn.ensemble import RandomForestClassifier\n",
    "from xgboost import XGBClassifier\n",
    "from sklearn.preprocessing import LabelEncoder\n",
    "le=LabelEncoder()\n",
    "from sklearn.preprocessing import label_binarize\n",
    "from sklearn.metrics import roc_auc_score, auc, roc_curve"
   ]
  },
  {
   "cell_type": "markdown",
   "id": "b0ec9526-3841-4f13-a914-6fa1bf7371fa",
   "metadata": {},
   "source": [
    "## load data"
   ]
  },
  {
   "cell_type": "code",
   "execution_count": 2,
   "id": "c0f3ce09-24e4-46c6-8846-64411879fc23",
   "metadata": {},
   "outputs": [],
   "source": [
    "train_data=pd.read_csv(\"train_data.csv\")"
   ]
  },
  {
   "cell_type": "code",
   "execution_count": 3,
   "id": "47fdf8f6-73ca-460f-8d65-8502f8eb7e02",
   "metadata": {},
   "outputs": [
    {
     "data": {
      "text/html": [
       "<div>\n",
       "<style scoped>\n",
       "    .dataframe tbody tr th:only-of-type {\n",
       "        vertical-align: middle;\n",
       "    }\n",
       "\n",
       "    .dataframe tbody tr th {\n",
       "        vertical-align: top;\n",
       "    }\n",
       "\n",
       "    .dataframe thead th {\n",
       "        text-align: right;\n",
       "    }\n",
       "</style>\n",
       "<table border=\"1\" class=\"dataframe\">\n",
       "  <thead>\n",
       "    <tr style=\"text-align: right;\">\n",
       "      <th></th>\n",
       "      <th>name</th>\n",
       "      <th>brand</th>\n",
       "      <th>categories</th>\n",
       "      <th>primaryCategories</th>\n",
       "      <th>reviews.date</th>\n",
       "      <th>reviews.text</th>\n",
       "      <th>reviews.title</th>\n",
       "      <th>sentiment</th>\n",
       "    </tr>\n",
       "  </thead>\n",
       "  <tbody>\n",
       "    <tr>\n",
       "      <th>0</th>\n",
       "      <td>All-New Fire HD 8 Tablet, 8\" HD Display, Wi-Fi...</td>\n",
       "      <td>Amazon</td>\n",
       "      <td>Electronics,iPad &amp; Tablets,All Tablets,Fire Ta...</td>\n",
       "      <td>Electronics</td>\n",
       "      <td>2016-12-26T00:00:00.000Z</td>\n",
       "      <td>Purchased on Black FridayPros - Great Price (e...</td>\n",
       "      <td>Powerful tablet</td>\n",
       "      <td>Positive</td>\n",
       "    </tr>\n",
       "    <tr>\n",
       "      <th>1</th>\n",
       "      <td>Amazon - Echo Plus w/ Built-In Hub - Silver</td>\n",
       "      <td>Amazon</td>\n",
       "      <td>Amazon Echo,Smart Home,Networking,Home &amp; Tools...</td>\n",
       "      <td>Electronics,Hardware</td>\n",
       "      <td>2018-01-17T00:00:00.000Z</td>\n",
       "      <td>I purchased two Amazon in Echo Plus and two do...</td>\n",
       "      <td>Amazon Echo Plus AWESOME</td>\n",
       "      <td>Positive</td>\n",
       "    </tr>\n",
       "    <tr>\n",
       "      <th>2</th>\n",
       "      <td>Amazon Echo Show Alexa-enabled Bluetooth Speak...</td>\n",
       "      <td>Amazon</td>\n",
       "      <td>Amazon Echo,Virtual Assistant Speakers,Electro...</td>\n",
       "      <td>Electronics,Hardware</td>\n",
       "      <td>2017-12-20T00:00:00.000Z</td>\n",
       "      <td>Just an average Alexa option. Does show a few ...</td>\n",
       "      <td>Average</td>\n",
       "      <td>Neutral</td>\n",
       "    </tr>\n",
       "    <tr>\n",
       "      <th>3</th>\n",
       "      <td>Fire HD 10 Tablet, 10.1 HD Display, Wi-Fi, 16 ...</td>\n",
       "      <td>Amazon</td>\n",
       "      <td>eBook Readers,Fire Tablets,Electronics Feature...</td>\n",
       "      <td>Office Supplies,Electronics</td>\n",
       "      <td>2017-08-04T00:00:00.000Z</td>\n",
       "      <td>very good product. Exactly what I wanted, and ...</td>\n",
       "      <td>Greattttttt</td>\n",
       "      <td>Positive</td>\n",
       "    </tr>\n",
       "    <tr>\n",
       "      <th>4</th>\n",
       "      <td>Brand New Amazon Kindle Fire 16gb 7\" Ips Displ...</td>\n",
       "      <td>Amazon</td>\n",
       "      <td>Computers/Tablets &amp; Networking,Tablets &amp; eBook...</td>\n",
       "      <td>Electronics</td>\n",
       "      <td>2017-01-23T00:00:00.000Z</td>\n",
       "      <td>This is the 3rd one I've purchased. I've bough...</td>\n",
       "      <td>Very durable!</td>\n",
       "      <td>Positive</td>\n",
       "    </tr>\n",
       "  </tbody>\n",
       "</table>\n",
       "</div>"
      ],
      "text/plain": [
       "                                                name   brand  \\\n",
       "0  All-New Fire HD 8 Tablet, 8\" HD Display, Wi-Fi...  Amazon   \n",
       "1        Amazon - Echo Plus w/ Built-In Hub - Silver  Amazon   \n",
       "2  Amazon Echo Show Alexa-enabled Bluetooth Speak...  Amazon   \n",
       "3  Fire HD 10 Tablet, 10.1 HD Display, Wi-Fi, 16 ...  Amazon   \n",
       "4  Brand New Amazon Kindle Fire 16gb 7\" Ips Displ...  Amazon   \n",
       "\n",
       "                                          categories  \\\n",
       "0  Electronics,iPad & Tablets,All Tablets,Fire Ta...   \n",
       "1  Amazon Echo,Smart Home,Networking,Home & Tools...   \n",
       "2  Amazon Echo,Virtual Assistant Speakers,Electro...   \n",
       "3  eBook Readers,Fire Tablets,Electronics Feature...   \n",
       "4  Computers/Tablets & Networking,Tablets & eBook...   \n",
       "\n",
       "             primaryCategories              reviews.date  \\\n",
       "0                  Electronics  2016-12-26T00:00:00.000Z   \n",
       "1         Electronics,Hardware  2018-01-17T00:00:00.000Z   \n",
       "2         Electronics,Hardware  2017-12-20T00:00:00.000Z   \n",
       "3  Office Supplies,Electronics  2017-08-04T00:00:00.000Z   \n",
       "4                  Electronics  2017-01-23T00:00:00.000Z   \n",
       "\n",
       "                                        reviews.text  \\\n",
       "0  Purchased on Black FridayPros - Great Price (e...   \n",
       "1  I purchased two Amazon in Echo Plus and two do...   \n",
       "2  Just an average Alexa option. Does show a few ...   \n",
       "3  very good product. Exactly what I wanted, and ...   \n",
       "4  This is the 3rd one I've purchased. I've bough...   \n",
       "\n",
       "              reviews.title sentiment  \n",
       "0           Powerful tablet  Positive  \n",
       "1  Amazon Echo Plus AWESOME  Positive  \n",
       "2                   Average   Neutral  \n",
       "3               Greattttttt  Positive  \n",
       "4             Very durable!  Positive  "
      ]
     },
     "execution_count": 3,
     "metadata": {},
     "output_type": "execute_result"
    }
   ],
   "source": [
    "train_data.head()"
   ]
  },
  {
   "cell_type": "code",
   "execution_count": 4,
   "id": "fea02ef4-4be0-4ffc-acb0-657c86d8053d",
   "metadata": {},
   "outputs": [
    {
     "data": {
      "text/plain": [
       "name                  0\n",
       "brand                 0\n",
       "categories            0\n",
       "primaryCategories     0\n",
       "reviews.date          0\n",
       "reviews.text          0\n",
       "reviews.title        10\n",
       "sentiment             0\n",
       "dtype: int64"
      ]
     },
     "execution_count": 4,
     "metadata": {},
     "output_type": "execute_result"
    }
   ],
   "source": [
    "train_data.isna().sum()"
   ]
  },
  {
   "cell_type": "code",
   "execution_count": 5,
   "id": "65fb9d86-e345-4881-9812-2dd5b8f42d3b",
   "metadata": {},
   "outputs": [],
   "source": [
    "test_data=pd.read_csv(\"test_data.csv\")"
   ]
  },
  {
   "cell_type": "code",
   "execution_count": 6,
   "id": "af2b0367-68c8-44cc-a86f-f25719b0af07",
   "metadata": {},
   "outputs": [
    {
     "data": {
      "text/html": [
       "<div>\n",
       "<style scoped>\n",
       "    .dataframe tbody tr th:only-of-type {\n",
       "        vertical-align: middle;\n",
       "    }\n",
       "\n",
       "    .dataframe tbody tr th {\n",
       "        vertical-align: top;\n",
       "    }\n",
       "\n",
       "    .dataframe thead th {\n",
       "        text-align: right;\n",
       "    }\n",
       "</style>\n",
       "<table border=\"1\" class=\"dataframe\">\n",
       "  <thead>\n",
       "    <tr style=\"text-align: right;\">\n",
       "      <th></th>\n",
       "      <th>name</th>\n",
       "      <th>brand</th>\n",
       "      <th>categories</th>\n",
       "      <th>primaryCategories</th>\n",
       "      <th>reviews.date</th>\n",
       "      <th>reviews.text</th>\n",
       "      <th>reviews.title</th>\n",
       "    </tr>\n",
       "  </thead>\n",
       "  <tbody>\n",
       "    <tr>\n",
       "      <th>0</th>\n",
       "      <td>Fire Tablet, 7 Display, Wi-Fi, 16 GB - Include...</td>\n",
       "      <td>Amazon</td>\n",
       "      <td>Fire Tablets,Computers/Tablets &amp; Networking,Ta...</td>\n",
       "      <td>Electronics</td>\n",
       "      <td>2016-05-23T00:00:00.000Z</td>\n",
       "      <td>Amazon kindle fire has a lot of free app and c...</td>\n",
       "      <td>very handy device</td>\n",
       "    </tr>\n",
       "    <tr>\n",
       "      <th>1</th>\n",
       "      <td>Amazon Echo Show Alexa-enabled Bluetooth Speak...</td>\n",
       "      <td>Amazon</td>\n",
       "      <td>Computers,Amazon Echo,Virtual Assistant Speake...</td>\n",
       "      <td>Electronics,Hardware</td>\n",
       "      <td>2018-01-02T00:00:00.000Z</td>\n",
       "      <td>The Echo Show is a great addition to the Amazo...</td>\n",
       "      <td>Another winner from Amazon</td>\n",
       "    </tr>\n",
       "    <tr>\n",
       "      <th>2</th>\n",
       "      <td>All-New Fire HD 8 Tablet, 8\" HD Display, Wi-Fi...</td>\n",
       "      <td>Amazon</td>\n",
       "      <td>Electronics,iPad &amp; Tablets,All Tablets,Fire Ta...</td>\n",
       "      <td>Electronics</td>\n",
       "      <td>2017-01-02T00:00:00.000Z</td>\n",
       "      <td>Great value from Best Buy. Bought at Christmas...</td>\n",
       "      <td>simple to use and reliable so far</td>\n",
       "    </tr>\n",
       "    <tr>\n",
       "      <th>3</th>\n",
       "      <td>Brand New Amazon Kindle Fire 16gb 7\" Ips Displ...</td>\n",
       "      <td>Amazon</td>\n",
       "      <td>Computers/Tablets &amp; Networking,Tablets &amp; eBook...</td>\n",
       "      <td>Electronics</td>\n",
       "      <td>2017-03-25T00:00:00.000Z</td>\n",
       "      <td>I use mine for email, Facebook ,games and to g...</td>\n",
       "      <td>Love it!!!</td>\n",
       "    </tr>\n",
       "    <tr>\n",
       "      <th>4</th>\n",
       "      <td>Amazon Echo Show Alexa-enabled Bluetooth Speak...</td>\n",
       "      <td>Amazon</td>\n",
       "      <td>Computers,Amazon Echo,Virtual Assistant Speake...</td>\n",
       "      <td>Electronics,Hardware</td>\n",
       "      <td>2017-11-15T00:00:00.000Z</td>\n",
       "      <td>This is a fantastic item &amp; the person I bought...</td>\n",
       "      <td>Fantastic!</td>\n",
       "    </tr>\n",
       "  </tbody>\n",
       "</table>\n",
       "</div>"
      ],
      "text/plain": [
       "                                                name   brand  \\\n",
       "0  Fire Tablet, 7 Display, Wi-Fi, 16 GB - Include...  Amazon   \n",
       "1  Amazon Echo Show Alexa-enabled Bluetooth Speak...  Amazon   \n",
       "2  All-New Fire HD 8 Tablet, 8\" HD Display, Wi-Fi...  Amazon   \n",
       "3  Brand New Amazon Kindle Fire 16gb 7\" Ips Displ...  Amazon   \n",
       "4  Amazon Echo Show Alexa-enabled Bluetooth Speak...  Amazon   \n",
       "\n",
       "                                          categories     primaryCategories  \\\n",
       "0  Fire Tablets,Computers/Tablets & Networking,Ta...           Electronics   \n",
       "1  Computers,Amazon Echo,Virtual Assistant Speake...  Electronics,Hardware   \n",
       "2  Electronics,iPad & Tablets,All Tablets,Fire Ta...           Electronics   \n",
       "3  Computers/Tablets & Networking,Tablets & eBook...           Electronics   \n",
       "4  Computers,Amazon Echo,Virtual Assistant Speake...  Electronics,Hardware   \n",
       "\n",
       "               reviews.date  \\\n",
       "0  2016-05-23T00:00:00.000Z   \n",
       "1  2018-01-02T00:00:00.000Z   \n",
       "2  2017-01-02T00:00:00.000Z   \n",
       "3  2017-03-25T00:00:00.000Z   \n",
       "4  2017-11-15T00:00:00.000Z   \n",
       "\n",
       "                                        reviews.text  \\\n",
       "0  Amazon kindle fire has a lot of free app and c...   \n",
       "1  The Echo Show is a great addition to the Amazo...   \n",
       "2  Great value from Best Buy. Bought at Christmas...   \n",
       "3  I use mine for email, Facebook ,games and to g...   \n",
       "4  This is a fantastic item & the person I bought...   \n",
       "\n",
       "                       reviews.title  \n",
       "0                  very handy device  \n",
       "1         Another winner from Amazon  \n",
       "2  simple to use and reliable so far  \n",
       "3                         Love it!!!  \n",
       "4                         Fantastic!  "
      ]
     },
     "execution_count": 6,
     "metadata": {},
     "output_type": "execute_result"
    }
   ],
   "source": [
    "test_data.head()"
   ]
  },
  {
   "cell_type": "markdown",
   "id": "e02899ef-4afe-4736-9fd4-fa246eb69350",
   "metadata": {},
   "source": [
    "## WEEK 1 TASKS"
   ]
  },
  {
   "cell_type": "code",
   "execution_count": 7,
   "id": "1ef1ded3-b7a7-4b02-9d4e-209afc5b9477",
   "metadata": {},
   "outputs": [
    {
     "data": {
      "text/plain": [
       "name                 0\n",
       "brand                0\n",
       "categories           0\n",
       "primaryCategories    0\n",
       "reviews.date         0\n",
       "reviews.text         0\n",
       "reviews.title        3\n",
       "dtype: int64"
      ]
     },
     "execution_count": 7,
     "metadata": {},
     "output_type": "execute_result"
    }
   ],
   "source": [
    "test_data.isna().sum()"
   ]
  },
  {
   "cell_type": "code",
   "execution_count": 8,
   "id": "2c955fc3-bc52-48df-a066-58cee5a34497",
   "metadata": {},
   "outputs": [],
   "source": [
    "test_data_hidden=pd.read_csv(\"test_data_hidden.csv\")"
   ]
  },
  {
   "cell_type": "code",
   "execution_count": 9,
   "id": "3ff325c4-d7a1-4e0f-aa10-69770974e3b2",
   "metadata": {},
   "outputs": [
    {
     "data": {
      "text/plain": [
       "name                 0\n",
       "brand                0\n",
       "categories           0\n",
       "primaryCategories    0\n",
       "reviews.date         0\n",
       "reviews.text         0\n",
       "reviews.title        3\n",
       "sentiment            0\n",
       "dtype: int64"
      ]
     },
     "execution_count": 9,
     "metadata": {},
     "output_type": "execute_result"
    }
   ],
   "source": [
    "test_data_hidden.isna().sum()"
   ]
  },
  {
   "cell_type": "code",
   "execution_count": 10,
   "id": "75c23381-015a-4c15-9121-e14c1d956d25",
   "metadata": {},
   "outputs": [
    {
     "data": {
      "text/plain": [
       "Positive    3749\n",
       "Neutral      158\n",
       "Negative      93\n",
       "Name: sentiment, dtype: int64"
      ]
     },
     "execution_count": 10,
     "metadata": {},
     "output_type": "execute_result"
    }
   ],
   "source": [
    "train_data['sentiment'].value_counts()"
   ]
  },
  {
   "cell_type": "code",
   "execution_count": 11,
   "id": "8a12ace4-a92e-47a5-bc4b-3e31b8c8139b",
   "metadata": {},
   "outputs": [
    {
     "data": {
      "text/plain": [
       "Positive    937\n",
       "Neutral      39\n",
       "Negative     24\n",
       "Name: sentiment, dtype: int64"
      ]
     },
     "execution_count": 11,
     "metadata": {},
     "output_type": "execute_result"
    }
   ],
   "source": [
    "test_data_hidden['sentiment'].value_counts()"
   ]
  },
  {
   "cell_type": "code",
   "execution_count": 12,
   "id": "1622a6fe-8240-48a7-94d0-fb6101e00aea",
   "metadata": {},
   "outputs": [],
   "source": [
    "tf_idf=TfidfVectorizer()"
   ]
  },
  {
   "cell_type": "markdown",
   "id": "0d880937-44e0-4899-93d7-edbd1ddbae2b",
   "metadata": {},
   "source": [
    "## so here test data dont have target variable and for both train and test hidden data has target variable so we combine these both as master data"
   ]
  },
  {
   "cell_type": "code",
   "execution_count": 13,
   "id": "3f56787b-1126-4e5d-b155-1597d4facb83",
   "metadata": {},
   "outputs": [],
   "source": [
    "master_data=pd.concat([train_data,test_data_hidden])"
   ]
  },
  {
   "cell_type": "code",
   "execution_count": 14,
   "id": "1cf65ea7-60a3-4b48-be91-d68fc3cd7e4f",
   "metadata": {},
   "outputs": [],
   "source": [
    "master_data=master_data.reset_index(drop=True)"
   ]
  },
  {
   "cell_type": "code",
   "execution_count": 15,
   "id": "1927273f-df92-4071-8c75-330ff28ae82f",
   "metadata": {},
   "outputs": [
    {
     "data": {
      "text/plain": [
       "(5000, 8)"
      ]
     },
     "execution_count": 15,
     "metadata": {},
     "output_type": "execute_result"
    }
   ],
   "source": [
    "master_data.shape"
   ]
  },
  {
   "cell_type": "code",
   "execution_count": 16,
   "id": "9480617b-af01-4fd3-95bc-dd529b393314",
   "metadata": {},
   "outputs": [
    {
     "data": {
      "text/plain": [
       "name                  0\n",
       "brand                 0\n",
       "categories            0\n",
       "primaryCategories     0\n",
       "reviews.date          0\n",
       "reviews.text          0\n",
       "reviews.title        13\n",
       "sentiment             0\n",
       "dtype: int64"
      ]
     },
     "execution_count": 16,
     "metadata": {},
     "output_type": "execute_result"
    }
   ],
   "source": [
    "master_data.isna().sum()"
   ]
  },
  {
   "cell_type": "code",
   "execution_count": 17,
   "id": "106d8306-8766-4bc5-86e9-43103e2daf73",
   "metadata": {},
   "outputs": [],
   "source": [
    "master_data.dropna(inplace=bool(1))"
   ]
  },
  {
   "cell_type": "code",
   "execution_count": 18,
   "id": "082a0801-40e1-4fc3-9fd9-4d3fc1c54cdb",
   "metadata": {},
   "outputs": [
    {
     "data": {
      "text/html": [
       "<div>\n",
       "<style scoped>\n",
       "    .dataframe tbody tr th:only-of-type {\n",
       "        vertical-align: middle;\n",
       "    }\n",
       "\n",
       "    .dataframe tbody tr th {\n",
       "        vertical-align: top;\n",
       "    }\n",
       "\n",
       "    .dataframe thead th {\n",
       "        text-align: right;\n",
       "    }\n",
       "</style>\n",
       "<table border=\"1\" class=\"dataframe\">\n",
       "  <thead>\n",
       "    <tr style=\"text-align: right;\">\n",
       "      <th></th>\n",
       "      <th>name</th>\n",
       "      <th>brand</th>\n",
       "      <th>categories</th>\n",
       "      <th>primaryCategories</th>\n",
       "      <th>reviews.date</th>\n",
       "      <th>reviews.text</th>\n",
       "      <th>reviews.title</th>\n",
       "      <th>sentiment</th>\n",
       "    </tr>\n",
       "  </thead>\n",
       "  <tbody>\n",
       "    <tr>\n",
       "      <th>0</th>\n",
       "      <td>All-New Fire HD 8 Tablet, 8\" HD Display, Wi-Fi...</td>\n",
       "      <td>Amazon</td>\n",
       "      <td>Electronics,iPad &amp; Tablets,All Tablets,Fire Ta...</td>\n",
       "      <td>Electronics</td>\n",
       "      <td>2016-12-26T00:00:00.000Z</td>\n",
       "      <td>Purchased on Black FridayPros - Great Price (e...</td>\n",
       "      <td>Powerful tablet</td>\n",
       "      <td>Positive</td>\n",
       "    </tr>\n",
       "    <tr>\n",
       "      <th>1</th>\n",
       "      <td>Amazon - Echo Plus w/ Built-In Hub - Silver</td>\n",
       "      <td>Amazon</td>\n",
       "      <td>Amazon Echo,Smart Home,Networking,Home &amp; Tools...</td>\n",
       "      <td>Electronics,Hardware</td>\n",
       "      <td>2018-01-17T00:00:00.000Z</td>\n",
       "      <td>I purchased two Amazon in Echo Plus and two do...</td>\n",
       "      <td>Amazon Echo Plus AWESOME</td>\n",
       "      <td>Positive</td>\n",
       "    </tr>\n",
       "    <tr>\n",
       "      <th>2</th>\n",
       "      <td>Amazon Echo Show Alexa-enabled Bluetooth Speak...</td>\n",
       "      <td>Amazon</td>\n",
       "      <td>Amazon Echo,Virtual Assistant Speakers,Electro...</td>\n",
       "      <td>Electronics,Hardware</td>\n",
       "      <td>2017-12-20T00:00:00.000Z</td>\n",
       "      <td>Just an average Alexa option. Does show a few ...</td>\n",
       "      <td>Average</td>\n",
       "      <td>Neutral</td>\n",
       "    </tr>\n",
       "    <tr>\n",
       "      <th>3</th>\n",
       "      <td>Fire HD 10 Tablet, 10.1 HD Display, Wi-Fi, 16 ...</td>\n",
       "      <td>Amazon</td>\n",
       "      <td>eBook Readers,Fire Tablets,Electronics Feature...</td>\n",
       "      <td>Office Supplies,Electronics</td>\n",
       "      <td>2017-08-04T00:00:00.000Z</td>\n",
       "      <td>very good product. Exactly what I wanted, and ...</td>\n",
       "      <td>Greattttttt</td>\n",
       "      <td>Positive</td>\n",
       "    </tr>\n",
       "    <tr>\n",
       "      <th>4</th>\n",
       "      <td>Brand New Amazon Kindle Fire 16gb 7\" Ips Displ...</td>\n",
       "      <td>Amazon</td>\n",
       "      <td>Computers/Tablets &amp; Networking,Tablets &amp; eBook...</td>\n",
       "      <td>Electronics</td>\n",
       "      <td>2017-01-23T00:00:00.000Z</td>\n",
       "      <td>This is the 3rd one I've purchased. I've bough...</td>\n",
       "      <td>Very durable!</td>\n",
       "      <td>Positive</td>\n",
       "    </tr>\n",
       "  </tbody>\n",
       "</table>\n",
       "</div>"
      ],
      "text/plain": [
       "                                                name   brand  \\\n",
       "0  All-New Fire HD 8 Tablet, 8\" HD Display, Wi-Fi...  Amazon   \n",
       "1        Amazon - Echo Plus w/ Built-In Hub - Silver  Amazon   \n",
       "2  Amazon Echo Show Alexa-enabled Bluetooth Speak...  Amazon   \n",
       "3  Fire HD 10 Tablet, 10.1 HD Display, Wi-Fi, 16 ...  Amazon   \n",
       "4  Brand New Amazon Kindle Fire 16gb 7\" Ips Displ...  Amazon   \n",
       "\n",
       "                                          categories  \\\n",
       "0  Electronics,iPad & Tablets,All Tablets,Fire Ta...   \n",
       "1  Amazon Echo,Smart Home,Networking,Home & Tools...   \n",
       "2  Amazon Echo,Virtual Assistant Speakers,Electro...   \n",
       "3  eBook Readers,Fire Tablets,Electronics Feature...   \n",
       "4  Computers/Tablets & Networking,Tablets & eBook...   \n",
       "\n",
       "             primaryCategories              reviews.date  \\\n",
       "0                  Electronics  2016-12-26T00:00:00.000Z   \n",
       "1         Electronics,Hardware  2018-01-17T00:00:00.000Z   \n",
       "2         Electronics,Hardware  2017-12-20T00:00:00.000Z   \n",
       "3  Office Supplies,Electronics  2017-08-04T00:00:00.000Z   \n",
       "4                  Electronics  2017-01-23T00:00:00.000Z   \n",
       "\n",
       "                                        reviews.text  \\\n",
       "0  Purchased on Black FridayPros - Great Price (e...   \n",
       "1  I purchased two Amazon in Echo Plus and two do...   \n",
       "2  Just an average Alexa option. Does show a few ...   \n",
       "3  very good product. Exactly what I wanted, and ...   \n",
       "4  This is the 3rd one I've purchased. I've bough...   \n",
       "\n",
       "              reviews.title sentiment  \n",
       "0           Powerful tablet  Positive  \n",
       "1  Amazon Echo Plus AWESOME  Positive  \n",
       "2                   Average   Neutral  \n",
       "3               Greattttttt  Positive  \n",
       "4             Very durable!  Positive  "
      ]
     },
     "execution_count": 18,
     "metadata": {},
     "output_type": "execute_result"
    }
   ],
   "source": [
    "master_data.head()"
   ]
  },
  {
   "cell_type": "code",
   "execution_count": 19,
   "id": "5375b703-01d8-4b7c-9f6c-0f077969bae9",
   "metadata": {},
   "outputs": [
    {
     "data": {
      "text/plain": [
       "Positive    4673\n",
       "Neutral      197\n",
       "Negative     117\n",
       "Name: sentiment, dtype: int64"
      ]
     },
     "execution_count": 19,
     "metadata": {},
     "output_type": "execute_result"
    }
   ],
   "source": [
    "master_data['sentiment'].value_counts()"
   ]
  },
  {
   "cell_type": "code",
   "execution_count": 20,
   "id": "be4fd75a-7e83-419d-a139-3990de16b543",
   "metadata": {},
   "outputs": [],
   "source": [
    "X=tf_idf.fit_transform(master_data['reviews.text'])\n",
    "X=X.toarray()"
   ]
  },
  {
   "cell_type": "code",
   "execution_count": 21,
   "id": "ca84e655-214a-460c-9c59-8433d8ac0007",
   "metadata": {},
   "outputs": [],
   "source": [
    "from sklearn.model_selection import train_test_split\n",
    "x_train,x_test,y_train,y_test=train_test_split(X,master_data['sentiment'], test_size=0.3,random_state=43)"
   ]
  },
  {
   "cell_type": "code",
   "execution_count": 22,
   "id": "d68efc77-907f-4deb-99e8-fb3dfaa6204a",
   "metadata": {},
   "outputs": [],
   "source": [
    "naive=MultinomialNB()"
   ]
  },
  {
   "cell_type": "code",
   "execution_count": 23,
   "id": "7277c74e-ad80-4767-ba92-9e19ae78fd86",
   "metadata": {},
   "outputs": [
    {
     "data": {
      "text/html": [
       "<style>#sk-container-id-1 {color: black;background-color: white;}#sk-container-id-1 pre{padding: 0;}#sk-container-id-1 div.sk-toggleable {background-color: white;}#sk-container-id-1 label.sk-toggleable__label {cursor: pointer;display: block;width: 100%;margin-bottom: 0;padding: 0.3em;box-sizing: border-box;text-align: center;}#sk-container-id-1 label.sk-toggleable__label-arrow:before {content: \"▸\";float: left;margin-right: 0.25em;color: #696969;}#sk-container-id-1 label.sk-toggleable__label-arrow:hover:before {color: black;}#sk-container-id-1 div.sk-estimator:hover label.sk-toggleable__label-arrow:before {color: black;}#sk-container-id-1 div.sk-toggleable__content {max-height: 0;max-width: 0;overflow: hidden;text-align: left;background-color: #f0f8ff;}#sk-container-id-1 div.sk-toggleable__content pre {margin: 0.2em;color: black;border-radius: 0.25em;background-color: #f0f8ff;}#sk-container-id-1 input.sk-toggleable__control:checked~div.sk-toggleable__content {max-height: 200px;max-width: 100%;overflow: auto;}#sk-container-id-1 input.sk-toggleable__control:checked~label.sk-toggleable__label-arrow:before {content: \"▾\";}#sk-container-id-1 div.sk-estimator input.sk-toggleable__control:checked~label.sk-toggleable__label {background-color: #d4ebff;}#sk-container-id-1 div.sk-label input.sk-toggleable__control:checked~label.sk-toggleable__label {background-color: #d4ebff;}#sk-container-id-1 input.sk-hidden--visually {border: 0;clip: rect(1px 1px 1px 1px);clip: rect(1px, 1px, 1px, 1px);height: 1px;margin: -1px;overflow: hidden;padding: 0;position: absolute;width: 1px;}#sk-container-id-1 div.sk-estimator {font-family: monospace;background-color: #f0f8ff;border: 1px dotted black;border-radius: 0.25em;box-sizing: border-box;margin-bottom: 0.5em;}#sk-container-id-1 div.sk-estimator:hover {background-color: #d4ebff;}#sk-container-id-1 div.sk-parallel-item::after {content: \"\";width: 100%;border-bottom: 1px solid gray;flex-grow: 1;}#sk-container-id-1 div.sk-label:hover label.sk-toggleable__label {background-color: #d4ebff;}#sk-container-id-1 div.sk-serial::before {content: \"\";position: absolute;border-left: 1px solid gray;box-sizing: border-box;top: 0;bottom: 0;left: 50%;z-index: 0;}#sk-container-id-1 div.sk-serial {display: flex;flex-direction: column;align-items: center;background-color: white;padding-right: 0.2em;padding-left: 0.2em;position: relative;}#sk-container-id-1 div.sk-item {position: relative;z-index: 1;}#sk-container-id-1 div.sk-parallel {display: flex;align-items: stretch;justify-content: center;background-color: white;position: relative;}#sk-container-id-1 div.sk-item::before, #sk-container-id-1 div.sk-parallel-item::before {content: \"\";position: absolute;border-left: 1px solid gray;box-sizing: border-box;top: 0;bottom: 0;left: 50%;z-index: -1;}#sk-container-id-1 div.sk-parallel-item {display: flex;flex-direction: column;z-index: 1;position: relative;background-color: white;}#sk-container-id-1 div.sk-parallel-item:first-child::after {align-self: flex-end;width: 50%;}#sk-container-id-1 div.sk-parallel-item:last-child::after {align-self: flex-start;width: 50%;}#sk-container-id-1 div.sk-parallel-item:only-child::after {width: 0;}#sk-container-id-1 div.sk-dashed-wrapped {border: 1px dashed gray;margin: 0 0.4em 0.5em 0.4em;box-sizing: border-box;padding-bottom: 0.4em;background-color: white;}#sk-container-id-1 div.sk-label label {font-family: monospace;font-weight: bold;display: inline-block;line-height: 1.2em;}#sk-container-id-1 div.sk-label-container {text-align: center;}#sk-container-id-1 div.sk-container {/* jupyter's `normalize.less` sets `[hidden] { display: none; }` but bootstrap.min.css set `[hidden] { display: none !important; }` so we also need the `!important` here to be able to override the default hidden behavior on the sphinx rendered scikit-learn.org. See: https://github.com/scikit-learn/scikit-learn/issues/21755 */display: inline-block !important;position: relative;}#sk-container-id-1 div.sk-text-repr-fallback {display: none;}</style><div id=\"sk-container-id-1\" class=\"sk-top-container\"><div class=\"sk-text-repr-fallback\"><pre>MultinomialNB()</pre><b>In a Jupyter environment, please rerun this cell to show the HTML representation or trust the notebook. <br />On GitHub, the HTML representation is unable to render, please try loading this page with nbviewer.org.</b></div><div class=\"sk-container\" hidden><div class=\"sk-item\"><div class=\"sk-estimator sk-toggleable\"><input class=\"sk-toggleable__control sk-hidden--visually\" id=\"sk-estimator-id-1\" type=\"checkbox\" checked><label for=\"sk-estimator-id-1\" class=\"sk-toggleable__label sk-toggleable__label-arrow\">MultinomialNB</label><div class=\"sk-toggleable__content\"><pre>MultinomialNB()</pre></div></div></div></div></div>"
      ],
      "text/plain": [
       "MultinomialNB()"
      ]
     },
     "execution_count": 23,
     "metadata": {},
     "output_type": "execute_result"
    }
   ],
   "source": [
    "naive.fit(x_train,y_train)"
   ]
  },
  {
   "cell_type": "code",
   "execution_count": 24,
   "id": "82acbbac-d047-4c10-ae16-7508a7ef50bd",
   "metadata": {},
   "outputs": [],
   "source": [
    "y_pred=naive.predict(x_test)"
   ]
  },
  {
   "cell_type": "code",
   "execution_count": 26,
   "id": "0e5a82fc-f4da-4ea2-92ae-4057249ae04c",
   "metadata": {},
   "outputs": [
    {
     "name": "stdout",
     "output_type": "stream",
     "text": [
      "              precision    recall  f1-score   support\n",
      "\n",
      "    Negative       0.00      0.00      0.00         0\n",
      "     Neutral       0.00      0.00      0.00         0\n",
      "    Positive       1.00      0.94      0.97      1497\n",
      "\n",
      "    accuracy                           0.94      1497\n",
      "   macro avg       0.33      0.31      0.32      1497\n",
      "weighted avg       1.00      0.94      0.97      1497\n",
      "\n"
     ]
    },
    {
     "name": "stderr",
     "output_type": "stream",
     "text": [
      "C:\\ProgramData\\Anaconda3\\lib\\site-packages\\sklearn\\metrics\\_classification.py:1334: UndefinedMetricWarning: Recall and F-score are ill-defined and being set to 0.0 in labels with no true samples. Use `zero_division` parameter to control this behavior.\n",
      "  _warn_prf(average, modifier, msg_start, len(result))\n",
      "C:\\ProgramData\\Anaconda3\\lib\\site-packages\\sklearn\\metrics\\_classification.py:1334: UndefinedMetricWarning: Recall and F-score are ill-defined and being set to 0.0 in labels with no true samples. Use `zero_division` parameter to control this behavior.\n",
      "  _warn_prf(average, modifier, msg_start, len(result))\n",
      "C:\\ProgramData\\Anaconda3\\lib\\site-packages\\sklearn\\metrics\\_classification.py:1334: UndefinedMetricWarning: Recall and F-score are ill-defined and being set to 0.0 in labels with no true samples. Use `zero_division` parameter to control this behavior.\n",
      "  _warn_prf(average, modifier, msg_start, len(result))\n"
     ]
    }
   ],
   "source": [
    "print(classification_report(y_pred, y_test, zero_division='warn'))"
   ]
  },
  {
   "cell_type": "code",
   "execution_count": 27,
   "id": "31d70f83-6866-4148-aa26-e6d7856e6ed9",
   "metadata": {},
   "outputs": [],
   "source": [
    "tf_test_data=tf_idf.transform(test_data['reviews.text'])\n",
    "tf_test_data=tf_test_data.toarray()"
   ]
  },
  {
   "cell_type": "code",
   "execution_count": 22,
   "id": "dc616bcf-c202-4fc9-a68c-81188524474c",
   "metadata": {},
   "outputs": [],
   "source": [
    "tf_idf2=TfidfVectorizer()"
   ]
  },
  {
   "cell_type": "code",
   "execution_count": 23,
   "id": "3bd6f5bd-c24f-4a5d-97d1-029b75da1b2a",
   "metadata": {},
   "outputs": [],
   "source": [
    "X1=tf_idf2.fit_transform(master_data['reviews.title'])\n",
    "X1=X1.toarray()"
   ]
  },
  {
   "cell_type": "code",
   "execution_count": 24,
   "id": "199c96cc-de15-411c-babb-60fd0240f64d",
   "metadata": {},
   "outputs": [],
   "source": [
    "X=pd.DataFrame(X)\n",
    "X1=pd.DataFrame(X1)"
   ]
  },
  {
   "cell_type": "code",
   "execution_count": 25,
   "id": "1f1709c9-c065-46d7-9b3c-09ed204bbb10",
   "metadata": {},
   "outputs": [
    {
     "data": {
      "text/plain": [
       "((4987, 5401), (4987, 1392))"
      ]
     },
     "execution_count": 25,
     "metadata": {},
     "output_type": "execute_result"
    }
   ],
   "source": [
    "X.shape, X1.shape"
   ]
  },
  {
   "cell_type": "code",
   "execution_count": 32,
   "id": "53a54d48-9ac9-4033-96d8-3ca13dfa086b",
   "metadata": {},
   "outputs": [],
   "source": [
    "y_test_value=naive.predict(tf_test_data)"
   ]
  },
  {
   "cell_type": "code",
   "execution_count": 33,
   "id": "c28d1bc1-f2c5-45cc-870c-5c27525b961f",
   "metadata": {},
   "outputs": [],
   "source": [
    "new_test_data=test_data"
   ]
  },
  {
   "cell_type": "code",
   "execution_count": 34,
   "id": "0e543489-f753-4390-8347-93516f836db6",
   "metadata": {},
   "outputs": [],
   "source": [
    "new_test_data['predicted_sentiment']=y_test_value"
   ]
  },
  {
   "cell_type": "code",
   "execution_count": 35,
   "id": "0ec57a87-6549-493f-a878-a10f685f200d",
   "metadata": {},
   "outputs": [
    {
     "data": {
      "text/html": [
       "<div>\n",
       "<style scoped>\n",
       "    .dataframe tbody tr th:only-of-type {\n",
       "        vertical-align: middle;\n",
       "    }\n",
       "\n",
       "    .dataframe tbody tr th {\n",
       "        vertical-align: top;\n",
       "    }\n",
       "\n",
       "    .dataframe thead th {\n",
       "        text-align: right;\n",
       "    }\n",
       "</style>\n",
       "<table border=\"1\" class=\"dataframe\">\n",
       "  <thead>\n",
       "    <tr style=\"text-align: right;\">\n",
       "      <th></th>\n",
       "      <th>name</th>\n",
       "      <th>brand</th>\n",
       "      <th>categories</th>\n",
       "      <th>primaryCategories</th>\n",
       "      <th>reviews.date</th>\n",
       "      <th>reviews.text</th>\n",
       "      <th>reviews.title</th>\n",
       "      <th>predicted_sentiment</th>\n",
       "    </tr>\n",
       "  </thead>\n",
       "  <tbody>\n",
       "    <tr>\n",
       "      <th>0</th>\n",
       "      <td>Fire Tablet, 7 Display, Wi-Fi, 16 GB - Include...</td>\n",
       "      <td>Amazon</td>\n",
       "      <td>Fire Tablets,Computers/Tablets &amp; Networking,Ta...</td>\n",
       "      <td>Electronics</td>\n",
       "      <td>2016-05-23T00:00:00.000Z</td>\n",
       "      <td>Amazon kindle fire has a lot of free app and c...</td>\n",
       "      <td>very handy device</td>\n",
       "      <td>Positive</td>\n",
       "    </tr>\n",
       "    <tr>\n",
       "      <th>1</th>\n",
       "      <td>Amazon Echo Show Alexa-enabled Bluetooth Speak...</td>\n",
       "      <td>Amazon</td>\n",
       "      <td>Computers,Amazon Echo,Virtual Assistant Speake...</td>\n",
       "      <td>Electronics,Hardware</td>\n",
       "      <td>2018-01-02T00:00:00.000Z</td>\n",
       "      <td>The Echo Show is a great addition to the Amazo...</td>\n",
       "      <td>Another winner from Amazon</td>\n",
       "      <td>Positive</td>\n",
       "    </tr>\n",
       "    <tr>\n",
       "      <th>2</th>\n",
       "      <td>All-New Fire HD 8 Tablet, 8\" HD Display, Wi-Fi...</td>\n",
       "      <td>Amazon</td>\n",
       "      <td>Electronics,iPad &amp; Tablets,All Tablets,Fire Ta...</td>\n",
       "      <td>Electronics</td>\n",
       "      <td>2017-01-02T00:00:00.000Z</td>\n",
       "      <td>Great value from Best Buy. Bought at Christmas...</td>\n",
       "      <td>simple to use and reliable so far</td>\n",
       "      <td>Positive</td>\n",
       "    </tr>\n",
       "    <tr>\n",
       "      <th>3</th>\n",
       "      <td>Brand New Amazon Kindle Fire 16gb 7\" Ips Displ...</td>\n",
       "      <td>Amazon</td>\n",
       "      <td>Computers/Tablets &amp; Networking,Tablets &amp; eBook...</td>\n",
       "      <td>Electronics</td>\n",
       "      <td>2017-03-25T00:00:00.000Z</td>\n",
       "      <td>I use mine for email, Facebook ,games and to g...</td>\n",
       "      <td>Love it!!!</td>\n",
       "      <td>Positive</td>\n",
       "    </tr>\n",
       "    <tr>\n",
       "      <th>4</th>\n",
       "      <td>Amazon Echo Show Alexa-enabled Bluetooth Speak...</td>\n",
       "      <td>Amazon</td>\n",
       "      <td>Computers,Amazon Echo,Virtual Assistant Speake...</td>\n",
       "      <td>Electronics,Hardware</td>\n",
       "      <td>2017-11-15T00:00:00.000Z</td>\n",
       "      <td>This is a fantastic item &amp; the person I bought...</td>\n",
       "      <td>Fantastic!</td>\n",
       "      <td>Positive</td>\n",
       "    </tr>\n",
       "  </tbody>\n",
       "</table>\n",
       "</div>"
      ],
      "text/plain": [
       "                                                name   brand  \\\n",
       "0  Fire Tablet, 7 Display, Wi-Fi, 16 GB - Include...  Amazon   \n",
       "1  Amazon Echo Show Alexa-enabled Bluetooth Speak...  Amazon   \n",
       "2  All-New Fire HD 8 Tablet, 8\" HD Display, Wi-Fi...  Amazon   \n",
       "3  Brand New Amazon Kindle Fire 16gb 7\" Ips Displ...  Amazon   \n",
       "4  Amazon Echo Show Alexa-enabled Bluetooth Speak...  Amazon   \n",
       "\n",
       "                                          categories     primaryCategories  \\\n",
       "0  Fire Tablets,Computers/Tablets & Networking,Ta...           Electronics   \n",
       "1  Computers,Amazon Echo,Virtual Assistant Speake...  Electronics,Hardware   \n",
       "2  Electronics,iPad & Tablets,All Tablets,Fire Ta...           Electronics   \n",
       "3  Computers/Tablets & Networking,Tablets & eBook...           Electronics   \n",
       "4  Computers,Amazon Echo,Virtual Assistant Speake...  Electronics,Hardware   \n",
       "\n",
       "               reviews.date  \\\n",
       "0  2016-05-23T00:00:00.000Z   \n",
       "1  2018-01-02T00:00:00.000Z   \n",
       "2  2017-01-02T00:00:00.000Z   \n",
       "3  2017-03-25T00:00:00.000Z   \n",
       "4  2017-11-15T00:00:00.000Z   \n",
       "\n",
       "                                        reviews.text  \\\n",
       "0  Amazon kindle fire has a lot of free app and c...   \n",
       "1  The Echo Show is a great addition to the Amazo...   \n",
       "2  Great value from Best Buy. Bought at Christmas...   \n",
       "3  I use mine for email, Facebook ,games and to g...   \n",
       "4  This is a fantastic item & the person I bought...   \n",
       "\n",
       "                       reviews.title predicted_sentiment  \n",
       "0                  very handy device            Positive  \n",
       "1         Another winner from Amazon            Positive  \n",
       "2  simple to use and reliable so far            Positive  \n",
       "3                         Love it!!!            Positive  \n",
       "4                         Fantastic!            Positive  "
      ]
     },
     "execution_count": 35,
     "metadata": {},
     "output_type": "execute_result"
    }
   ],
   "source": [
    "new_test_data.head()"
   ]
  },
  {
   "cell_type": "code",
   "execution_count": 26,
   "id": "52789a17-a0bf-43b9-b041-932e6521803b",
   "metadata": {},
   "outputs": [],
   "source": [
    "XX=pd.concat([X, X1], axis=1)"
   ]
  },
  {
   "cell_type": "code",
   "execution_count": 27,
   "id": "2202c309-4c66-4621-906d-619a0b3b7143",
   "metadata": {},
   "outputs": [
    {
     "data": {
      "text/plain": [
       "(4987, 6793)"
      ]
     },
     "execution_count": 27,
     "metadata": {},
     "output_type": "execute_result"
    }
   ],
   "source": [
    "XX.shape"
   ]
  },
  {
   "cell_type": "markdown",
   "id": "66b42b1c-3a2e-4ba3-b172-a3cabd8fc8a1",
   "metadata": {},
   "source": [
    "## using smote to balance data"
   ]
  },
  {
   "cell_type": "code",
   "execution_count": 28,
   "id": "9183cfaa-be4d-4dea-bb9c-1e7246674603",
   "metadata": {},
   "outputs": [],
   "source": [
    "sm=SMOTE(random_state=43)"
   ]
  },
  {
   "cell_type": "code",
   "execution_count": 29,
   "id": "d43ceda5-ee5c-48f0-a163-0b7282d29948",
   "metadata": {},
   "outputs": [],
   "source": [
    "X_sm, y_sm=sm.fit_resample(X,master_data['sentiment'])"
   ]
  },
  {
   "cell_type": "code",
   "execution_count": 163,
   "id": "ab26ccb8-1919-4c35-9d60-4c0466a80b2c",
   "metadata": {},
   "outputs": [
    {
     "data": {
      "text/plain": [
       "0        Positive\n",
       "1        Positive\n",
       "2         Neutral\n",
       "3        Positive\n",
       "4        Positive\n",
       "           ...   \n",
       "14014     Neutral\n",
       "14015     Neutral\n",
       "14016     Neutral\n",
       "14017     Neutral\n",
       "14018     Neutral\n",
       "Name: sentiment, Length: 14019, dtype: object"
      ]
     },
     "execution_count": 163,
     "metadata": {},
     "output_type": "execute_result"
    }
   ],
   "source": [
    "y_sm"
   ]
  },
  {
   "cell_type": "code",
   "execution_count": 31,
   "id": "f426a33f-5a41-48c9-b3c2-cd5f0daa671a",
   "metadata": {},
   "outputs": [
    {
     "data": {
      "text/plain": [
       "Positive    4673\n",
       "Negative    4673\n",
       "Neutral     4673\n",
       "Name: sentiment, dtype: int64"
      ]
     },
     "execution_count": 31,
     "metadata": {},
     "output_type": "execute_result"
    }
   ],
   "source": [
    "y_sm.value_counts()"
   ]
  },
  {
   "cell_type": "markdown",
   "id": "f77aaa91-258e-4f69-bf8f-128b3b46eb17",
   "metadata": {},
   "source": [
    "## Data splitting with 70 30 ratio"
   ]
  },
  {
   "cell_type": "code",
   "execution_count": 32,
   "id": "eb6d830e-da7f-444c-9b02-b433f0899543",
   "metadata": {},
   "outputs": [],
   "source": [
    "x_train_sm,x_test_sm,y_train_sm,y_test_sm=train_test_split(X_sm,y_sm, test_size=0.3,random_state=43)"
   ]
  },
  {
   "cell_type": "markdown",
   "id": "1f223f31-6e52-42c6-b139-0e8b52db6014",
   "metadata": {},
   "source": [
    "## 1st model naive bayes"
   ]
  },
  {
   "cell_type": "code",
   "execution_count": 41,
   "id": "61740967-84e2-4840-b503-066b914b7241",
   "metadata": {},
   "outputs": [],
   "source": [
    "naive_sm=MultinomialNB()"
   ]
  },
  {
   "cell_type": "code",
   "execution_count": 42,
   "id": "a5ac7fd1-3829-48b4-85ce-787129ed179e",
   "metadata": {},
   "outputs": [
    {
     "data": {
      "text/html": [
       "<style>#sk-container-id-1 {color: black;background-color: white;}#sk-container-id-1 pre{padding: 0;}#sk-container-id-1 div.sk-toggleable {background-color: white;}#sk-container-id-1 label.sk-toggleable__label {cursor: pointer;display: block;width: 100%;margin-bottom: 0;padding: 0.3em;box-sizing: border-box;text-align: center;}#sk-container-id-1 label.sk-toggleable__label-arrow:before {content: \"▸\";float: left;margin-right: 0.25em;color: #696969;}#sk-container-id-1 label.sk-toggleable__label-arrow:hover:before {color: black;}#sk-container-id-1 div.sk-estimator:hover label.sk-toggleable__label-arrow:before {color: black;}#sk-container-id-1 div.sk-toggleable__content {max-height: 0;max-width: 0;overflow: hidden;text-align: left;background-color: #f0f8ff;}#sk-container-id-1 div.sk-toggleable__content pre {margin: 0.2em;color: black;border-radius: 0.25em;background-color: #f0f8ff;}#sk-container-id-1 input.sk-toggleable__control:checked~div.sk-toggleable__content {max-height: 200px;max-width: 100%;overflow: auto;}#sk-container-id-1 input.sk-toggleable__control:checked~label.sk-toggleable__label-arrow:before {content: \"▾\";}#sk-container-id-1 div.sk-estimator input.sk-toggleable__control:checked~label.sk-toggleable__label {background-color: #d4ebff;}#sk-container-id-1 div.sk-label input.sk-toggleable__control:checked~label.sk-toggleable__label {background-color: #d4ebff;}#sk-container-id-1 input.sk-hidden--visually {border: 0;clip: rect(1px 1px 1px 1px);clip: rect(1px, 1px, 1px, 1px);height: 1px;margin: -1px;overflow: hidden;padding: 0;position: absolute;width: 1px;}#sk-container-id-1 div.sk-estimator {font-family: monospace;background-color: #f0f8ff;border: 1px dotted black;border-radius: 0.25em;box-sizing: border-box;margin-bottom: 0.5em;}#sk-container-id-1 div.sk-estimator:hover {background-color: #d4ebff;}#sk-container-id-1 div.sk-parallel-item::after {content: \"\";width: 100%;border-bottom: 1px solid gray;flex-grow: 1;}#sk-container-id-1 div.sk-label:hover label.sk-toggleable__label {background-color: #d4ebff;}#sk-container-id-1 div.sk-serial::before {content: \"\";position: absolute;border-left: 1px solid gray;box-sizing: border-box;top: 0;bottom: 0;left: 50%;z-index: 0;}#sk-container-id-1 div.sk-serial {display: flex;flex-direction: column;align-items: center;background-color: white;padding-right: 0.2em;padding-left: 0.2em;position: relative;}#sk-container-id-1 div.sk-item {position: relative;z-index: 1;}#sk-container-id-1 div.sk-parallel {display: flex;align-items: stretch;justify-content: center;background-color: white;position: relative;}#sk-container-id-1 div.sk-item::before, #sk-container-id-1 div.sk-parallel-item::before {content: \"\";position: absolute;border-left: 1px solid gray;box-sizing: border-box;top: 0;bottom: 0;left: 50%;z-index: -1;}#sk-container-id-1 div.sk-parallel-item {display: flex;flex-direction: column;z-index: 1;position: relative;background-color: white;}#sk-container-id-1 div.sk-parallel-item:first-child::after {align-self: flex-end;width: 50%;}#sk-container-id-1 div.sk-parallel-item:last-child::after {align-self: flex-start;width: 50%;}#sk-container-id-1 div.sk-parallel-item:only-child::after {width: 0;}#sk-container-id-1 div.sk-dashed-wrapped {border: 1px dashed gray;margin: 0 0.4em 0.5em 0.4em;box-sizing: border-box;padding-bottom: 0.4em;background-color: white;}#sk-container-id-1 div.sk-label label {font-family: monospace;font-weight: bold;display: inline-block;line-height: 1.2em;}#sk-container-id-1 div.sk-label-container {text-align: center;}#sk-container-id-1 div.sk-container {/* jupyter's `normalize.less` sets `[hidden] { display: none; }` but bootstrap.min.css set `[hidden] { display: none !important; }` so we also need the `!important` here to be able to override the default hidden behavior on the sphinx rendered scikit-learn.org. See: https://github.com/scikit-learn/scikit-learn/issues/21755 */display: inline-block !important;position: relative;}#sk-container-id-1 div.sk-text-repr-fallback {display: none;}</style><div id=\"sk-container-id-1\" class=\"sk-top-container\"><div class=\"sk-text-repr-fallback\"><pre>MultinomialNB()</pre><b>In a Jupyter environment, please rerun this cell to show the HTML representation or trust the notebook. <br />On GitHub, the HTML representation is unable to render, please try loading this page with nbviewer.org.</b></div><div class=\"sk-container\" hidden><div class=\"sk-item\"><div class=\"sk-estimator sk-toggleable\"><input class=\"sk-toggleable__control sk-hidden--visually\" id=\"sk-estimator-id-1\" type=\"checkbox\" checked><label for=\"sk-estimator-id-1\" class=\"sk-toggleable__label sk-toggleable__label-arrow\">MultinomialNB</label><div class=\"sk-toggleable__content\"><pre>MultinomialNB()</pre></div></div></div></div></div>"
      ],
      "text/plain": [
       "MultinomialNB()"
      ]
     },
     "execution_count": 42,
     "metadata": {},
     "output_type": "execute_result"
    }
   ],
   "source": [
    "naive_sm.fit(x_train_sm, y_train_sm)"
   ]
  },
  {
   "cell_type": "code",
   "execution_count": 43,
   "id": "39e35a25-28c4-4c3c-82e0-2d4e086517f9",
   "metadata": {},
   "outputs": [],
   "source": [
    "y_pred_sm=naive_sm.predict(x_test_sm)"
   ]
  },
  {
   "cell_type": "code",
   "execution_count": 44,
   "id": "3dc2c42f-e2be-4f18-9e93-6e33175b388c",
   "metadata": {},
   "outputs": [],
   "source": [
    "y_pred_prob_naive=naive_sm.predict_proba(x_test_sm)"
   ]
  },
  {
   "cell_type": "code",
   "execution_count": 45,
   "id": "79ba65a0-7f93-4a84-ac67-5771c3219af7",
   "metadata": {},
   "outputs": [
    {
     "name": "stdout",
     "output_type": "stream",
     "text": [
      "              precision    recall  f1-score   support\n",
      "\n",
      "    Negative       0.99      0.97      0.98      1428\n",
      "     Neutral       0.99      0.93      0.96      1527\n",
      "    Positive       0.90      0.98      0.94      1251\n",
      "\n",
      "    accuracy                           0.96      4206\n",
      "   macro avg       0.96      0.96      0.96      4206\n",
      "weighted avg       0.96      0.96      0.96      4206\n",
      "\n"
     ]
    }
   ],
   "source": [
    "print(classification_report(y_pred_sm, y_test_sm))"
   ]
  },
  {
   "cell_type": "code",
   "execution_count": 46,
   "id": "af7e0e44-5927-492a-8974-0785f5b64af9",
   "metadata": {},
   "outputs": [
    {
     "name": "stdout",
     "output_type": "stream",
     "text": [
      "[[1389    0   39]\n",
      " [   0 1422  105]\n",
      " [   9   11 1231]]\n"
     ]
    }
   ],
   "source": [
    "print(confusion_matrix(y_pred_sm, y_test_sm))"
   ]
  },
  {
   "cell_type": "markdown",
   "id": "45ec4473-9128-4788-9495-e2f439296915",
   "metadata": {},
   "source": [
    "## 2nd model random forest classifier"
   ]
  },
  {
   "cell_type": "code",
   "execution_count": 47,
   "id": "14892840-87bc-45f0-b6e6-8b1416f0fc34",
   "metadata": {},
   "outputs": [],
   "source": [
    "rf_sm=RandomForestClassifier(n_jobs=-1)"
   ]
  },
  {
   "cell_type": "code",
   "execution_count": 48,
   "id": "efc0f983-c76f-4576-b897-d3e246b42310",
   "metadata": {},
   "outputs": [
    {
     "data": {
      "text/html": [
       "<style>#sk-container-id-2 {color: black;background-color: white;}#sk-container-id-2 pre{padding: 0;}#sk-container-id-2 div.sk-toggleable {background-color: white;}#sk-container-id-2 label.sk-toggleable__label {cursor: pointer;display: block;width: 100%;margin-bottom: 0;padding: 0.3em;box-sizing: border-box;text-align: center;}#sk-container-id-2 label.sk-toggleable__label-arrow:before {content: \"▸\";float: left;margin-right: 0.25em;color: #696969;}#sk-container-id-2 label.sk-toggleable__label-arrow:hover:before {color: black;}#sk-container-id-2 div.sk-estimator:hover label.sk-toggleable__label-arrow:before {color: black;}#sk-container-id-2 div.sk-toggleable__content {max-height: 0;max-width: 0;overflow: hidden;text-align: left;background-color: #f0f8ff;}#sk-container-id-2 div.sk-toggleable__content pre {margin: 0.2em;color: black;border-radius: 0.25em;background-color: #f0f8ff;}#sk-container-id-2 input.sk-toggleable__control:checked~div.sk-toggleable__content {max-height: 200px;max-width: 100%;overflow: auto;}#sk-container-id-2 input.sk-toggleable__control:checked~label.sk-toggleable__label-arrow:before {content: \"▾\";}#sk-container-id-2 div.sk-estimator input.sk-toggleable__control:checked~label.sk-toggleable__label {background-color: #d4ebff;}#sk-container-id-2 div.sk-label input.sk-toggleable__control:checked~label.sk-toggleable__label {background-color: #d4ebff;}#sk-container-id-2 input.sk-hidden--visually {border: 0;clip: rect(1px 1px 1px 1px);clip: rect(1px, 1px, 1px, 1px);height: 1px;margin: -1px;overflow: hidden;padding: 0;position: absolute;width: 1px;}#sk-container-id-2 div.sk-estimator {font-family: monospace;background-color: #f0f8ff;border: 1px dotted black;border-radius: 0.25em;box-sizing: border-box;margin-bottom: 0.5em;}#sk-container-id-2 div.sk-estimator:hover {background-color: #d4ebff;}#sk-container-id-2 div.sk-parallel-item::after {content: \"\";width: 100%;border-bottom: 1px solid gray;flex-grow: 1;}#sk-container-id-2 div.sk-label:hover label.sk-toggleable__label {background-color: #d4ebff;}#sk-container-id-2 div.sk-serial::before {content: \"\";position: absolute;border-left: 1px solid gray;box-sizing: border-box;top: 0;bottom: 0;left: 50%;z-index: 0;}#sk-container-id-2 div.sk-serial {display: flex;flex-direction: column;align-items: center;background-color: white;padding-right: 0.2em;padding-left: 0.2em;position: relative;}#sk-container-id-2 div.sk-item {position: relative;z-index: 1;}#sk-container-id-2 div.sk-parallel {display: flex;align-items: stretch;justify-content: center;background-color: white;position: relative;}#sk-container-id-2 div.sk-item::before, #sk-container-id-2 div.sk-parallel-item::before {content: \"\";position: absolute;border-left: 1px solid gray;box-sizing: border-box;top: 0;bottom: 0;left: 50%;z-index: -1;}#sk-container-id-2 div.sk-parallel-item {display: flex;flex-direction: column;z-index: 1;position: relative;background-color: white;}#sk-container-id-2 div.sk-parallel-item:first-child::after {align-self: flex-end;width: 50%;}#sk-container-id-2 div.sk-parallel-item:last-child::after {align-self: flex-start;width: 50%;}#sk-container-id-2 div.sk-parallel-item:only-child::after {width: 0;}#sk-container-id-2 div.sk-dashed-wrapped {border: 1px dashed gray;margin: 0 0.4em 0.5em 0.4em;box-sizing: border-box;padding-bottom: 0.4em;background-color: white;}#sk-container-id-2 div.sk-label label {font-family: monospace;font-weight: bold;display: inline-block;line-height: 1.2em;}#sk-container-id-2 div.sk-label-container {text-align: center;}#sk-container-id-2 div.sk-container {/* jupyter's `normalize.less` sets `[hidden] { display: none; }` but bootstrap.min.css set `[hidden] { display: none !important; }` so we also need the `!important` here to be able to override the default hidden behavior on the sphinx rendered scikit-learn.org. See: https://github.com/scikit-learn/scikit-learn/issues/21755 */display: inline-block !important;position: relative;}#sk-container-id-2 div.sk-text-repr-fallback {display: none;}</style><div id=\"sk-container-id-2\" class=\"sk-top-container\"><div class=\"sk-text-repr-fallback\"><pre>RandomForestClassifier(n_jobs=-1)</pre><b>In a Jupyter environment, please rerun this cell to show the HTML representation or trust the notebook. <br />On GitHub, the HTML representation is unable to render, please try loading this page with nbviewer.org.</b></div><div class=\"sk-container\" hidden><div class=\"sk-item\"><div class=\"sk-estimator sk-toggleable\"><input class=\"sk-toggleable__control sk-hidden--visually\" id=\"sk-estimator-id-2\" type=\"checkbox\" checked><label for=\"sk-estimator-id-2\" class=\"sk-toggleable__label sk-toggleable__label-arrow\">RandomForestClassifier</label><div class=\"sk-toggleable__content\"><pre>RandomForestClassifier(n_jobs=-1)</pre></div></div></div></div></div>"
      ],
      "text/plain": [
       "RandomForestClassifier(n_jobs=-1)"
      ]
     },
     "execution_count": 48,
     "metadata": {},
     "output_type": "execute_result"
    }
   ],
   "source": [
    "rf_sm.fit(x_train_sm, y_train_sm)"
   ]
  },
  {
   "cell_type": "code",
   "execution_count": 49,
   "id": "4aa290a1-ede2-46b8-a785-34b5dab63807",
   "metadata": {},
   "outputs": [],
   "source": [
    "y_pred_sm_rf=rf_sm.predict(x_test_sm)"
   ]
  },
  {
   "cell_type": "code",
   "execution_count": 50,
   "id": "809eaa67-8e9d-4227-9632-8e510442dbbc",
   "metadata": {},
   "outputs": [],
   "source": [
    "y_pred_prob_rf=rf_sm.predict_proba(x_test_sm)"
   ]
  },
  {
   "cell_type": "code",
   "execution_count": 51,
   "id": "1bb0199d-8a8d-4387-9cd4-3bafc92ad826",
   "metadata": {},
   "outputs": [
    {
     "name": "stdout",
     "output_type": "stream",
     "text": [
      "              precision    recall  f1-score   support\n",
      "\n",
      "    Negative       1.00      1.00      1.00      1395\n",
      "     Neutral       0.99      1.00      0.99      1424\n",
      "    Positive       1.00      0.99      0.99      1387\n",
      "\n",
      "    accuracy                           0.99      4206\n",
      "   macro avg       0.99      0.99      0.99      4206\n",
      "weighted avg       0.99      0.99      0.99      4206\n",
      "\n"
     ]
    }
   ],
   "source": [
    "print(classification_report(y_pred_sm_rf, y_test_sm))"
   ]
  },
  {
   "cell_type": "code",
   "execution_count": 52,
   "id": "8418d4d9-4935-4542-8886-e7c875760f34",
   "metadata": {},
   "outputs": [
    {
     "name": "stdout",
     "output_type": "stream",
     "text": [
      "[[1394    0    1]\n",
      " [   0 1420    4]\n",
      " [   4   13 1370]]\n"
     ]
    }
   ],
   "source": [
    "print(confusion_matrix(y_pred_sm_rf, y_test_sm))"
   ]
  },
  {
   "cell_type": "markdown",
   "id": "7165eb54-b40c-4876-b012-5b80d00db39e",
   "metadata": {},
   "source": [
    "## 3rd model xgboost classifier"
   ]
  },
  {
   "cell_type": "code",
   "execution_count": 53,
   "id": "661e9cf7-0547-4dbf-9674-3eabd7a21152",
   "metadata": {},
   "outputs": [],
   "source": [
    "xgcl=XGBClassifier(n_jobs=-1)"
   ]
  },
  {
   "cell_type": "code",
   "execution_count": 36,
   "id": "0006f40a-ad7d-46e2-84bc-36eb2085b403",
   "metadata": {},
   "outputs": [],
   "source": [
    "y_sm_le=le.fit_transform(y_sm)"
   ]
  },
  {
   "cell_type": "code",
   "execution_count": 37,
   "id": "5945e1db-00e5-4a92-b19b-26501a014559",
   "metadata": {},
   "outputs": [],
   "source": [
    "x_train_sm,x_test_sm,y_train_sm_le,y_test_sm_le=train_test_split(X_sm,y_sm_le, test_size=0.3,random_state=43)"
   ]
  },
  {
   "cell_type": "code",
   "execution_count": 57,
   "id": "ab1c6580-2dda-4715-b080-d4585e3e41e0",
   "metadata": {},
   "outputs": [
    {
     "data": {
      "text/html": [
       "<style>#sk-container-id-3 {color: black;background-color: white;}#sk-container-id-3 pre{padding: 0;}#sk-container-id-3 div.sk-toggleable {background-color: white;}#sk-container-id-3 label.sk-toggleable__label {cursor: pointer;display: block;width: 100%;margin-bottom: 0;padding: 0.3em;box-sizing: border-box;text-align: center;}#sk-container-id-3 label.sk-toggleable__label-arrow:before {content: \"▸\";float: left;margin-right: 0.25em;color: #696969;}#sk-container-id-3 label.sk-toggleable__label-arrow:hover:before {color: black;}#sk-container-id-3 div.sk-estimator:hover label.sk-toggleable__label-arrow:before {color: black;}#sk-container-id-3 div.sk-toggleable__content {max-height: 0;max-width: 0;overflow: hidden;text-align: left;background-color: #f0f8ff;}#sk-container-id-3 div.sk-toggleable__content pre {margin: 0.2em;color: black;border-radius: 0.25em;background-color: #f0f8ff;}#sk-container-id-3 input.sk-toggleable__control:checked~div.sk-toggleable__content {max-height: 200px;max-width: 100%;overflow: auto;}#sk-container-id-3 input.sk-toggleable__control:checked~label.sk-toggleable__label-arrow:before {content: \"▾\";}#sk-container-id-3 div.sk-estimator input.sk-toggleable__control:checked~label.sk-toggleable__label {background-color: #d4ebff;}#sk-container-id-3 div.sk-label input.sk-toggleable__control:checked~label.sk-toggleable__label {background-color: #d4ebff;}#sk-container-id-3 input.sk-hidden--visually {border: 0;clip: rect(1px 1px 1px 1px);clip: rect(1px, 1px, 1px, 1px);height: 1px;margin: -1px;overflow: hidden;padding: 0;position: absolute;width: 1px;}#sk-container-id-3 div.sk-estimator {font-family: monospace;background-color: #f0f8ff;border: 1px dotted black;border-radius: 0.25em;box-sizing: border-box;margin-bottom: 0.5em;}#sk-container-id-3 div.sk-estimator:hover {background-color: #d4ebff;}#sk-container-id-3 div.sk-parallel-item::after {content: \"\";width: 100%;border-bottom: 1px solid gray;flex-grow: 1;}#sk-container-id-3 div.sk-label:hover label.sk-toggleable__label {background-color: #d4ebff;}#sk-container-id-3 div.sk-serial::before {content: \"\";position: absolute;border-left: 1px solid gray;box-sizing: border-box;top: 0;bottom: 0;left: 50%;z-index: 0;}#sk-container-id-3 div.sk-serial {display: flex;flex-direction: column;align-items: center;background-color: white;padding-right: 0.2em;padding-left: 0.2em;position: relative;}#sk-container-id-3 div.sk-item {position: relative;z-index: 1;}#sk-container-id-3 div.sk-parallel {display: flex;align-items: stretch;justify-content: center;background-color: white;position: relative;}#sk-container-id-3 div.sk-item::before, #sk-container-id-3 div.sk-parallel-item::before {content: \"\";position: absolute;border-left: 1px solid gray;box-sizing: border-box;top: 0;bottom: 0;left: 50%;z-index: -1;}#sk-container-id-3 div.sk-parallel-item {display: flex;flex-direction: column;z-index: 1;position: relative;background-color: white;}#sk-container-id-3 div.sk-parallel-item:first-child::after {align-self: flex-end;width: 50%;}#sk-container-id-3 div.sk-parallel-item:last-child::after {align-self: flex-start;width: 50%;}#sk-container-id-3 div.sk-parallel-item:only-child::after {width: 0;}#sk-container-id-3 div.sk-dashed-wrapped {border: 1px dashed gray;margin: 0 0.4em 0.5em 0.4em;box-sizing: border-box;padding-bottom: 0.4em;background-color: white;}#sk-container-id-3 div.sk-label label {font-family: monospace;font-weight: bold;display: inline-block;line-height: 1.2em;}#sk-container-id-3 div.sk-label-container {text-align: center;}#sk-container-id-3 div.sk-container {/* jupyter's `normalize.less` sets `[hidden] { display: none; }` but bootstrap.min.css set `[hidden] { display: none !important; }` so we also need the `!important` here to be able to override the default hidden behavior on the sphinx rendered scikit-learn.org. See: https://github.com/scikit-learn/scikit-learn/issues/21755 */display: inline-block !important;position: relative;}#sk-container-id-3 div.sk-text-repr-fallback {display: none;}</style><div id=\"sk-container-id-3\" class=\"sk-top-container\"><div class=\"sk-text-repr-fallback\"><pre>XGBClassifier(base_score=0.5, booster=&#x27;gbtree&#x27;, callbacks=None,\n",
       "              colsample_bylevel=1, colsample_bynode=1, colsample_bytree=1,\n",
       "              early_stopping_rounds=None, enable_categorical=False,\n",
       "              eval_metric=None, gamma=0, gpu_id=-1, grow_policy=&#x27;depthwise&#x27;,\n",
       "              importance_type=None, interaction_constraints=&#x27;&#x27;,\n",
       "              learning_rate=0.300000012, max_bin=256, max_cat_to_onehot=4,\n",
       "              max_delta_step=0, max_depth=6, max_leaves=0, min_child_weight=1,\n",
       "              missing=nan, monotone_constraints=&#x27;()&#x27;, n_estimators=100,\n",
       "              n_jobs=-1, num_parallel_tree=1, objective=&#x27;multi:softprob&#x27;,\n",
       "              predictor=&#x27;auto&#x27;, random_state=0, reg_alpha=0, ...)</pre><b>In a Jupyter environment, please rerun this cell to show the HTML representation or trust the notebook. <br />On GitHub, the HTML representation is unable to render, please try loading this page with nbviewer.org.</b></div><div class=\"sk-container\" hidden><div class=\"sk-item\"><div class=\"sk-estimator sk-toggleable\"><input class=\"sk-toggleable__control sk-hidden--visually\" id=\"sk-estimator-id-3\" type=\"checkbox\" checked><label for=\"sk-estimator-id-3\" class=\"sk-toggleable__label sk-toggleable__label-arrow\">XGBClassifier</label><div class=\"sk-toggleable__content\"><pre>XGBClassifier(base_score=0.5, booster=&#x27;gbtree&#x27;, callbacks=None,\n",
       "              colsample_bylevel=1, colsample_bynode=1, colsample_bytree=1,\n",
       "              early_stopping_rounds=None, enable_categorical=False,\n",
       "              eval_metric=None, gamma=0, gpu_id=-1, grow_policy=&#x27;depthwise&#x27;,\n",
       "              importance_type=None, interaction_constraints=&#x27;&#x27;,\n",
       "              learning_rate=0.300000012, max_bin=256, max_cat_to_onehot=4,\n",
       "              max_delta_step=0, max_depth=6, max_leaves=0, min_child_weight=1,\n",
       "              missing=nan, monotone_constraints=&#x27;()&#x27;, n_estimators=100,\n",
       "              n_jobs=-1, num_parallel_tree=1, objective=&#x27;multi:softprob&#x27;,\n",
       "              predictor=&#x27;auto&#x27;, random_state=0, reg_alpha=0, ...)</pre></div></div></div></div></div>"
      ],
      "text/plain": [
       "XGBClassifier(base_score=0.5, booster='gbtree', callbacks=None,\n",
       "              colsample_bylevel=1, colsample_bynode=1, colsample_bytree=1,\n",
       "              early_stopping_rounds=None, enable_categorical=False,\n",
       "              eval_metric=None, gamma=0, gpu_id=-1, grow_policy='depthwise',\n",
       "              importance_type=None, interaction_constraints='',\n",
       "              learning_rate=0.300000012, max_bin=256, max_cat_to_onehot=4,\n",
       "              max_delta_step=0, max_depth=6, max_leaves=0, min_child_weight=1,\n",
       "              missing=nan, monotone_constraints='()', n_estimators=100,\n",
       "              n_jobs=-1, num_parallel_tree=1, objective='multi:softprob',\n",
       "              predictor='auto', random_state=0, reg_alpha=0, ...)"
      ]
     },
     "execution_count": 57,
     "metadata": {},
     "output_type": "execute_result"
    }
   ],
   "source": [
    "xgcl.fit(x_train_sm, y_train_sm_le)"
   ]
  },
  {
   "cell_type": "code",
   "execution_count": 58,
   "id": "112b6905-feaf-4d6e-8ec3-47035dfc9e92",
   "metadata": {},
   "outputs": [],
   "source": [
    "y_pred_xgb=xgcl.predict(x_test_sm)"
   ]
  },
  {
   "cell_type": "code",
   "execution_count": 59,
   "id": "0dc2081f-2e83-46eb-9d3e-1d6c64da2bee",
   "metadata": {},
   "outputs": [
    {
     "name": "stdout",
     "output_type": "stream",
     "text": [
      "              precision    recall  f1-score   support\n",
      "\n",
      "           0       1.00      0.99      1.00      1400\n",
      "           1       0.99      0.99      0.99      1434\n",
      "           2       0.98      0.99      0.98      1372\n",
      "\n",
      "    accuracy                           0.99      4206\n",
      "   macro avg       0.99      0.99      0.99      4206\n",
      "weighted avg       0.99      0.99      0.99      4206\n",
      "\n"
     ]
    }
   ],
   "source": [
    "print(classification_report(y_pred_xgb, y_test_sm_le))"
   ]
  },
  {
   "cell_type": "code",
   "execution_count": 60,
   "id": "9e7ebaca-c0c7-4b3b-bfea-097514d421fe",
   "metadata": {},
   "outputs": [
    {
     "name": "stdout",
     "output_type": "stream",
     "text": [
      "[[1393    1    6]\n",
      " [   0 1417   17]\n",
      " [   5   15 1352]]\n"
     ]
    }
   ],
   "source": [
    "print(confusion_matrix(y_pred_xgb, y_test_sm_le))"
   ]
  },
  {
   "cell_type": "markdown",
   "id": "e614dd00-13d3-43e8-8dc3-5cf1a96f1f61",
   "metadata": {},
   "source": [
    "## auc and roc curve for xgcl"
   ]
  },
  {
   "cell_type": "code",
   "execution_count": 34,
   "id": "47433270-2337-4679-b902-f94d1d0b7616",
   "metadata": {},
   "outputs": [],
   "source": [
    "y_test_binarize=label_binarize(y_test_sm, classes=np.unique(y_test_sm))"
   ]
  },
  {
   "cell_type": "code",
   "execution_count": 63,
   "id": "bcf9ba9a-55d6-4290-9766-bad5115c18bc",
   "metadata": {},
   "outputs": [],
   "source": [
    "y_pred_prob_xgcl=xgcl.predict_proba(x_test_sm)"
   ]
  },
  {
   "cell_type": "code",
   "execution_count": 72,
   "id": "c34138ad-0cf0-4f1a-89c2-3a8b13d9d812",
   "metadata": {},
   "outputs": [
    {
     "data": {
      "text/plain": [
       "'fpr={}\\ntpr={}\\nroc_auc=dict()\\nn_class=y_test_binarize.shape[1]\\nfor i in range(n_class):\\n    fpr[i], tpr[i], _ = roc_curve(y_test_binarize[:, i], y_pred_prob_xgcl[:, i])\\n    roc_auc[i] = auc(fpr[i], tpr[i])\\n    #plt.plot(fpr[i], tpr[i], linestyle=\"--\", color=\"darkorange\")\\n    plt.plot(fpr[i], tpr[i], linestyle=\"--\", label=\"%s and ROC curve (area = %0.2f)\" %(n_class[i],roc_auc[i]))\\n    plt.xlim([-0.09, 1.0])\\n    plt.ylim([0.0, 1.05])\\n\\nfpr[\"micro\"], tpr[\"micro\"], _ = roc_curve(y_test_binarize.ravel(), y_pred_prob_xgcl.ravel())\\nroc_auc[\"micro\"] = auc(fpr[\"micro\"], tpr[\"micro\"])'"
      ]
     },
     "execution_count": 72,
     "metadata": {},
     "output_type": "execute_result"
    }
   ],
   "source": [
    "'''fpr={}\n",
    "tpr={}\n",
    "roc_auc=dict()\n",
    "n_class=y_test_binarize.shape[1]\n",
    "for i in range(n_class):\n",
    "    fpr[i], tpr[i], _ = roc_curve(y_test_binarize[:, i], y_pred_prob_xgcl[:, i])\n",
    "    roc_auc[i] = auc(fpr[i], tpr[i])\n",
    "    #plt.plot(fpr[i], tpr[i], linestyle=\"--\", color=\"darkorange\")\n",
    "    plt.plot(fpr[i], tpr[i], linestyle=\"--\", label=\"%s and ROC curve (area = %0.2f)\" %(n_class[i],roc_auc[i]))\n",
    "    plt.xlim([-0.09, 1.0])\n",
    "    plt.ylim([0.0, 1.05])\n",
    "\n",
    "fpr[\"micro\"], tpr[\"micro\"], _ = roc_curve(y_test_binarize.ravel(), y_pred_prob_xgcl.ravel())\n",
    "roc_auc[\"micro\"] = auc(fpr[\"micro\"], tpr[\"micro\"])'''\n"
   ]
  },
  {
   "cell_type": "code",
   "execution_count": 64,
   "id": "7ad0f512-9446-4099-970a-9d23f203094b",
   "metadata": {},
   "outputs": [
    {
     "data": {
      "image/png": "[encoded data removed]",
      "text/plain": [
       "<Figure size 432x288 with 1 Axes>"
      ]
     },
     "metadata": {
      "needs_background": "light"
     },
     "output_type": "display_data"
    }
   ],
   "source": [
    "fpr={}\n",
    "tpr={}\n",
    "roc_auc=dict()\n",
    "for i in range(3):\n",
    "    fpr[i], tpr[i], _ = roc_curve(y_test_binarize[:, i], y_pred_prob_xgcl[:, i])\n",
    "    roc_auc[i] = auc(fpr[i], tpr[i])\n",
    "    \n",
    "lw=2\n",
    "for i in range(3):\n",
    "    plt.plot(fpr[i], tpr[i], lw=lw,\n",
    "             label='ROC curve of class {0} (area = {1:0.2f})'\n",
    "             ''.format(i, roc_auc[i]))\n",
    "plt.plot([0, 1], [0,1], color=\"navy\", lw=lw, linestyle=\"--\")\n",
    "plt.xlim([-0.09, 1.0])\n",
    "plt.ylim([0.0, 1.05])\n",
    "plt.xlabel(\"False Positive Rate\")\n",
    "plt.ylabel(\"True Positive Rate\")\n",
    "plt.title(\"Receiver operating characteristic curve\")\n",
    "plt.legend(loc=\"lower right\")\n",
    "plt.show()\n"
   ]
  },
  {
   "cell_type": "code",
   "execution_count": null,
   "id": "ad8acb20-3afd-4ff4-9be9-e2afcfcdb23b",
   "metadata": {},
   "outputs": [],
   "source": [
    "plt.figure()\n",
    "lw = 2\n",
    "for i in range(3):\n",
    "    plt.plot(\n",
    "fpr[i],\n",
    "tpr[i],\n",
    "color=\"darkorange\",\n",
    "lw=lw,\n",
    "label=\"ROC curve (area = %0.2f)\" % roc_auc[i],\n",
    ")\n",
    "    \n",
    "plt.plot([0, 1], [0, 1], color=\"navy\", lw=lw, linestyle=\"--\")\n",
    "plt.xlim([-0.09, 1.0])\n",
    "plt.ylim([0.0, 1.05])\n",
    "plt.xlabel(\"False Positive Rate\")\n",
    "plt.ylabel(\"True Positive Rate\")\n",
    "plt.title(\"Receiver operating characteristic curve\")\n",
    "plt.legend(loc=\"lower right\")\n",
    "plt.show()\n"
   ]
  },
  {
   "cell_type": "code",
   "execution_count": 65,
   "id": "bace9836-8320-4e93-afb8-04914cda1a92",
   "metadata": {},
   "outputs": [
    {
     "data": {
      "text/plain": [
       "{0: 0.999941664730649, 1: 0.999428996939635, 2: 0.9992490928358113}"
      ]
     },
     "execution_count": 65,
     "metadata": {},
     "output_type": "execute_result"
    }
   ],
   "source": [
    "roc_auc"
   ]
  },
  {
   "cell_type": "code",
   "execution_count": 66,
   "id": "540d2670-52cc-4407-bc40-67ded0806af5",
   "metadata": {},
   "outputs": [],
   "source": [
    "classes=np.unique(y_test_sm)"
   ]
  },
  {
   "cell_type": "markdown",
   "id": "34cd733f-121a-4564-aae1-abf1393ce2ca",
   "metadata": {},
   "source": [
    "## auc and roc curve for naive bayes"
   ]
  },
  {
   "cell_type": "code",
   "execution_count": 67,
   "id": "d0cd75b2-397a-4546-9cc4-d92d610d608a",
   "metadata": {},
   "outputs": [
    {
     "data": {
      "image/png": "[encoded data removed]",
      "text/plain": [
       "<Figure size 432x288 with 1 Axes>"
      ]
     },
     "metadata": {
      "needs_background": "light"
     },
     "output_type": "display_data"
    }
   ],
   "source": [
    "fpr={}\n",
    "tpr={}\n",
    "roc_auc=dict()\n",
    "n_class=y_test_binarize.shape[1]\n",
    "for i in range(n_class):\n",
    "    fpr[i], tpr[i], _ = roc_curve(y_test_binarize[:, i], y_pred_prob_naive[:, i])\n",
    "    roc_auc[i] = auc(fpr[i], tpr[i])\n",
    "    plt.plot(fpr[i], tpr[i], linestyle=\"--\", label='ROC curve of class {0} (area = {1:0.2f})'\n",
    "             ''.format(i, roc_auc[i]))\n",
    "plt.plot([0, 1], [0, 1], color=\"navy\", linestyle=\"--\")\n",
    "plt.xlim([-0.09, 1.0])\n",
    "plt.ylim([0.0, 1.05])\n",
    "plt.xlabel(\"False Positive Rate\")\n",
    "plt.ylabel(\"True Positive Rate\")\n",
    "plt.title(\"Receiver operating characteristic curve\")\n",
    "plt.legend(loc=\"lower right\")\n",
    "plt.show()\n",
    "\n",
    "#fpr[\"micro\"], tpr[\"micro\"], _ = roc_curve(y_test_binarize.ravel(), y_pred_prob_naive.ravel())\n",
    "#roc_auc[\"micro\"] = auc(fpr[\"micro\"], tpr[\"micro\"])\n"
   ]
  },
  {
   "cell_type": "code",
   "execution_count": null,
   "id": "6bfd2a47-054c-42e6-ab33-d88eab63e01b",
   "metadata": {},
   "outputs": [],
   "source": [
    "plt.figure()\n",
    "lw = 2\n",
    "i=2\n",
    "plt.plot(\n",
    "    fpr[i],\n",
    "    tpr[i],\n",
    "    color=\"darkorange\",\n",
    "    lw=lw,\n",
    "    label=\"ROC curve (area = %0.2f)\" % roc_auc[i],\n",
    ")\n",
    "    \n",
    "plt.plot([0, 1], [0, 1], color=\"navy\", linestyle=\"--\")\n",
    "plt.xlim([-0.09, 1.0])\n",
    "plt.ylim([0.0, 1.05])\n",
    "plt.xlabel(\"False Positive Rate\")\n",
    "plt.ylabel(\"True Positive Rate\")\n",
    "plt.title(\"Receiver operating characteristic curve\")\n",
    "plt.legend(loc=\"lower right\")\n",
    "plt.show()\n"
   ]
  },
  {
   "cell_type": "code",
   "execution_count": 68,
   "id": "501e2441-6b40-4f58-809c-8243d4cefaf9",
   "metadata": {},
   "outputs": [
    {
     "data": {
      "text/plain": [
       "{0: 0.9998033413627119, 1: 0.9976344518433534, 2: 0.9947146205966411}"
      ]
     },
     "execution_count": 68,
     "metadata": {},
     "output_type": "execute_result"
    }
   ],
   "source": [
    "roc_auc"
   ]
  },
  {
   "cell_type": "markdown",
   "id": "0709f4ac-a2eb-406e-b5c6-ecff474554ef",
   "metadata": {},
   "source": [
    "## auc roc curve for random forest classifier"
   ]
  },
  {
   "cell_type": "code",
   "execution_count": 69,
   "id": "2348f044-5eb3-4d06-ac30-c5b8b2de28b8",
   "metadata": {},
   "outputs": [
    {
     "data": {
      "image/png": "[encoded data removed]",
      "text/plain": [
       "<Figure size 432x288 with 1 Axes>"
      ]
     },
     "metadata": {
      "needs_background": "light"
     },
     "output_type": "display_data"
    }
   ],
   "source": [
    "fpr={}\n",
    "tpr={}\n",
    "roc_auc=dict()\n",
    "n_class=y_test_binarize.shape[1]\n",
    "for i in range(n_class):\n",
    "    fpr[i], tpr[i], _ = roc_curve(y_test_binarize[:, i], y_pred_prob_rf[:, i])\n",
    "    roc_auc[i] = auc(fpr[i], tpr[i])\n",
    "    #plt.plot(fpr[i], tpr[i], linestyle=\"--\", color=\"darkorange\")\n",
    "    plt.plot(fpr[i], tpr[i], linestyle=\"--\", label='ROC curve of class {0} (area = {1:0.2f})'\n",
    "             ''.format(i, roc_auc[i]))\n",
    "   \n",
    "plt.plot([0, 1], [0, 1], color=\"navy\", linestyle=\"--\")\n",
    "plt.xlim([-0.09, 1.0])\n",
    "plt.ylim([0.0, 1.05])\n",
    "plt.xlabel(\"False Positive Rate\")\n",
    "plt.ylabel(\"True Positive Rate\")\n",
    "plt.title(\"Receiver operating characteristic curve\")\n",
    "plt.legend(loc=\"lower right\")\n",
    "plt.show()\n",
    "\n",
    "#fpr[\"micro\"], tpr[\"micro\"], _ = roc_curve(y_test_binarize.ravel(), y_pred_prob_rf.ravel())\n",
    "#roc_auc[\"micro\"] = auc(fpr[\"micro\"], tpr[\"micro\"])"
   ]
  },
  {
   "cell_type": "code",
   "execution_count": null,
   "id": "80ab7334-9d9c-476f-89de-b4fe3b9e8d72",
   "metadata": {},
   "outputs": [],
   "source": [
    "plt.figure()\n",
    "lw = 2\n",
    "plt.plot(\n",
    "    fpr[2],\n",
    "    tpr[2],\n",
    "    color=\"darkorange\",\n",
    "    lw=lw,\n",
    "    label=\"ROC curve (area = %0.2f)\" % roc_auc[2],\n",
    ")\n",
    "    \n",
    "plt.plot([0, 1], [0, 1], color=\"navy\", linestyle=\"--\")\n",
    "plt.xlim([-0.09, 1.0])\n",
    "plt.ylim([0.0, 1.05])\n",
    "plt.xlabel(\"False Positive Rate\")\n",
    "plt.ylabel(\"True Positive Rate\")\n",
    "plt.title(\"Receiver operating characteristic curve\")\n",
    "plt.legend(loc=\"lower right\")\n",
    "plt.show()\n"
   ]
  },
  {
   "cell_type": "code",
   "execution_count": 70,
   "id": "0868085f-e81d-4c87-a047-d6a63978e7bc",
   "metadata": {},
   "outputs": [
    {
     "data": {
      "text/plain": [
       "{0: 0.9999949052166506, 1: 0.999724942113275, 2: 0.999501750104364}"
      ]
     },
     "execution_count": 70,
     "metadata": {},
     "output_type": "execute_result"
    }
   ],
   "source": [
    "roc_auc"
   ]
  },
  {
   "cell_type": "markdown",
   "id": "3ed6a5c7-d5d4-48cb-9c4e-dfda704e688f",
   "metadata": {},
   "source": [
    "## From the above 3 algorithms we can conclude that all three algorithms are approximately given similar result"
   ]
  },
  {
   "cell_type": "markdown",
   "id": "9515b5fa-9901-40f0-b2d3-e02337741ee6",
   "metadata": {},
   "source": [
    "## week 2 tasks"
   ]
  },
  {
   "cell_type": "markdown",
   "id": "04931d3a-dc12-4910-9bb0-9fe2040ffe96",
   "metadata": {},
   "source": [
    "## multiclass svm"
   ]
  },
  {
   "cell_type": "code",
   "execution_count": 71,
   "id": "c1d48a72-1937-43a4-b05c-d0c737ca577b",
   "metadata": {},
   "outputs": [],
   "source": [
    "from sklearn.svm import SVC\n",
    "svc=SVC(kernel='linear', C=1.0, class_weight='balanced', random_state=43, probability=True)"
   ]
  },
  {
   "cell_type": "code",
   "execution_count": 72,
   "id": "c565eb34-8710-4cfc-8419-147fdfbacd24",
   "metadata": {},
   "outputs": [
    {
     "data": {
      "text/plain": [
       "1812     Positive\n",
       "1369     Positive\n",
       "5379     Negative\n",
       "2109     Positive\n",
       "8616     Negative\n",
       "           ...   \n",
       "2064     Positive\n",
       "10517     Neutral\n",
       "7985     Negative\n",
       "2303     Positive\n",
       "3392     Positive\n",
       "Name: sentiment, Length: 9813, dtype: object"
      ]
     },
     "execution_count": 72,
     "metadata": {},
     "output_type": "execute_result"
    }
   ],
   "source": [
    "y_train_sm"
   ]
  },
  {
   "cell_type": "code",
   "execution_count": 93,
   "id": "b9613f9b-0bc3-4507-b47f-47cde2212596",
   "metadata": {},
   "outputs": [
    {
     "data": {
      "text/html": [
       "<style>#sk-container-id-6 {color: black;background-color: white;}#sk-container-id-6 pre{padding: 0;}#sk-container-id-6 div.sk-toggleable {background-color: white;}#sk-container-id-6 label.sk-toggleable__label {cursor: pointer;display: block;width: 100%;margin-bottom: 0;padding: 0.3em;box-sizing: border-box;text-align: center;}#sk-container-id-6 label.sk-toggleable__label-arrow:before {content: \"▸\";float: left;margin-right: 0.25em;color: #696969;}#sk-container-id-6 label.sk-toggleable__label-arrow:hover:before {color: black;}#sk-container-id-6 div.sk-estimator:hover label.sk-toggleable__label-arrow:before {color: black;}#sk-container-id-6 div.sk-toggleable__content {max-height: 0;max-width: 0;overflow: hidden;text-align: left;background-color: #f0f8ff;}#sk-container-id-6 div.sk-toggleable__content pre {margin: 0.2em;color: black;border-radius: 0.25em;background-color: #f0f8ff;}#sk-container-id-6 input.sk-toggleable__control:checked~div.sk-toggleable__content {max-height: 200px;max-width: 100%;overflow: auto;}#sk-container-id-6 input.sk-toggleable__control:checked~label.sk-toggleable__label-arrow:before {content: \"▾\";}#sk-container-id-6 div.sk-estimator input.sk-toggleable__control:checked~label.sk-toggleable__label {background-color: #d4ebff;}#sk-container-id-6 div.sk-label input.sk-toggleable__control:checked~label.sk-toggleable__label {background-color: #d4ebff;}#sk-container-id-6 input.sk-hidden--visually {border: 0;clip: rect(1px 1px 1px 1px);clip: rect(1px, 1px, 1px, 1px);height: 1px;margin: -1px;overflow: hidden;padding: 0;position: absolute;width: 1px;}#sk-container-id-6 div.sk-estimator {font-family: monospace;background-color: #f0f8ff;border: 1px dotted black;border-radius: 0.25em;box-sizing: border-box;margin-bottom: 0.5em;}#sk-container-id-6 div.sk-estimator:hover {background-color: #d4ebff;}#sk-container-id-6 div.sk-parallel-item::after {content: \"\";width: 100%;border-bottom: 1px solid gray;flex-grow: 1;}#sk-container-id-6 div.sk-label:hover label.sk-toggleable__label {background-color: #d4ebff;}#sk-container-id-6 div.sk-serial::before {content: \"\";position: absolute;border-left: 1px solid gray;box-sizing: border-box;top: 0;bottom: 0;left: 50%;z-index: 0;}#sk-container-id-6 div.sk-serial {display: flex;flex-direction: column;align-items: center;background-color: white;padding-right: 0.2em;padding-left: 0.2em;position: relative;}#sk-container-id-6 div.sk-item {position: relative;z-index: 1;}#sk-container-id-6 div.sk-parallel {display: flex;align-items: stretch;justify-content: center;background-color: white;position: relative;}#sk-container-id-6 div.sk-item::before, #sk-container-id-6 div.sk-parallel-item::before {content: \"\";position: absolute;border-left: 1px solid gray;box-sizing: border-box;top: 0;bottom: 0;left: 50%;z-index: -1;}#sk-container-id-6 div.sk-parallel-item {display: flex;flex-direction: column;z-index: 1;position: relative;background-color: white;}#sk-container-id-6 div.sk-parallel-item:first-child::after {align-self: flex-end;width: 50%;}#sk-container-id-6 div.sk-parallel-item:last-child::after {align-self: flex-start;width: 50%;}#sk-container-id-6 div.sk-parallel-item:only-child::after {width: 0;}#sk-container-id-6 div.sk-dashed-wrapped {border: 1px dashed gray;margin: 0 0.4em 0.5em 0.4em;box-sizing: border-box;padding-bottom: 0.4em;background-color: white;}#sk-container-id-6 div.sk-label label {font-family: monospace;font-weight: bold;display: inline-block;line-height: 1.2em;}#sk-container-id-6 div.sk-label-container {text-align: center;}#sk-container-id-6 div.sk-container {/* jupyter's `normalize.less` sets `[hidden] { display: none; }` but bootstrap.min.css set `[hidden] { display: none !important; }` so we also need the `!important` here to be able to override the default hidden behavior on the sphinx rendered scikit-learn.org. See: https://github.com/scikit-learn/scikit-learn/issues/21755 */display: inline-block !important;position: relative;}#sk-container-id-6 div.sk-text-repr-fallback {display: none;}</style><div id=\"sk-container-id-6\" class=\"sk-top-container\"><div class=\"sk-text-repr-fallback\"><pre>SVC(class_weight=&#x27;balanced&#x27;, kernel=&#x27;linear&#x27;, probability=True, random_state=43)</pre><b>In a Jupyter environment, please rerun this cell to show the HTML representation or trust the notebook. <br />On GitHub, the HTML representation is unable to render, please try loading this page with nbviewer.org.</b></div><div class=\"sk-container\" hidden><div class=\"sk-item\"><div class=\"sk-estimator sk-toggleable\"><input class=\"sk-toggleable__control sk-hidden--visually\" id=\"sk-estimator-id-6\" type=\"checkbox\" checked><label for=\"sk-estimator-id-6\" class=\"sk-toggleable__label sk-toggleable__label-arrow\">SVC</label><div class=\"sk-toggleable__content\"><pre>SVC(class_weight=&#x27;balanced&#x27;, kernel=&#x27;linear&#x27;, probability=True, random_state=43)</pre></div></div></div></div></div>"
      ],
      "text/plain": [
       "SVC(class_weight='balanced', kernel='linear', probability=True, random_state=43)"
      ]
     },
     "execution_count": 93,
     "metadata": {},
     "output_type": "execute_result"
    }
   ],
   "source": [
    "svc.fit(x_train_sm, y_train_sm)"
   ]
  },
  {
   "cell_type": "code",
   "execution_count": 94,
   "id": "b28b6798-5c6d-4887-a58c-6089d9216e95",
   "metadata": {},
   "outputs": [],
   "source": [
    "y_pred_svc=svc.predict(x_test_sm)"
   ]
  },
  {
   "cell_type": "code",
   "execution_count": 95,
   "id": "7320535d-e86d-4307-b626-738f1b409019",
   "metadata": {},
   "outputs": [],
   "source": [
    "y_pred_svc_prob=svc.predict_proba(x_test_sm)"
   ]
  },
  {
   "cell_type": "code",
   "execution_count": 96,
   "id": "4b0c903c-1829-4b5e-b816-cb3f41ec0e97",
   "metadata": {},
   "outputs": [
    {
     "data": {
      "text/plain": [
       "array([[1398,    0,    7],\n",
       "       [   0, 1433,   39],\n",
       "       [   0,    0, 1329]], dtype=int64)"
      ]
     },
     "execution_count": 96,
     "metadata": {},
     "output_type": "execute_result"
    }
   ],
   "source": [
    "confusion_matrix(y_pred_svc, y_test_sm)"
   ]
  },
  {
   "cell_type": "code",
   "execution_count": 97,
   "id": "75ceaa1d-504d-4b89-ba0e-c49325fc7b9f",
   "metadata": {},
   "outputs": [
    {
     "name": "stdout",
     "output_type": "stream",
     "text": [
      "              precision    recall  f1-score   support\n",
      "\n",
      "    Negative       1.00      1.00      1.00      1405\n",
      "     Neutral       1.00      0.97      0.99      1472\n",
      "    Positive       0.97      1.00      0.98      1329\n",
      "\n",
      "    accuracy                           0.99      4206\n",
      "   macro avg       0.99      0.99      0.99      4206\n",
      "weighted avg       0.99      0.99      0.99      4206\n",
      "\n"
     ]
    }
   ],
   "source": [
    "print(classification_report(y_pred_svc, y_test_sm))"
   ]
  },
  {
   "cell_type": "markdown",
   "id": "ae52813d-0ab2-4d0b-b1cb-85f2584006cb",
   "metadata": {},
   "source": [
    "## auc-roc curve for multiclass svm"
   ]
  },
  {
   "cell_type": "code",
   "execution_count": 102,
   "id": "2368b4d2-d668-462d-8561-07bbb8ae585a",
   "metadata": {},
   "outputs": [
    {
     "data": {
      "image/png": "[encoded data removed]",
      "text/plain": [
       "<Figure size 432x288 with 1 Axes>"
      ]
     },
     "metadata": {
      "needs_background": "light"
     },
     "output_type": "display_data"
    }
   ],
   "source": [
    "fpr={}\n",
    "tpr={}\n",
    "roc_auc=dict()\n",
    "n_class=y_test_binarize.shape[1]\n",
    "for i in range(n_class):\n",
    "    fpr[i], tpr[i], _ = roc_curve(y_test_binarize[:, i], y_pred_svc_prob[:, i])\n",
    "    roc_auc[i] = auc(fpr[i], tpr[i])\n",
    "    #plt.plot(fpr[i], tpr[i], linestyle=\"--\", color=\"darkorange\")\n",
    "    plt.plot(fpr[i], tpr[i], linestyle=\"--\", label='ROC curve of class {0} (area = {1:0.2f})'\n",
    "             ''.format(i, roc_auc[i]))\n",
    "\n",
    "plt.plot([0, 1], [0, 1], color=\"navy\", linestyle=\"--\")\n",
    "plt.xlim([-0.09, 1.0])\n",
    "plt.ylim([0.0, 1.05])\n",
    "plt.xlabel(\"False Positive Rate\")\n",
    "plt.ylabel(\"True Positive Rate\")\n",
    "plt.title(\"Receiver operating characteristic curve\")\n",
    "plt.legend(loc=\"lower right\")\n",
    "plt.show()"
   ]
  },
  {
   "cell_type": "code",
   "execution_count": 108,
   "id": "cbf92e29-6ded-4091-9069-06b850e4d680",
   "metadata": {},
   "outputs": [
    {
     "data": {
      "text/plain": [
       "Index(['name', 'brand', 'categories', 'primaryCategories', 'reviews.date',\n",
       "       'reviews.text', 'reviews.title', 'sentiment', 'sentimemt score',\n",
       "       'polarity score'],\n",
       "      dtype='object')"
      ]
     },
     "execution_count": 108,
     "metadata": {},
     "output_type": "execute_result"
    }
   ],
   "source": [
    "master_data.columns"
   ]
  },
  {
   "cell_type": "markdown",
   "id": "e80b74c5-22d4-4e9f-bd61-61f697921f4e",
   "metadata": {},
   "source": [
    "## 2.neural networks"
   ]
  },
  {
   "cell_type": "code",
   "execution_count": 122,
   "id": "96d0d97e-61de-4923-8cd5-3c6c0a00afc5",
   "metadata": {},
   "outputs": [
    {
     "name": "stdout",
     "output_type": "stream",
     "text": [
      "Collecting textblob\n",
      "  Downloading textblob-0.17.1-py2.py3-none-any.whl (636 kB)\n",
      "Requirement already satisfied: nltk>=3.1 in c:\\programdata\\anaconda3\\lib\\site-packages (from textblob) (3.6.1)\n",
      "Requirement already satisfied: regex in c:\\programdata\\anaconda3\\lib\\site-packages (from nltk>=3.1->textblob) (2021.4.4)\n",
      "Requirement already satisfied: tqdm in c:\\programdata\\anaconda3\\lib\\site-packages (from nltk>=3.1->textblob) (4.59.0)\n",
      "Requirement already satisfied: joblib in c:\\programdata\\anaconda3\\lib\\site-packages (from nltk>=3.1->textblob) (1.0.1)\n",
      "Requirement already satisfied: click in c:\\programdata\\anaconda3\\lib\\site-packages (from nltk>=3.1->textblob) (7.1.2)\n",
      "Installing collected packages: textblob\n",
      "Successfully installed textblob-0.17.1\n"
     ]
    }
   ],
   "source": [
    "#!pip install textblob"
   ]
  },
  {
   "cell_type": "markdown",
   "id": "06f989ba-bea7-4a28-905e-ade6c635884f",
   "metadata": {},
   "source": [
    "## create neural network"
   ]
  },
  {
   "cell_type": "code",
   "execution_count": 33,
   "id": "ec89a557-7f77-4a5b-8a17-d7c3876779db",
   "metadata": {},
   "outputs": [],
   "source": [
    "import tensorflow as tf\n",
    "from tensorflow.keras.layers import Dense, LSTM, GRU, Activation, Dropout, Embedding, SpatialDropout1D\n",
    "from tensorflow.keras.models import Sequential\n",
    "from sklearn.preprocessing import LabelBinarizer"
   ]
  },
  {
   "cell_type": "code",
   "execution_count": 187,
   "id": "22e8aae8-657e-4397-aafb-4e890a7b8b34",
   "metadata": {},
   "outputs": [],
   "source": [
    "model=Sequential()\n"
   ]
  },
  {
   "cell_type": "code",
   "execution_count": 188,
   "id": "563118ce-65bd-4384-bafb-6633a17257b3",
   "metadata": {},
   "outputs": [],
   "source": [
    "model.add(Dense(units=64, activation='relu', input_dim=x_train.shape[1]))"
   ]
  },
  {
   "cell_type": "code",
   "execution_count": 189,
   "id": "032733e3-d7db-4802-9820-bb130568093e",
   "metadata": {},
   "outputs": [],
   "source": [
    "model.add(Dense(units=32,activation='relu'))\n",
    "model.add(Dense(units=16, activation='relu'))\n",
    "model.add(Dense(units=3, kernel_initializer='normal', activation='softmax'))"
   ]
  },
  {
   "cell_type": "code",
   "execution_count": 190,
   "id": "fa0f08d8-674f-4934-8559-fa3115b27872",
   "metadata": {},
   "outputs": [
    {
     "name": "stdout",
     "output_type": "stream",
     "text": [
      "Model: \"sequential_2\"\n",
      "_________________________________________________________________\n",
      " Layer (type)                Output Shape              Param #   \n",
      "=================================================================\n",
      " dense_8 (Dense)             (None, 64)                345728    \n",
      "                                                                 \n",
      " dense_9 (Dense)             (None, 32)                2080      \n",
      "                                                                 \n",
      " dense_10 (Dense)            (None, 16)                528       \n",
      "                                                                 \n",
      " dense_11 (Dense)            (None, 3)                 51        \n",
      "                                                                 \n",
      "=================================================================\n",
      "Total params: 348,387\n",
      "Trainable params: 348,387\n",
      "Non-trainable params: 0\n",
      "_________________________________________________________________\n"
     ]
    }
   ],
   "source": [
    "model.summary()"
   ]
  },
  {
   "cell_type": "code",
   "execution_count": 191,
   "id": "452112c0-a49c-487d-92fb-8c1b91898728",
   "metadata": {},
   "outputs": [],
   "source": [
    "model.compile(optimizer='adam', loss='categorical_crossentropy', metrics=['accuracy'])"
   ]
  },
  {
   "cell_type": "code",
   "execution_count": 122,
   "id": "cff162f5-e691-4c7a-9c12-ce00f784dbe7",
   "metadata": {},
   "outputs": [],
   "source": [
    "y_train_binarize=label_binarize(y_train_sm, classes=np.unique(y_train_sm))"
   ]
  },
  {
   "cell_type": "code",
   "execution_count": 229,
   "id": "a508bed2-6410-4f2d-bfcb-df4711e35f70",
   "metadata": {},
   "outputs": [
    {
     "name": "stdout",
     "output_type": "stream",
     "text": [
      "Epoch 1/50\n",
      "77/77 [==============================] - 0s 5ms/step - loss: 6.7507e-06 - accuracy: 1.0000\n",
      "Epoch 2/50\n",
      "77/77 [==============================] - 0s 4ms/step - loss: 6.3709e-06 - accuracy: 1.0000\n",
      "Epoch 3/50\n",
      "77/77 [==============================] - 0s 4ms/step - loss: 6.0157e-06 - accuracy: 1.0000\n",
      "Epoch 4/50\n",
      "77/77 [==============================] - 0s 4ms/step - loss: 5.6848e-06 - accuracy: 1.0000\n",
      "Epoch 5/50\n",
      "77/77 [==============================] - 0s 4ms/step - loss: 5.3798e-06 - accuracy: 1.0000\n",
      "Epoch 6/50\n",
      "77/77 [==============================] - 0s 4ms/step - loss: 5.0833e-06 - accuracy: 1.0000\n",
      "Epoch 7/50\n",
      "77/77 [==============================] - 0s 4ms/step - loss: 4.8159e-06 - accuracy: 1.0000\n",
      "Epoch 8/50\n",
      "77/77 [==============================] - 0s 4ms/step - loss: 4.5538e-06 - accuracy: 1.0000\n",
      "Epoch 9/50\n",
      "77/77 [==============================] - 0s 4ms/step - loss: 4.3157e-06 - accuracy: 1.0000\n",
      "Epoch 10/50\n",
      "77/77 [==============================] - 0s 3ms/step - loss: 4.0871e-06 - accuracy: 1.0000\n",
      "Epoch 11/50\n",
      "77/77 [==============================] - 0s 4ms/step - loss: 3.8741e-06 - accuracy: 1.0000\n",
      "Epoch 12/50\n",
      "77/77 [==============================] - 0s 3ms/step - loss: 3.6744e-06 - accuracy: 1.0000\n",
      "Epoch 13/50\n",
      "77/77 [==============================] - 0s 4ms/step - loss: 3.4875e-06 - accuracy: 1.0000\n",
      "Epoch 14/50\n",
      "77/77 [==============================] - 0s 4ms/step - loss: 3.3100e-06 - accuracy: 1.0000\n",
      "Epoch 15/50\n",
      "77/77 [==============================] - 0s 4ms/step - loss: 3.1436e-06 - accuracy: 1.0000\n",
      "Epoch 16/50\n",
      "77/77 [==============================] - 0s 4ms/step - loss: 2.9839e-06 - accuracy: 1.0000\n",
      "Epoch 17/50\n",
      "77/77 [==============================] - 0s 3ms/step - loss: 2.8346e-06 - accuracy: 1.0000\n",
      "Epoch 18/50\n",
      "77/77 [==============================] - 0s 3ms/step - loss: 2.6964e-06 - accuracy: 1.0000\n",
      "Epoch 19/50\n",
      "77/77 [==============================] - 0s 4ms/step - loss: 2.5604e-06 - accuracy: 1.0000\n",
      "Epoch 20/50\n",
      "77/77 [==============================] - 0s 3ms/step - loss: 2.4352e-06 - accuracy: 1.0000\n",
      "Epoch 21/50\n",
      "77/77 [==============================] - 0s 4ms/step - loss: 2.3155e-06 - accuracy: 1.0000\n",
      "Epoch 22/50\n",
      "77/77 [==============================] - 0s 4ms/step - loss: 2.2038e-06 - accuracy: 1.0000\n",
      "Epoch 23/50\n",
      "77/77 [==============================] - 0s 4ms/step - loss: 2.0979e-06 - accuracy: 1.0000\n",
      "Epoch 24/50\n",
      "77/77 [==============================] - 0s 4ms/step - loss: 1.9981e-06 - accuracy: 1.0000\n",
      "Epoch 25/50\n",
      "77/77 [==============================] - 0s 4ms/step - loss: 1.9024e-06 - accuracy: 1.0000\n",
      "Epoch 26/50\n",
      "77/77 [==============================] - 0s 4ms/step - loss: 1.8098e-06 - accuracy: 1.0000\n",
      "Epoch 27/50\n",
      "77/77 [==============================] - 0s 4ms/step - loss: 1.7247e-06 - accuracy: 1.0000\n",
      "Epoch 28/50\n",
      "77/77 [==============================] - 0s 4ms/step - loss: 1.6419e-06 - accuracy: 1.0000\n",
      "Epoch 29/50\n",
      "77/77 [==============================] - 0s 4ms/step - loss: 1.5650e-06 - accuracy: 1.0000\n",
      "Epoch 30/50\n",
      "77/77 [==============================] - 0s 4ms/step - loss: 1.4902e-06 - accuracy: 1.0000\n",
      "Epoch 31/50\n",
      "77/77 [==============================] - 0s 4ms/step - loss: 1.4201e-06 - accuracy: 1.0000\n",
      "Epoch 32/50\n",
      "77/77 [==============================] - 0s 4ms/step - loss: 1.3549e-06 - accuracy: 1.0000\n",
      "Epoch 33/50\n",
      "77/77 [==============================] - 0s 4ms/step - loss: 1.2920e-06 - accuracy: 1.0000\n",
      "Epoch 34/50\n",
      "77/77 [==============================] - 0s 4ms/step - loss: 1.2324e-06 - accuracy: 1.0000\n",
      "Epoch 35/50\n",
      "77/77 [==============================] - 0s 4ms/step - loss: 1.1749e-06 - accuracy: 1.0000: 0s - loss: 1.0528e-06 - accuracy\n",
      "Epoch 36/50\n",
      "77/77 [==============================] - 0s 4ms/step - loss: 1.1210e-06 - accuracy: 1.0000\n",
      "Epoch 37/50\n",
      "77/77 [==============================] - 0s 4ms/step - loss: 1.0691e-06 - accuracy: 1.0000\n",
      "Epoch 38/50\n",
      "77/77 [==============================] - 0s 4ms/step - loss: 1.0192e-06 - accuracy: 1.0000\n",
      "Epoch 39/50\n",
      "77/77 [==============================] - 0s 3ms/step - loss: 9.7244e-07 - accuracy: 1.0000\n",
      "Epoch 40/50\n",
      "77/77 [==============================] - 0s 4ms/step - loss: 9.2880e-07 - accuracy: 1.0000\n",
      "Epoch 41/50\n",
      "77/77 [==============================] - 0s 4ms/step - loss: 8.8570e-07 - accuracy: 1.0000\n",
      "Epoch 42/50\n",
      "77/77 [==============================] - 0s 5ms/step - loss: 8.4616e-07 - accuracy: 1.0000\n",
      "Epoch 43/50\n",
      "77/77 [==============================] - 0s 4ms/step - loss: 8.0826e-07 - accuracy: 1.0000\n",
      "Epoch 44/50\n",
      "77/77 [==============================] - 0s 5ms/step - loss: 7.7237e-07 - accuracy: 1.0000\n",
      "Epoch 45/50\n",
      "77/77 [==============================] - 0s 4ms/step - loss: 7.3802e-07 - accuracy: 1.0000\n",
      "Epoch 46/50\n",
      "77/77 [==============================] - 0s 4ms/step - loss: 7.0421e-07 - accuracy: 1.0000\n",
      "Epoch 47/50\n",
      "77/77 [==============================] - 0s 4ms/step - loss: 6.7281e-07 - accuracy: 1.0000\n",
      "Epoch 48/50\n",
      "77/77 [==============================] - 0s 4ms/step - loss: 6.4283e-07 - accuracy: 1.0000\n",
      "Epoch 49/50\n",
      "77/77 [==============================] - 0s 4ms/step - loss: 6.1427e-07 - accuracy: 1.0000\n",
      "Epoch 50/50\n",
      "77/77 [==============================] - 0s 4ms/step - loss: 5.8673e-07 - accuracy: 1.0000\n"
     ]
    },
    {
     "data": {
      "text/plain": [
       "<keras.callbacks.History at 0x1931e435250>"
      ]
     },
     "execution_count": 229,
     "metadata": {},
     "output_type": "execute_result"
    }
   ],
   "source": [
    "model.fit(x_train_sm, y_train_binarize,batch_size=128, epochs=50, verbose=1)"
   ]
  },
  {
   "cell_type": "code",
   "execution_count": 230,
   "id": "ecbfab91-6750-4e47-9ebe-79acf152df4c",
   "metadata": {},
   "outputs": [],
   "source": [
    "y_pred_nn=model.predict(x_test_sm, batch_size=128)\n",
    "y_pred_bool = np.argmax(y_pred_nn, axis=1)"
   ]
  },
  {
   "cell_type": "code",
   "execution_count": 232,
   "id": "74d43a55-22c6-413d-9d06-935161426cc9",
   "metadata": {},
   "outputs": [
    {
     "name": "stdout",
     "output_type": "stream",
     "text": [
      "[[1398    0    0]\n",
      " [   0 1433    0]\n",
      " [   3   23 1349]]\n"
     ]
    }
   ],
   "source": [
    "print(confusion_matrix(y_test_sm_le, y_pred_bool))"
   ]
  },
  {
   "cell_type": "code",
   "execution_count": 233,
   "id": "60f9e118-aa94-4a9b-8453-5aa482cd1ce8",
   "metadata": {},
   "outputs": [
    {
     "name": "stdout",
     "output_type": "stream",
     "text": [
      "              precision    recall  f1-score   support\n",
      "\n",
      "           0       1.00      1.00      1.00      1398\n",
      "           1       0.98      1.00      0.99      1433\n",
      "           2       1.00      0.98      0.99      1375\n",
      "\n",
      "    accuracy                           0.99      4206\n",
      "   macro avg       0.99      0.99      0.99      4206\n",
      "weighted avg       0.99      0.99      0.99      4206\n",
      "\n"
     ]
    }
   ],
   "source": [
    "print(classification_report(y_test_sm_le, y_pred_bool))"
   ]
  },
  {
   "cell_type": "markdown",
   "id": "ed3e3247-71bf-426b-b5c3-b903c38b4172",
   "metadata": {},
   "source": [
    "## Use possible ensemble techniques like: XGboost + oversampled_multinomial_NB."
   ]
  },
  {
   "cell_type": "code",
   "execution_count": 409,
   "id": "488be2fd-0ac4-434f-b417-cb8dcd08d1c6",
   "metadata": {},
   "outputs": [],
   "source": [
    "from sklearn.ensemble import VotingClassifier"
   ]
  },
  {
   "cell_type": "code",
   "execution_count": 410,
   "id": "0057d414-b095-4844-90a9-f81f000f3153",
   "metadata": {},
   "outputs": [],
   "source": [
    "model1=XGBClassifier(n_jobs=-1)\n",
    "model2=MultinomialNB()"
   ]
  },
  {
   "cell_type": "code",
   "execution_count": 411,
   "id": "9fcf46af-85e0-4478-812e-8b3be813acfb",
   "metadata": {},
   "outputs": [],
   "source": [
    "vc=VotingClassifier(estimators=[('xgb',model1),('naaivebayes',model2)], voting='hard', verbose=True, n_jobs=-1)"
   ]
  },
  {
   "cell_type": "code",
   "execution_count": 412,
   "id": "f2204ef4-7621-4e99-aec7-a6ff6c5717cb",
   "metadata": {},
   "outputs": [
    {
     "data": {
      "text/html": [
       "<style>#sk-container-id-13 {color: black;background-color: white;}#sk-container-id-13 pre{padding: 0;}#sk-container-id-13 div.sk-toggleable {background-color: white;}#sk-container-id-13 label.sk-toggleable__label {cursor: pointer;display: block;width: 100%;margin-bottom: 0;padding: 0.3em;box-sizing: border-box;text-align: center;}#sk-container-id-13 label.sk-toggleable__label-arrow:before {content: \"▸\";float: left;margin-right: 0.25em;color: #696969;}#sk-container-id-13 label.sk-toggleable__label-arrow:hover:before {color: black;}#sk-container-id-13 div.sk-estimator:hover label.sk-toggleable__label-arrow:before {color: black;}#sk-container-id-13 div.sk-toggleable__content {max-height: 0;max-width: 0;overflow: hidden;text-align: left;background-color: #f0f8ff;}#sk-container-id-13 div.sk-toggleable__content pre {margin: 0.2em;color: black;border-radius: 0.25em;background-color: #f0f8ff;}#sk-container-id-13 input.sk-toggleable__control:checked~div.sk-toggleable__content {max-height: 200px;max-width: 100%;overflow: auto;}#sk-container-id-13 input.sk-toggleable__control:checked~label.sk-toggleable__label-arrow:before {content: \"▾\";}#sk-container-id-13 div.sk-estimator input.sk-toggleable__control:checked~label.sk-toggleable__label {background-color: #d4ebff;}#sk-container-id-13 div.sk-label input.sk-toggleable__control:checked~label.sk-toggleable__label {background-color: #d4ebff;}#sk-container-id-13 input.sk-hidden--visually {border: 0;clip: rect(1px 1px 1px 1px);clip: rect(1px, 1px, 1px, 1px);height: 1px;margin: -1px;overflow: hidden;padding: 0;position: absolute;width: 1px;}#sk-container-id-13 div.sk-estimator {font-family: monospace;background-color: #f0f8ff;border: 1px dotted black;border-radius: 0.25em;box-sizing: border-box;margin-bottom: 0.5em;}#sk-container-id-13 div.sk-estimator:hover {background-color: #d4ebff;}#sk-container-id-13 div.sk-parallel-item::after {content: \"\";width: 100%;border-bottom: 1px solid gray;flex-grow: 1;}#sk-container-id-13 div.sk-label:hover label.sk-toggleable__label {background-color: #d4ebff;}#sk-container-id-13 div.sk-serial::before {content: \"\";position: absolute;border-left: 1px solid gray;box-sizing: border-box;top: 0;bottom: 0;left: 50%;z-index: 0;}#sk-container-id-13 div.sk-serial {display: flex;flex-direction: column;align-items: center;background-color: white;padding-right: 0.2em;padding-left: 0.2em;position: relative;}#sk-container-id-13 div.sk-item {position: relative;z-index: 1;}#sk-container-id-13 div.sk-parallel {display: flex;align-items: stretch;justify-content: center;background-color: white;position: relative;}#sk-container-id-13 div.sk-item::before, #sk-container-id-13 div.sk-parallel-item::before {content: \"\";position: absolute;border-left: 1px solid gray;box-sizing: border-box;top: 0;bottom: 0;left: 50%;z-index: -1;}#sk-container-id-13 div.sk-parallel-item {display: flex;flex-direction: column;z-index: 1;position: relative;background-color: white;}#sk-container-id-13 div.sk-parallel-item:first-child::after {align-self: flex-end;width: 50%;}#sk-container-id-13 div.sk-parallel-item:last-child::after {align-self: flex-start;width: 50%;}#sk-container-id-13 div.sk-parallel-item:only-child::after {width: 0;}#sk-container-id-13 div.sk-dashed-wrapped {border: 1px dashed gray;margin: 0 0.4em 0.5em 0.4em;box-sizing: border-box;padding-bottom: 0.4em;background-color: white;}#sk-container-id-13 div.sk-label label {font-family: monospace;font-weight: bold;display: inline-block;line-height: 1.2em;}#sk-container-id-13 div.sk-label-container {text-align: center;}#sk-container-id-13 div.sk-container {/* jupyter's `normalize.less` sets `[hidden] { display: none; }` but bootstrap.min.css set `[hidden] { display: none !important; }` so we also need the `!important` here to be able to override the default hidden behavior on the sphinx rendered scikit-learn.org. See: https://github.com/scikit-learn/scikit-learn/issues/21755 */display: inline-block !important;position: relative;}#sk-container-id-13 div.sk-text-repr-fallback {display: none;}</style><div id=\"sk-container-id-13\" class=\"sk-top-container\"><div class=\"sk-text-repr-fallback\"><pre>VotingClassifier(estimators=[(&#x27;xgb&#x27;,\n",
       "                              XGBClassifier(base_score=None, booster=None,\n",
       "                                            callbacks=None,\n",
       "                                            colsample_bylevel=None,\n",
       "                                            colsample_bynode=None,\n",
       "                                            colsample_bytree=None,\n",
       "                                            early_stopping_rounds=None,\n",
       "                                            enable_categorical=False,\n",
       "                                            eval_metric=None, gamma=None,\n",
       "                                            gpu_id=None, grow_policy=None,\n",
       "                                            importance_type=None,\n",
       "                                            interaction_constraints=None,\n",
       "                                            learning_rate=None, max_bin=None,\n",
       "                                            max_cat_to_onehot=None,\n",
       "                                            max_delta_step=None, max_depth=None,\n",
       "                                            max_leaves=None,\n",
       "                                            min_child_weight=None, missing=nan,\n",
       "                                            monotone_constraints=None,\n",
       "                                            n_estimators=100, n_jobs=-1,\n",
       "                                            num_parallel_tree=None,\n",
       "                                            predictor=None, random_state=None,\n",
       "                                            reg_alpha=None, reg_lambda=None, ...)),\n",
       "                             (&#x27;naaivebayes&#x27;, MultinomialNB())],\n",
       "                 n_jobs=-1, verbose=True)</pre><b>In a Jupyter environment, please rerun this cell to show the HTML representation or trust the notebook. <br />On GitHub, the HTML representation is unable to render, please try loading this page with nbviewer.org.</b></div><div class=\"sk-container\" hidden><div class=\"sk-item sk-dashed-wrapped\"><div class=\"sk-label-container\"><div class=\"sk-label sk-toggleable\"><input class=\"sk-toggleable__control sk-hidden--visually\" id=\"sk-estimator-id-15\" type=\"checkbox\" ><label for=\"sk-estimator-id-15\" class=\"sk-toggleable__label sk-toggleable__label-arrow\">VotingClassifier</label><div class=\"sk-toggleable__content\"><pre>VotingClassifier(estimators=[(&#x27;xgb&#x27;,\n",
       "                              XGBClassifier(base_score=None, booster=None,\n",
       "                                            callbacks=None,\n",
       "                                            colsample_bylevel=None,\n",
       "                                            colsample_bynode=None,\n",
       "                                            colsample_bytree=None,\n",
       "                                            early_stopping_rounds=None,\n",
       "                                            enable_categorical=False,\n",
       "                                            eval_metric=None, gamma=None,\n",
       "                                            gpu_id=None, grow_policy=None,\n",
       "                                            importance_type=None,\n",
       "                                            interaction_constraints=None,\n",
       "                                            learning_rate=None, max_bin=None,\n",
       "                                            max_cat_to_onehot=None,\n",
       "                                            max_delta_step=None, max_depth=None,\n",
       "                                            max_leaves=None,\n",
       "                                            min_child_weight=None, missing=nan,\n",
       "                                            monotone_constraints=None,\n",
       "                                            n_estimators=100, n_jobs=-1,\n",
       "                                            num_parallel_tree=None,\n",
       "                                            predictor=None, random_state=None,\n",
       "                                            reg_alpha=None, reg_lambda=None, ...)),\n",
       "                             (&#x27;naaivebayes&#x27;, MultinomialNB())],\n",
       "                 n_jobs=-1, verbose=True)</pre></div></div></div><div class=\"sk-parallel\"><div class=\"sk-parallel-item\"><div class=\"sk-item\"><div class=\"sk-label-container\"><div class=\"sk-label sk-toggleable\"><label>xgb</label></div></div><div class=\"sk-serial\"><div class=\"sk-item\"><div class=\"sk-estimator sk-toggleable\"><input class=\"sk-toggleable__control sk-hidden--visually\" id=\"sk-estimator-id-16\" type=\"checkbox\" ><label for=\"sk-estimator-id-16\" class=\"sk-toggleable__label sk-toggleable__label-arrow\">XGBClassifier</label><div class=\"sk-toggleable__content\"><pre>XGBClassifier(base_score=None, booster=None, callbacks=None,\n",
       "              colsample_bylevel=None, colsample_bynode=None,\n",
       "              colsample_bytree=None, early_stopping_rounds=None,\n",
       "              enable_categorical=False, eval_metric=None, gamma=None,\n",
       "              gpu_id=None, grow_policy=None, importance_type=None,\n",
       "              interaction_constraints=None, learning_rate=None, max_bin=None,\n",
       "              max_cat_to_onehot=None, max_delta_step=None, max_depth=None,\n",
       "              max_leaves=None, min_child_weight=None, missing=nan,\n",
       "              monotone_constraints=None, n_estimators=100, n_jobs=-1,\n",
       "              num_parallel_tree=None, predictor=None, random_state=None,\n",
       "              reg_alpha=None, reg_lambda=None, ...)</pre></div></div></div></div></div></div><div class=\"sk-parallel-item\"><div class=\"sk-item\"><div class=\"sk-label-container\"><div class=\"sk-label sk-toggleable\"><label>naaivebayes</label></div></div><div class=\"sk-serial\"><div class=\"sk-item\"><div class=\"sk-estimator sk-toggleable\"><input class=\"sk-toggleable__control sk-hidden--visually\" id=\"sk-estimator-id-17\" type=\"checkbox\" ><label for=\"sk-estimator-id-17\" class=\"sk-toggleable__label sk-toggleable__label-arrow\">MultinomialNB</label><div class=\"sk-toggleable__content\"><pre>MultinomialNB()</pre></div></div></div></div></div></div></div></div></div></div>"
      ],
      "text/plain": [
       "VotingClassifier(estimators=[('xgb',\n",
       "                              XGBClassifier(base_score=None, booster=None,\n",
       "                                            callbacks=None,\n",
       "                                            colsample_bylevel=None,\n",
       "                                            colsample_bynode=None,\n",
       "                                            colsample_bytree=None,\n",
       "                                            early_stopping_rounds=None,\n",
       "                                            enable_categorical=False,\n",
       "                                            eval_metric=None, gamma=None,\n",
       "                                            gpu_id=None, grow_policy=None,\n",
       "                                            importance_type=None,\n",
       "                                            interaction_constraints=None,\n",
       "                                            learning_rate=None, max_bin=None,\n",
       "                                            max_cat_to_onehot=None,\n",
       "                                            max_delta_step=None, max_depth=None,\n",
       "                                            max_leaves=None,\n",
       "                                            min_child_weight=None, missing=nan,\n",
       "                                            monotone_constraints=None,\n",
       "                                            n_estimators=100, n_jobs=-1,\n",
       "                                            num_parallel_tree=None,\n",
       "                                            predictor=None, random_state=None,\n",
       "                                            reg_alpha=None, reg_lambda=None, ...)),\n",
       "                             ('naaivebayes', MultinomialNB())],\n",
       "                 n_jobs=-1, verbose=True)"
      ]
     },
     "execution_count": 412,
     "metadata": {},
     "output_type": "execute_result"
    }
   ],
   "source": [
    "vc.fit(x_train_sm, y_train_sm)"
   ]
  },
  {
   "cell_type": "code",
   "execution_count": 413,
   "id": "68e2ceb9-619d-448a-977a-527272e92103",
   "metadata": {},
   "outputs": [],
   "source": [
    "y_pred_vc=vc.predict(x_test_sm)"
   ]
  },
  {
   "cell_type": "code",
   "execution_count": 414,
   "id": "791d79c6-b7d1-4e0d-9901-68d756b63c98",
   "metadata": {},
   "outputs": [
    {
     "data": {
      "text/plain": [
       "array([[1397,    1,   44],\n",
       "       [   0, 1429,  113],\n",
       "       [   1,    3, 1218]], dtype=int64)"
      ]
     },
     "execution_count": 414,
     "metadata": {},
     "output_type": "execute_result"
    }
   ],
   "source": [
    "confusion_matrix(y_pred_vc, y_test_sm)"
   ]
  },
  {
   "cell_type": "code",
   "execution_count": 415,
   "id": "2f0a1572-b073-4d96-8d52-de96fc3adf1a",
   "metadata": {},
   "outputs": [
    {
     "name": "stdout",
     "output_type": "stream",
     "text": [
      "              precision    recall  f1-score   support\n",
      "\n",
      "    Negative       1.00      0.97      0.98      1442\n",
      "     Neutral       1.00      0.93      0.96      1542\n",
      "    Positive       0.89      1.00      0.94      1222\n",
      "\n",
      "    accuracy                           0.96      4206\n",
      "   macro avg       0.96      0.96      0.96      4206\n",
      "weighted avg       0.97      0.96      0.96      4206\n",
      "\n"
     ]
    }
   ],
   "source": [
    "print(classification_report(y_pred_vc, y_test_sm))"
   ]
  },
  {
   "cell_type": "markdown",
   "id": "a952894c-4005-4dcc-9046-6d593bedae9b",
   "metadata": {},
   "source": [
    "## Prepare a column called 'Sentiment Score or polarity score'"
   ]
  },
  {
   "cell_type": "code",
   "execution_count": 38,
   "id": "943528e2-1d99-4d7e-abba-1a8a66b6f364",
   "metadata": {},
   "outputs": [],
   "source": [
    "from textblob import TextBlob"
   ]
  },
  {
   "cell_type": "code",
   "execution_count": 39,
   "id": "164ef467-e9e2-469d-860e-ab26f9833bf6",
   "metadata": {},
   "outputs": [],
   "source": [
    "def senti(x):\n",
    "    return TextBlob(x).sentiment \n",
    "def polarity(x):\n",
    "    return TextBlob(x).polarity+1"
   ]
  },
  {
   "cell_type": "code",
   "execution_count": 40,
   "id": "645675ab-4dbb-496c-a1ca-6a741d013516",
   "metadata": {},
   "outputs": [],
   "source": [
    "#master_data['sentimemt_score']=master_data['reviews.text'].apply(lambda x: (TextBlob(x).sentiment))\n",
    "#master_data['polarity_score']=master_data[\"reviews.text\"].apply(lambda x: (TextBlob(x).polarity))"
   ]
  },
  {
   "cell_type": "code",
   "execution_count": 41,
   "id": "5337597c-d0a8-471f-8247-1f683be85e49",
   "metadata": {},
   "outputs": [],
   "source": [
    "master_data['sentiment_score']=master_data['reviews.text'].apply(senti)\n",
    "master_data['polarity_score']=master_data['reviews.text'].apply(polarity)"
   ]
  },
  {
   "cell_type": "code",
   "execution_count": 50,
   "id": "ed83f0a8-5f3f-4d7a-afbc-0d7e10f8a04d",
   "metadata": {},
   "outputs": [],
   "source": [
    "#master_data.drop(['sentimemt_score','polarity_score'], axis=1, inplace=True)"
   ]
  },
  {
   "cell_type": "code",
   "execution_count": 42,
   "id": "650cbb3a-1c85-49ce-ada6-d548a8d75469",
   "metadata": {},
   "outputs": [],
   "source": [
    "master_data=master_data.reset_index(drop=True) ##very important"
   ]
  },
  {
   "cell_type": "code",
   "execution_count": 43,
   "id": "16e532dc-f11b-4e61-85ee-61d5ffd1cbed",
   "metadata": {},
   "outputs": [
    {
     "data": {
      "text/html": [
       "<div>\n",
       "<style scoped>\n",
       "    .dataframe tbody tr th:only-of-type {\n",
       "        vertical-align: middle;\n",
       "    }\n",
       "\n",
       "    .dataframe tbody tr th {\n",
       "        vertical-align: top;\n",
       "    }\n",
       "\n",
       "    .dataframe thead th {\n",
       "        text-align: right;\n",
       "    }\n",
       "</style>\n",
       "<table border=\"1\" class=\"dataframe\">\n",
       "  <thead>\n",
       "    <tr style=\"text-align: right;\">\n",
       "      <th></th>\n",
       "      <th>name</th>\n",
       "      <th>brand</th>\n",
       "      <th>categories</th>\n",
       "      <th>primaryCategories</th>\n",
       "      <th>reviews.date</th>\n",
       "      <th>reviews.text</th>\n",
       "      <th>reviews.title</th>\n",
       "      <th>sentiment</th>\n",
       "      <th>sentiment_score</th>\n",
       "      <th>polarity_score</th>\n",
       "    </tr>\n",
       "  </thead>\n",
       "  <tbody>\n",
       "    <tr>\n",
       "      <th>0</th>\n",
       "      <td>All-New Fire HD 8 Tablet, 8\" HD Display, Wi-Fi...</td>\n",
       "      <td>Amazon</td>\n",
       "      <td>Electronics,iPad &amp; Tablets,All Tablets,Fire Ta...</td>\n",
       "      <td>Electronics</td>\n",
       "      <td>2016-12-26T00:00:00.000Z</td>\n",
       "      <td>Purchased on Black FridayPros - Great Price (e...</td>\n",
       "      <td>Powerful tablet</td>\n",
       "      <td>Positive</td>\n",
       "      <td>(0.36354166666666665, 0.6791666666666667)</td>\n",
       "      <td>1.363542</td>\n",
       "    </tr>\n",
       "    <tr>\n",
       "      <th>1</th>\n",
       "      <td>Amazon - Echo Plus w/ Built-In Hub - Silver</td>\n",
       "      <td>Amazon</td>\n",
       "      <td>Amazon Echo,Smart Home,Networking,Home &amp; Tools...</td>\n",
       "      <td>Electronics,Hardware</td>\n",
       "      <td>2018-01-17T00:00:00.000Z</td>\n",
       "      <td>I purchased two Amazon in Echo Plus and two do...</td>\n",
       "      <td>Amazon Echo Plus AWESOME</td>\n",
       "      <td>Positive</td>\n",
       "      <td>(0.45821428571428574, 0.49821428571428567)</td>\n",
       "      <td>1.458214</td>\n",
       "    </tr>\n",
       "    <tr>\n",
       "      <th>2</th>\n",
       "      <td>Amazon Echo Show Alexa-enabled Bluetooth Speak...</td>\n",
       "      <td>Amazon</td>\n",
       "      <td>Amazon Echo,Virtual Assistant Speakers,Electro...</td>\n",
       "      <td>Electronics,Hardware</td>\n",
       "      <td>2017-12-20T00:00:00.000Z</td>\n",
       "      <td>Just an average Alexa option. Does show a few ...</td>\n",
       "      <td>Average</td>\n",
       "      <td>Neutral</td>\n",
       "      <td>(-0.14047619047619045, 0.21428571428571427)</td>\n",
       "      <td>0.859524</td>\n",
       "    </tr>\n",
       "    <tr>\n",
       "      <th>3</th>\n",
       "      <td>Fire HD 10 Tablet, 10.1 HD Display, Wi-Fi, 16 ...</td>\n",
       "      <td>Amazon</td>\n",
       "      <td>eBook Readers,Fire Tablets,Electronics Feature...</td>\n",
       "      <td>Office Supplies,Electronics</td>\n",
       "      <td>2017-08-04T00:00:00.000Z</td>\n",
       "      <td>very good product. Exactly what I wanted, and ...</td>\n",
       "      <td>Greattttttt</td>\n",
       "      <td>Positive</td>\n",
       "      <td>(0.69, 0.6033333333333335)</td>\n",
       "      <td>1.690000</td>\n",
       "    </tr>\n",
       "    <tr>\n",
       "      <th>4</th>\n",
       "      <td>Brand New Amazon Kindle Fire 16gb 7\" Ips Displ...</td>\n",
       "      <td>Amazon</td>\n",
       "      <td>Computers/Tablets &amp; Networking,Tablets &amp; eBook...</td>\n",
       "      <td>Electronics</td>\n",
       "      <td>2017-01-23T00:00:00.000Z</td>\n",
       "      <td>This is the 3rd one I've purchased. I've bough...</td>\n",
       "      <td>Very durable!</td>\n",
       "      <td>Positive</td>\n",
       "      <td>(0.1875, 0.2916666666666667)</td>\n",
       "      <td>1.187500</td>\n",
       "    </tr>\n",
       "  </tbody>\n",
       "</table>\n",
       "</div>"
      ],
      "text/plain": [
       "                                                name   brand  \\\n",
       "0  All-New Fire HD 8 Tablet, 8\" HD Display, Wi-Fi...  Amazon   \n",
       "1        Amazon - Echo Plus w/ Built-In Hub - Silver  Amazon   \n",
       "2  Amazon Echo Show Alexa-enabled Bluetooth Speak...  Amazon   \n",
       "3  Fire HD 10 Tablet, 10.1 HD Display, Wi-Fi, 16 ...  Amazon   \n",
       "4  Brand New Amazon Kindle Fire 16gb 7\" Ips Displ...  Amazon   \n",
       "\n",
       "                                          categories  \\\n",
       "0  Electronics,iPad & Tablets,All Tablets,Fire Ta...   \n",
       "1  Amazon Echo,Smart Home,Networking,Home & Tools...   \n",
       "2  Amazon Echo,Virtual Assistant Speakers,Electro...   \n",
       "3  eBook Readers,Fire Tablets,Electronics Feature...   \n",
       "4  Computers/Tablets & Networking,Tablets & eBook...   \n",
       "\n",
       "             primaryCategories              reviews.date  \\\n",
       "0                  Electronics  2016-12-26T00:00:00.000Z   \n",
       "1         Electronics,Hardware  2018-01-17T00:00:00.000Z   \n",
       "2         Electronics,Hardware  2017-12-20T00:00:00.000Z   \n",
       "3  Office Supplies,Electronics  2017-08-04T00:00:00.000Z   \n",
       "4                  Electronics  2017-01-23T00:00:00.000Z   \n",
       "\n",
       "                                        reviews.text  \\\n",
       "0  Purchased on Black FridayPros - Great Price (e...   \n",
       "1  I purchased two Amazon in Echo Plus and two do...   \n",
       "2  Just an average Alexa option. Does show a few ...   \n",
       "3  very good product. Exactly what I wanted, and ...   \n",
       "4  This is the 3rd one I've purchased. I've bough...   \n",
       "\n",
       "              reviews.title sentiment  \\\n",
       "0           Powerful tablet  Positive   \n",
       "1  Amazon Echo Plus AWESOME  Positive   \n",
       "2                   Average   Neutral   \n",
       "3               Greattttttt  Positive   \n",
       "4             Very durable!  Positive   \n",
       "\n",
       "                               sentiment_score  polarity_score  \n",
       "0    (0.36354166666666665, 0.6791666666666667)        1.363542  \n",
       "1   (0.45821428571428574, 0.49821428571428567)        1.458214  \n",
       "2  (-0.14047619047619045, 0.21428571428571427)        0.859524  \n",
       "3                   (0.69, 0.6033333333333335)        1.690000  \n",
       "4                 (0.1875, 0.2916666666666667)        1.187500  "
      ]
     },
     "execution_count": 43,
     "metadata": {},
     "output_type": "execute_result"
    }
   ],
   "source": [
    "master_data.head()"
   ]
  },
  {
   "cell_type": "code",
   "execution_count": 44,
   "id": "36ab9e96-5c6a-48b8-aec1-b4ea664d2806",
   "metadata": {},
   "outputs": [
    {
     "data": {
      "text/plain": [
       "0      (0.36354166666666665, 0.6791666666666667)\n",
       "1     (0.45821428571428574, 0.49821428571428567)\n",
       "2    (-0.14047619047619045, 0.21428571428571427)\n",
       "3                     (0.69, 0.6033333333333335)\n",
       "4                   (0.1875, 0.2916666666666667)\n",
       "Name: sentiment_score, dtype: object"
      ]
     },
     "execution_count": 44,
     "metadata": {},
     "output_type": "execute_result"
    }
   ],
   "source": [
    "master_data.sentiment_score.head()"
   ]
  },
  {
   "cell_type": "code",
   "execution_count": 45,
   "id": "9e78483d-426c-46de-bcb4-012c1e196aa5",
   "metadata": {},
   "outputs": [
    {
     "data": {
      "text/plain": [
       "((4987,), (4987, 6793))"
      ]
     },
     "execution_count": 45,
     "metadata": {},
     "output_type": "execute_result"
    }
   ],
   "source": [
    "master_data['polarity_score'].shape, XX.shape"
   ]
  },
  {
   "cell_type": "code",
   "execution_count": 46,
   "id": "f12f7bc7-1fdd-437e-99dd-bcbc0864d934",
   "metadata": {},
   "outputs": [
    {
     "data": {
      "text/plain": [
       "name                 0\n",
       "brand                0\n",
       "categories           0\n",
       "primaryCategories    0\n",
       "reviews.date         0\n",
       "reviews.text         0\n",
       "reviews.title        0\n",
       "sentiment            0\n",
       "sentiment_score      0\n",
       "polarity_score       0\n",
       "dtype: int64"
      ]
     },
     "execution_count": 46,
     "metadata": {},
     "output_type": "execute_result"
    }
   ],
   "source": [
    "master_data.isna().sum()"
   ]
  },
  {
   "cell_type": "code",
   "execution_count": 47,
   "id": "de0fac82-23eb-4877-b2ab-f141905bec1d",
   "metadata": {},
   "outputs": [],
   "source": [
    "data= pd.concat([master_data['polarity_score'],XX], axis=1)"
   ]
  },
  {
   "cell_type": "code",
   "execution_count": 48,
   "id": "9bd7b438-fee9-4ec5-82bd-53d5cc8bbf9d",
   "metadata": {},
   "outputs": [],
   "source": [
    "Y=le.fit_transform(master_data['sentiment'])"
   ]
  },
  {
   "cell_type": "code",
   "execution_count": 49,
   "id": "83d63307-ed99-4e75-b9a7-eb5141adb18f",
   "metadata": {},
   "outputs": [],
   "source": [
    "new_x_train,new_x_test,y_train,y_test=train_test_split(data,Y, test_size=0.3, random_state=43)"
   ]
  },
  {
   "cell_type": "code",
   "execution_count": 61,
   "id": "3dbcc88f-8542-4062-9301-3703c72664e0",
   "metadata": {},
   "outputs": [],
   "source": [
    "model3=MultinomialNB()"
   ]
  },
  {
   "cell_type": "code",
   "execution_count": 62,
   "id": "fce00398-dd1c-457d-bfcc-5ff218548716",
   "metadata": {},
   "outputs": [
    {
     "name": "stderr",
     "output_type": "stream",
     "text": [
      "C:\\ProgramData\\Anaconda3\\lib\\site-packages\\sklearn\\utils\\validation.py:1858: FutureWarning: Feature names only support names that are all strings. Got feature names with dtypes: ['int', 'str']. An error will be raised in 1.2.\n",
      "  warnings.warn(\n"
     ]
    },
    {
     "data": {
      "text/html": [
       "<style>#sk-container-id-2 {color: black;background-color: white;}#sk-container-id-2 pre{padding: 0;}#sk-container-id-2 div.sk-toggleable {background-color: white;}#sk-container-id-2 label.sk-toggleable__label {cursor: pointer;display: block;width: 100%;margin-bottom: 0;padding: 0.3em;box-sizing: border-box;text-align: center;}#sk-container-id-2 label.sk-toggleable__label-arrow:before {content: \"▸\";float: left;margin-right: 0.25em;color: #696969;}#sk-container-id-2 label.sk-toggleable__label-arrow:hover:before {color: black;}#sk-container-id-2 div.sk-estimator:hover label.sk-toggleable__label-arrow:before {color: black;}#sk-container-id-2 div.sk-toggleable__content {max-height: 0;max-width: 0;overflow: hidden;text-align: left;background-color: #f0f8ff;}#sk-container-id-2 div.sk-toggleable__content pre {margin: 0.2em;color: black;border-radius: 0.25em;background-color: #f0f8ff;}#sk-container-id-2 input.sk-toggleable__control:checked~div.sk-toggleable__content {max-height: 200px;max-width: 100%;overflow: auto;}#sk-container-id-2 input.sk-toggleable__control:checked~label.sk-toggleable__label-arrow:before {content: \"▾\";}#sk-container-id-2 div.sk-estimator input.sk-toggleable__control:checked~label.sk-toggleable__label {background-color: #d4ebff;}#sk-container-id-2 div.sk-label input.sk-toggleable__control:checked~label.sk-toggleable__label {background-color: #d4ebff;}#sk-container-id-2 input.sk-hidden--visually {border: 0;clip: rect(1px 1px 1px 1px);clip: rect(1px, 1px, 1px, 1px);height: 1px;margin: -1px;overflow: hidden;padding: 0;position: absolute;width: 1px;}#sk-container-id-2 div.sk-estimator {font-family: monospace;background-color: #f0f8ff;border: 1px dotted black;border-radius: 0.25em;box-sizing: border-box;margin-bottom: 0.5em;}#sk-container-id-2 div.sk-estimator:hover {background-color: #d4ebff;}#sk-container-id-2 div.sk-parallel-item::after {content: \"\";width: 100%;border-bottom: 1px solid gray;flex-grow: 1;}#sk-container-id-2 div.sk-label:hover label.sk-toggleable__label {background-color: #d4ebff;}#sk-container-id-2 div.sk-serial::before {content: \"\";position: absolute;border-left: 1px solid gray;box-sizing: border-box;top: 0;bottom: 0;left: 50%;z-index: 0;}#sk-container-id-2 div.sk-serial {display: flex;flex-direction: column;align-items: center;background-color: white;padding-right: 0.2em;padding-left: 0.2em;position: relative;}#sk-container-id-2 div.sk-item {position: relative;z-index: 1;}#sk-container-id-2 div.sk-parallel {display: flex;align-items: stretch;justify-content: center;background-color: white;position: relative;}#sk-container-id-2 div.sk-item::before, #sk-container-id-2 div.sk-parallel-item::before {content: \"\";position: absolute;border-left: 1px solid gray;box-sizing: border-box;top: 0;bottom: 0;left: 50%;z-index: -1;}#sk-container-id-2 div.sk-parallel-item {display: flex;flex-direction: column;z-index: 1;position: relative;background-color: white;}#sk-container-id-2 div.sk-parallel-item:first-child::after {align-self: flex-end;width: 50%;}#sk-container-id-2 div.sk-parallel-item:last-child::after {align-self: flex-start;width: 50%;}#sk-container-id-2 div.sk-parallel-item:only-child::after {width: 0;}#sk-container-id-2 div.sk-dashed-wrapped {border: 1px dashed gray;margin: 0 0.4em 0.5em 0.4em;box-sizing: border-box;padding-bottom: 0.4em;background-color: white;}#sk-container-id-2 div.sk-label label {font-family: monospace;font-weight: bold;display: inline-block;line-height: 1.2em;}#sk-container-id-2 div.sk-label-container {text-align: center;}#sk-container-id-2 div.sk-container {/* jupyter's `normalize.less` sets `[hidden] { display: none; }` but bootstrap.min.css set `[hidden] { display: none !important; }` so we also need the `!important` here to be able to override the default hidden behavior on the sphinx rendered scikit-learn.org. See: https://github.com/scikit-learn/scikit-learn/issues/21755 */display: inline-block !important;position: relative;}#sk-container-id-2 div.sk-text-repr-fallback {display: none;}</style><div id=\"sk-container-id-2\" class=\"sk-top-container\"><div class=\"sk-text-repr-fallback\"><pre>MultinomialNB()</pre><b>In a Jupyter environment, please rerun this cell to show the HTML representation or trust the notebook. <br />On GitHub, the HTML representation is unable to render, please try loading this page with nbviewer.org.</b></div><div class=\"sk-container\" hidden><div class=\"sk-item\"><div class=\"sk-estimator sk-toggleable\"><input class=\"sk-toggleable__control sk-hidden--visually\" id=\"sk-estimator-id-2\" type=\"checkbox\" checked><label for=\"sk-estimator-id-2\" class=\"sk-toggleable__label sk-toggleable__label-arrow\">MultinomialNB</label><div class=\"sk-toggleable__content\"><pre>MultinomialNB()</pre></div></div></div></div></div>"
      ],
      "text/plain": [
       "MultinomialNB()"
      ]
     },
     "execution_count": 62,
     "metadata": {},
     "output_type": "execute_result"
    }
   ],
   "source": [
    "model3.fit(new_x_train, y_train)"
   ]
  },
  {
   "cell_type": "code",
   "execution_count": 63,
   "id": "60dce18f-fc27-4ec1-a8e9-30d519dba66c",
   "metadata": {},
   "outputs": [
    {
     "name": "stdout",
     "output_type": "stream",
     "text": [
      "[[   0    0    0]\n",
      " [   0    0    0]\n",
      " [  37   52 1408]]\n"
     ]
    },
    {
     "name": "stderr",
     "output_type": "stream",
     "text": [
      "C:\\ProgramData\\Anaconda3\\lib\\site-packages\\sklearn\\utils\\validation.py:1858: FutureWarning: Feature names only support names that are all strings. Got feature names with dtypes: ['int', 'str']. An error will be raised in 1.2.\n",
      "  warnings.warn(\n"
     ]
    }
   ],
   "source": [
    "print(confusion_matrix(model3.predict(new_x_test), y_test))"
   ]
  },
  {
   "cell_type": "code",
   "execution_count": 64,
   "id": "d5d5f13a-bcf3-44f3-b0df-ee5c6a5391a1",
   "metadata": {},
   "outputs": [
    {
     "name": "stdout",
     "output_type": "stream",
     "text": [
      "              precision    recall  f1-score   support\n",
      "\n",
      "           0       0.00      0.00      0.00         0\n",
      "           1       0.00      0.00      0.00         0\n",
      "           2       1.00      0.94      0.97      1497\n",
      "\n",
      "    accuracy                           0.94      1497\n",
      "   macro avg       0.33      0.31      0.32      1497\n",
      "weighted avg       1.00      0.94      0.97      1497\n",
      "\n"
     ]
    },
    {
     "name": "stderr",
     "output_type": "stream",
     "text": [
      "C:\\ProgramData\\Anaconda3\\lib\\site-packages\\sklearn\\utils\\validation.py:1858: FutureWarning: Feature names only support names that are all strings. Got feature names with dtypes: ['int', 'str']. An error will be raised in 1.2.\n",
      "  warnings.warn(\n",
      "C:\\ProgramData\\Anaconda3\\lib\\site-packages\\sklearn\\metrics\\_classification.py:1334: UndefinedMetricWarning: Recall and F-score are ill-defined and being set to 0.0 in labels with no true samples. Use `zero_division` parameter to control this behavior.\n",
      "  _warn_prf(average, modifier, msg_start, len(result))\n",
      "C:\\ProgramData\\Anaconda3\\lib\\site-packages\\sklearn\\metrics\\_classification.py:1334: UndefinedMetricWarning: Recall and F-score are ill-defined and being set to 0.0 in labels with no true samples. Use `zero_division` parameter to control this behavior.\n",
      "  _warn_prf(average, modifier, msg_start, len(result))\n",
      "C:\\ProgramData\\Anaconda3\\lib\\site-packages\\sklearn\\metrics\\_classification.py:1334: UndefinedMetricWarning: Recall and F-score are ill-defined and being set to 0.0 in labels with no true samples. Use `zero_division` parameter to control this behavior.\n",
      "  _warn_prf(average, modifier, msg_start, len(result))\n"
     ]
    }
   ],
   "source": [
    "print(classification_report(model3.predict(new_x_test), y_test))"
   ]
  },
  {
   "cell_type": "code",
   "execution_count": 94,
   "id": "6ac4433c-733e-49c5-b848-42a452d59ecc",
   "metadata": {},
   "outputs": [],
   "source": [
    "new_data=pd.concat([master_data['polarity_score'], X], axis=1)"
   ]
  },
  {
   "cell_type": "code",
   "execution_count": 96,
   "id": "35ae9c82-1988-4b94-86ff-f8267e5f2894",
   "metadata": {},
   "outputs": [],
   "source": [
    "new_x_train,new_x_test,y_train,y_test=train_test_split(new_data,Y, test_size=0.3, random_state=43)"
   ]
  },
  {
   "cell_type": "markdown",
   "id": "478f8eb0-c219-45c9-b7c3-8bc70977e1e9",
   "metadata": {},
   "source": [
    "## from above scenario it is showing poor performance if senti_score including in data"
   ]
  },
  {
   "cell_type": "markdown",
   "id": "472b4a95-67e6-4c5d-8cd8-ddcfdefaf44c",
   "metadata": {},
   "source": [
    "## LSTM MODEL"
   ]
  },
  {
   "cell_type": "code",
   "execution_count": 97,
   "id": "41b82275-d2ac-470f-9693-524307930ea2",
   "metadata": {},
   "outputs": [
    {
     "name": "stdout",
     "output_type": "stream",
     "text": [
      "WARNING:tensorflow:Layer lstm_2 will not use cuDNN kernels since it doesn't meet the criteria. It will use a generic GPU kernel as fallback when running on GPU.\n"
     ]
    }
   ],
   "source": [
    "epochs = 4\n",
    "emb_dim = 64\n",
    "batch_size = 256\n",
    "model = Sequential()\n",
    "model.add(Embedding(75, emb_dim, input_length=new_x_train.shape[1]))\n",
    "#model.add(SpatialDropout1D(0.7))\n",
    "model.add(LSTM(16, dropout=0.7, recurrent_dropout=0.7))\n",
    "model.add(Dense(3, activation='softmax'))"
   ]
  },
  {
   "cell_type": "code",
   "execution_count": 44,
   "id": "80d91dcc-3a8d-44b0-b1cd-782f819a2dab",
   "metadata": {},
   "outputs": [],
   "source": [
    "#lstm=Sequential()"
   ]
  },
  {
   "cell_type": "code",
   "execution_count": null,
   "id": "f35c2234-2ed6-4c46-9514-8c8174844e4a",
   "metadata": {},
   "outputs": [
    {
     "name": "stdout",
     "output_type": "stream",
     "text": [
      "WARNING:tensorflow:Layer lstm_4 will not use cuDNN kernels since it doesn't meet the criteria. It will use a generic GPU kernel as fallback when running on GPU.\n"
     ]
    }
   ],
   "source": [
    "#lstm.add((LSTM(64, dropout=0.2, recurrent_dropout=0.3)))"
   ]
  },
  {
   "cell_type": "code",
   "execution_count": 130,
   "id": "c3edc6cc-bcd2-49b7-8d1d-8e84d05de397",
   "metadata": {},
   "outputs": [],
   "source": [
    "#lstm.add(Dense(units=3, kernel_initializer='normal', activation='softmax'))"
   ]
  },
  {
   "cell_type": "code",
   "execution_count": 98,
   "id": "653e3979-a74e-4a66-8cf2-a1650af10a2c",
   "metadata": {},
   "outputs": [
    {
     "name": "stdout",
     "output_type": "stream",
     "text": [
      "Model: \"sequential_7\"\n",
      "_________________________________________________________________\n",
      " Layer (type)                Output Shape              Param #   \n",
      "=================================================================\n",
      " embedding_4 (Embedding)     (None, 5402, 64)          4800      \n",
      "                                                                 \n",
      " lstm_2 (LSTM)               (None, 16)                5184      \n",
      "                                                                 \n",
      " dense_3 (Dense)             (None, 3)                 51        \n",
      "                                                                 \n",
      "=================================================================\n",
      "Total params: 10,035\n",
      "Trainable params: 10,035\n",
      "Non-trainable params: 0\n",
      "_________________________________________________________________\n"
     ]
    }
   ],
   "source": [
    "model.summary()"
   ]
  },
  {
   "cell_type": "code",
   "execution_count": 99,
   "id": "3e1cec96-e664-4623-b40f-5f4f392a500e",
   "metadata": {},
   "outputs": [],
   "source": [
    "y_train_binarize=label_binarize(y_train, classes=[0,1,2])"
   ]
  },
  {
   "cell_type": "code",
   "execution_count": 100,
   "id": "dc22d6a3-2cd9-4c7b-bcc7-a4c87a5a260d",
   "metadata": {},
   "outputs": [],
   "source": [
    "model.compile(optimizer='adam', loss='categorical_crossentropy', metrics=['accuracy'])"
   ]
  },
  {
   "cell_type": "code",
   "execution_count": 101,
   "id": "f3b4bf5e-5944-4c4c-847c-5472b975bf68",
   "metadata": {},
   "outputs": [
    {
     "data": {
      "text/plain": [
       "((3490, 5402), (3490, 3))"
      ]
     },
     "execution_count": 101,
     "metadata": {},
     "output_type": "execute_result"
    }
   ],
   "source": [
    "new_x_train.shape, y_train_binarize.shape"
   ]
  },
  {
   "cell_type": "code",
   "execution_count": 103,
   "id": "370848b6-aa9e-46ff-801a-519d039cf1dc",
   "metadata": {},
   "outputs": [
    {
     "name": "stdout",
     "output_type": "stream",
     "text": [
      "Epoch 1/4\n",
      "55/55 - 1576s - loss: 0.7044 - accuracy: 0.8693 - 1576s/epoch - 29s/step\n",
      "Epoch 2/4\n",
      "55/55 - 3020s - loss: 0.2869 - accuracy: 0.9355 - 3020s/epoch - 55s/step\n",
      "Epoch 3/4\n",
      "55/55 - 1905s - loss: 0.2825 - accuracy: 0.9355 - 1905s/epoch - 35s/step\n",
      "Epoch 4/4\n",
      "55/55 - 1566s - loss: 0.2826 - accuracy: 0.9355 - 1566s/epoch - 28s/step\n"
     ]
    },
    {
     "data": {
      "text/plain": [
       "<keras.callbacks.History at 0x23218828670>"
      ]
     },
     "execution_count": 103,
     "metadata": {},
     "output_type": "execute_result"
    }
   ],
   "source": [
    "model.fit(new_x_train, y_train_binarize, batch_size=64, epochs=epochs, verbose=2)"
   ]
  },
  {
   "cell_type": "code",
   "execution_count": 104,
   "id": "007c6129-ba2b-42e4-b238-063b9f277c02",
   "metadata": {},
   "outputs": [],
   "source": [
    "y_pred_lstm=model.predict(new_x_test)"
   ]
  },
  {
   "cell_type": "code",
   "execution_count": 105,
   "id": "2d543acd-23cb-4d2a-ae6c-4aaa9a914fa7",
   "metadata": {},
   "outputs": [],
   "source": [
    "y_pred_lstm_max=np.argmax(y_pred_lstm, axis=1)"
   ]
  },
  {
   "cell_type": "code",
   "execution_count": 113,
   "id": "6a063213-6270-4a29-ad9c-3d8c9e90ca27",
   "metadata": {},
   "outputs": [
    {
     "name": "stdout",
     "output_type": "stream",
     "text": [
      "[[   0    0    0]\n",
      " [   0    0    0]\n",
      " [  37   52 1408]]\n"
     ]
    }
   ],
   "source": [
    "print(confusion_matrix(y_pred_lstm_max, y_test))"
   ]
  },
  {
   "cell_type": "code",
   "execution_count": 114,
   "id": "54a2e613-db46-42ce-a617-fac29bb0a1ee",
   "metadata": {},
   "outputs": [
    {
     "name": "stdout",
     "output_type": "stream",
     "text": [
      "              precision    recall  f1-score   support\n",
      "\n",
      "           0       0.00      0.00      0.00         0\n",
      "           1       0.00      0.00      0.00         0\n",
      "           2       1.00      0.94      0.97      1497\n",
      "\n",
      "    accuracy                           0.94      1497\n",
      "   macro avg       0.33      0.31      0.32      1497\n",
      "weighted avg       1.00      0.94      0.97      1497\n",
      "\n"
     ]
    },
    {
     "name": "stderr",
     "output_type": "stream",
     "text": [
      "C:\\ProgramData\\Anaconda3\\lib\\site-packages\\sklearn\\metrics\\_classification.py:1334: UndefinedMetricWarning: Recall and F-score are ill-defined and being set to 0.0 in labels with no true samples. Use `zero_division` parameter to control this behavior.\n",
      "  _warn_prf(average, modifier, msg_start, len(result))\n",
      "C:\\ProgramData\\Anaconda3\\lib\\site-packages\\sklearn\\metrics\\_classification.py:1334: UndefinedMetricWarning: Recall and F-score are ill-defined and being set to 0.0 in labels with no true samples. Use `zero_division` parameter to control this behavior.\n",
      "  _warn_prf(average, modifier, msg_start, len(result))\n",
      "C:\\ProgramData\\Anaconda3\\lib\\site-packages\\sklearn\\metrics\\_classification.py:1334: UndefinedMetricWarning: Recall and F-score are ill-defined and being set to 0.0 in labels with no true samples. Use `zero_division` parameter to control this behavior.\n",
      "  _warn_prf(average, modifier, msg_start, len(result))\n"
     ]
    }
   ],
   "source": [
    "print(classification_report(y_pred_lstm_max, y_test))"
   ]
  },
  {
   "cell_type": "markdown",
   "id": "908543dc-ece8-4340-9626-3c59e000321c",
   "metadata": {},
   "source": [
    "## GRU MODEL"
   ]
  },
  {
   "cell_type": "code",
   "execution_count": 120,
   "id": "a7622295-e370-4f61-9dc1-a326187059a5",
   "metadata": {},
   "outputs": [
    {
     "name": "stdout",
     "output_type": "stream",
     "text": [
      "WARNING:tensorflow:Layer gru_2 will not use cuDNN kernels since it doesn't meet the criteria. It will use a generic GPU kernel as fallback when running on GPU.\n"
     ]
    }
   ],
   "source": [
    "epochs = 3\n",
    "model1 = Sequential()\n",
    "model1.add(Embedding(100, 128, input_length=new_x_train.shape[1]))\n",
    "model1.add(SpatialDropout1D(0.7))\n",
    "model1.add(GRU(32, dropout=0.3, recurrent_dropout=0.3))\n",
    "model1.add(Dense(3, activation='softmax'))"
   ]
  },
  {
   "cell_type": "code",
   "execution_count": 121,
   "id": "78b40d55-aba6-4f6c-aec0-2f8146c588e4",
   "metadata": {},
   "outputs": [],
   "source": [
    "model1.compile(optimizer='adam', loss='categorical_crossentropy', metrics=['accuracy'])"
   ]
  },
  {
   "cell_type": "code",
   "execution_count": 125,
   "id": "61dff6a6-f4bc-4d61-b616-c8b6a41db7bf",
   "metadata": {},
   "outputs": [
    {
     "name": "stdout",
     "output_type": "stream",
     "text": [
      "Epoch 1/3\n",
      "55/55 - 1565s - loss: 0.2823 - accuracy: 0.9355 - 1565s/epoch - 28s/step\n",
      "Epoch 2/3\n",
      "55/55 - 1599s - loss: 0.2825 - accuracy: 0.9355 - 1599s/epoch - 29s/step\n",
      "Epoch 3/3\n",
      "55/55 - 1560s - loss: 0.2823 - accuracy: 0.9355 - 1560s/epoch - 28s/step\n"
     ]
    }
   ],
   "source": [
    "hist=model.fit(new_x_train, y_train_binarize, batch_size=64, epochs=epochs, verbose=2)"
   ]
  },
  {
   "cell_type": "code",
   "execution_count": 126,
   "id": "2fe2ff2c-feb0-4e60-b90e-7bfb7ff9bf6a",
   "metadata": {},
   "outputs": [],
   "source": [
    "y_pred_gru=model1.predict(new_x_test)"
   ]
  },
  {
   "cell_type": "code",
   "execution_count": 127,
   "id": "2d4404dc-e784-41ad-8be0-8cef19878f77",
   "metadata": {},
   "outputs": [],
   "source": [
    "y_pred_gru_max=np.argmax(y_pred_gru, axis=1)"
   ]
  },
  {
   "cell_type": "code",
   "execution_count": 129,
   "id": "6d0fe583-8cd7-4a75-b1c9-8b713bcccf69",
   "metadata": {},
   "outputs": [
    {
     "name": "stdout",
     "output_type": "stream",
     "text": [
      "[[  37   52 1408]\n",
      " [   0    0    0]\n",
      " [   0    0    0]]\n"
     ]
    }
   ],
   "source": [
    "print(confusion_matrix(y_pred_gru_max, y_test))"
   ]
  },
  {
   "cell_type": "code",
   "execution_count": 131,
   "id": "07ec8c94-fa48-467e-a3bf-2087a8993b5e",
   "metadata": {},
   "outputs": [
    {
     "name": "stdout",
     "output_type": "stream",
     "text": [
      "              precision    recall  f1-score   support\n",
      "\n",
      "           0       1.00      0.02      0.05      1497\n",
      "           1       0.00      0.00      0.00         0\n",
      "           2       0.00      0.00      0.00         0\n",
      "\n",
      "    accuracy                           0.02      1497\n",
      "   macro avg       0.33      0.01      0.02      1497\n",
      "weighted avg       1.00      0.02      0.05      1497\n",
      "\n"
     ]
    },
    {
     "name": "stderr",
     "output_type": "stream",
     "text": [
      "C:\\ProgramData\\Anaconda3\\lib\\site-packages\\sklearn\\metrics\\_classification.py:1334: UndefinedMetricWarning: Recall and F-score are ill-defined and being set to 0.0 in labels with no true samples. Use `zero_division` parameter to control this behavior.\n",
      "  _warn_prf(average, modifier, msg_start, len(result))\n",
      "C:\\ProgramData\\Anaconda3\\lib\\site-packages\\sklearn\\metrics\\_classification.py:1334: UndefinedMetricWarning: Recall and F-score are ill-defined and being set to 0.0 in labels with no true samples. Use `zero_division` parameter to control this behavior.\n",
      "  _warn_prf(average, modifier, msg_start, len(result))\n",
      "C:\\ProgramData\\Anaconda3\\lib\\site-packages\\sklearn\\metrics\\_classification.py:1334: UndefinedMetricWarning: Recall and F-score are ill-defined and being set to 0.0 in labels with no true samples. Use `zero_division` parameter to control this behavior.\n",
      "  _warn_prf(average, modifier, msg_start, len(result))\n"
     ]
    }
   ],
   "source": [
    "print(classification_report(y_pred_gru_max, y_test))"
   ]
  },
  {
   "cell_type": "markdown",
   "id": "a109eee3-c56d-4785-a5da-9d80d3cbf4e2",
   "metadata": {},
   "source": [
    "## for both LSTM and GRU its not showing good performance.Some how neural network (ANN) showing good result. "
   ]
  },
  {
   "cell_type": "code",
   "execution_count": null,
   "id": "67d9c390-e747-4b04-9f56-0f0abf7f6f02",
   "metadata": {},
   "outputs": [],
   "source": [
    "#import tensorflow as tf\n",
    "#print(\"Num GPUs Available: \", len(tf.config.list_physical_devices('GPU')))"
   ]
  },
  {
   "cell_type": "markdown",
   "id": "65992e6e-09fb-4e9a-9900-47861bf31cfa",
   "metadata": {},
   "source": [
    "## clustering"
   ]
  },
  {
   "cell_type": "code",
   "execution_count": 106,
   "id": "c400efd5-6634-4533-8f30-3ec5af787ebf",
   "metadata": {},
   "outputs": [],
   "source": [
    "from sklearn.cluster import KMeans\n",
    "km3=KMeans(n_clusters=3, random_state=43)"
   ]
  },
  {
   "cell_type": "code",
   "execution_count": 116,
   "id": "c0b92d30-dbbd-42e8-9cce-210ff2540891",
   "metadata": {},
   "outputs": [],
   "source": [
    "tf_idf3=TfidfVectorizer(max_features=2500, stop_words=\"english\")"
   ]
  },
  {
   "cell_type": "code",
   "execution_count": 117,
   "id": "80856789-d746-4bee-801b-ca86a29d1520",
   "metadata": {},
   "outputs": [
    {
     "data": {
      "text/html": [
       "<style>#sk-container-id-8 {color: black;background-color: white;}#sk-container-id-8 pre{padding: 0;}#sk-container-id-8 div.sk-toggleable {background-color: white;}#sk-container-id-8 label.sk-toggleable__label {cursor: pointer;display: block;width: 100%;margin-bottom: 0;padding: 0.3em;box-sizing: border-box;text-align: center;}#sk-container-id-8 label.sk-toggleable__label-arrow:before {content: \"▸\";float: left;margin-right: 0.25em;color: #696969;}#sk-container-id-8 label.sk-toggleable__label-arrow:hover:before {color: black;}#sk-container-id-8 div.sk-estimator:hover label.sk-toggleable__label-arrow:before {color: black;}#sk-container-id-8 div.sk-toggleable__content {max-height: 0;max-width: 0;overflow: hidden;text-align: left;background-color: #f0f8ff;}#sk-container-id-8 div.sk-toggleable__content pre {margin: 0.2em;color: black;border-radius: 0.25em;background-color: #f0f8ff;}#sk-container-id-8 input.sk-toggleable__control:checked~div.sk-toggleable__content {max-height: 200px;max-width: 100%;overflow: auto;}#sk-container-id-8 input.sk-toggleable__control:checked~label.sk-toggleable__label-arrow:before {content: \"▾\";}#sk-container-id-8 div.sk-estimator input.sk-toggleable__control:checked~label.sk-toggleable__label {background-color: #d4ebff;}#sk-container-id-8 div.sk-label input.sk-toggleable__control:checked~label.sk-toggleable__label {background-color: #d4ebff;}#sk-container-id-8 input.sk-hidden--visually {border: 0;clip: rect(1px 1px 1px 1px);clip: rect(1px, 1px, 1px, 1px);height: 1px;margin: -1px;overflow: hidden;padding: 0;position: absolute;width: 1px;}#sk-container-id-8 div.sk-estimator {font-family: monospace;background-color: #f0f8ff;border: 1px dotted black;border-radius: 0.25em;box-sizing: border-box;margin-bottom: 0.5em;}#sk-container-id-8 div.sk-estimator:hover {background-color: #d4ebff;}#sk-container-id-8 div.sk-parallel-item::after {content: \"\";width: 100%;border-bottom: 1px solid gray;flex-grow: 1;}#sk-container-id-8 div.sk-label:hover label.sk-toggleable__label {background-color: #d4ebff;}#sk-container-id-8 div.sk-serial::before {content: \"\";position: absolute;border-left: 1px solid gray;box-sizing: border-box;top: 0;bottom: 0;left: 50%;z-index: 0;}#sk-container-id-8 div.sk-serial {display: flex;flex-direction: column;align-items: center;background-color: white;padding-right: 0.2em;padding-left: 0.2em;position: relative;}#sk-container-id-8 div.sk-item {position: relative;z-index: 1;}#sk-container-id-8 div.sk-parallel {display: flex;align-items: stretch;justify-content: center;background-color: white;position: relative;}#sk-container-id-8 div.sk-item::before, #sk-container-id-8 div.sk-parallel-item::before {content: \"\";position: absolute;border-left: 1px solid gray;box-sizing: border-box;top: 0;bottom: 0;left: 50%;z-index: -1;}#sk-container-id-8 div.sk-parallel-item {display: flex;flex-direction: column;z-index: 1;position: relative;background-color: white;}#sk-container-id-8 div.sk-parallel-item:first-child::after {align-self: flex-end;width: 50%;}#sk-container-id-8 div.sk-parallel-item:last-child::after {align-self: flex-start;width: 50%;}#sk-container-id-8 div.sk-parallel-item:only-child::after {width: 0;}#sk-container-id-8 div.sk-dashed-wrapped {border: 1px dashed gray;margin: 0 0.4em 0.5em 0.4em;box-sizing: border-box;padding-bottom: 0.4em;background-color: white;}#sk-container-id-8 div.sk-label label {font-family: monospace;font-weight: bold;display: inline-block;line-height: 1.2em;}#sk-container-id-8 div.sk-label-container {text-align: center;}#sk-container-id-8 div.sk-container {/* jupyter's `normalize.less` sets `[hidden] { display: none; }` but bootstrap.min.css set `[hidden] { display: none !important; }` so we also need the `!important` here to be able to override the default hidden behavior on the sphinx rendered scikit-learn.org. See: https://github.com/scikit-learn/scikit-learn/issues/21755 */display: inline-block !important;position: relative;}#sk-container-id-8 div.sk-text-repr-fallback {display: none;}</style><div id=\"sk-container-id-8\" class=\"sk-top-container\"><div class=\"sk-text-repr-fallback\"><pre>KMeans(n_clusters=3, random_state=43)</pre><b>In a Jupyter environment, please rerun this cell to show the HTML representation or trust the notebook. <br />On GitHub, the HTML representation is unable to render, please try loading this page with nbviewer.org.</b></div><div class=\"sk-container\" hidden><div class=\"sk-item\"><div class=\"sk-estimator sk-toggleable\"><input class=\"sk-toggleable__control sk-hidden--visually\" id=\"sk-estimator-id-8\" type=\"checkbox\" checked><label for=\"sk-estimator-id-8\" class=\"sk-toggleable__label sk-toggleable__label-arrow\">KMeans</label><div class=\"sk-toggleable__content\"><pre>KMeans(n_clusters=3, random_state=43)</pre></div></div></div></div></div>"
      ],
      "text/plain": [
       "KMeans(n_clusters=3, random_state=43)"
      ]
     },
     "execution_count": 117,
     "metadata": {},
     "output_type": "execute_result"
    }
   ],
   "source": [
    "km3.fit(tf_idf3.fit_transform(master_data['reviews.text']))"
   ]
  },
  {
   "cell_type": "code",
   "execution_count": 118,
   "id": "7b8deaf5-b8bd-48b6-a0f3-52a865769f0d",
   "metadata": {},
   "outputs": [],
   "source": [
    "rev=tf_idf3.fit_transform(master_data['reviews.text'])"
   ]
  },
  {
   "cell_type": "code",
   "execution_count": 119,
   "id": "12c842a4-9b4e-4b89-aa25-5ad24f01809e",
   "metadata": {},
   "outputs": [
    {
     "name": "stderr",
     "output_type": "stream",
     "text": [
      "C:\\ProgramData\\Anaconda3\\lib\\site-packages\\sklearn\\utils\\deprecation.py:87: FutureWarning: Function get_feature_names is deprecated; get_feature_names is deprecated in 1.0 and will be removed in 1.2. Please use get_feature_names_out instead.\n",
      "  warnings.warn(msg, category=FutureWarning)\n"
     ]
    }
   ],
   "source": [
    "words=tf_idf3.get_feature_names()"
   ]
  },
  {
   "cell_type": "code",
   "execution_count": 124,
   "id": "3a5a5999-81cb-4279-a552-1556a69da861",
   "metadata": {},
   "outputs": [
    {
     "data": {
      "image/png": "[encoded data removed]",
      "text/plain": [
       "<Figure size 432x288 with 1 Axes>"
      ]
     },
     "metadata": {
      "needs_background": "light"
     },
     "output_type": "display_data"
    }
   ],
   "source": [
    "wcss = []\n",
    "for i in range(1,15):\n",
    "    km=KMeans(n_clusters=i,init='k-means++',max_iter=300,n_init=10,random_state=43)\n",
    "    km.fit(rev)\n",
    "    wcss.append(km.inertia_)\n",
    "plt.plot(range(1,15),wcss)\n",
    "plt.title('The Elbow Method')\n",
    "plt.xlabel('Number of clusters')\n",
    "plt.ylabel('WCSS')\n",
    "plt.show()"
   ]
  },
  {
   "cell_type": "markdown",
   "id": "a4d580f6-d912-4ab5-8d3b-9e51e4af0e14",
   "metadata": {},
   "source": [
    "## lets check k values 9, 10, 11"
   ]
  },
  {
   "cell_type": "code",
   "execution_count": 120,
   "id": "1ce93bbf-d547-4f6a-8346-a5bae94b56ba",
   "metadata": {},
   "outputs": [
    {
     "data": {
      "text/html": [
       "<style>#sk-container-id-9 {color: black;background-color: white;}#sk-container-id-9 pre{padding: 0;}#sk-container-id-9 div.sk-toggleable {background-color: white;}#sk-container-id-9 label.sk-toggleable__label {cursor: pointer;display: block;width: 100%;margin-bottom: 0;padding: 0.3em;box-sizing: border-box;text-align: center;}#sk-container-id-9 label.sk-toggleable__label-arrow:before {content: \"▸\";float: left;margin-right: 0.25em;color: #696969;}#sk-container-id-9 label.sk-toggleable__label-arrow:hover:before {color: black;}#sk-container-id-9 div.sk-estimator:hover label.sk-toggleable__label-arrow:before {color: black;}#sk-container-id-9 div.sk-toggleable__content {max-height: 0;max-width: 0;overflow: hidden;text-align: left;background-color: #f0f8ff;}#sk-container-id-9 div.sk-toggleable__content pre {margin: 0.2em;color: black;border-radius: 0.25em;background-color: #f0f8ff;}#sk-container-id-9 input.sk-toggleable__control:checked~div.sk-toggleable__content {max-height: 200px;max-width: 100%;overflow: auto;}#sk-container-id-9 input.sk-toggleable__control:checked~label.sk-toggleable__label-arrow:before {content: \"▾\";}#sk-container-id-9 div.sk-estimator input.sk-toggleable__control:checked~label.sk-toggleable__label {background-color: #d4ebff;}#sk-container-id-9 div.sk-label input.sk-toggleable__control:checked~label.sk-toggleable__label {background-color: #d4ebff;}#sk-container-id-9 input.sk-hidden--visually {border: 0;clip: rect(1px 1px 1px 1px);clip: rect(1px, 1px, 1px, 1px);height: 1px;margin: -1px;overflow: hidden;padding: 0;position: absolute;width: 1px;}#sk-container-id-9 div.sk-estimator {font-family: monospace;background-color: #f0f8ff;border: 1px dotted black;border-radius: 0.25em;box-sizing: border-box;margin-bottom: 0.5em;}#sk-container-id-9 div.sk-estimator:hover {background-color: #d4ebff;}#sk-container-id-9 div.sk-parallel-item::after {content: \"\";width: 100%;border-bottom: 1px solid gray;flex-grow: 1;}#sk-container-id-9 div.sk-label:hover label.sk-toggleable__label {background-color: #d4ebff;}#sk-container-id-9 div.sk-serial::before {content: \"\";position: absolute;border-left: 1px solid gray;box-sizing: border-box;top: 0;bottom: 0;left: 50%;z-index: 0;}#sk-container-id-9 div.sk-serial {display: flex;flex-direction: column;align-items: center;background-color: white;padding-right: 0.2em;padding-left: 0.2em;position: relative;}#sk-container-id-9 div.sk-item {position: relative;z-index: 1;}#sk-container-id-9 div.sk-parallel {display: flex;align-items: stretch;justify-content: center;background-color: white;position: relative;}#sk-container-id-9 div.sk-item::before, #sk-container-id-9 div.sk-parallel-item::before {content: \"\";position: absolute;border-left: 1px solid gray;box-sizing: border-box;top: 0;bottom: 0;left: 50%;z-index: -1;}#sk-container-id-9 div.sk-parallel-item {display: flex;flex-direction: column;z-index: 1;position: relative;background-color: white;}#sk-container-id-9 div.sk-parallel-item:first-child::after {align-self: flex-end;width: 50%;}#sk-container-id-9 div.sk-parallel-item:last-child::after {align-self: flex-start;width: 50%;}#sk-container-id-9 div.sk-parallel-item:only-child::after {width: 0;}#sk-container-id-9 div.sk-dashed-wrapped {border: 1px dashed gray;margin: 0 0.4em 0.5em 0.4em;box-sizing: border-box;padding-bottom: 0.4em;background-color: white;}#sk-container-id-9 div.sk-label label {font-family: monospace;font-weight: bold;display: inline-block;line-height: 1.2em;}#sk-container-id-9 div.sk-label-container {text-align: center;}#sk-container-id-9 div.sk-container {/* jupyter's `normalize.less` sets `[hidden] { display: none; }` but bootstrap.min.css set `[hidden] { display: none !important; }` so we also need the `!important` here to be able to override the default hidden behavior on the sphinx rendered scikit-learn.org. See: https://github.com/scikit-learn/scikit-learn/issues/21755 */display: inline-block !important;position: relative;}#sk-container-id-9 div.sk-text-repr-fallback {display: none;}</style><div id=\"sk-container-id-9\" class=\"sk-top-container\"><div class=\"sk-text-repr-fallback\"><pre>KMeans(n_clusters=9, random_state=43)</pre><b>In a Jupyter environment, please rerun this cell to show the HTML representation or trust the notebook. <br />On GitHub, the HTML representation is unable to render, please try loading this page with nbviewer.org.</b></div><div class=\"sk-container\" hidden><div class=\"sk-item\"><div class=\"sk-estimator sk-toggleable\"><input class=\"sk-toggleable__control sk-hidden--visually\" id=\"sk-estimator-id-9\" type=\"checkbox\" checked><label for=\"sk-estimator-id-9\" class=\"sk-toggleable__label sk-toggleable__label-arrow\">KMeans</label><div class=\"sk-toggleable__content\"><pre>KMeans(n_clusters=9, random_state=43)</pre></div></div></div></div></div>"
      ],
      "text/plain": [
       "KMeans(n_clusters=9, random_state=43)"
      ]
     },
     "execution_count": 120,
     "metadata": {},
     "output_type": "execute_result"
    }
   ],
   "source": [
    "km9=KMeans(n_clusters=9,init='k-means++',max_iter=300,n_init=10,random_state=43)\n",
    "km9.fit(rev)"
   ]
  },
  {
   "cell_type": "code",
   "execution_count": 121,
   "id": "dbbe7e9f-a9e4-46bf-bd82-580977d73639",
   "metadata": {},
   "outputs": [
    {
     "data": {
      "text/html": [
       "<style>#sk-container-id-10 {color: black;background-color: white;}#sk-container-id-10 pre{padding: 0;}#sk-container-id-10 div.sk-toggleable {background-color: white;}#sk-container-id-10 label.sk-toggleable__label {cursor: pointer;display: block;width: 100%;margin-bottom: 0;padding: 0.3em;box-sizing: border-box;text-align: center;}#sk-container-id-10 label.sk-toggleable__label-arrow:before {content: \"▸\";float: left;margin-right: 0.25em;color: #696969;}#sk-container-id-10 label.sk-toggleable__label-arrow:hover:before {color: black;}#sk-container-id-10 div.sk-estimator:hover label.sk-toggleable__label-arrow:before {color: black;}#sk-container-id-10 div.sk-toggleable__content {max-height: 0;max-width: 0;overflow: hidden;text-align: left;background-color: #f0f8ff;}#sk-container-id-10 div.sk-toggleable__content pre {margin: 0.2em;color: black;border-radius: 0.25em;background-color: #f0f8ff;}#sk-container-id-10 input.sk-toggleable__control:checked~div.sk-toggleable__content {max-height: 200px;max-width: 100%;overflow: auto;}#sk-container-id-10 input.sk-toggleable__control:checked~label.sk-toggleable__label-arrow:before {content: \"▾\";}#sk-container-id-10 div.sk-estimator input.sk-toggleable__control:checked~label.sk-toggleable__label {background-color: #d4ebff;}#sk-container-id-10 div.sk-label input.sk-toggleable__control:checked~label.sk-toggleable__label {background-color: #d4ebff;}#sk-container-id-10 input.sk-hidden--visually {border: 0;clip: rect(1px 1px 1px 1px);clip: rect(1px, 1px, 1px, 1px);height: 1px;margin: -1px;overflow: hidden;padding: 0;position: absolute;width: 1px;}#sk-container-id-10 div.sk-estimator {font-family: monospace;background-color: #f0f8ff;border: 1px dotted black;border-radius: 0.25em;box-sizing: border-box;margin-bottom: 0.5em;}#sk-container-id-10 div.sk-estimator:hover {background-color: #d4ebff;}#sk-container-id-10 div.sk-parallel-item::after {content: \"\";width: 100%;border-bottom: 1px solid gray;flex-grow: 1;}#sk-container-id-10 div.sk-label:hover label.sk-toggleable__label {background-color: #d4ebff;}#sk-container-id-10 div.sk-serial::before {content: \"\";position: absolute;border-left: 1px solid gray;box-sizing: border-box;top: 0;bottom: 0;left: 50%;z-index: 0;}#sk-container-id-10 div.sk-serial {display: flex;flex-direction: column;align-items: center;background-color: white;padding-right: 0.2em;padding-left: 0.2em;position: relative;}#sk-container-id-10 div.sk-item {position: relative;z-index: 1;}#sk-container-id-10 div.sk-parallel {display: flex;align-items: stretch;justify-content: center;background-color: white;position: relative;}#sk-container-id-10 div.sk-item::before, #sk-container-id-10 div.sk-parallel-item::before {content: \"\";position: absolute;border-left: 1px solid gray;box-sizing: border-box;top: 0;bottom: 0;left: 50%;z-index: -1;}#sk-container-id-10 div.sk-parallel-item {display: flex;flex-direction: column;z-index: 1;position: relative;background-color: white;}#sk-container-id-10 div.sk-parallel-item:first-child::after {align-self: flex-end;width: 50%;}#sk-container-id-10 div.sk-parallel-item:last-child::after {align-self: flex-start;width: 50%;}#sk-container-id-10 div.sk-parallel-item:only-child::after {width: 0;}#sk-container-id-10 div.sk-dashed-wrapped {border: 1px dashed gray;margin: 0 0.4em 0.5em 0.4em;box-sizing: border-box;padding-bottom: 0.4em;background-color: white;}#sk-container-id-10 div.sk-label label {font-family: monospace;font-weight: bold;display: inline-block;line-height: 1.2em;}#sk-container-id-10 div.sk-label-container {text-align: center;}#sk-container-id-10 div.sk-container {/* jupyter's `normalize.less` sets `[hidden] { display: none; }` but bootstrap.min.css set `[hidden] { display: none !important; }` so we also need the `!important` here to be able to override the default hidden behavior on the sphinx rendered scikit-learn.org. See: https://github.com/scikit-learn/scikit-learn/issues/21755 */display: inline-block !important;position: relative;}#sk-container-id-10 div.sk-text-repr-fallback {display: none;}</style><div id=\"sk-container-id-10\" class=\"sk-top-container\"><div class=\"sk-text-repr-fallback\"><pre>KMeans(n_clusters=10, random_state=43)</pre><b>In a Jupyter environment, please rerun this cell to show the HTML representation or trust the notebook. <br />On GitHub, the HTML representation is unable to render, please try loading this page with nbviewer.org.</b></div><div class=\"sk-container\" hidden><div class=\"sk-item\"><div class=\"sk-estimator sk-toggleable\"><input class=\"sk-toggleable__control sk-hidden--visually\" id=\"sk-estimator-id-10\" type=\"checkbox\" checked><label for=\"sk-estimator-id-10\" class=\"sk-toggleable__label sk-toggleable__label-arrow\">KMeans</label><div class=\"sk-toggleable__content\"><pre>KMeans(n_clusters=10, random_state=43)</pre></div></div></div></div></div>"
      ],
      "text/plain": [
       "KMeans(n_clusters=10, random_state=43)"
      ]
     },
     "execution_count": 121,
     "metadata": {},
     "output_type": "execute_result"
    }
   ],
   "source": [
    "km10=KMeans(n_clusters=10,init='k-means++',max_iter=300,n_init=10,random_state=43)\n",
    "km10.fit(rev)"
   ]
  },
  {
   "cell_type": "code",
   "execution_count": 122,
   "id": "35d84a7b-bae7-4419-b577-e53ebb1fb858",
   "metadata": {},
   "outputs": [
    {
     "data": {
      "text/html": [
       "<style>#sk-container-id-11 {color: black;background-color: white;}#sk-container-id-11 pre{padding: 0;}#sk-container-id-11 div.sk-toggleable {background-color: white;}#sk-container-id-11 label.sk-toggleable__label {cursor: pointer;display: block;width: 100%;margin-bottom: 0;padding: 0.3em;box-sizing: border-box;text-align: center;}#sk-container-id-11 label.sk-toggleable__label-arrow:before {content: \"▸\";float: left;margin-right: 0.25em;color: #696969;}#sk-container-id-11 label.sk-toggleable__label-arrow:hover:before {color: black;}#sk-container-id-11 div.sk-estimator:hover label.sk-toggleable__label-arrow:before {color: black;}#sk-container-id-11 div.sk-toggleable__content {max-height: 0;max-width: 0;overflow: hidden;text-align: left;background-color: #f0f8ff;}#sk-container-id-11 div.sk-toggleable__content pre {margin: 0.2em;color: black;border-radius: 0.25em;background-color: #f0f8ff;}#sk-container-id-11 input.sk-toggleable__control:checked~div.sk-toggleable__content {max-height: 200px;max-width: 100%;overflow: auto;}#sk-container-id-11 input.sk-toggleable__control:checked~label.sk-toggleable__label-arrow:before {content: \"▾\";}#sk-container-id-11 div.sk-estimator input.sk-toggleable__control:checked~label.sk-toggleable__label {background-color: #d4ebff;}#sk-container-id-11 div.sk-label input.sk-toggleable__control:checked~label.sk-toggleable__label {background-color: #d4ebff;}#sk-container-id-11 input.sk-hidden--visually {border: 0;clip: rect(1px 1px 1px 1px);clip: rect(1px, 1px, 1px, 1px);height: 1px;margin: -1px;overflow: hidden;padding: 0;position: absolute;width: 1px;}#sk-container-id-11 div.sk-estimator {font-family: monospace;background-color: #f0f8ff;border: 1px dotted black;border-radius: 0.25em;box-sizing: border-box;margin-bottom: 0.5em;}#sk-container-id-11 div.sk-estimator:hover {background-color: #d4ebff;}#sk-container-id-11 div.sk-parallel-item::after {content: \"\";width: 100%;border-bottom: 1px solid gray;flex-grow: 1;}#sk-container-id-11 div.sk-label:hover label.sk-toggleable__label {background-color: #d4ebff;}#sk-container-id-11 div.sk-serial::before {content: \"\";position: absolute;border-left: 1px solid gray;box-sizing: border-box;top: 0;bottom: 0;left: 50%;z-index: 0;}#sk-container-id-11 div.sk-serial {display: flex;flex-direction: column;align-items: center;background-color: white;padding-right: 0.2em;padding-left: 0.2em;position: relative;}#sk-container-id-11 div.sk-item {position: relative;z-index: 1;}#sk-container-id-11 div.sk-parallel {display: flex;align-items: stretch;justify-content: center;background-color: white;position: relative;}#sk-container-id-11 div.sk-item::before, #sk-container-id-11 div.sk-parallel-item::before {content: \"\";position: absolute;border-left: 1px solid gray;box-sizing: border-box;top: 0;bottom: 0;left: 50%;z-index: -1;}#sk-container-id-11 div.sk-parallel-item {display: flex;flex-direction: column;z-index: 1;position: relative;background-color: white;}#sk-container-id-11 div.sk-parallel-item:first-child::after {align-self: flex-end;width: 50%;}#sk-container-id-11 div.sk-parallel-item:last-child::after {align-self: flex-start;width: 50%;}#sk-container-id-11 div.sk-parallel-item:only-child::after {width: 0;}#sk-container-id-11 div.sk-dashed-wrapped {border: 1px dashed gray;margin: 0 0.4em 0.5em 0.4em;box-sizing: border-box;padding-bottom: 0.4em;background-color: white;}#sk-container-id-11 div.sk-label label {font-family: monospace;font-weight: bold;display: inline-block;line-height: 1.2em;}#sk-container-id-11 div.sk-label-container {text-align: center;}#sk-container-id-11 div.sk-container {/* jupyter's `normalize.less` sets `[hidden] { display: none; }` but bootstrap.min.css set `[hidden] { display: none !important; }` so we also need the `!important` here to be able to override the default hidden behavior on the sphinx rendered scikit-learn.org. See: https://github.com/scikit-learn/scikit-learn/issues/21755 */display: inline-block !important;position: relative;}#sk-container-id-11 div.sk-text-repr-fallback {display: none;}</style><div id=\"sk-container-id-11\" class=\"sk-top-container\"><div class=\"sk-text-repr-fallback\"><pre>KMeans(n_clusters=11, random_state=43)</pre><b>In a Jupyter environment, please rerun this cell to show the HTML representation or trust the notebook. <br />On GitHub, the HTML representation is unable to render, please try loading this page with nbviewer.org.</b></div><div class=\"sk-container\" hidden><div class=\"sk-item\"><div class=\"sk-estimator sk-toggleable\"><input class=\"sk-toggleable__control sk-hidden--visually\" id=\"sk-estimator-id-11\" type=\"checkbox\" checked><label for=\"sk-estimator-id-11\" class=\"sk-toggleable__label sk-toggleable__label-arrow\">KMeans</label><div class=\"sk-toggleable__content\"><pre>KMeans(n_clusters=11, random_state=43)</pre></div></div></div></div></div>"
      ],
      "text/plain": [
       "KMeans(n_clusters=11, random_state=43)"
      ]
     },
     "execution_count": 122,
     "metadata": {},
     "output_type": "execute_result"
    }
   ],
   "source": [
    "km11=KMeans(n_clusters=11,init='k-means++',max_iter=300,n_init=10,random_state=43)\n",
    "km11.fit(rev)"
   ]
  },
  {
   "cell_type": "code",
   "execution_count": 123,
   "id": "a9bc5f4b-af81-4928-8870-2a288ac79d34",
   "metadata": {},
   "outputs": [
    {
     "data": {
      "text/plain": [
       "(4639.941742907345, 4627.213619830506, 4610.288669184534)"
      ]
     },
     "execution_count": 123,
     "metadata": {},
     "output_type": "execute_result"
    }
   ],
   "source": [
    "km9.inertia_, km10.inertia_, km11.inertia_"
   ]
  },
  {
   "cell_type": "code",
   "execution_count": 125,
   "id": "8e036d98-bd23-4125-91c4-b5021b3d603f",
   "metadata": {},
   "outputs": [
    {
     "data": {
      "text/plain": [
       "(array([0, 1, 2, 3, 4, 5, 6, 7, 8]),\n",
       " array([1636,  297,  248,  538,  664,  386,  404,  424,  390], dtype=int64))"
      ]
     },
     "execution_count": 125,
     "metadata": {},
     "output_type": "execute_result"
    }
   ],
   "source": [
    "np.unique(km9.labels_, return_counts=True)"
   ]
  },
  {
   "cell_type": "code",
   "execution_count": 126,
   "id": "b137d930-8fc0-457f-bf5f-9950bec1ec60",
   "metadata": {},
   "outputs": [
    {
     "data": {
      "text/plain": [
       "(9, 2500)"
      ]
     },
     "execution_count": 126,
     "metadata": {},
     "output_type": "execute_result"
    }
   ],
   "source": [
    "km9.cluster_centers_.shape"
   ]
  },
  {
   "cell_type": "code",
   "execution_count": 186,
   "id": "e6b0ce78-840b-4d17-9542-fd6bddabb47f",
   "metadata": {},
   "outputs": [
    {
     "name": "stdout",
     "output_type": "stream",
     "text": [
      "0 : love,bought,like,product,gift,good,use,books,just,kids,really,read,got,buy,amazon,device,games,screen,christmas,purchased,better,best,time,loved\n",
      "1 : loves,daughter,bought,gift,grandson,tablet,son,wife,absolutely,easy,granddaughter,great,purchased,got,christmas,birthday,use,games,kindle,nephew,mother,uses,durable,price\n",
      "2 : old,year,loves,bought,tablet,perfect,games,son,easy,grandson,great,got,granddaughter,yr,purchased,use,love,apps,play,christmas,years,durable,daughter,kids\n",
      "3 : great,works,price,product,tablet,kids,love,recommend,buy,reading,battery,little,gift,best,life,sound,use,just,good,features,bought,value,like,amazon\n",
      "4 : tablet,good,price,apps,kids,amazon,great,use,love,play,games,perfect,need,nice,like,store,little,bought,works,time,google,just,screen,size\n",
      "5 : alexa,love,music,great,lights,home,ask,echo,questions,fun,things,just,family,like,house,use,amazon,speaker,äôs,turn,having,screen,able,smart\n",
      "6 : echo,plus,dot,love,great,amazon,music,sound,home,video,like,screen,smart,better,tap,use,house,hue,works,just,product,features,hub,family\n",
      "7 : kindle,love,books,read,reading,new,great,screen,size,best,like,old,easy,better,light,bought,second,use,book,upgrade,original,just,good,really\n",
      "8 : easy,use,set,great,love,product,tablet,kids,good,price,gift,recommend,fast,fun,perfect,books,read,super,works,light,size,sound,setup,nice\n"
     ]
    }
   ],
   "source": [
    "#most common words\n",
    "how_many_words=25\n",
    "common_words = km9.cluster_centers_.argsort()[:,-1:-how_many_words:-1]\n",
    "for i, word_index in enumerate(common_words):\n",
    "    print(str(i), \":\", \",\".join(words[i] for i in word_index))"
   ]
  },
  {
   "cell_type": "markdown",
   "id": "ce8e1a09-0e9b-4eed-85fc-5406aef76842",
   "metadata": {},
   "source": [
    "## we can see kmeans is showing different perspective in clustering as most of data is positive reviews its showing different perspective in that positive reviews\n"
   ]
  },
  {
   "cell_type": "markdown",
   "id": "e11f0f27-3544-43a5-8937-86beca5bbadb",
   "metadata": {},
   "source": [
    "## cluster visualization"
   ]
  },
  {
   "cell_type": "code",
   "execution_count": 130,
   "id": "a6bac08f-4555-4eb3-87b7-e8a470d91d2c",
   "metadata": {},
   "outputs": [],
   "source": [
    "from sklearn.decomposition import PCA\n",
    "pca=PCA(n_components=2, random_state=43)"
   ]
  },
  {
   "cell_type": "code",
   "execution_count": 188,
   "id": "62ec3fbd-22fd-4115-8a26-90aad433ecf2",
   "metadata": {},
   "outputs": [],
   "source": [
    "reduced_features=pca.fit_transform(rev.toarray())\n",
    "reduced_cluster_centers=pca.transform(km9.cluster_centers_)"
   ]
  },
  {
   "cell_type": "code",
   "execution_count": 189,
   "id": "dce4e44f-29bb-4849-8388-e0316267a1df",
   "metadata": {},
   "outputs": [
    {
     "data": {
      "text/plain": [
       "array([[-0.02497945, -0.0418664 ],\n",
       "       [ 0.19996287, -0.06645549],\n",
       "       [ 0.23239462, -0.07205568],\n",
       "       [-0.02652184,  0.12503976],\n",
       "       [ 0.04580762,  0.01326043],\n",
       "       [-0.12141573, -0.04448279],\n",
       "       [-0.13909127, -0.03259267],\n",
       "       [-0.01366029, -0.0525048 ],\n",
       "       [ 0.04242908,  0.21185648]])"
      ]
     },
     "execution_count": 189,
     "metadata": {},
     "output_type": "execute_result"
    }
   ],
   "source": [
    "reduced_cluster_centers"
   ]
  },
  {
   "cell_type": "code",
   "execution_count": 190,
   "id": "e97f7c87-5db4-4597-b191-e82524e9807d",
   "metadata": {},
   "outputs": [
    {
     "data": {
      "text/plain": [
       "(4987, 2)"
      ]
     },
     "execution_count": 190,
     "metadata": {},
     "output_type": "execute_result"
    }
   ],
   "source": [
    "reduced_features.shape"
   ]
  },
  {
   "cell_type": "code",
   "execution_count": 191,
   "id": "2029297d-ae62-48a0-9f93-96e28aaa8461",
   "metadata": {},
   "outputs": [
    {
     "data": {
      "text/plain": [
       "<matplotlib.collections.PathCollection at 0x2a83141d280>"
      ]
     },
     "execution_count": 191,
     "metadata": {},
     "output_type": "execute_result"
    },
    {
     "data": {
      "image/png": "[encoded data removed]",
      "text/plain": [
       "<Figure size 432x288 with 1 Axes>"
      ]
     },
     "metadata": {
      "needs_background": "light"
     },
     "output_type": "display_data"
    }
   ],
   "source": [
    "plt.scatter(reduced_features[:,0], reduced_features[:,1], c=km9.predict(rev))\n",
    "plt.scatter(reduced_cluster_centers[:,0], reduced_cluster_centers[:,1], marker=\"X\", c=\"r\")"
   ]
  },
  {
   "cell_type": "markdown",
   "id": "ccd5dd2b-ed82-49eb-8780-8b7e8610560b",
   "metadata": {},
   "source": [
    "## topic modelling"
   ]
  },
  {
   "cell_type": "markdown",
   "id": "459d23cc-5689-4960-a64c-7543ef788d3a",
   "metadata": {},
   "source": [
    "## in topic modelling we use 2 famous models\n",
    "## 1. NMF(Non-Negative Matrix Factorixation)"
   ]
  },
  {
   "cell_type": "code",
   "execution_count": 151,
   "id": "d08aa3de-4989-466b-8cb0-49f547458e4d",
   "metadata": {},
   "outputs": [],
   "source": [
    "from sklearn.decomposition import NMF\n",
    "nmf=NMF(n_components=4, random_state=43)"
   ]
  },
  {
   "cell_type": "code",
   "execution_count": 152,
   "id": "39e3326a-67ce-45b1-b339-1cfa84424424",
   "metadata": {},
   "outputs": [
    {
     "data": {
      "text/html": [
       "<style>#sk-container-id-14 {color: black;background-color: white;}#sk-container-id-14 pre{padding: 0;}#sk-container-id-14 div.sk-toggleable {background-color: white;}#sk-container-id-14 label.sk-toggleable__label {cursor: pointer;display: block;width: 100%;margin-bottom: 0;padding: 0.3em;box-sizing: border-box;text-align: center;}#sk-container-id-14 label.sk-toggleable__label-arrow:before {content: \"▸\";float: left;margin-right: 0.25em;color: #696969;}#sk-container-id-14 label.sk-toggleable__label-arrow:hover:before {color: black;}#sk-container-id-14 div.sk-estimator:hover label.sk-toggleable__label-arrow:before {color: black;}#sk-container-id-14 div.sk-toggleable__content {max-height: 0;max-width: 0;overflow: hidden;text-align: left;background-color: #f0f8ff;}#sk-container-id-14 div.sk-toggleable__content pre {margin: 0.2em;color: black;border-radius: 0.25em;background-color: #f0f8ff;}#sk-container-id-14 input.sk-toggleable__control:checked~div.sk-toggleable__content {max-height: 200px;max-width: 100%;overflow: auto;}#sk-container-id-14 input.sk-toggleable__control:checked~label.sk-toggleable__label-arrow:before {content: \"▾\";}#sk-container-id-14 div.sk-estimator input.sk-toggleable__control:checked~label.sk-toggleable__label {background-color: #d4ebff;}#sk-container-id-14 div.sk-label input.sk-toggleable__control:checked~label.sk-toggleable__label {background-color: #d4ebff;}#sk-container-id-14 input.sk-hidden--visually {border: 0;clip: rect(1px 1px 1px 1px);clip: rect(1px, 1px, 1px, 1px);height: 1px;margin: -1px;overflow: hidden;padding: 0;position: absolute;width: 1px;}#sk-container-id-14 div.sk-estimator {font-family: monospace;background-color: #f0f8ff;border: 1px dotted black;border-radius: 0.25em;box-sizing: border-box;margin-bottom: 0.5em;}#sk-container-id-14 div.sk-estimator:hover {background-color: #d4ebff;}#sk-container-id-14 div.sk-parallel-item::after {content: \"\";width: 100%;border-bottom: 1px solid gray;flex-grow: 1;}#sk-container-id-14 div.sk-label:hover label.sk-toggleable__label {background-color: #d4ebff;}#sk-container-id-14 div.sk-serial::before {content: \"\";position: absolute;border-left: 1px solid gray;box-sizing: border-box;top: 0;bottom: 0;left: 50%;z-index: 0;}#sk-container-id-14 div.sk-serial {display: flex;flex-direction: column;align-items: center;background-color: white;padding-right: 0.2em;padding-left: 0.2em;position: relative;}#sk-container-id-14 div.sk-item {position: relative;z-index: 1;}#sk-container-id-14 div.sk-parallel {display: flex;align-items: stretch;justify-content: center;background-color: white;position: relative;}#sk-container-id-14 div.sk-item::before, #sk-container-id-14 div.sk-parallel-item::before {content: \"\";position: absolute;border-left: 1px solid gray;box-sizing: border-box;top: 0;bottom: 0;left: 50%;z-index: -1;}#sk-container-id-14 div.sk-parallel-item {display: flex;flex-direction: column;z-index: 1;position: relative;background-color: white;}#sk-container-id-14 div.sk-parallel-item:first-child::after {align-self: flex-end;width: 50%;}#sk-container-id-14 div.sk-parallel-item:last-child::after {align-self: flex-start;width: 50%;}#sk-container-id-14 div.sk-parallel-item:only-child::after {width: 0;}#sk-container-id-14 div.sk-dashed-wrapped {border: 1px dashed gray;margin: 0 0.4em 0.5em 0.4em;box-sizing: border-box;padding-bottom: 0.4em;background-color: white;}#sk-container-id-14 div.sk-label label {font-family: monospace;font-weight: bold;display: inline-block;line-height: 1.2em;}#sk-container-id-14 div.sk-label-container {text-align: center;}#sk-container-id-14 div.sk-container {/* jupyter's `normalize.less` sets `[hidden] { display: none; }` but bootstrap.min.css set `[hidden] { display: none !important; }` so we also need the `!important` here to be able to override the default hidden behavior on the sphinx rendered scikit-learn.org. See: https://github.com/scikit-learn/scikit-learn/issues/21755 */display: inline-block !important;position: relative;}#sk-container-id-14 div.sk-text-repr-fallback {display: none;}</style><div id=\"sk-container-id-14\" class=\"sk-top-container\"><div class=\"sk-text-repr-fallback\"><pre>NMF(n_components=4, random_state=43)</pre><b>In a Jupyter environment, please rerun this cell to show the HTML representation or trust the notebook. <br />On GitHub, the HTML representation is unable to render, please try loading this page with nbviewer.org.</b></div><div class=\"sk-container\" hidden><div class=\"sk-item\"><div class=\"sk-estimator sk-toggleable\"><input class=\"sk-toggleable__control sk-hidden--visually\" id=\"sk-estimator-id-14\" type=\"checkbox\" checked><label for=\"sk-estimator-id-14\" class=\"sk-toggleable__label sk-toggleable__label-arrow\">NMF</label><div class=\"sk-toggleable__content\"><pre>NMF(n_components=4, random_state=43)</pre></div></div></div></div></div>"
      ],
      "text/plain": [
       "NMF(n_components=4, random_state=43)"
      ]
     },
     "execution_count": 152,
     "metadata": {},
     "output_type": "execute_result"
    }
   ],
   "source": [
    "nmf.fit(rev)"
   ]
  },
  {
   "cell_type": "code",
   "execution_count": 161,
   "id": "3a1f954a-8aaf-46fb-a949-8ce683f5bd1b",
   "metadata": {},
   "outputs": [
    {
     "name": "stdout",
     "output_type": "stream",
     "text": [
      "0 : great,tablet,price,good,product,works,kids,recommend,apps,little,buy,reading,nice,amazon,quality,sound,battery,best,value,need,features,size,does,just,like\n",
      "1 : loves,bought,old,year,tablet,daughter,gift,son,grandson,christmas,games,purchased,got,granddaughter,perfect,wife,absolutely,kindle,birthday,uses,play,loved,mom,yr,enjoys\n",
      "2 : easy,use,set,product,setup,read,navigate,fun,super,light,fast,kindle,books,recommend,lightweight,convenient,really,purchased,size,happy,day,simple,reader,item,ease\n",
      "3 : love,echo,alexa,kindle,music,amazon,like,screen,just,home,plus,new,play,best,read,sound,device,better,smart,family,books,lights,kids,really,things\n"
     ]
    }
   ],
   "source": [
    "top_words=26\n",
    "common_words = nmf.components_.argsort()[:,-1:-top_words:-1]\n",
    "for i, word_index in enumerate(common_words):\n",
    "    print(str(i), \":\", \",\".join(words[i] for i in word_index))"
   ]
  },
  {
   "cell_type": "markdown",
   "id": "81545c02-5917-4c1b-ac88-3419fc4593d9",
   "metadata": {},
   "source": [
    "## in above scenario tha 4 topics we can see some difference not too much but somehow a variation in topics like positive review, gifts, music and so on"
   ]
  },
  {
   "cell_type": "markdown",
   "id": "dd2c4751-122d-4f33-a49d-34f78ea56a23",
   "metadata": {},
   "source": [
    "## 2.Latent Dirichlet Allocation"
   ]
  },
  {
   "cell_type": "code",
   "execution_count": 159,
   "id": "5c3ffdca-6a46-451f-b1cb-8a2a7559887e",
   "metadata": {},
   "outputs": [],
   "source": [
    "from sklearn.decomposition import LatentDirichletAllocation\n",
    "lda=LatentDirichletAllocation(n_components=5, random_state=43)"
   ]
  },
  {
   "cell_type": "code",
   "execution_count": 160,
   "id": "60ff20f8-5996-458d-a36e-78070298b08c",
   "metadata": {},
   "outputs": [
    {
     "data": {
      "text/html": [
       "<style>#sk-container-id-16 {color: black;background-color: white;}#sk-container-id-16 pre{padding: 0;}#sk-container-id-16 div.sk-toggleable {background-color: white;}#sk-container-id-16 label.sk-toggleable__label {cursor: pointer;display: block;width: 100%;margin-bottom: 0;padding: 0.3em;box-sizing: border-box;text-align: center;}#sk-container-id-16 label.sk-toggleable__label-arrow:before {content: \"▸\";float: left;margin-right: 0.25em;color: #696969;}#sk-container-id-16 label.sk-toggleable__label-arrow:hover:before {color: black;}#sk-container-id-16 div.sk-estimator:hover label.sk-toggleable__label-arrow:before {color: black;}#sk-container-id-16 div.sk-toggleable__content {max-height: 0;max-width: 0;overflow: hidden;text-align: left;background-color: #f0f8ff;}#sk-container-id-16 div.sk-toggleable__content pre {margin: 0.2em;color: black;border-radius: 0.25em;background-color: #f0f8ff;}#sk-container-id-16 input.sk-toggleable__control:checked~div.sk-toggleable__content {max-height: 200px;max-width: 100%;overflow: auto;}#sk-container-id-16 input.sk-toggleable__control:checked~label.sk-toggleable__label-arrow:before {content: \"▾\";}#sk-container-id-16 div.sk-estimator input.sk-toggleable__control:checked~label.sk-toggleable__label {background-color: #d4ebff;}#sk-container-id-16 div.sk-label input.sk-toggleable__control:checked~label.sk-toggleable__label {background-color: #d4ebff;}#sk-container-id-16 input.sk-hidden--visually {border: 0;clip: rect(1px 1px 1px 1px);clip: rect(1px, 1px, 1px, 1px);height: 1px;margin: -1px;overflow: hidden;padding: 0;position: absolute;width: 1px;}#sk-container-id-16 div.sk-estimator {font-family: monospace;background-color: #f0f8ff;border: 1px dotted black;border-radius: 0.25em;box-sizing: border-box;margin-bottom: 0.5em;}#sk-container-id-16 div.sk-estimator:hover {background-color: #d4ebff;}#sk-container-id-16 div.sk-parallel-item::after {content: \"\";width: 100%;border-bottom: 1px solid gray;flex-grow: 1;}#sk-container-id-16 div.sk-label:hover label.sk-toggleable__label {background-color: #d4ebff;}#sk-container-id-16 div.sk-serial::before {content: \"\";position: absolute;border-left: 1px solid gray;box-sizing: border-box;top: 0;bottom: 0;left: 50%;z-index: 0;}#sk-container-id-16 div.sk-serial {display: flex;flex-direction: column;align-items: center;background-color: white;padding-right: 0.2em;padding-left: 0.2em;position: relative;}#sk-container-id-16 div.sk-item {position: relative;z-index: 1;}#sk-container-id-16 div.sk-parallel {display: flex;align-items: stretch;justify-content: center;background-color: white;position: relative;}#sk-container-id-16 div.sk-item::before, #sk-container-id-16 div.sk-parallel-item::before {content: \"\";position: absolute;border-left: 1px solid gray;box-sizing: border-box;top: 0;bottom: 0;left: 50%;z-index: -1;}#sk-container-id-16 div.sk-parallel-item {display: flex;flex-direction: column;z-index: 1;position: relative;background-color: white;}#sk-container-id-16 div.sk-parallel-item:first-child::after {align-self: flex-end;width: 50%;}#sk-container-id-16 div.sk-parallel-item:last-child::after {align-self: flex-start;width: 50%;}#sk-container-id-16 div.sk-parallel-item:only-child::after {width: 0;}#sk-container-id-16 div.sk-dashed-wrapped {border: 1px dashed gray;margin: 0 0.4em 0.5em 0.4em;box-sizing: border-box;padding-bottom: 0.4em;background-color: white;}#sk-container-id-16 div.sk-label label {font-family: monospace;font-weight: bold;display: inline-block;line-height: 1.2em;}#sk-container-id-16 div.sk-label-container {text-align: center;}#sk-container-id-16 div.sk-container {/* jupyter's `normalize.less` sets `[hidden] { display: none; }` but bootstrap.min.css set `[hidden] { display: none !important; }` so we also need the `!important` here to be able to override the default hidden behavior on the sphinx rendered scikit-learn.org. See: https://github.com/scikit-learn/scikit-learn/issues/21755 */display: inline-block !important;position: relative;}#sk-container-id-16 div.sk-text-repr-fallback {display: none;}</style><div id=\"sk-container-id-16\" class=\"sk-top-container\"><div class=\"sk-text-repr-fallback\"><pre>LatentDirichletAllocation(n_components=5, random_state=43)</pre><b>In a Jupyter environment, please rerun this cell to show the HTML representation or trust the notebook. <br />On GitHub, the HTML representation is unable to render, please try loading this page with nbviewer.org.</b></div><div class=\"sk-container\" hidden><div class=\"sk-item\"><div class=\"sk-estimator sk-toggleable\"><input class=\"sk-toggleable__control sk-hidden--visually\" id=\"sk-estimator-id-16\" type=\"checkbox\" checked><label for=\"sk-estimator-id-16\" class=\"sk-toggleable__label sk-toggleable__label-arrow\">LatentDirichletAllocation</label><div class=\"sk-toggleable__content\"><pre>LatentDirichletAllocation(n_components=5, random_state=43)</pre></div></div></div></div></div>"
      ],
      "text/plain": [
       "LatentDirichletAllocation(n_components=5, random_state=43)"
      ]
     },
     "execution_count": 160,
     "metadata": {},
     "output_type": "execute_result"
    }
   ],
   "source": [
    "lda.fit(rev)"
   ]
  },
  {
   "cell_type": "code",
   "execution_count": 158,
   "id": "02d104f8-8186-4d00-a441-712fee5ddb1b",
   "metadata": {},
   "outputs": [
    {
     "name": "stdout",
     "output_type": "stream",
     "text": [
      "0 : kindle,read,books,love,tablet,reading,great,battery,ipad,easy,screen,reader,use,good\n",
      "1 : echo,great,love,alexa,amazon,product,use,fun,best,easy,tablet,sound,things,set\n",
      "2 : echo,alexa,music,great,like,love,use,home,amazon,just,screen,sound,good,works\n",
      "3 : tablet,loves,great,easy,bought,use,kids,old,love,year,gift,price,product,games\n"
     ]
    }
   ],
   "source": [
    "top_words=25\n",
    "common_words = lda.components_.argsort()[:,-1:-top_words:-1]\n",
    "for i, word_index in enumerate(common_words):\n",
    "    print(str(i), \":\", \",\".join(words[i] for i in word_index))"
   ]
  },
  {
   "cell_type": "markdown",
   "id": "a0cb137f-44cd-4649-9393-37b22464db00",
   "metadata": {},
   "source": [
    "## LDA showing different perspective topics in data"
   ]
  },
  {
   "cell_type": "markdown",
   "id": "df5e1816-0463-40aa-82c1-85d7d1fd6e59",
   "metadata": {},
   "source": [
    "## with smote data"
   ]
  },
  {
   "cell_type": "code",
   "execution_count": 164,
   "id": "4ca19f64-8576-4c35-ba5b-d5a391f4eab5",
   "metadata": {},
   "outputs": [],
   "source": [
    "X_sm, y_sm=sm.fit_resample(rev,master_data['sentiment'])"
   ]
  },
  {
   "cell_type": "code",
   "execution_count": 169,
   "id": "6cd56a35-4cf3-4cde-88dc-ecf5582ca364",
   "metadata": {},
   "outputs": [
    {
     "data": {
      "text/html": [
       "<style>#sk-container-id-19 {color: black;background-color: white;}#sk-container-id-19 pre{padding: 0;}#sk-container-id-19 div.sk-toggleable {background-color: white;}#sk-container-id-19 label.sk-toggleable__label {cursor: pointer;display: block;width: 100%;margin-bottom: 0;padding: 0.3em;box-sizing: border-box;text-align: center;}#sk-container-id-19 label.sk-toggleable__label-arrow:before {content: \"▸\";float: left;margin-right: 0.25em;color: #696969;}#sk-container-id-19 label.sk-toggleable__label-arrow:hover:before {color: black;}#sk-container-id-19 div.sk-estimator:hover label.sk-toggleable__label-arrow:before {color: black;}#sk-container-id-19 div.sk-toggleable__content {max-height: 0;max-width: 0;overflow: hidden;text-align: left;background-color: #f0f8ff;}#sk-container-id-19 div.sk-toggleable__content pre {margin: 0.2em;color: black;border-radius: 0.25em;background-color: #f0f8ff;}#sk-container-id-19 input.sk-toggleable__control:checked~div.sk-toggleable__content {max-height: 200px;max-width: 100%;overflow: auto;}#sk-container-id-19 input.sk-toggleable__control:checked~label.sk-toggleable__label-arrow:before {content: \"▾\";}#sk-container-id-19 div.sk-estimator input.sk-toggleable__control:checked~label.sk-toggleable__label {background-color: #d4ebff;}#sk-container-id-19 div.sk-label input.sk-toggleable__control:checked~label.sk-toggleable__label {background-color: #d4ebff;}#sk-container-id-19 input.sk-hidden--visually {border: 0;clip: rect(1px 1px 1px 1px);clip: rect(1px, 1px, 1px, 1px);height: 1px;margin: -1px;overflow: hidden;padding: 0;position: absolute;width: 1px;}#sk-container-id-19 div.sk-estimator {font-family: monospace;background-color: #f0f8ff;border: 1px dotted black;border-radius: 0.25em;box-sizing: border-box;margin-bottom: 0.5em;}#sk-container-id-19 div.sk-estimator:hover {background-color: #d4ebff;}#sk-container-id-19 div.sk-parallel-item::after {content: \"\";width: 100%;border-bottom: 1px solid gray;flex-grow: 1;}#sk-container-id-19 div.sk-label:hover label.sk-toggleable__label {background-color: #d4ebff;}#sk-container-id-19 div.sk-serial::before {content: \"\";position: absolute;border-left: 1px solid gray;box-sizing: border-box;top: 0;bottom: 0;left: 50%;z-index: 0;}#sk-container-id-19 div.sk-serial {display: flex;flex-direction: column;align-items: center;background-color: white;padding-right: 0.2em;padding-left: 0.2em;position: relative;}#sk-container-id-19 div.sk-item {position: relative;z-index: 1;}#sk-container-id-19 div.sk-parallel {display: flex;align-items: stretch;justify-content: center;background-color: white;position: relative;}#sk-container-id-19 div.sk-item::before, #sk-container-id-19 div.sk-parallel-item::before {content: \"\";position: absolute;border-left: 1px solid gray;box-sizing: border-box;top: 0;bottom: 0;left: 50%;z-index: -1;}#sk-container-id-19 div.sk-parallel-item {display: flex;flex-direction: column;z-index: 1;position: relative;background-color: white;}#sk-container-id-19 div.sk-parallel-item:first-child::after {align-self: flex-end;width: 50%;}#sk-container-id-19 div.sk-parallel-item:last-child::after {align-self: flex-start;width: 50%;}#sk-container-id-19 div.sk-parallel-item:only-child::after {width: 0;}#sk-container-id-19 div.sk-dashed-wrapped {border: 1px dashed gray;margin: 0 0.4em 0.5em 0.4em;box-sizing: border-box;padding-bottom: 0.4em;background-color: white;}#sk-container-id-19 div.sk-label label {font-family: monospace;font-weight: bold;display: inline-block;line-height: 1.2em;}#sk-container-id-19 div.sk-label-container {text-align: center;}#sk-container-id-19 div.sk-container {/* jupyter's `normalize.less` sets `[hidden] { display: none; }` but bootstrap.min.css set `[hidden] { display: none !important; }` so we also need the `!important` here to be able to override the default hidden behavior on the sphinx rendered scikit-learn.org. See: https://github.com/scikit-learn/scikit-learn/issues/21755 */display: inline-block !important;position: relative;}#sk-container-id-19 div.sk-text-repr-fallback {display: none;}</style><div id=\"sk-container-id-19\" class=\"sk-top-container\"><div class=\"sk-text-repr-fallback\"><pre>NMF(n_components=5, random_state=43)</pre><b>In a Jupyter environment, please rerun this cell to show the HTML representation or trust the notebook. <br />On GitHub, the HTML representation is unable to render, please try loading this page with nbviewer.org.</b></div><div class=\"sk-container\" hidden><div class=\"sk-item\"><div class=\"sk-estimator sk-toggleable\"><input class=\"sk-toggleable__control sk-hidden--visually\" id=\"sk-estimator-id-19\" type=\"checkbox\" checked><label for=\"sk-estimator-id-19\" class=\"sk-toggleable__label sk-toggleable__label-arrow\">NMF</label><div class=\"sk-toggleable__content\"><pre>NMF(n_components=5, random_state=43)</pre></div></div></div></div></div>"
      ],
      "text/plain": [
       "NMF(n_components=5, random_state=43)"
      ]
     },
     "execution_count": 169,
     "metadata": {},
     "output_type": "execute_result"
    }
   ],
   "source": [
    "nmf=NMF(n_components=5, random_state=43)\n",
    "nmf.fit(X_sm)"
   ]
  },
  {
   "cell_type": "code",
   "execution_count": 170,
   "id": "7d54f51b-ed3c-4d86-be0a-1206a8f3086d",
   "metadata": {},
   "outputs": [
    {
     "name": "stdout",
     "output_type": "stream",
     "text": [
      "0 : device,work,echo,just,use,great,screen,alexa,like,buy,amazon,does,product,bought,love,needs,sound,friendly,easy,make,phone,things,don,home,kindle\n",
      "1 : ok,year,pay,old,happy,bought,charge,tablet,charger,need,loves,christmas,price,considering,daughter,order,defective,space,time,grandson,quality,account,best,charging,port\n",
      "2 : week,update,customer,constantly,weak,grows,resolved,promises,junk,poorly,lowest,magnetic,pieces,designed,kindle,means,old,services,oasis,upgrade,setting,battery,life,better,lights\n",
      "3 : good,tablet,apps,download,slow,kids,amazon,reading,store,price,games,app,great,play,kindle,books,browser,little,google,fan,disappointed,internet,catch,movies,camera\n",
      "4 : returned,apps,proprietary,worthless,did,basically,cause,install,liked,store,daughter,chrome,cheap,run,product,google,answers,stuff,really,confusing,like,use,owning,ads,navigate\n"
     ]
    }
   ],
   "source": [
    "top_words=26\n",
    "common_words = nmf.components_.argsort()[:,-1:-top_words:-1]\n",
    "for i, word_index in enumerate(common_words):\n",
    "    print(str(i), \":\", \",\".join(words[i] for i in word_index))"
   ]
  },
  {
   "cell_type": "markdown",
   "id": "c2ac56c4-f526-44b2-b83d-913a6280a39b",
   "metadata": {},
   "source": [
    "## after balancing it showing different topics like in 3rd and 5th it showing negative reviews and 1st somewhat like neutral reviews etc.."
   ]
  },
  {
   "cell_type": "code",
   "execution_count": 176,
   "id": "7208544b-e675-4381-8851-c9642ebe2166",
   "metadata": {},
   "outputs": [
    {
     "data": {
      "text/html": [
       "<style>#sk-container-id-22 {color: black;background-color: white;}#sk-container-id-22 pre{padding: 0;}#sk-container-id-22 div.sk-toggleable {background-color: white;}#sk-container-id-22 label.sk-toggleable__label {cursor: pointer;display: block;width: 100%;margin-bottom: 0;padding: 0.3em;box-sizing: border-box;text-align: center;}#sk-container-id-22 label.sk-toggleable__label-arrow:before {content: \"▸\";float: left;margin-right: 0.25em;color: #696969;}#sk-container-id-22 label.sk-toggleable__label-arrow:hover:before {color: black;}#sk-container-id-22 div.sk-estimator:hover label.sk-toggleable__label-arrow:before {color: black;}#sk-container-id-22 div.sk-toggleable__content {max-height: 0;max-width: 0;overflow: hidden;text-align: left;background-color: #f0f8ff;}#sk-container-id-22 div.sk-toggleable__content pre {margin: 0.2em;color: black;border-radius: 0.25em;background-color: #f0f8ff;}#sk-container-id-22 input.sk-toggleable__control:checked~div.sk-toggleable__content {max-height: 200px;max-width: 100%;overflow: auto;}#sk-container-id-22 input.sk-toggleable__control:checked~label.sk-toggleable__label-arrow:before {content: \"▾\";}#sk-container-id-22 div.sk-estimator input.sk-toggleable__control:checked~label.sk-toggleable__label {background-color: #d4ebff;}#sk-container-id-22 div.sk-label input.sk-toggleable__control:checked~label.sk-toggleable__label {background-color: #d4ebff;}#sk-container-id-22 input.sk-hidden--visually {border: 0;clip: rect(1px 1px 1px 1px);clip: rect(1px, 1px, 1px, 1px);height: 1px;margin: -1px;overflow: hidden;padding: 0;position: absolute;width: 1px;}#sk-container-id-22 div.sk-estimator {font-family: monospace;background-color: #f0f8ff;border: 1px dotted black;border-radius: 0.25em;box-sizing: border-box;margin-bottom: 0.5em;}#sk-container-id-22 div.sk-estimator:hover {background-color: #d4ebff;}#sk-container-id-22 div.sk-parallel-item::after {content: \"\";width: 100%;border-bottom: 1px solid gray;flex-grow: 1;}#sk-container-id-22 div.sk-label:hover label.sk-toggleable__label {background-color: #d4ebff;}#sk-container-id-22 div.sk-serial::before {content: \"\";position: absolute;border-left: 1px solid gray;box-sizing: border-box;top: 0;bottom: 0;left: 50%;z-index: 0;}#sk-container-id-22 div.sk-serial {display: flex;flex-direction: column;align-items: center;background-color: white;padding-right: 0.2em;padding-left: 0.2em;position: relative;}#sk-container-id-22 div.sk-item {position: relative;z-index: 1;}#sk-container-id-22 div.sk-parallel {display: flex;align-items: stretch;justify-content: center;background-color: white;position: relative;}#sk-container-id-22 div.sk-item::before, #sk-container-id-22 div.sk-parallel-item::before {content: \"\";position: absolute;border-left: 1px solid gray;box-sizing: border-box;top: 0;bottom: 0;left: 50%;z-index: -1;}#sk-container-id-22 div.sk-parallel-item {display: flex;flex-direction: column;z-index: 1;position: relative;background-color: white;}#sk-container-id-22 div.sk-parallel-item:first-child::after {align-self: flex-end;width: 50%;}#sk-container-id-22 div.sk-parallel-item:last-child::after {align-self: flex-start;width: 50%;}#sk-container-id-22 div.sk-parallel-item:only-child::after {width: 0;}#sk-container-id-22 div.sk-dashed-wrapped {border: 1px dashed gray;margin: 0 0.4em 0.5em 0.4em;box-sizing: border-box;padding-bottom: 0.4em;background-color: white;}#sk-container-id-22 div.sk-label label {font-family: monospace;font-weight: bold;display: inline-block;line-height: 1.2em;}#sk-container-id-22 div.sk-label-container {text-align: center;}#sk-container-id-22 div.sk-container {/* jupyter's `normalize.less` sets `[hidden] { display: none; }` but bootstrap.min.css set `[hidden] { display: none !important; }` so we also need the `!important` here to be able to override the default hidden behavior on the sphinx rendered scikit-learn.org. See: https://github.com/scikit-learn/scikit-learn/issues/21755 */display: inline-block !important;position: relative;}#sk-container-id-22 div.sk-text-repr-fallback {display: none;}</style><div id=\"sk-container-id-22\" class=\"sk-top-container\"><div class=\"sk-text-repr-fallback\"><pre>LatentDirichletAllocation(n_components=4, random_state=43)</pre><b>In a Jupyter environment, please rerun this cell to show the HTML representation or trust the notebook. <br />On GitHub, the HTML representation is unable to render, please try loading this page with nbviewer.org.</b></div><div class=\"sk-container\" hidden><div class=\"sk-item\"><div class=\"sk-estimator sk-toggleable\"><input class=\"sk-toggleable__control sk-hidden--visually\" id=\"sk-estimator-id-22\" type=\"checkbox\" checked><label for=\"sk-estimator-id-22\" class=\"sk-toggleable__label sk-toggleable__label-arrow\">LatentDirichletAllocation</label><div class=\"sk-toggleable__content\"><pre>LatentDirichletAllocation(n_components=4, random_state=43)</pre></div></div></div></div></div>"
      ],
      "text/plain": [
       "LatentDirichletAllocation(n_components=4, random_state=43)"
      ]
     },
     "execution_count": 176,
     "metadata": {},
     "output_type": "execute_result"
    }
   ],
   "source": [
    "lda=LatentDirichletAllocation(n_components=4, random_state=43)\n",
    "lda.fit(X_sm)"
   ]
  },
  {
   "cell_type": "code",
   "execution_count": 177,
   "id": "10b320a1-b933-42e2-8c0b-14558b3550b3",
   "metadata": {},
   "outputs": [
    {
     "name": "stdout",
     "output_type": "stream",
     "text": [
      "0 : slow,tablet,good,ok,device,ipad,like,amazon,bad,friendly,pay,children,don,didn,tablets,reading,work,works,apps,internet,old,better,time,know\n",
      "1 : apps,amazon,tablet,good,echo,screen,alexa,just,work,does,use,kids,device,video,update,ads,download,kindle,better,needs,lots,limited,make,like\n",
      "2 : charge,bought,store,just,kindle,old,tablet,charger,google,play,apps,great,going,year,returned,wish,answers,instructions,shuts,paper,cheap,use,problem,tried\n",
      "3 : great,tablet,product,easy,use,loves,love,kindle,good,returned,price,sound,really,son,kids,bought,available,apps,disappointed,daughter,gift,works,quality,did\n"
     ]
    }
   ],
   "source": [
    "top_words=25\n",
    "common_words = lda.components_.argsort()[:,-1:-top_words:-1]\n",
    "for i, word_index in enumerate(common_words):\n",
    "    print(str(i), \":\", \",\".join(words[i] for i in word_index))"
   ]
  },
  {
   "cell_type": "code",
   "execution_count": null,
   "id": "d6013212-37d1-4920-bf3e-f96395717b37",
   "metadata": {},
   "outputs": [],
   "source": []
  },
  {
   "cell_type": "markdown",
   "id": "a0e0c76c-ac1f-44fd-baf2-98d282ae8832",
   "metadata": {},
   "source": [
    "## clustering"
   ]
  },
  {
   "cell_type": "code",
   "execution_count": 178,
   "id": "0b0be74a-8e3a-4dbc-9274-59b63b210856",
   "metadata": {},
   "outputs": [
    {
     "data": {
      "image/png": "[encoded data removed]",
      "text/plain": [
       "<Figure size 432x288 with 1 Axes>"
      ]
     },
     "metadata": {
      "needs_background": "light"
     },
     "output_type": "display_data"
    }
   ],
   "source": [
    "wcss = []\n",
    "for i in range(1,15):\n",
    "    km=KMeans(n_clusters=i,init='k-means++',max_iter=300,n_init=10,random_state=43)\n",
    "    km.fit(X_sm)\n",
    "    wcss.append(km.inertia_)\n",
    "plt.plot(range(1,15),wcss)\n",
    "plt.title('The Elbow Method')\n",
    "plt.xlabel('Number of clusters')\n",
    "plt.ylabel('WCSS')\n",
    "plt.show()"
   ]
  },
  {
   "cell_type": "code",
   "execution_count": 184,
   "id": "46c2daf6-e183-4a5a-9926-45cc3e00de77",
   "metadata": {},
   "outputs": [
    {
     "data": {
      "text/html": [
       "<style>#sk-container-id-24 {color: black;background-color: white;}#sk-container-id-24 pre{padding: 0;}#sk-container-id-24 div.sk-toggleable {background-color: white;}#sk-container-id-24 label.sk-toggleable__label {cursor: pointer;display: block;width: 100%;margin-bottom: 0;padding: 0.3em;box-sizing: border-box;text-align: center;}#sk-container-id-24 label.sk-toggleable__label-arrow:before {content: \"▸\";float: left;margin-right: 0.25em;color: #696969;}#sk-container-id-24 label.sk-toggleable__label-arrow:hover:before {color: black;}#sk-container-id-24 div.sk-estimator:hover label.sk-toggleable__label-arrow:before {color: black;}#sk-container-id-24 div.sk-toggleable__content {max-height: 0;max-width: 0;overflow: hidden;text-align: left;background-color: #f0f8ff;}#sk-container-id-24 div.sk-toggleable__content pre {margin: 0.2em;color: black;border-radius: 0.25em;background-color: #f0f8ff;}#sk-container-id-24 input.sk-toggleable__control:checked~div.sk-toggleable__content {max-height: 200px;max-width: 100%;overflow: auto;}#sk-container-id-24 input.sk-toggleable__control:checked~label.sk-toggleable__label-arrow:before {content: \"▾\";}#sk-container-id-24 div.sk-estimator input.sk-toggleable__control:checked~label.sk-toggleable__label {background-color: #d4ebff;}#sk-container-id-24 div.sk-label input.sk-toggleable__control:checked~label.sk-toggleable__label {background-color: #d4ebff;}#sk-container-id-24 input.sk-hidden--visually {border: 0;clip: rect(1px 1px 1px 1px);clip: rect(1px, 1px, 1px, 1px);height: 1px;margin: -1px;overflow: hidden;padding: 0;position: absolute;width: 1px;}#sk-container-id-24 div.sk-estimator {font-family: monospace;background-color: #f0f8ff;border: 1px dotted black;border-radius: 0.25em;box-sizing: border-box;margin-bottom: 0.5em;}#sk-container-id-24 div.sk-estimator:hover {background-color: #d4ebff;}#sk-container-id-24 div.sk-parallel-item::after {content: \"\";width: 100%;border-bottom: 1px solid gray;flex-grow: 1;}#sk-container-id-24 div.sk-label:hover label.sk-toggleable__label {background-color: #d4ebff;}#sk-container-id-24 div.sk-serial::before {content: \"\";position: absolute;border-left: 1px solid gray;box-sizing: border-box;top: 0;bottom: 0;left: 50%;z-index: 0;}#sk-container-id-24 div.sk-serial {display: flex;flex-direction: column;align-items: center;background-color: white;padding-right: 0.2em;padding-left: 0.2em;position: relative;}#sk-container-id-24 div.sk-item {position: relative;z-index: 1;}#sk-container-id-24 div.sk-parallel {display: flex;align-items: stretch;justify-content: center;background-color: white;position: relative;}#sk-container-id-24 div.sk-item::before, #sk-container-id-24 div.sk-parallel-item::before {content: \"\";position: absolute;border-left: 1px solid gray;box-sizing: border-box;top: 0;bottom: 0;left: 50%;z-index: -1;}#sk-container-id-24 div.sk-parallel-item {display: flex;flex-direction: column;z-index: 1;position: relative;background-color: white;}#sk-container-id-24 div.sk-parallel-item:first-child::after {align-self: flex-end;width: 50%;}#sk-container-id-24 div.sk-parallel-item:last-child::after {align-self: flex-start;width: 50%;}#sk-container-id-24 div.sk-parallel-item:only-child::after {width: 0;}#sk-container-id-24 div.sk-dashed-wrapped {border: 1px dashed gray;margin: 0 0.4em 0.5em 0.4em;box-sizing: border-box;padding-bottom: 0.4em;background-color: white;}#sk-container-id-24 div.sk-label label {font-family: monospace;font-weight: bold;display: inline-block;line-height: 1.2em;}#sk-container-id-24 div.sk-label-container {text-align: center;}#sk-container-id-24 div.sk-container {/* jupyter's `normalize.less` sets `[hidden] { display: none; }` but bootstrap.min.css set `[hidden] { display: none !important; }` so we also need the `!important` here to be able to override the default hidden behavior on the sphinx rendered scikit-learn.org. See: https://github.com/scikit-learn/scikit-learn/issues/21755 */display: inline-block !important;position: relative;}#sk-container-id-24 div.sk-text-repr-fallback {display: none;}</style><div id=\"sk-container-id-24\" class=\"sk-top-container\"><div class=\"sk-text-repr-fallback\"><pre>KMeans(n_clusters=3, random_state=43)</pre><b>In a Jupyter environment, please rerun this cell to show the HTML representation or trust the notebook. <br />On GitHub, the HTML representation is unable to render, please try loading this page with nbviewer.org.</b></div><div class=\"sk-container\" hidden><div class=\"sk-item\"><div class=\"sk-estimator sk-toggleable\"><input class=\"sk-toggleable__control sk-hidden--visually\" id=\"sk-estimator-id-24\" type=\"checkbox\" checked><label for=\"sk-estimator-id-24\" class=\"sk-toggleable__label sk-toggleable__label-arrow\">KMeans</label><div class=\"sk-toggleable__content\"><pre>KMeans(n_clusters=3, random_state=43)</pre></div></div></div></div></div>"
      ],
      "text/plain": [
       "KMeans(n_clusters=3, random_state=43)"
      ]
     },
     "execution_count": 184,
     "metadata": {},
     "output_type": "execute_result"
    }
   ],
   "source": [
    "km4=KMeans(n_clusters=3,init='k-means++',max_iter=300,n_init=10,random_state=43)\n",
    "km4.fit(X_sm)"
   ]
  },
  {
   "cell_type": "code",
   "execution_count": 185,
   "id": "b098e4f9-03f4-4f77-be40-d82514dca96f",
   "metadata": {},
   "outputs": [
    {
     "data": {
      "text/plain": [
       "<matplotlib.collections.PathCollection at 0x2a842b5b910>"
      ]
     },
     "execution_count": 185,
     "metadata": {},
     "output_type": "execute_result"
    },
    {
     "data": {
      "image/png": "[encoded data removed]",
      "text/plain": [
       "<Figure size 432x288 with 1 Axes>"
      ]
     },
     "metadata": {
      "needs_background": "light"
     },
     "output_type": "display_data"
    }
   ],
   "source": [
    "reduced_features=pca.fit_transform(X_sm.toarray())\n",
    "reduced_cluster_centers=pca.transform(km4.cluster_centers_)\n",
    "plt.scatter(reduced_features[:,0], reduced_features[:,1], c=km4.predict(X_sm))\n",
    "plt.scatter(reduced_cluster_centers[:,0], reduced_cluster_centers[:,1], marker=\"X\", c=\"r\")"
   ]
  },
  {
   "cell_type": "markdown",
   "id": "f9022f99-bb05-4b54-b426-e7f8615ff495",
   "metadata": {},
   "source": [
    "## as we know we have three types of reviews positive, negative and neutral.\n",
    "## and as this one is balanced data all three clusters showing equal distribution"
   ]
  },
  {
   "cell_type": "code",
   "execution_count": null,
   "id": "e99a6cb4-ff12-4e43-bf23-aa9bf7fd05e2",
   "metadata": {},
   "outputs": [],
   "source": []
  }
 ],
 "metadata": {
  "kernelspec": {
   "display_name": "Python 3",
   "language": "python",
   "name": "python3"
  },
  "language_info": {
   "codemirror_mode": {
    "name": "ipython",
    "version": 3
   },
   "file_extension": ".py",
   "mimetype": "text/x-python",
   "name": "python",
   "nbconvert_exporter": "python",
   "pygments_lexer": "ipython3",
   "version": "3.8.8"
  }
 },
 "nbformat": 4,
 "nbformat_minor": 5
}
